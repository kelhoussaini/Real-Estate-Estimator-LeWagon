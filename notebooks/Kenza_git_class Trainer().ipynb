{
 "cells": [
  {
   "cell_type": "code",
   "execution_count": 1,
   "id": "2099d390",
   "metadata": {},
   "outputs": [],
   "source": [
    "#Importing our Packages\n",
    "import matplotlib.pyplot as plt\n",
    "from sklearn.decomposition import PCA\n",
    "from sklearn.preprocessing import StandardScaler\n",
    "from sklearn.model_selection import train_test_split\n",
    "import pandas as pd\n",
    "import numpy as np\n",
    "from sklearn.linear_model import LinearRegression , Ridge , Lasso\n",
    "from sklearn.metrics import mean_absolute_percentage_error as mape\n",
    "from sklearn.metrics import mean_squared_error as rmse\n",
    "import seaborn as sns\n",
    "\n",
    "from sklearn.metrics import mean_absolute_error as mae\n",
    "\n",
    "\n",
    "from sklearn.dummy import DummyRegressor\n",
    "from sklearn.preprocessing import OneHotEncoder\n",
    "\n",
    "from sklearn.ensemble import RandomForestRegressor\n",
    "\n",
    "from sklearn.metrics import r2_score\n",
    "\n",
    "\n",
    "from sklearn.model_selection import RandomizedSearchCV, RepeatedKFold\n",
    "\n",
    "from sklearn.model_selection import KFold\n",
    "\n",
    "import xgboost as xgb\n",
    "from xgboost.sklearn import XGBRegressor\n",
    "from xgboost import plot_importance\n",
    "\n",
    "\n",
    "# Import library for VIF\n",
    "from statsmodels.stats.outliers_influence import variance_inflation_factor\n",
    "\n",
    "from scipy.stats import loguniform\n"
   ]
  },
  {
   "cell_type": "code",
   "execution_count": 2,
   "id": "8c634cdb",
   "metadata": {},
   "outputs": [],
   "source": [
    "from sklearn.preprocessing import OneHotEncoder\n",
    "from sklearn.preprocessing import StandardScaler"
   ]
  },
  {
   "cell_type": "code",
   "execution_count": 3,
   "id": "d173c730",
   "metadata": {},
   "outputs": [
    {
     "data": {
      "text/plain": [
       "'/Users/kenzaelhoussaini/code/Jehadel/reestimator/notebooks'"
      ]
     },
     "execution_count": 3,
     "metadata": {},
     "output_type": "execute_result"
    }
   ],
   "source": [
    "pwd"
   ]
  },
  {
   "cell_type": "code",
   "execution_count": 4,
   "id": "3cb5d1e4",
   "metadata": {},
   "outputs": [],
   "source": [
    "#Load Libraries and Create engine Connection\n",
    "\n",
    "import pymysql\n",
    "import pandas as pd\n",
    "import numpy as np\n",
    "import sqlalchemy\n",
    "import gc\n",
    "engine =sqlalchemy.create_engine(\n",
    "        sqlalchemy.engine.url.URL.create(\n",
    "        drivername=\"mysql+pymysql\",\n",
    "        username='Estimators',  # e.g. \"my-database-user\"\n",
    "        password='Estimator2021',  # e.g. \"my-database-password\"\n",
    "        host='34.77.88.127',  # e.g. \"127.0.0.1\"\n",
    "        port=3306,  # e.g. 3306\n",
    "        database='Housing_France',  # e.g. \"my-database-name\"\n",
    "    ))\n",
    "\n",
    "conn = engine.connect().execution_options(stream_results=True)"
   ]
  },
  {
   "cell_type": "code",
   "execution_count": 5,
   "id": "baf05e9f",
   "metadata": {},
   "outputs": [],
   "source": [
    "#Load Libraries and Create engine Connection\n",
    "\n",
    "import pymysql\n",
    "import pandas as pd\n",
    "import numpy as np\n",
    "import sqlalchemy\n",
    "import gc\n",
    "\n",
    "def get_data(querystring,chunk):\n",
    "    engine =sqlalchemy.create_engine(\n",
    "    sqlalchemy.engine.url.URL.create(\n",
    "    drivername=\"mysql+pymysql\",\n",
    "    username='Estimators',  # e.g. \"my-database-user\"\n",
    "    password='Estimator2021',  # e.g. \"my-database-password\"\n",
    "    host='34.77.88.127',  # e.g. \"127.0.0.1\"\n",
    "    port=3306,  # e.g. 3306\n",
    "    database='Housing_France',  # e.g. \"my-database-name\"\n",
    "    ))\n",
    "    conn = engine.connect().execution_options(stream_results=True)\n",
    "    frame = pd.DataFrame()\n",
    "    for chunk_dataframe in pd.read_sql(\n",
    "            querystring, conn, chunksize=chunk):\n",
    "            print(f\"Got dataframe w/{len(chunk_dataframe)} rows\")\n",
    "            frame= frame.append(chunk_dataframe)\n",
    "            # ... do something with dataframe ...\n",
    "            \n",
    "    return frame"
   ]
  },
  {
   "cell_type": "code",
   "execution_count": 6,
   "id": "56883e94",
   "metadata": {},
   "outputs": [],
   "source": [
    "#Load Libraries and Create engine Connection\n",
    "\n",
    "import pymysql\n",
    "import pandas as pd\n",
    "import numpy as np\n",
    "import sqlalchemy\n",
    "import gc\n",
    "engine =sqlalchemy.create_engine(\n",
    "        sqlalchemy.engine.url.URL.create(\n",
    "        drivername=\"mysql+pymysql\",\n",
    "        username='Estimators',  # e.g. \"my-database-user\"\n",
    "        password='Estimator2021',  # e.g. \"my-database-password\"\n",
    "        host='34.77.88.127',  # e.g. \"127.0.0.1\"\n",
    "        port=3306,  # e.g. 3306\n",
    "        database='Housing_France',  # e.g. \"my-database-name\"\n",
    "    ))\n",
    "\n",
    "conn = engine.connect().execution_options(stream_results=True)"
   ]
  },
  {
   "cell_type": "code",
   "execution_count": 7,
   "id": "3ca24983",
   "metadata": {},
   "outputs": [
    {
     "name": "stdout",
     "output_type": "stream",
     "text": [
      "Got dataframe w/1000 rows\n",
      "Got dataframe w/1000 rows\n",
      "Got dataframe w/1000 rows\n",
      "Got dataframe w/1000 rows\n",
      "Got dataframe w/1000 rows\n",
      "Got dataframe w/1000 rows\n",
      "Got dataframe w/1000 rows\n",
      "Got dataframe w/1000 rows\n",
      "Got dataframe w/1000 rows\n",
      "Got dataframe w/1000 rows\n",
      "Got dataframe w/1000 rows\n",
      "Got dataframe w/1000 rows\n",
      "Got dataframe w/1000 rows\n",
      "Got dataframe w/1000 rows\n",
      "Got dataframe w/1000 rows\n",
      "Got dataframe w/1000 rows\n",
      "Got dataframe w/1000 rows\n",
      "Got dataframe w/1000 rows\n",
      "Got dataframe w/1000 rows\n",
      "Got dataframe w/1000 rows\n",
      "Got dataframe w/1000 rows\n",
      "Got dataframe w/1000 rows\n",
      "Got dataframe w/1000 rows\n",
      "Got dataframe w/1000 rows\n",
      "Got dataframe w/1000 rows\n",
      "Got dataframe w/1000 rows\n",
      "Got dataframe w/1000 rows\n",
      "Got dataframe w/1000 rows\n",
      "Got dataframe w/1000 rows\n",
      "Got dataframe w/1000 rows\n",
      "Got dataframe w/1000 rows\n",
      "Got dataframe w/1000 rows\n",
      "Got dataframe w/1000 rows\n",
      "Got dataframe w/1000 rows\n",
      "Got dataframe w/1000 rows\n",
      "Got dataframe w/1000 rows\n",
      "Got dataframe w/1000 rows\n",
      "Got dataframe w/1000 rows\n",
      "Got dataframe w/1000 rows\n",
      "Got dataframe w/1000 rows\n",
      "Got dataframe w/1000 rows\n",
      "Got dataframe w/1000 rows\n",
      "Got dataframe w/1000 rows\n",
      "Got dataframe w/1000 rows\n",
      "Got dataframe w/1000 rows\n",
      "Got dataframe w/1000 rows\n",
      "Got dataframe w/1000 rows\n",
      "Got dataframe w/1000 rows\n",
      "Got dataframe w/1000 rows\n",
      "Got dataframe w/1000 rows\n",
      "Got dataframe w/1000 rows\n",
      "Got dataframe w/1000 rows\n",
      "Got dataframe w/1000 rows\n",
      "Got dataframe w/1000 rows\n",
      "Got dataframe w/1000 rows\n",
      "Got dataframe w/1000 rows\n",
      "Got dataframe w/1000 rows\n",
      "Got dataframe w/1000 rows\n",
      "Got dataframe w/1000 rows\n",
      "Got dataframe w/1000 rows\n",
      "Got dataframe w/1000 rows\n",
      "Got dataframe w/1000 rows\n",
      "Got dataframe w/1000 rows\n",
      "Got dataframe w/1000 rows\n",
      "Got dataframe w/1000 rows\n",
      "Got dataframe w/1000 rows\n",
      "Got dataframe w/1000 rows\n",
      "Got dataframe w/1000 rows\n",
      "Got dataframe w/1000 rows\n",
      "Got dataframe w/1000 rows\n",
      "Got dataframe w/1000 rows\n",
      "Got dataframe w/1000 rows\n",
      "Got dataframe w/1000 rows\n",
      "Got dataframe w/1000 rows\n",
      "Got dataframe w/1000 rows\n",
      "Got dataframe w/1000 rows\n",
      "Got dataframe w/1000 rows\n",
      "Got dataframe w/1000 rows\n",
      "Got dataframe w/1000 rows\n",
      "Got dataframe w/1000 rows\n",
      "Got dataframe w/1000 rows\n",
      "Got dataframe w/1000 rows\n",
      "Got dataframe w/1000 rows\n",
      "Got dataframe w/1000 rows\n",
      "Got dataframe w/1000 rows\n",
      "Got dataframe w/1000 rows\n",
      "Got dataframe w/1000 rows\n",
      "Got dataframe w/1000 rows\n",
      "Got dataframe w/1000 rows\n",
      "Got dataframe w/1000 rows\n",
      "Got dataframe w/1000 rows\n",
      "Got dataframe w/1000 rows\n",
      "Got dataframe w/1000 rows\n",
      "Got dataframe w/1000 rows\n",
      "Got dataframe w/1000 rows\n",
      "Got dataframe w/1000 rows\n",
      "Got dataframe w/1000 rows\n",
      "Got dataframe w/1000 rows\n",
      "Got dataframe w/1000 rows\n",
      "Got dataframe w/1000 rows\n",
      "Got dataframe w/1000 rows\n",
      "Got dataframe w/1000 rows\n",
      "Got dataframe w/1000 rows\n",
      "Got dataframe w/1000 rows\n",
      "Got dataframe w/1000 rows\n",
      "Got dataframe w/1000 rows\n",
      "Got dataframe w/1000 rows\n",
      "Got dataframe w/1000 rows\n",
      "Got dataframe w/1000 rows\n",
      "Got dataframe w/1000 rows\n",
      "Got dataframe w/1000 rows\n",
      "Got dataframe w/1000 rows\n",
      "Got dataframe w/1000 rows\n",
      "Got dataframe w/1000 rows\n",
      "Got dataframe w/1000 rows\n",
      "Got dataframe w/1000 rows\n",
      "Got dataframe w/1000 rows\n",
      "Got dataframe w/1000 rows\n",
      "Got dataframe w/1000 rows\n",
      "Got dataframe w/1000 rows\n",
      "Got dataframe w/1000 rows\n",
      "Got dataframe w/1000 rows\n",
      "Got dataframe w/1000 rows\n",
      "Got dataframe w/1000 rows\n",
      "Got dataframe w/1000 rows\n",
      "Got dataframe w/1000 rows\n",
      "Got dataframe w/1000 rows\n",
      "Got dataframe w/1000 rows\n",
      "Got dataframe w/1000 rows\n",
      "Got dataframe w/1000 rows\n",
      "Got dataframe w/1000 rows\n",
      "Got dataframe w/1000 rows\n",
      "Got dataframe w/1000 rows\n",
      "Got dataframe w/1000 rows\n",
      "Got dataframe w/1000 rows\n",
      "Got dataframe w/1000 rows\n",
      "Got dataframe w/1000 rows\n",
      "Got dataframe w/1000 rows\n",
      "Got dataframe w/1000 rows\n",
      "Got dataframe w/1000 rows\n",
      "Got dataframe w/1000 rows\n",
      "Got dataframe w/1000 rows\n",
      "Got dataframe w/1000 rows\n",
      "Got dataframe w/1000 rows\n",
      "Got dataframe w/1000 rows\n",
      "Got dataframe w/1000 rows\n",
      "Got dataframe w/1000 rows\n",
      "Got dataframe w/1000 rows\n",
      "Got dataframe w/1000 rows\n",
      "Got dataframe w/1000 rows\n",
      "Got dataframe w/1000 rows\n",
      "Got dataframe w/1000 rows\n",
      "Got dataframe w/1000 rows\n",
      "Got dataframe w/1000 rows\n",
      "Got dataframe w/1000 rows\n",
      "Got dataframe w/1000 rows\n",
      "Got dataframe w/1000 rows\n",
      "Got dataframe w/1000 rows\n",
      "Got dataframe w/1000 rows\n",
      "Got dataframe w/1000 rows\n",
      "Got dataframe w/1000 rows\n",
      "Got dataframe w/1000 rows\n",
      "Got dataframe w/1000 rows\n",
      "Got dataframe w/1000 rows\n",
      "Got dataframe w/1000 rows\n",
      "Got dataframe w/1000 rows\n",
      "Got dataframe w/1000 rows\n",
      "Got dataframe w/1000 rows\n",
      "Got dataframe w/1000 rows\n",
      "Got dataframe w/1000 rows\n",
      "Got dataframe w/1000 rows\n",
      "Got dataframe w/1000 rows\n",
      "Got dataframe w/1000 rows\n",
      "Got dataframe w/1000 rows\n",
      "Got dataframe w/1000 rows\n",
      "Got dataframe w/1000 rows\n",
      "Got dataframe w/1000 rows\n",
      "Got dataframe w/1000 rows\n",
      "Got dataframe w/1000 rows\n",
      "Got dataframe w/1000 rows\n",
      "Got dataframe w/1000 rows\n",
      "Got dataframe w/1000 rows\n",
      "Got dataframe w/1000 rows\n",
      "Got dataframe w/1000 rows\n",
      "Got dataframe w/1000 rows\n",
      "Got dataframe w/1000 rows\n",
      "Got dataframe w/1000 rows\n",
      "Got dataframe w/1000 rows\n",
      "Got dataframe w/1000 rows\n",
      "Got dataframe w/1000 rows\n",
      "Got dataframe w/1000 rows\n",
      "Got dataframe w/1000 rows\n",
      "Got dataframe w/1000 rows\n",
      "Got dataframe w/1000 rows\n",
      "Got dataframe w/1000 rows\n",
      "Got dataframe w/1000 rows\n",
      "Got dataframe w/1000 rows\n",
      "Got dataframe w/1000 rows\n",
      "Got dataframe w/1000 rows\n",
      "Got dataframe w/1000 rows\n",
      "Got dataframe w/1000 rows\n",
      "Got dataframe w/1000 rows\n",
      "Got dataframe w/1000 rows\n",
      "Got dataframe w/1000 rows\n",
      "Got dataframe w/1000 rows\n",
      "Got dataframe w/1000 rows\n",
      "Got dataframe w/1000 rows\n",
      "Got dataframe w/1000 rows\n",
      "Got dataframe w/1000 rows\n",
      "Got dataframe w/1000 rows\n",
      "Got dataframe w/1000 rows\n",
      "Got dataframe w/1000 rows\n",
      "Got dataframe w/1000 rows\n",
      "Got dataframe w/1000 rows\n",
      "Got dataframe w/1000 rows\n",
      "Got dataframe w/1000 rows\n",
      "Got dataframe w/1000 rows\n",
      "Got dataframe w/1000 rows\n",
      "Got dataframe w/1000 rows\n",
      "Got dataframe w/1000 rows\n",
      "Got dataframe w/1000 rows\n",
      "Got dataframe w/1000 rows\n",
      "Got dataframe w/1000 rows\n",
      "Got dataframe w/1000 rows\n",
      "Got dataframe w/1000 rows\n",
      "Got dataframe w/1000 rows\n",
      "Got dataframe w/1000 rows\n",
      "Got dataframe w/1000 rows\n",
      "Got dataframe w/1000 rows\n",
      "Got dataframe w/1000 rows\n",
      "Got dataframe w/1000 rows\n",
      "Got dataframe w/1000 rows\n",
      "Got dataframe w/1000 rows\n",
      "Got dataframe w/1000 rows\n",
      "Got dataframe w/1000 rows\n",
      "Got dataframe w/1000 rows\n",
      "Got dataframe w/1000 rows\n",
      "Got dataframe w/1000 rows\n",
      "Got dataframe w/1000 rows\n",
      "Got dataframe w/1000 rows\n",
      "Got dataframe w/1000 rows\n",
      "Got dataframe w/1000 rows\n",
      "Got dataframe w/1000 rows\n",
      "Got dataframe w/1000 rows\n",
      "Got dataframe w/1000 rows\n",
      "Got dataframe w/1000 rows\n",
      "Got dataframe w/1000 rows\n",
      "Got dataframe w/1000 rows\n",
      "Got dataframe w/1000 rows\n",
      "Got dataframe w/1000 rows\n",
      "Got dataframe w/1000 rows\n",
      "Got dataframe w/1000 rows\n",
      "Got dataframe w/1000 rows\n",
      "Got dataframe w/1000 rows\n",
      "Got dataframe w/1000 rows\n",
      "Got dataframe w/1000 rows\n",
      "Got dataframe w/1000 rows\n",
      "Got dataframe w/1000 rows\n",
      "Got dataframe w/1000 rows\n",
      "Got dataframe w/1000 rows\n",
      "Got dataframe w/1000 rows\n",
      "Got dataframe w/1000 rows\n",
      "Got dataframe w/1000 rows\n",
      "Got dataframe w/1000 rows\n",
      "Got dataframe w/1000 rows\n",
      "Got dataframe w/1000 rows\n",
      "Got dataframe w/1000 rows\n",
      "Got dataframe w/1000 rows\n",
      "Got dataframe w/1000 rows\n",
      "Got dataframe w/1000 rows\n",
      "Got dataframe w/1000 rows\n",
      "Got dataframe w/1000 rows\n",
      "Got dataframe w/1000 rows\n",
      "Got dataframe w/1000 rows\n",
      "Got dataframe w/1000 rows\n",
      "Got dataframe w/1000 rows\n",
      "Got dataframe w/1000 rows\n",
      "Got dataframe w/1000 rows\n",
      "Got dataframe w/1000 rows\n",
      "Got dataframe w/1000 rows\n",
      "Got dataframe w/1000 rows\n",
      "Got dataframe w/1000 rows\n",
      "Got dataframe w/1000 rows\n",
      "Got dataframe w/1000 rows\n",
      "Got dataframe w/1000 rows\n",
      "Got dataframe w/1000 rows\n",
      "Got dataframe w/1000 rows\n",
      "Got dataframe w/1000 rows\n",
      "Got dataframe w/1000 rows\n",
      "Got dataframe w/1000 rows\n",
      "Got dataframe w/1000 rows\n",
      "Got dataframe w/1000 rows\n",
      "Got dataframe w/510 rows\n"
     ]
    }
   ],
   "source": [
    "#Template for getting some data\n",
    "df = get_data(\"\"\"select * from data_working_update WHERE nom_commune IN \n",
    "('Paris 9e Arrondissement','Paris 8e Arrondissement',\n",
    " 'Paris 7e Arrondissement','Paris 6e Arrondissement',\n",
    " 'Paris 5e Arrondissement', 'Paris 4e Arrondissement',\n",
    " 'Paris 3e Arrondissement','Paris 2e Arrondissement',\n",
    " 'Paris 20e Arrondissement', 'Paris 1er Arrondissement',\n",
    " 'Paris 19e Arrondissement','Paris 18e Arrondissement',\n",
    " 'Paris 17e Arrondissement',\n",
    " 'Paris 16e Arrondissement', 'Paris 15e Arrondissement',\n",
    " 'Paris 14e Arrondissement','Paris 13e Arrondissement',\n",
    " 'Paris 12e Arrondissement', 'Paris 11e Arrondissement',\n",
    " 'Paris 10e Arrondissement', \n",
    " 'Nice',\n",
    " 'Marseille 9e Arrondissement','Marseille 8e Arrondissement', 'Marseille 7e Arrondissement',\n",
    " 'Marseille 6e Arrondissement', 'Marseille 5e Arrondissement', 'Marseille 4e Arrondissement',\n",
    " 'Marseille 3e Arrondissement', 'Marseille 2e Arrondissement','Marseille 1er Arrondissement',\n",
    " 'Marseille 16e Arrondissement','Marseille 15e Arrondissement','Marseille 14e Arrondissement',\n",
    " 'Marseille 13e Arrondissement', 'Marseille 12e Arrondissement','Marseille 11e Arrondissement',\n",
    " 'Marseille 10e Arrondissement') \"\"\", 1000)"
   ]
  },
  {
   "cell_type": "code",
   "execution_count": 8,
   "id": "0e186383",
   "metadata": {},
   "outputs": [],
   "source": [
    "data = df.copy()"
   ]
  },
  {
   "cell_type": "code",
   "execution_count": 9,
   "id": "217e1b70",
   "metadata": {},
   "outputs": [
    {
     "data": {
      "text/plain": [
       "(263337, 17)"
      ]
     },
     "execution_count": 9,
     "metadata": {},
     "output_type": "execute_result"
    }
   ],
   "source": [
    "def drop_duplicates(df, col_name):\n",
    "    return df.drop_duplicates(subset=[col_name])\n",
    "\n",
    "data = drop_duplicates(df=data, col_name = 'id_mutation')\n",
    "data.shape"
   ]
  },
  {
   "cell_type": "code",
   "execution_count": 10,
   "id": "d09034cf",
   "metadata": {},
   "outputs": [
    {
     "data": {
      "text/plain": [
       "(263337, 18)"
      ]
     },
     "execution_count": 10,
     "metadata": {},
     "output_type": "execute_result"
    }
   ],
   "source": [
    "df2 = data.copy()\n",
    "\n",
    "prixmetr = df2['valeur_fonciere'].values / df2['surface_reelle_bati'].values\n",
    "df2.loc[:,'prixmetre'] = prixmetr\n",
    "df2.shape"
   ]
  },
  {
   "cell_type": "code",
   "execution_count": 11,
   "id": "35fff28d",
   "metadata": {},
   "outputs": [
    {
     "data": {
      "text/plain": [
       "(68840, 17)"
      ]
     },
     "execution_count": 11,
     "metadata": {},
     "output_type": "execute_result"
    }
   ],
   "source": [
    "df2=df2[\n",
    "    (df2['prixmetre'] < 150_000) & (df2['prixmetre'] > 10_000)]\n",
    "\n",
    "df2=df2[\n",
    "    (df2['nombre_pieces_principales'] < 8) & (df2['nombre_pieces_principales'] > 0)]\n",
    "\n",
    "\n",
    "df2=df2[\n",
    "    (df2['surface_reelle_bati'] < 250) & (df2['surface_reelle_bati'] > 10)]\n",
    "\n",
    "df2 = df2.drop(columns = 'nature_mutation')\n",
    "df2.shape"
   ]
  },
  {
   "cell_type": "code",
   "execution_count": 12,
   "id": "696118c8",
   "metadata": {},
   "outputs": [],
   "source": [
    "def encoding_categ_column(df, col_name):\n",
    "    \n",
    "    L = list(df[col_name].unique())\n",
    "    if '' in L:\n",
    "        df[col_name].replace(\"\", \"NoValue\", inplace=True) #Replace NaN by \"NoCodeNature\"\n",
    "    \n",
    "    ohe = OneHotEncoder(sparse = False) # Instanciate encoder\n",
    "    ohe.fit(df[[col_name]]) # Fit encoder  ---> OneHotEncoder(sparse=False)\n",
    "    \n",
    "    col_encoded = ohe.transform(df[[col_name]]) # Encode\n",
    "\n",
    "    dicts_col = {}\n",
    "    keys = list(ohe.categories_[0])\n",
    "    values = col_encoded.T.astype(int)\n",
    "    \n",
    "    for i,j in enumerate(keys):\n",
    "        dicts_col[j] = values[i,:]\n",
    "\n",
    "    result = pd.DataFrame.from_dict(dicts_col)\n",
    "    \n",
    "    df = df.reset_index(drop=True)\n",
    "    \n",
    "    #Concat df and result dataframes\n",
    "    data_res = pd.concat([df, result], axis = 1)\n",
    "    \n",
    "    if 'NoValue' in list(data_res.columns):\n",
    "        data_res = data_res.drop(columns= ['NoValue',col_name] )\n",
    "    else:\n",
    "        data_res = data_res.drop(columns= col_name)\n",
    "        \n",
    "    return data_res "
   ]
  },
  {
   "cell_type": "code",
   "execution_count": 13,
   "id": "7279daa3",
   "metadata": {},
   "outputs": [],
   "source": [
    "data_t = encoding_categ_column(df = df2, col_name = 'nom_commune')\n",
    "\n",
    "data_t2 = data_t\n",
    "\n",
    "data_t3 = encoding_categ_column(df = data_t2, col_name = 'type_local')\n",
    "data_t3.shape\n",
    "\n",
    "data_t4 = data_t3"
   ]
  },
  {
   "cell_type": "markdown",
   "id": "b1610564",
   "metadata": {},
   "source": [
    "# Function : training_regression_models"
   ]
  },
  {
   "cell_type": "code",
   "execution_count": 15,
   "id": "2e1ba621",
   "metadata": {},
   "outputs": [],
   "source": [
    "def training_regression_models(df, col_list, target_var, scaler,model,params_cv, randomsearch_dict,  nsplits = 10, scor = \"neg_mean_absolute_error\"):\n",
    "        \n",
    "    #df: dataframe\n",
    "    # col_lis : list of features tu use in training\n",
    "    \n",
    "    #by default, col_list = cols_removd_target\n",
    "    #target_var = 'prixmetre' \" old one -----> 'valeur_fonciere' \"\n",
    "    \n",
    "    # scaler = StandardScaler() \"we can use RobustScaler()\"\n",
    "    # model : \"LinearRegression\", \"RandomForest\", \"XGBoost\"\n",
    "    # params : dict for GridSearch ; we do not use it for this initial version\n",
    "    # nsplits, nrepeats : arguments in RepeatedKFold(n_splits=10, n_repeats=3, random_state=1)\n",
    "    # randomsearch_reg_iter --> Please see, RandomizedSearchCV(model, params, n_iter=randomsearch_reg_iter, ..\n",
    "        #by default n_iter = 500\n",
    "        \n",
    "    #randomsearch_xgboost_iter --> Please see, RandomizedSearchCV(estimator = xgboost_regression, ..., n_iter = randomsearch_xgboost_iter\n",
    "        \n",
    "    \"\"\"\n",
    "      ** Iteration numbers for randomsearch for models Ridge, Lasso, RandomForest\n",
    "      \n",
    "        reg = 2\n",
    "        forest = 2\n",
    "        xgboost = 2\n",
    "\n",
    "        randomsearch_dict = {\"reg_iter\": reg,\n",
    "                          \"forest_iter\": forest,\n",
    "                           \"xgboost_iter\": xgboost} \n",
    "                         \n",
    "        **Example of parameters for randomsearch for Linear regression model :**\n",
    "        # define search params\n",
    "        params = dict()\n",
    "        params['alpha'] = list(range(3)) \n",
    "        params['fit_intercept'] = [True, False]\n",
    "        params['normalize'] = [False, True]\n",
    "\n",
    "    \n",
    "        **Example of parameters for randomsearch for Randomforest model :**\n",
    "        n_estimators = [int(x) for x in np.linspace(start = 1, stop = 20, num = 3)] # number of trees \n",
    "                                                                                    #in the random forest\n",
    "        max_features = ['auto', 'sqrt'] # number of features in consideration at every split\n",
    "        max_depth = [int(x) for x in np.linspace(10, 120, num = 3)] # maximum number of levels\n",
    "                                                                        #allowed in each decision tree\n",
    "        min_samples_split = [2, 6, 10] # minimum sample number to split a node\n",
    "        min_samples_leaf = [1, 3, 4] # minimum sample number that can be stored in a leaf node\n",
    "        bootstrap = [True, False] # method used to sample data points\n",
    "        \n",
    "        params_cv = {'n_estimators': n_estimators,\n",
    "        'max_features': max_features,\n",
    "        'max_depth': max_depth,\n",
    "        'min_samples_split': min_samples_split,\n",
    "        'min_samples_leaf': min_samples_leaf,\n",
    "        'bootstrap': bootstrap}\n",
    "        \n",
    "        **Example of parameters for randomsearch for XGBoost model :**\n",
    "        \n",
    "         params_cv = {\"learning_rate\": (0.05, 0.10, 0.15),\n",
    "                        \"max_depth\": [ 3, 4, 5, 6, 8],\n",
    "                        \"min_child_weight\": [ 1, 3, 5, 7],\n",
    "                        \"gamma\":[ 0.0, 0.1, 0.2],\n",
    "                        \"colsample_bytree\":[ 0.3, 0.4],}\n",
    "                         \n",
    "     \"\"\"\n",
    "    \n",
    "    #scor \n",
    "    \n",
    "    # define dataset\n",
    "    y = df[target_var]\n",
    "    X = df[col_list]\n",
    "    \n",
    "    \n",
    "    #instantiating train test split while creating my X and y train and test variables\n",
    "    X_train, X_test, y_train, y_test = train_test_split(X, y, test_size = 0.3, random_state = 0)\n",
    "\n",
    "    #instantiating the standard scaler and setting it equal to ss\n",
    "    #scaling my Xs\n",
    "    \n",
    "    scaler.fit(X_train)\n",
    "    X_train_sc = scaler.transform(X_train)\n",
    "    X_test_sc = scaler.transform(X_test)\n",
    "    \n",
    "    # define model\n",
    "    if model == \"LinearRegression\":\n",
    "        \n",
    "        la= Lasso()\n",
    "        ri = Ridge()\n",
    "        #lr = LinearRegression()\n",
    "        models = [la,ri] #[la,ri,lr]\n",
    "        \n",
    "        feature_importances = {'Lasso': np.zeros((len(cols_removd_target), )), \"Ridge\" : np.zeros((len(cols_removd_target), ))} # dict Keys :(la, ri and lr) models , values : .coef_\n",
    "        result = {'Lasso': {}, \"Ridge\" : {}} # dict Keys :(XGBoost) model , values : result after RandomizedSearchCV\n",
    "        \n",
    "        for model in models:\n",
    "            \n",
    "            # define search          \n",
    "            print(\"****  RandomizedSearchCV  ****\")\n",
    "            # define evaluation\n",
    "            cv = KFold(n_splits=nsplits)\n",
    "            \n",
    "            search = RandomizedSearchCV(model, params_cv, n_iter=randomsearch_dict['reg_iter'], \n",
    "                                        scoring= scor, n_jobs=-1, \n",
    "                                        cv=cv, random_state=1)\n",
    "            \n",
    "            # execute search\n",
    "            res = search.fit(X_train_sc, y_train)\n",
    "           \n",
    "            model = model.set_params(**res.best_params_)\n",
    "            #print(\"model  \", model)\n",
    "\n",
    "            \n",
    "            linear = model.fit(X_train_sc,y_train)\n",
    "            \n",
    "            # Use the model on the testing data to predict the results\n",
    "            y_pred = linear.predict(X_test_sc)\n",
    "\n",
    "            \n",
    "            if model == la:\n",
    "                feature_importances[\"Lasso\"] = linear.coef_\n",
    "                #feature_importances[str(model)] = linear.coef_\n",
    "            \n",
    "            if model == ri:\n",
    "                feature_importances[\"Ridge\"] = linear.coef_\n",
    "                \n",
    "            # for each model, we add a RandomizedSearchCV\n",
    "            if model == la:\n",
    "                #return feature_importances, result\n",
    "                result[\"Lasso\"]['r2'] = 100*(r2_score(y_test, y_pred))\n",
    "                result[\"Lasso\"]['mape'] = round(mape(y_test, y_pred), 2)\n",
    "                result[\"Lasso\"]['rmse'] = rmse(y_test, y_pred)\n",
    "\n",
    "            if model == ri:\n",
    "                result[\"Ridge\"]['r2'] = 100*(r2_score(y_test, y_pred))\n",
    "                result[\"Ridge\"]['mape'] = round(mape(y_test, y_pred), 2)\n",
    "                result[\"Ridge\"]['rmse'] = rmse(y_test, y_pred)\n",
    "\n",
    "\n",
    "            \n",
    "    if model == \"RandomForest\":    \n",
    "        \n",
    "        print(\"****  RandomizedSearchCV  ****\")\n",
    "        \n",
    "        result = {'RandomForest': {}} # dict Keys :(XGBoost) model , values : result after RandomizedSearchCV\n",
    "                      \n",
    "        random_forest = RandomForestRegressor(random_state = 42)\n",
    "        \n",
    "        search = RandomizedSearchCV(estimator = random_forest, param_distributions = params_cv,\n",
    "               n_iter = randomsearch_dict['forest_iter'], cv = 5, verbose=2, random_state=42, n_jobs = -1)\n",
    "        \n",
    "        # execute search\n",
    "        res = search.fit(X_train_sc, y_train)\n",
    "        \n",
    "        random_forest = random_forest.set_params(**res.best_params_)\n",
    "        \n",
    "        #Fitting the Random Forest model\n",
    "        random_forest.fit(X_train_sc,y_train)\n",
    "\n",
    "        # Use the model on the testing data to predict the results\n",
    "        y_pred = random_forest.predict(X_test_sc)\n",
    "        \n",
    "       \n",
    "\n",
    "        feature_importances = pd.DataFrame(random_forest.feature_importances_,\n",
    "                                       index = X_train.columns,\n",
    "                                       columns=['importance']).sort_values('importance', ascending=False)\n",
    "\n",
    "        #print(feature_importances)\n",
    "        \n",
    "        # RandomizedSearchCV\n",
    "        \n",
    "        #return feature_importances, result\n",
    "        \n",
    "        result[\"RandomForest\"]['r2'] = 100*(r2_score(y_test, y_pred))\n",
    "        result[\"RandomForest\"]['mape'] = mape(y_test, y_pred)\n",
    "        result[\"RandomForest\"]['rmse'] = rmse(y_test, y_pred)\n",
    "            \n",
    "\n",
    "       \n",
    "    if model == \"XGBoost\":\n",
    "        \n",
    "        print(\"****  RandomizedSearchCV  ****\")\n",
    "        result = {'XGBoost': {}} # dict Keys :(XGBoost) model , values : result after RandomizedSearchCV\n",
    "\n",
    "              \n",
    "        xgboost_regression = xgb.XGBRegressor(booster = 'gbtree', objective ='reg:squarederror', \n",
    "                                    colsample_bytree = 0.3, learning_rate = 0.35,\n",
    "          max_depth = 10, alpha = 0.1, n_estimators = 500)\n",
    "        \n",
    "        search = RandomizedSearchCV(estimator = xgboost_regression, \n",
    "                           param_distributions = params_cv, \n",
    "                           n_iter = randomsearch_dict['xgboost_iter'], cv = 3, verbose=2, #n_iter=1000\n",
    "                           random_state=0, n_jobs = -1)     \n",
    "        \n",
    "        #Fitting the Random Forest model\n",
    "        res = search.fit(X_train_sc,y_train)\n",
    "        \n",
    "        # summarize result\n",
    "        #print('Best Score: %s' % res.best_score_)\n",
    "        #print('Best Hyperparameters: %s' % res.best_params_)\n",
    "        \n",
    "        xgboost_regression = xgboost_regression.set_params(**res.best_params_)\n",
    "       \n",
    "        #Fitting the XGBoost model\n",
    "        xgboost_regression.fit(X_train_sc,y_train)\n",
    "\n",
    "        # Use the model on the testing data to predict the results\n",
    "        y_pred = xgboost_regression.predict(X_test_sc)\n",
    "        \n",
    "        \n",
    "        feature_importances = pd.DataFrame(xgboost_regression.feature_importances_,\n",
    "                                       index = X_train.columns,\n",
    "                                       columns=['importance']).sort_values('importance', ascending=False)\n",
    "        \n",
    "        \n",
    "        #return feature_importances, result\n",
    "        \n",
    "        result[\"XGBoost\"]['r2'] = 100*(r2_score(y_test, y_pred))\n",
    "        result[\"XGBoost\"]['mape'] = mape(y_test, y_pred)\n",
    "        result[\"XGBoost\"]['rmse'] = rmse(y_test, y_pred)\n",
    "        \n",
    "\n",
    "        #print(feature_importances)\n",
    "        fig, ax = plt.subplots(figsize=(17, 7))\n",
    "        plot_importance(xgboost_regression, ax = ax)\n",
    "        plt.show()\n",
    "          \n",
    "    return feature_importances, result\n"
   ]
  },
  {
   "cell_type": "markdown",
   "id": "3008038a",
   "metadata": {},
   "source": [
    "# Class"
   ]
  },
  {
   "cell_type": "code",
   "execution_count": 46,
   "id": "1782a88e",
   "metadata": {},
   "outputs": [],
   "source": [
    "#!/usr/bin/env python\n",
    "# -*- coding: utf-8 -*-\n",
    "# Import packages\n",
    "import matplotlib.pyplot as plt\n",
    "from sklearn.decomposition import PCA\n",
    "from sklearn.preprocessing import StandardScaler, OneHotEncoder\n",
    "from sklearn.model_selection import train_test_split, RandomizedSearchCV, KFold\n",
    "import pandas as pd\n",
    "import numpy as np\n",
    "import seaborn as sns\n",
    "from sklearn.linear_model import LinearRegression , Ridge , Lasso\n",
    "from sklearn.metrics import mean_absolute_percentage_error as mape\n",
    "from sklearn.metrics import mean_squared_error as rmse\n",
    "\n",
    "from sklearn.dummy import DummyRegressor\n",
    "from sklearn.ensemble import RandomForestRegressor\n",
    "from sklearn.metrics import r2_score, mean_absolute_error, mean_squared_error\n",
    "\n",
    "import xgboost as xgb\n",
    "from xgboost.sklearn import XGBRegressor\n",
    "from xgboost import plot_importance\n",
    "\n",
    "# Import library for VIF\n",
    "from statsmodels.stats.outliers_influence import variance_inflation_factor\n",
    "\n",
    "class Trainer():\n",
    "    \"\"\" Initialize dataframe\n",
    "    \"\"\"\n",
    "    def __init__(self, df, col_list, target_var,\n",
    "                 scaler,model,params_cv, randomsearch_dict,\n",
    "                                   nsplits = 10,\n",
    "                                   scor = \"neg_mean_absolute_error\"):\n",
    "\n",
    "        self.df = df\n",
    "        self.col_list = col_list\n",
    "        self.target_var = target_var\n",
    "        self.scaler = scaler\n",
    "        self.model = model\n",
    "        self.params_cv = params_cv\n",
    "        self.randomsearch_dict = randomsearch_dict\n",
    "        self.nsplits = nsplits\n",
    "        self.scor = scor\n",
    "\n",
    "    def define_dataset(self, df, col_list, target_var):\n",
    "        # define dataset\n",
    "        y = self.df[self.target_var]\n",
    "        X = self.df[self.col_list]\n",
    "        return X,y\n",
    "\n",
    "\n",
    "    def holdout(self, X, y):\n",
    "        \"\"\" Instantiating train test split while creating\n",
    "        X and y train and test variables\n",
    "        \"\"\"\n",
    "        #X,y = self.define_dataset(self.df, self.col_list, self.target_var)\n",
    "        X_train, X_test, y_train, y_test = train_test_split(\n",
    "            X, y, test_size = 0.3, random_state = 0)\n",
    "\n",
    "        return X_train, X_test, y_train, y_test\n",
    "\n",
    "    def scale(self, X_train, X_test):\n",
    "        \"\"\"instantiating the scaler\n",
    "        scaling Xs\"\"\"\n",
    "\n",
    "        #X_train, X_test, y_train, y_test = self.split_X_y_sets()\n",
    "        self.scaler.fit(X_train)\n",
    "        X_train_sc = self.scaler.transform(X_train)\n",
    "        X_test_sc = self.scaler.transform(X_test)\n",
    "\n",
    "        return X_train_sc, X_test_sc #, y_train, y_test\n",
    "    \n",
    "             \n",
    "    def set_model(self, model):\n",
    "        \n",
    "        \"\"\"defines the model as a class attribute\"\"\"\n",
    "        '''returns a model'''\n",
    "        if self.model==\"Lasso\":\n",
    "            modelo = Lasso()\n",
    "        elif self.model==\"Ridge\":\n",
    "            modelo = Ridge()\n",
    "        elif self.model == \"RandomForest\":\n",
    "            modelo = RandomForestRegressor(random_state = 42)\n",
    "        else:\n",
    "            if self.model == \"XGBoost\":\n",
    "                #modelo = xgb.XGBRegressor()\n",
    "                modelo = xgb.XGBRegressor(booster = 'gbtree', objective ='reg:squarederror', \n",
    "                                                colsample_bytree = 0.3, learning_rate = 0.35,\n",
    "                                      max_depth = 10, alpha = 0.1, n_estimators = 500)\n",
    "\n",
    "          \n",
    "        return modelo\n",
    "    \n",
    "        \n",
    " \n",
    "    def evaluate(self, model, X_train, X_test, y_train, y_test):\n",
    "        \"\"\"evaluates the pipeline on df_test and return the RMSE\"\"\"\n",
    "        \n",
    "        model.fit(X_train,y_train)\n",
    "        y_pred = model.predict(X_test)\n",
    "        R2 = 100*(r2_score(y_test, y_pred))\n",
    "        MAE = round(mape(y_test, y_pred), 2)\n",
    "        RMSE = round(rmse(y_test, y_pred), 2)\n",
    "        \n",
    "        res = {'Model': self.model, 'R2' : R2, 'MAE': MAE, 'RMSE': RMSE}\n",
    "        return res\n",
    "    \n",
    "    \n",
    "    def get_feature_importances(self):\n",
    "        \"\"\"evaluates the pipeline on df_test and return the RMSE\"\"\"   \n",
    "        \n",
    "        X,y = self.define_dataset(self.df, self.col_list, self.target_var)\n",
    "        # execute search\n",
    "        search = self.set_Randomized_search(self.model) \n",
    "        \n",
    "        X_train, X_test, y_train, y_test= self.holdout(X, y)\n",
    "        X_train_sc, X_test_sc = self.scale(X_train, X_test)\n",
    "        res = search.fit(X_train_sc, y_train)\n",
    "        \n",
    "        #model = self.set_model(self.model)\n",
    "                \n",
    "        \n",
    "        if (self.model == \"Lasso\") | (self.model == \"Ridge\"):\n",
    "            \n",
    "            model = self.set_model(self.model)\n",
    "            best = model.set_params(**res.best_params_)\n",
    "            best.fit(X_train_sc,y_train)\n",
    "            features = best.coef_\n",
    "            \n",
    "        else:\n",
    "            #RandomForest or XGBoost\n",
    "            model = self.set_model(self.model)\n",
    "            best = model.set_params(**res.best_params_)\n",
    "            best.fit(X_train_sc,y_train)\n",
    "            features = pd.DataFrame(best.feature_importances_,\n",
    "                        index = X_train.columns,\n",
    "                    columns=['importance']).sort_values('importance', ascending=False)     \n",
    "        \n",
    "        return features\n",
    "    \n",
    "    def set_Randomized_search(self, model):\n",
    "        \n",
    "        \n",
    "        if (self.model == \"Lasso\") | (self.model == \"Ridge\"):\n",
    "            \n",
    "            model = self.set_model(self.model)\n",
    "            \n",
    "            # define cross validation\n",
    "            cv = KFold(n_splits=self.nsplits)\n",
    "\n",
    "            search_case = RandomizedSearchCV(model, self.params_cv,\n",
    "                                        n_iter=self.randomsearch_dict['reg_iter'],\n",
    "                                            scoring= self.scor, n_jobs=-1,\n",
    "                                                cv=cv, random_state=1)\n",
    "            \n",
    "        else:\n",
    "            if self.model == \"RandomForest\":\n",
    "                \n",
    "                random_forest = self.set_model(self.model)\n",
    "            \n",
    "                #random_forest = RandomForestRegressor(random_state = 42)\n",
    "                \n",
    "                search_case = RandomizedSearchCV(estimator = random_forest, \n",
    "                                                 param_distributions = self.params_cv,\n",
    "                   n_iter = self.randomsearch_dict['forest_iter'], \n",
    "                                                 cv = 5, verbose=2, random_state=42, n_jobs = -1)\n",
    "\n",
    "            else:\n",
    "                print(\"**333*** \", model)\n",
    "\n",
    "                xgboost_regression = self.set_model(self.model)\n",
    "                \n",
    "                search_case = RandomizedSearchCV(estimator = xgboost_regression, \n",
    "                                       param_distributions = self.params_cv, \n",
    "                                       n_iter = self.randomsearch_dict['xgboost_iter'], \n",
    "                                                 cv = 3, verbose=2, #n_iter=1000\n",
    "                                       random_state=0, n_jobs = -1)    \n",
    "\n",
    "        return search_case\n",
    "               \n",
    "\n",
    "    def execute(self):\n",
    "        \n",
    "        X,y = self.define_dataset(self.df, self.col_list, self.target_var)\n",
    "        \n",
    "        # execute search\n",
    "        search = self.set_Randomized_search(self.model) \n",
    "        \n",
    "        X_train, X_test, y_train, y_test= self.holdout(X, y)\n",
    "        X_train_sc, X_test_sc = self.scale(X_train, X_test)\n",
    "        res = search.fit(X_train_sc, y_train)\n",
    "        \n",
    "         # summarize result\n",
    "        print('Best Score: %s' % res.best_score_)\n",
    "        print('Best Hyperparameters: %s' % res.best_params_)\n",
    "        \n",
    "        model = self.set_model(self.model)\n",
    "                \n",
    "        best = model.set_params(**res.best_params_)\n",
    "        #print(\"model  \", model)\n",
    "        \n",
    "        # train and predict\n",
    "        result = self.evaluate(best, X_train_sc, X_test_sc, y_train, y_test)\n",
    "        \n",
    "        return result"
   ]
  },
  {
   "cell_type": "markdown",
   "id": "4c5f898b",
   "metadata": {},
   "source": [
    "# Test"
   ]
  },
  {
   "cell_type": "markdown",
   "id": "637d385f",
   "metadata": {},
   "source": [
    "## Lasso()"
   ]
  },
  {
   "cell_type": "code",
   "execution_count": 17,
   "id": "a413b6e4",
   "metadata": {},
   "outputs": [],
   "source": [
    "df_new = data_t4.copy()\n",
    "cols = list(df_new.columns)\n",
    "\n",
    "columns_todrop = ['id_mutation', 'date_mutation',\n",
    "         'adresse_nom_voie', 'adresse_code_voie',\n",
    "  'code_commune', 'code_postal',\n",
    " 'code_departement',\n",
    " 'id_parcelle', 'valeur_fonciere', 'Paris 10e Arrondissement'\n",
    " ]\n",
    "\n",
    "\n",
    "for i in columns_todrop:\n",
    "    cols.remove(i)\n",
    "    \n",
    "cols_removd_target = cols[:]\n",
    "cols_removd_target.remove('prixmetre')\n",
    "\n",
    "data_v2 = df_new[cols]\n",
    "\n",
    "\n",
    "reg = 2\n",
    "forest = 2\n",
    "xgboost = 2\n",
    "\n",
    "randomsearch_dict = {\"reg_iter\": reg,\n",
    "                  \"forest_iter\": forest,\n",
    "                   \"xgboost_iter\": xgboost} \n",
    "\n",
    "#Example of parameters for randomsearch for Ridge and Lasso models :**\n",
    "# LinearRegession() is equivalent to Lasso() with alpha = 0\n",
    "params_cv_reg = dict()\n",
    "params_cv_reg['alpha'] = list(range(3)) \n",
    "params_cv_reg['fit_intercept'] = [True, False]\n",
    "params_cv_reg['normalize'] = [False, True]"
   ]
  },
  {
   "cell_type": "markdown",
   "id": "9fb68adb",
   "metadata": {},
   "source": [
    "### function"
   ]
  },
  {
   "cell_type": "code",
   "execution_count": 18,
   "id": "22339ac4",
   "metadata": {},
   "outputs": [
    {
     "name": "stdout",
     "output_type": "stream",
     "text": [
      "****  RandomizedSearchCV  ****\n"
     ]
    },
    {
     "name": "stderr",
     "output_type": "stream",
     "text": [
      "/Users/kenzaelhoussaini/.pyenv/versions/3.8.6/envs/reestimator/lib/python3.8/site-packages/sklearn/model_selection/_search.py:880: UserWarning: With alpha=0, this algorithm does not converge well. You are advised to use the LinearRegression estimator\n",
      "  self.best_estimator_.fit(X, y, **fit_params)\n",
      "/Users/kenzaelhoussaini/.pyenv/versions/3.8.6/envs/reestimator/lib/python3.8/site-packages/sklearn/linear_model/_coordinate_descent.py:530: UserWarning: Coordinate descent with no regularization may lead to unexpected results and is discouraged.\n",
      "  model = cd_fast.enet_coordinate_descent(\n",
      "/Users/kenzaelhoussaini/.pyenv/versions/3.8.6/envs/reestimator/lib/python3.8/site-packages/sklearn/linear_model/_coordinate_descent.py:530: ConvergenceWarning: Objective did not converge. You might want to increase the number of iterations. Duality gap: 6743050775441.529, tolerance: 1366399939.7686615\n",
      "  model = cd_fast.enet_coordinate_descent(\n",
      "/var/folders/5y/6hfgq7bn3rxfh24y7vqbgg7w0000gn/T/ipykernel_89313/1309396515.py:110: UserWarning: With alpha=0, this algorithm does not converge well. You are advised to use the LinearRegression estimator\n",
      "  linear = model.fit(X_train_sc,y_train)\n",
      "/Users/kenzaelhoussaini/.pyenv/versions/3.8.6/envs/reestimator/lib/python3.8/site-packages/sklearn/linear_model/_coordinate_descent.py:530: UserWarning: Coordinate descent with no regularization may lead to unexpected results and is discouraged.\n",
      "  model = cd_fast.enet_coordinate_descent(\n",
      "/Users/kenzaelhoussaini/.pyenv/versions/3.8.6/envs/reestimator/lib/python3.8/site-packages/sklearn/linear_model/_coordinate_descent.py:530: ConvergenceWarning: Objective did not converge. You might want to increase the number of iterations. Duality gap: 6743050775441.529, tolerance: 1366399939.7686615\n",
      "  model = cd_fast.enet_coordinate_descent(\n"
     ]
    },
    {
     "name": "stdout",
     "output_type": "stream",
     "text": [
      "****  RandomizedSearchCV  ****\n"
     ]
    }
   ],
   "source": [
    "feature_importances, result = training_regression_models(df = data_v2, \n",
    "                                                             col_list = cols_removd_target,\n",
    "                                                             target_var = \"prixmetre\" ,\n",
    "                                                         scaler = StandardScaler(),\n",
    "                                                        model=\"LinearRegression\",\n",
    "                                                         params_cv= params_cv_reg,\n",
    "                                                         randomsearch_dict = randomsearch_dict,\n",
    "                                                        nsplits = 2, \n",
    "                                                    scor = \"neg_mean_absolute_error\")\n",
    "           "
   ]
  },
  {
   "cell_type": "code",
   "execution_count": 19,
   "id": "80c9c515",
   "metadata": {},
   "outputs": [
    {
     "data": {
      "text/plain": [
       "{'Lasso': {'r2': -235.12574912546717,\n",
       "  'mape': 1.01,\n",
       "  'rmse': 279744124.38850623},\n",
       " 'Ridge': {'r2': -2467.08479046993, 'mape': 1.08, 'rmse': 2142857983.3541954}}"
      ]
     },
     "execution_count": 19,
     "metadata": {},
     "output_type": "execute_result"
    }
   ],
   "source": [
    "result"
   ]
  },
  {
   "cell_type": "code",
   "execution_count": 526,
   "id": "80fcf92e",
   "metadata": {},
   "outputs": [
    {
     "data": {
      "text/plain": [
       "{'Lasso': array([-6.04217175e+02, -4.67670237e+02,  6.74051637e+02,  6.43651672e+02,\n",
       "        -2.32694234e+02, -3.94276284e+01, -1.27624187e+02, -1.31876693e+02,\n",
       "         1.04824079e+02,  1.88857275e+01,  3.30272630e+01, -5.34993778e+01,\n",
       "         1.14596770e+02,  5.17262537e+02, -5.52885064e+01, -4.39549693e+01,\n",
       "         1.37728034e+01,  2.31618929e+00, -1.33023599e+02, -9.64735812e+01,\n",
       "        -2.20128822e+01,  1.47252632e+02, -1.41199701e+02, -1.21133801e+02,\n",
       "        -2.29528196e+01, -1.84007033e+01, -1.86654608e+02,  3.28573098e+02,\n",
       "         3.56672958e+01,  2.38093433e+01,  1.99753055e+02,  2.58714374e+02,\n",
       "         7.30200975e+01, -4.46896258e+01,  1.08304764e+02,  2.97672713e+02,\n",
       "         8.56386369e+01,  6.43897555e+02,  7.25423669e+02,  4.72583853e+02,\n",
       "         6.15065916e+01, -1.74355777e+02,  3.54833118e-09]),\n",
       " 'Ridge': array([ 1.25113851e+03, -2.15109987e+03, -1.88379670e+04, -2.68085357e+03,\n",
       "        -7.76978277e+03, -1.19626610e+03, -2.73170696e+02, -3.67276836e+03,\n",
       "         7.75961940e+03, -1.31094245e+03,  1.35755359e+04, -1.17589880e+03,\n",
       "         7.68742363e+03, -2.82846152e+03,  9.53510403e+03,  4.18382078e+03,\n",
       "         2.19247604e+03,  5.10985997e+03, -8.60123527e+03, -7.16170099e+03,\n",
       "        -2.20125561e+01,  1.73184413e+04, -3.71853026e+03, -1.30612454e+03,\n",
       "        -2.25267083e+03, -2.21556653e+03, -3.00237717e+03, -3.07005222e+03,\n",
       "        -3.15018132e+03, -5.39218372e+03, -4.63992260e+03,  1.33451556e+03,\n",
       "         2.13176756e+02, -5.06866798e+02,  2.27470773e+03, -9.50098636e+02,\n",
       "        -1.83909866e+03,  9.16688479e+02,  2.85888340e+03, -7.49373360e+03,\n",
       "         2.51173744e+02,  3.64547253e+19,  3.64547253e+19])}"
      ]
     },
     "execution_count": 526,
     "metadata": {},
     "output_type": "execute_result"
    }
   ],
   "source": [
    "feature_importances"
   ]
  },
  {
   "cell_type": "markdown",
   "id": "d6216449",
   "metadata": {},
   "source": [
    "### class"
   ]
  },
  {
   "cell_type": "code",
   "execution_count": 47,
   "id": "33dd8b2c",
   "metadata": {},
   "outputs": [
    {
     "name": "stdout",
     "output_type": "stream",
     "text": [
      "Best Score: -12679.058206306068\n",
      "Best Hyperparameters: {'normalize': False, 'fit_intercept': False, 'alpha': 0}\n"
     ]
    },
    {
     "data": {
      "text/plain": [
       "{'Model': 'Ridge', 'R2': -2467.08479046993, 'MAE': 1.08, 'RMSE': 2142857983.35}"
      ]
     },
     "execution_count": 47,
     "metadata": {},
     "output_type": "execute_result"
    }
   ],
   "source": [
    "trainer = Trainer(df = data_v2, \n",
    "                col_list = cols_removd_target,\n",
    "                target_var = \"prixmetre\" ,\n",
    "                scaler = StandardScaler(),\n",
    "                 model=\"Ridge\",\n",
    "                 params_cv= params_cv_reg,\n",
    "                randomsearch_dict = randomsearch_dict,\n",
    "               nsplits = 2, \n",
    "               scor = \"neg_mean_absolute_error\")\n",
    "\n",
    "trainer.execute()"
   ]
  },
  {
   "cell_type": "code",
   "execution_count": 48,
   "id": "ecbecf65",
   "metadata": {},
   "outputs": [
    {
     "data": {
      "text/plain": [
       "array([ 1.25113851e+03, -2.15109987e+03, -1.88379670e+04, -2.68085357e+03,\n",
       "       -7.76978277e+03, -1.19626610e+03, -2.73170696e+02, -3.67276836e+03,\n",
       "        7.75961940e+03, -1.31094245e+03,  1.35755359e+04, -1.17589880e+03,\n",
       "        7.68742363e+03, -2.82846152e+03,  9.53510403e+03,  4.18382078e+03,\n",
       "        2.19247604e+03,  5.10985997e+03, -8.60123527e+03, -7.16170099e+03,\n",
       "       -2.20125561e+01,  1.73184413e+04, -3.71853026e+03, -1.30612454e+03,\n",
       "       -2.25267083e+03, -2.21556653e+03, -3.00237717e+03, -3.07005222e+03,\n",
       "       -3.15018132e+03, -5.39218372e+03, -4.63992260e+03,  1.33451556e+03,\n",
       "        2.13176756e+02, -5.06866798e+02,  2.27470773e+03, -9.50098636e+02,\n",
       "       -1.83909866e+03,  9.16688479e+02,  2.85888340e+03, -7.49373360e+03,\n",
       "        2.51173744e+02,  3.64547253e+19,  3.64547253e+19])"
      ]
     },
     "execution_count": 48,
     "metadata": {},
     "output_type": "execute_result"
    }
   ],
   "source": [
    "trainer.get_feature_importances()"
   ]
  },
  {
   "cell_type": "markdown",
   "id": "e3d07e44",
   "metadata": {},
   "source": [
    "## Ridge()"
   ]
  },
  {
   "cell_type": "markdown",
   "id": "45b19c55",
   "metadata": {},
   "source": [
    "### function"
   ]
  },
  {
   "cell_type": "markdown",
   "id": "f93d4aaf",
   "metadata": {},
   "source": [
    "*the function returns results for Lasso & Ridge models*"
   ]
  },
  {
   "cell_type": "code",
   "execution_count": 49,
   "id": "63961705",
   "metadata": {},
   "outputs": [
    {
     "data": {
      "text/plain": [
       "{'Lasso': {'r2': -235.12574912546717,\n",
       "  'mape': 1.01,\n",
       "  'rmse': 279744124.38850623},\n",
       " 'Ridge': {'r2': -2467.08479046993, 'mape': 1.08, 'rmse': 2142857983.3541954}}"
      ]
     },
     "execution_count": 49,
     "metadata": {},
     "output_type": "execute_result"
    }
   ],
   "source": [
    "result"
   ]
  },
  {
   "cell_type": "markdown",
   "id": "bcbc1ba7",
   "metadata": {},
   "source": [
    "### class"
   ]
  },
  {
   "cell_type": "code",
   "execution_count": 50,
   "id": "75d69bb2",
   "metadata": {},
   "outputs": [
    {
     "name": "stdout",
     "output_type": "stream",
     "text": [
      "Best Score: -12679.058206306068\n",
      "Best Hyperparameters: {'normalize': False, 'fit_intercept': False, 'alpha': 0}\n"
     ]
    },
    {
     "data": {
      "text/plain": [
       "{'Model': 'Ridge', 'R2': -2467.08479046993, 'MAE': 1.08, 'RMSE': 2142857983.35}"
      ]
     },
     "execution_count": 50,
     "metadata": {},
     "output_type": "execute_result"
    }
   ],
   "source": [
    "trainer = Trainer(df = data_v2, \n",
    "                                 col_list = cols_removd_target,\n",
    "                  target_var = \"prixmetre\" ,\n",
    "                scaler = StandardScaler(),\n",
    "                 model=\"Ridge\",\n",
    "                 params_cv= params_cv_reg,\n",
    "                     randomsearch_dict = randomsearch_dict,\n",
    "               nsplits = 2, \n",
    "         scor = \"neg_mean_absolute_error\")\n",
    "\n",
    "trainer.execute()"
   ]
  },
  {
   "cell_type": "code",
   "execution_count": 51,
   "id": "b8669f76",
   "metadata": {},
   "outputs": [
    {
     "data": {
      "text/plain": [
       "array([ 1.25113851e+03, -2.15109987e+03, -1.88379670e+04, -2.68085357e+03,\n",
       "       -7.76978277e+03, -1.19626610e+03, -2.73170696e+02, -3.67276836e+03,\n",
       "        7.75961940e+03, -1.31094245e+03,  1.35755359e+04, -1.17589880e+03,\n",
       "        7.68742363e+03, -2.82846152e+03,  9.53510403e+03,  4.18382078e+03,\n",
       "        2.19247604e+03,  5.10985997e+03, -8.60123527e+03, -7.16170099e+03,\n",
       "       -2.20125561e+01,  1.73184413e+04, -3.71853026e+03, -1.30612454e+03,\n",
       "       -2.25267083e+03, -2.21556653e+03, -3.00237717e+03, -3.07005222e+03,\n",
       "       -3.15018132e+03, -5.39218372e+03, -4.63992260e+03,  1.33451556e+03,\n",
       "        2.13176756e+02, -5.06866798e+02,  2.27470773e+03, -9.50098636e+02,\n",
       "       -1.83909866e+03,  9.16688479e+02,  2.85888340e+03, -7.49373360e+03,\n",
       "        2.51173744e+02,  3.64547253e+19,  3.64547253e+19])"
      ]
     },
     "execution_count": 51,
     "metadata": {},
     "output_type": "execute_result"
    }
   ],
   "source": [
    "trainer.get_feature_importances()"
   ]
  },
  {
   "cell_type": "markdown",
   "id": "5fb73f6d",
   "metadata": {},
   "source": [
    "## RandomForest()"
   ]
  },
  {
   "cell_type": "code",
   "execution_count": 52,
   "id": "c33038de",
   "metadata": {},
   "outputs": [],
   "source": [
    "#Example of parameters for randomsearch for Randomforest model :**\n",
    "n_estimators = [int(x) for x in np.linspace(start = 1, stop = 20, num = 3)] # number of trees \n",
    "                                                                                    #in the random forest\n",
    "max_features = ['auto', 'sqrt'] # number of features in consideration at every split\n",
    "max_depth = [int(x) for x in np.linspace(10, 120, num = 3)] # maximum number of levels\n",
    "                                                                        #allowed in each decision tree\n",
    "min_samples_split = [2, 6, 10] # minimum sample number to split a node\n",
    "min_samples_leaf = [1, 3, 4] # minimum sample number that can be stored in a leaf node\n",
    "bootstrap = [True, False] # method used to sample data points\n",
    "\n",
    "params_cv_forest = {'n_estimators': n_estimators,\n",
    "        'max_features': max_features,\n",
    "        'max_depth': max_depth,\n",
    "        'min_samples_split': min_samples_split,\n",
    "        'min_samples_leaf': min_samples_leaf,\n",
    "        'bootstrap': bootstrap}    "
   ]
  },
  {
   "cell_type": "markdown",
   "id": "06f04ec1",
   "metadata": {},
   "source": [
    "### Function"
   ]
  },
  {
   "cell_type": "code",
   "execution_count": 53,
   "id": "cbf57b7e",
   "metadata": {},
   "outputs": [
    {
     "name": "stdout",
     "output_type": "stream",
     "text": [
      "****  RandomizedSearchCV  ****\n",
      "Fitting 5 folds for each of 2 candidates, totalling 10 fits\n"
     ]
    }
   ],
   "source": [
    "feature_importances, result = training_regression_models(df = data_v2, \n",
    "                                                             col_list = cols_removd_target,\n",
    "                                                             target_var = \"prixmetre\" ,\n",
    "                                                         scaler = StandardScaler(),\n",
    "                                                        model=\"RandomForest\",\n",
    "                                                         params_cv= params_cv_forest,\n",
    "                                                         randomsearch_dict = randomsearch_dict,\n",
    "                                                        nsplits = 2, \n",
    "                                                    scor = \"neg_mean_absolute_error\")"
   ]
  },
  {
   "cell_type": "code",
   "execution_count": 54,
   "id": "8ff0d57f",
   "metadata": {},
   "outputs": [
    {
     "data": {
      "text/plain": [
       "{'RandomForest': {'r2': 4.251378665542093,\n",
       "  'mape': 0.23252310898892378,\n",
       "  'rmse': 79925563.1849003}}"
      ]
     },
     "execution_count": 54,
     "metadata": {},
     "output_type": "execute_result"
    }
   ],
   "source": [
    "result"
   ]
  },
  {
   "cell_type": "code",
   "execution_count": 55,
   "id": "ee23ae90",
   "metadata": {},
   "outputs": [
    {
     "data": {
      "text/html": [
       "<div>\n",
       "<style scoped>\n",
       "    .dataframe tbody tr th:only-of-type {\n",
       "        vertical-align: middle;\n",
       "    }\n",
       "\n",
       "    .dataframe tbody tr th {\n",
       "        vertical-align: top;\n",
       "    }\n",
       "\n",
       "    .dataframe thead th {\n",
       "        text-align: right;\n",
       "    }\n",
       "</style>\n",
       "<table border=\"1\" class=\"dataframe\">\n",
       "  <thead>\n",
       "    <tr style=\"text-align: right;\">\n",
       "      <th></th>\n",
       "      <th>importance</th>\n",
       "    </tr>\n",
       "  </thead>\n",
       "  <tbody>\n",
       "    <tr>\n",
       "      <th>latitude</th>\n",
       "      <td>0.260484</td>\n",
       "    </tr>\n",
       "    <tr>\n",
       "      <th>surface_reelle_bati</th>\n",
       "      <td>0.254018</td>\n",
       "    </tr>\n",
       "    <tr>\n",
       "      <th>longitude</th>\n",
       "      <td>0.181508</td>\n",
       "    </tr>\n",
       "    <tr>\n",
       "      <th>surface_terrain</th>\n",
       "      <td>0.180195</td>\n",
       "    </tr>\n",
       "    <tr>\n",
       "      <th>nombre_pieces_principales</th>\n",
       "      <td>0.036996</td>\n",
       "    </tr>\n",
       "  </tbody>\n",
       "</table>\n",
       "</div>"
      ],
      "text/plain": [
       "                           importance\n",
       "latitude                     0.260484\n",
       "surface_reelle_bati          0.254018\n",
       "longitude                    0.181508\n",
       "surface_terrain              0.180195\n",
       "nombre_pieces_principales    0.036996"
      ]
     },
     "execution_count": 55,
     "metadata": {},
     "output_type": "execute_result"
    }
   ],
   "source": [
    "feature_importances.head(5)"
   ]
  },
  {
   "cell_type": "code",
   "execution_count": 56,
   "id": "506e64c0",
   "metadata": {},
   "outputs": [
    {
     "data": {
      "text/html": [
       "<div>\n",
       "<style scoped>\n",
       "    .dataframe tbody tr th:only-of-type {\n",
       "        vertical-align: middle;\n",
       "    }\n",
       "\n",
       "    .dataframe tbody tr th {\n",
       "        vertical-align: top;\n",
       "    }\n",
       "\n",
       "    .dataframe thead th {\n",
       "        text-align: right;\n",
       "    }\n",
       "</style>\n",
       "<table border=\"1\" class=\"dataframe\">\n",
       "  <thead>\n",
       "    <tr style=\"text-align: right;\">\n",
       "      <th></th>\n",
       "      <th>importance</th>\n",
       "    </tr>\n",
       "  </thead>\n",
       "  <tbody>\n",
       "    <tr>\n",
       "      <th>Paris 13e Arrondissement</th>\n",
       "      <td>2.093683e-05</td>\n",
       "    </tr>\n",
       "    <tr>\n",
       "      <th>Marseille 10e Arrondissement</th>\n",
       "      <td>1.792782e-05</td>\n",
       "    </tr>\n",
       "    <tr>\n",
       "      <th>Marseille 4e Arrondissement</th>\n",
       "      <td>5.520619e-08</td>\n",
       "    </tr>\n",
       "    <tr>\n",
       "      <th>Marseille 5e Arrondissement</th>\n",
       "      <td>0.000000e+00</td>\n",
       "    </tr>\n",
       "    <tr>\n",
       "      <th>Marseille 16e Arrondissement</th>\n",
       "      <td>0.000000e+00</td>\n",
       "    </tr>\n",
       "  </tbody>\n",
       "</table>\n",
       "</div>"
      ],
      "text/plain": [
       "                                importance\n",
       "Paris 13e Arrondissement      2.093683e-05\n",
       "Marseille 10e Arrondissement  1.792782e-05\n",
       "Marseille 4e Arrondissement   5.520619e-08\n",
       "Marseille 5e Arrondissement   0.000000e+00\n",
       "Marseille 16e Arrondissement  0.000000e+00"
      ]
     },
     "execution_count": 56,
     "metadata": {},
     "output_type": "execute_result"
    }
   ],
   "source": [
    "feature_importances.tail(5)"
   ]
  },
  {
   "cell_type": "markdown",
   "id": "0dee8dfd",
   "metadata": {},
   "source": [
    "### Class"
   ]
  },
  {
   "cell_type": "code",
   "execution_count": 57,
   "id": "ae8ca73c",
   "metadata": {},
   "outputs": [
    {
     "name": "stdout",
     "output_type": "stream",
     "text": [
      "Fitting 5 folds for each of 2 candidates, totalling 10 fits\n",
      "Best Score: 0.040678388445020676\n",
      "Best Hyperparameters: {'n_estimators': 1, 'min_samples_split': 6, 'min_samples_leaf': 4, 'max_features': 'sqrt', 'max_depth': 65, 'bootstrap': True}\n"
     ]
    },
    {
     "data": {
      "text/plain": [
       "{'Model': 'RandomForest',\n",
       " 'R2': 4.251378665542093,\n",
       " 'MAE': 0.23,\n",
       " 'RMSE': 79925563.18}"
      ]
     },
     "execution_count": 57,
     "metadata": {},
     "output_type": "execute_result"
    }
   ],
   "source": [
    "trainer = Trainer(df = data_v2, \n",
    "                                 col_list = cols_removd_target,\n",
    "                  target_var = \"prixmetre\" ,\n",
    "                scaler = StandardScaler(),\n",
    "                 model=\"RandomForest\",\n",
    "                 params_cv= params_cv_forest,\n",
    "                     randomsearch_dict = randomsearch_dict,\n",
    "               nsplits = 2, \n",
    "         scor = \"neg_mean_absolute_error\")\n",
    "\n",
    "trainer.execute()"
   ]
  },
  {
   "cell_type": "code",
   "execution_count": 58,
   "id": "26bc08df",
   "metadata": {},
   "outputs": [
    {
     "name": "stdout",
     "output_type": "stream",
     "text": [
      "Fitting 5 folds for each of 2 candidates, totalling 10 fits\n"
     ]
    },
    {
     "data": {
      "text/html": [
       "<div>\n",
       "<style scoped>\n",
       "    .dataframe tbody tr th:only-of-type {\n",
       "        vertical-align: middle;\n",
       "    }\n",
       "\n",
       "    .dataframe tbody tr th {\n",
       "        vertical-align: top;\n",
       "    }\n",
       "\n",
       "    .dataframe thead th {\n",
       "        text-align: right;\n",
       "    }\n",
       "</style>\n",
       "<table border=\"1\" class=\"dataframe\">\n",
       "  <thead>\n",
       "    <tr style=\"text-align: right;\">\n",
       "      <th></th>\n",
       "      <th>importance</th>\n",
       "    </tr>\n",
       "  </thead>\n",
       "  <tbody>\n",
       "    <tr>\n",
       "      <th>latitude</th>\n",
       "      <td>0.260484</td>\n",
       "    </tr>\n",
       "    <tr>\n",
       "      <th>surface_reelle_bati</th>\n",
       "      <td>0.254018</td>\n",
       "    </tr>\n",
       "    <tr>\n",
       "      <th>longitude</th>\n",
       "      <td>0.181508</td>\n",
       "    </tr>\n",
       "    <tr>\n",
       "      <th>surface_terrain</th>\n",
       "      <td>0.180195</td>\n",
       "    </tr>\n",
       "    <tr>\n",
       "      <th>nombre_pieces_principales</th>\n",
       "      <td>0.036996</td>\n",
       "    </tr>\n",
       "  </tbody>\n",
       "</table>\n",
       "</div>"
      ],
      "text/plain": [
       "                           importance\n",
       "latitude                     0.260484\n",
       "surface_reelle_bati          0.254018\n",
       "longitude                    0.181508\n",
       "surface_terrain              0.180195\n",
       "nombre_pieces_principales    0.036996"
      ]
     },
     "execution_count": 58,
     "metadata": {},
     "output_type": "execute_result"
    }
   ],
   "source": [
    "trainer.get_feature_importances().head(5)"
   ]
  },
  {
   "cell_type": "code",
   "execution_count": 59,
   "id": "65edaf57",
   "metadata": {},
   "outputs": [
    {
     "name": "stdout",
     "output_type": "stream",
     "text": [
      "Fitting 5 folds for each of 2 candidates, totalling 10 fits\n"
     ]
    },
    {
     "data": {
      "text/html": [
       "<div>\n",
       "<style scoped>\n",
       "    .dataframe tbody tr th:only-of-type {\n",
       "        vertical-align: middle;\n",
       "    }\n",
       "\n",
       "    .dataframe tbody tr th {\n",
       "        vertical-align: top;\n",
       "    }\n",
       "\n",
       "    .dataframe thead th {\n",
       "        text-align: right;\n",
       "    }\n",
       "</style>\n",
       "<table border=\"1\" class=\"dataframe\">\n",
       "  <thead>\n",
       "    <tr style=\"text-align: right;\">\n",
       "      <th></th>\n",
       "      <th>importance</th>\n",
       "    </tr>\n",
       "  </thead>\n",
       "  <tbody>\n",
       "    <tr>\n",
       "      <th>Paris 13e Arrondissement</th>\n",
       "      <td>2.093683e-05</td>\n",
       "    </tr>\n",
       "    <tr>\n",
       "      <th>Marseille 10e Arrondissement</th>\n",
       "      <td>1.792782e-05</td>\n",
       "    </tr>\n",
       "    <tr>\n",
       "      <th>Marseille 4e Arrondissement</th>\n",
       "      <td>5.520619e-08</td>\n",
       "    </tr>\n",
       "    <tr>\n",
       "      <th>Marseille 5e Arrondissement</th>\n",
       "      <td>0.000000e+00</td>\n",
       "    </tr>\n",
       "    <tr>\n",
       "      <th>Marseille 16e Arrondissement</th>\n",
       "      <td>0.000000e+00</td>\n",
       "    </tr>\n",
       "  </tbody>\n",
       "</table>\n",
       "</div>"
      ],
      "text/plain": [
       "                                importance\n",
       "Paris 13e Arrondissement      2.093683e-05\n",
       "Marseille 10e Arrondissement  1.792782e-05\n",
       "Marseille 4e Arrondissement   5.520619e-08\n",
       "Marseille 5e Arrondissement   0.000000e+00\n",
       "Marseille 16e Arrondissement  0.000000e+00"
      ]
     },
     "execution_count": 59,
     "metadata": {},
     "output_type": "execute_result"
    }
   ],
   "source": [
    "trainer.get_feature_importances().tail(5)"
   ]
  },
  {
   "cell_type": "markdown",
   "id": "4b2b03d5",
   "metadata": {},
   "source": [
    "## XGBoost"
   ]
  },
  {
   "cell_type": "code",
   "execution_count": 64,
   "id": "5199a7a5",
   "metadata": {},
   "outputs": [],
   "source": [
    "#Example of parameters for randomsearch for XGBoost model :**\n",
    "        \n",
    "params_cv_xgboost = {\"learning_rate\": (0.05, 0.10, 0.15),\n",
    "                  \"max_depth\": [ 3, 4, 5, 6, 8],\n",
    "              \"min_child_weight\": [ 1, 3, 5, 7],\n",
    "              \"gamma\":[ 0.0, 0.1, 0.2],\n",
    "          \"colsample_bytree\":[ 0.3, 0.4]}"
   ]
  },
  {
   "cell_type": "markdown",
   "id": "02ca54bb",
   "metadata": {},
   "source": [
    "### Function"
   ]
  },
  {
   "cell_type": "code",
   "execution_count": 65,
   "id": "daca737a",
   "metadata": {},
   "outputs": [
    {
     "name": "stdout",
     "output_type": "stream",
     "text": [
      "****  RandomizedSearchCV  ****\n",
      "Fitting 3 folds for each of 2 candidates, totalling 6 fits\n"
     ]
    },
    {
     "data": {
      "image/png": "[encoded data removed]",
      "text/plain": [
       "<Figure size 1224x504 with 1 Axes>"
      ]
     },
     "metadata": {
      "needs_background": "light"
     },
     "output_type": "display_data"
    }
   ],
   "source": [
    "feature_importances, result = training_regression_models(df = data_v2, \n",
    "                                                             col_list = cols_removd_target,\n",
    "                                                             target_var = \"prixmetre\" ,\n",
    "                                                         scaler = StandardScaler(),\n",
    "                                                        model=\"XGBoost\",\n",
    "                                                         params_cv= params_cv_xgboost,\n",
    "                                                         randomsearch_dict = randomsearch_dict,\n",
    "                                                        nsplits = 2, \n",
    "                                                    scor = \"neg_mean_absolute_error\")\n",
    "           "
   ]
  },
  {
   "cell_type": "code",
   "execution_count": 66,
   "id": "ed0915e0",
   "metadata": {},
   "outputs": [
    {
     "data": {
      "text/plain": [
       "{'XGBoost': {'r2': 22.701508712594876,\n",
       "  'mape': 0.2032789716933371,\n",
       "  'rmse': 64524432.45013688}}"
      ]
     },
     "execution_count": 66,
     "metadata": {},
     "output_type": "execute_result"
    }
   ],
   "source": [
    "result"
   ]
  },
  {
   "cell_type": "code",
   "execution_count": 67,
   "id": "efd1f7ee",
   "metadata": {},
   "outputs": [
    {
     "data": {
      "text/html": [
       "<div>\n",
       "<style scoped>\n",
       "    .dataframe tbody tr th:only-of-type {\n",
       "        vertical-align: middle;\n",
       "    }\n",
       "\n",
       "    .dataframe tbody tr th {\n",
       "        vertical-align: top;\n",
       "    }\n",
       "\n",
       "    .dataframe thead th {\n",
       "        text-align: right;\n",
       "    }\n",
       "</style>\n",
       "<table border=\"1\" class=\"dataframe\">\n",
       "  <thead>\n",
       "    <tr style=\"text-align: right;\">\n",
       "      <th></th>\n",
       "      <th>importance</th>\n",
       "    </tr>\n",
       "  </thead>\n",
       "  <tbody>\n",
       "    <tr>\n",
       "      <th>Appartement</th>\n",
       "      <td>0.120957</td>\n",
       "    </tr>\n",
       "    <tr>\n",
       "      <th>surface_terrain</th>\n",
       "      <td>0.079767</td>\n",
       "    </tr>\n",
       "    <tr>\n",
       "      <th>Paris 18e Arrondissement</th>\n",
       "      <td>0.064667</td>\n",
       "    </tr>\n",
       "    <tr>\n",
       "      <th>Paris 17e Arrondissement</th>\n",
       "      <td>0.054522</td>\n",
       "    </tr>\n",
       "    <tr>\n",
       "      <th>nombre_pieces_principales</th>\n",
       "      <td>0.053854</td>\n",
       "    </tr>\n",
       "  </tbody>\n",
       "</table>\n",
       "</div>"
      ],
      "text/plain": [
       "                           importance\n",
       "Appartement                  0.120957\n",
       "surface_terrain              0.079767\n",
       "Paris 18e Arrondissement     0.064667\n",
       "Paris 17e Arrondissement     0.054522\n",
       "nombre_pieces_principales    0.053854"
      ]
     },
     "execution_count": 67,
     "metadata": {},
     "output_type": "execute_result"
    }
   ],
   "source": [
    "feature_importances.head(5)"
   ]
  },
  {
   "cell_type": "code",
   "execution_count": 68,
   "id": "61b783a7",
   "metadata": {},
   "outputs": [
    {
     "data": {
      "text/html": [
       "<div>\n",
       "<style scoped>\n",
       "    .dataframe tbody tr th:only-of-type {\n",
       "        vertical-align: middle;\n",
       "    }\n",
       "\n",
       "    .dataframe tbody tr th {\n",
       "        vertical-align: top;\n",
       "    }\n",
       "\n",
       "    .dataframe thead th {\n",
       "        text-align: right;\n",
       "    }\n",
       "</style>\n",
       "<table border=\"1\" class=\"dataframe\">\n",
       "  <thead>\n",
       "    <tr style=\"text-align: right;\">\n",
       "      <th></th>\n",
       "      <th>importance</th>\n",
       "    </tr>\n",
       "  </thead>\n",
       "  <tbody>\n",
       "    <tr>\n",
       "      <th>Paris 9e Arrondissement</th>\n",
       "      <td>0.003459</td>\n",
       "    </tr>\n",
       "    <tr>\n",
       "      <th>Paris 3e Arrondissement</th>\n",
       "      <td>0.003269</td>\n",
       "    </tr>\n",
       "    <tr>\n",
       "      <th>Marseille 1er Arrondissement</th>\n",
       "      <td>0.002394</td>\n",
       "    </tr>\n",
       "    <tr>\n",
       "      <th>Marseille 14e Arrondissement</th>\n",
       "      <td>0.001744</td>\n",
       "    </tr>\n",
       "    <tr>\n",
       "      <th>Marseille 16e Arrondissement</th>\n",
       "      <td>0.000000</td>\n",
       "    </tr>\n",
       "  </tbody>\n",
       "</table>\n",
       "</div>"
      ],
      "text/plain": [
       "                              importance\n",
       "Paris 9e Arrondissement         0.003459\n",
       "Paris 3e Arrondissement         0.003269\n",
       "Marseille 1er Arrondissement    0.002394\n",
       "Marseille 14e Arrondissement    0.001744\n",
       "Marseille 16e Arrondissement    0.000000"
      ]
     },
     "execution_count": 68,
     "metadata": {},
     "output_type": "execute_result"
    }
   ],
   "source": [
    "feature_importances.tail(5)"
   ]
  },
  {
   "cell_type": "markdown",
   "id": "4002e9b8",
   "metadata": {},
   "source": [
    "### Class"
   ]
  },
  {
   "cell_type": "code",
   "execution_count": 69,
   "id": "7bdaee29",
   "metadata": {},
   "outputs": [
    {
     "name": "stdout",
     "output_type": "stream",
     "text": [
      "**333***  XGBoost\n",
      "Fitting 3 folds for each of 2 candidates, totalling 6 fits\n",
      "Best Score: 0.23050623124868494\n",
      "Best Hyperparameters: {'min_child_weight': 7, 'max_depth': 4, 'learning_rate': 0.15, 'gamma': 0.0, 'colsample_bytree': 0.3}\n"
     ]
    },
    {
     "data": {
      "text/plain": [
       "{'Model': 'XGBoost', 'R2': 22.701508712594876, 'MAE': 0.2, 'RMSE': 64524432.45}"
      ]
     },
     "execution_count": 69,
     "metadata": {},
     "output_type": "execute_result"
    }
   ],
   "source": [
    "trainer = Trainer(df = data_v2, \n",
    "                                 col_list = cols_removd_target,\n",
    "                  target_var = \"prixmetre\" ,\n",
    "                scaler = StandardScaler(),\n",
    "                 model=\"XGBoost\",\n",
    "                 params_cv= params_cv_xgboost,\n",
    "                     randomsearch_dict = randomsearch_dict,\n",
    "               nsplits = 2, \n",
    "         scor = \"neg_mean_absolute_error\")\n",
    "\n",
    "trainer.execute()"
   ]
  },
  {
   "cell_type": "code",
   "execution_count": 70,
   "id": "596a65b0",
   "metadata": {},
   "outputs": [
    {
     "name": "stdout",
     "output_type": "stream",
     "text": [
      "**333***  XGBoost\n",
      "Fitting 3 folds for each of 2 candidates, totalling 6 fits\n"
     ]
    },
    {
     "data": {
      "text/html": [
       "<div>\n",
       "<style scoped>\n",
       "    .dataframe tbody tr th:only-of-type {\n",
       "        vertical-align: middle;\n",
       "    }\n",
       "\n",
       "    .dataframe tbody tr th {\n",
       "        vertical-align: top;\n",
       "    }\n",
       "\n",
       "    .dataframe thead th {\n",
       "        text-align: right;\n",
       "    }\n",
       "</style>\n",
       "<table border=\"1\" class=\"dataframe\">\n",
       "  <thead>\n",
       "    <tr style=\"text-align: right;\">\n",
       "      <th></th>\n",
       "      <th>importance</th>\n",
       "    </tr>\n",
       "  </thead>\n",
       "  <tbody>\n",
       "    <tr>\n",
       "      <th>Appartement</th>\n",
       "      <td>0.120957</td>\n",
       "    </tr>\n",
       "    <tr>\n",
       "      <th>surface_terrain</th>\n",
       "      <td>0.079767</td>\n",
       "    </tr>\n",
       "    <tr>\n",
       "      <th>Paris 18e Arrondissement</th>\n",
       "      <td>0.064667</td>\n",
       "    </tr>\n",
       "    <tr>\n",
       "      <th>Paris 17e Arrondissement</th>\n",
       "      <td>0.054522</td>\n",
       "    </tr>\n",
       "    <tr>\n",
       "      <th>nombre_pieces_principales</th>\n",
       "      <td>0.053854</td>\n",
       "    </tr>\n",
       "  </tbody>\n",
       "</table>\n",
       "</div>"
      ],
      "text/plain": [
       "                           importance\n",
       "Appartement                  0.120957\n",
       "surface_terrain              0.079767\n",
       "Paris 18e Arrondissement     0.064667\n",
       "Paris 17e Arrondissement     0.054522\n",
       "nombre_pieces_principales    0.053854"
      ]
     },
     "execution_count": 70,
     "metadata": {},
     "output_type": "execute_result"
    }
   ],
   "source": [
    "trainer.get_feature_importances().head(5)"
   ]
  },
  {
   "cell_type": "code",
   "execution_count": 71,
   "id": "66e23273",
   "metadata": {},
   "outputs": [
    {
     "name": "stdout",
     "output_type": "stream",
     "text": [
      "**333***  XGBoost\n",
      "Fitting 3 folds for each of 2 candidates, totalling 6 fits\n"
     ]
    },
    {
     "data": {
      "text/html": [
       "<div>\n",
       "<style scoped>\n",
       "    .dataframe tbody tr th:only-of-type {\n",
       "        vertical-align: middle;\n",
       "    }\n",
       "\n",
       "    .dataframe tbody tr th {\n",
       "        vertical-align: top;\n",
       "    }\n",
       "\n",
       "    .dataframe thead th {\n",
       "        text-align: right;\n",
       "    }\n",
       "</style>\n",
       "<table border=\"1\" class=\"dataframe\">\n",
       "  <thead>\n",
       "    <tr style=\"text-align: right;\">\n",
       "      <th></th>\n",
       "      <th>importance</th>\n",
       "    </tr>\n",
       "  </thead>\n",
       "  <tbody>\n",
       "    <tr>\n",
       "      <th>Paris 9e Arrondissement</th>\n",
       "      <td>0.003459</td>\n",
       "    </tr>\n",
       "    <tr>\n",
       "      <th>Paris 3e Arrondissement</th>\n",
       "      <td>0.003269</td>\n",
       "    </tr>\n",
       "    <tr>\n",
       "      <th>Marseille 1er Arrondissement</th>\n",
       "      <td>0.002394</td>\n",
       "    </tr>\n",
       "    <tr>\n",
       "      <th>Marseille 14e Arrondissement</th>\n",
       "      <td>0.001744</td>\n",
       "    </tr>\n",
       "    <tr>\n",
       "      <th>Marseille 16e Arrondissement</th>\n",
       "      <td>0.000000</td>\n",
       "    </tr>\n",
       "  </tbody>\n",
       "</table>\n",
       "</div>"
      ],
      "text/plain": [
       "                              importance\n",
       "Paris 9e Arrondissement         0.003459\n",
       "Paris 3e Arrondissement         0.003269\n",
       "Marseille 1er Arrondissement    0.002394\n",
       "Marseille 14e Arrondissement    0.001744\n",
       "Marseille 16e Arrondissement    0.000000"
      ]
     },
     "execution_count": 71,
     "metadata": {},
     "output_type": "execute_result"
    }
   ],
   "source": [
    "trainer.get_feature_importances_importances().tail(5)"
   ]
  },
  {
   "cell_type": "markdown",
   "id": "94294ec0",
   "metadata": {},
   "source": [
    "# Test import touchfinal.py"
   ]
  },
  {
   "cell_type": "code",
   "execution_count": 73,
   "id": "78d50b6d",
   "metadata": {},
   "outputs": [
    {
     "data": {
      "text/plain": [
       "'/Users/kenzaelhoussaini/code/Jehadel'"
      ]
     },
     "execution_count": 73,
     "metadata": {},
     "output_type": "execute_result"
    }
   ],
   "source": [
    "pwd"
   ]
  },
  {
   "cell_type": "code",
   "execution_count": 74,
   "id": "793f4328",
   "metadata": {},
   "outputs": [
    {
     "name": "stdout",
     "output_type": "stream",
     "text": [
      "/Users/kenzaelhoussaini\n"
     ]
    }
   ],
   "source": [
    "cd ../.."
   ]
  },
  {
   "cell_type": "code",
   "execution_count": 77,
   "id": "0bb4822f",
   "metadata": {},
   "outputs": [],
   "source": [
    "from reestimator.reestimator.trainerFinal import Trainer "
   ]
  },
  {
   "cell_type": "code",
   "execution_count": 78,
   "id": "bc701d95",
   "metadata": {},
   "outputs": [],
   "source": [
    "df_test = data_t4.copy() # to test the package "
   ]
  },
  {
   "cell_type": "code",
   "execution_count": 79,
   "id": "b955c4ad",
   "metadata": {},
   "outputs": [],
   "source": [
    "#df_new = data_t4.copy()\n",
    "cols = list(df_test.columns)\n",
    "\n",
    "columns_todrop = ['id_mutation', 'date_mutation',\n",
    "         'adresse_nom_voie', 'adresse_code_voie',\n",
    "  'code_commune', 'code_postal',\n",
    " 'code_departement',\n",
    " 'id_parcelle', 'valeur_fonciere', 'Paris 10e Arrondissement'\n",
    " ]\n",
    "\n",
    "\n",
    "for i in columns_todrop:\n",
    "    cols.remove(i)\n",
    "    \n",
    "cols_removd_target = cols[:]\n",
    "cols_removd_target.remove('prixmetre')\n",
    "\n",
    "data_v5 = df_test[cols]  ## Get Data\n",
    "\n",
    "\n",
    "reg = 2\n",
    "forest = 2\n",
    "xgboost = 2\n",
    "\n",
    "randomsearch_dict = {\"reg_iter\": reg,\n",
    "                  \"forest_iter\": forest,\n",
    "                   \"xgboost_iter\": xgboost} \n",
    "\n",
    "#Example of parameters for randomsearch for Ridge and Lasso models :**\n",
    "# LinearRegession() is equivalent to Lasso() with alpha = 0\n",
    "params_cv_reg = dict()\n",
    "params_cv_reg['alpha'] = list(range(3)) \n",
    "params_cv_reg['fit_intercept'] = [True, False]\n",
    "params_cv_reg['normalize'] = [False, True]"
   ]
  },
  {
   "cell_type": "code",
   "execution_count": 80,
   "id": "7a29c043",
   "metadata": {},
   "outputs": [
    {
     "name": "stdout",
     "output_type": "stream",
     "text": [
      "Best Score: -12679.058206306068\n",
      "Best Hyperparameters: {'normalize': False, 'fit_intercept': False, 'alpha': 0}\n"
     ]
    },
    {
     "data": {
      "text/plain": [
       "{'Model': 'Ridge', 'R2': -2467.08479046993, 'MAE': 1.08, 'RMSE': 2142857983.35}"
      ]
     },
     "execution_count": 80,
     "metadata": {},
     "output_type": "execute_result"
    }
   ],
   "source": [
    "trainer = Trainer(df = data_v5, \n",
    "                                 col_list = cols_removd_target,\n",
    "                  target_var = \"prixmetre\" ,\n",
    "                scaler = StandardScaler(),\n",
    "                 model=\"Ridge\",\n",
    "                 params_cv= params_cv_reg,\n",
    "                     randomsearch_dict = randomsearch_dict,\n",
    "               nsplits = 2, \n",
    "         scor = \"neg_mean_absolute_error\")\n",
    "\n",
    "trainer.execute()"
   ]
  },
  {
   "cell_type": "code",
   "execution_count": 81,
   "id": "7bd6cb3f",
   "metadata": {},
   "outputs": [],
   "source": [
    "#Example of parameters for randomsearch for Randomforest model :**\n",
    "n_estimators = [int(x) for x in np.linspace(start = 1, stop = 20, num = 3)] # number of trees \n",
    "                                                                                    #in the random forest\n",
    "max_features = ['auto', 'sqrt'] # number of features in consideration at every split\n",
    "max_depth = [int(x) for x in np.linspace(10, 120, num = 3)] # maximum number of levels\n",
    "                                                                        #allowed in each decision tree\n",
    "min_samples_split = [2, 6, 10] # minimum sample number to split a node\n",
    "min_samples_leaf = [1, 3, 4] # minimum sample number that can be stored in a leaf node\n",
    "bootstrap = [True, False] # method used to sample data points\n",
    "\n",
    "params_cv_forest = {'n_estimators': n_estimators,\n",
    "        'max_features': max_features,\n",
    "        'max_depth': max_depth,\n",
    "        'min_samples_split': min_samples_split,\n",
    "        'min_samples_leaf': min_samples_leaf,\n",
    "        'bootstrap': bootstrap}    "
   ]
  },
  {
   "cell_type": "code",
   "execution_count": 82,
   "id": "63539044",
   "metadata": {},
   "outputs": [
    {
     "name": "stdout",
     "output_type": "stream",
     "text": [
      "Fitting 5 folds for each of 2 candidates, totalling 10 fits\n",
      "Best Score: 0.040678388445020676\n",
      "Best Hyperparameters: {'n_estimators': 1, 'min_samples_split': 6, 'min_samples_leaf': 4, 'max_features': 'sqrt', 'max_depth': 65, 'bootstrap': True}\n"
     ]
    },
    {
     "data": {
      "text/plain": [
       "{'Model': 'RandomForest',\n",
       " 'R2': 4.251378665542093,\n",
       " 'MAE': 0.23,\n",
       " 'RMSE': 79925563.18}"
      ]
     },
     "execution_count": 82,
     "metadata": {},
     "output_type": "execute_result"
    },
    {
     "name": "stdout",
     "output_type": "stream",
     "text": [
      "[CV] END bootstrap=True, max_depth=65, max_features=sqrt, min_samples_leaf=4, min_samples_split=6, n_estimators=1; total time=   0.2s\n",
      "[CV] END bootstrap=True, max_depth=65, max_features=sqrt, min_samples_leaf=4, min_samples_split=6, n_estimators=1; total time=   0.2s\n",
      "[CV] END bootstrap=False, max_depth=120, max_features=auto, min_samples_leaf=1, min_samples_split=2, n_estimators=1; total time=   1.0s\n",
      "[CV] END bootstrap=True, max_depth=65, max_features=sqrt, min_samples_leaf=4, min_samples_split=6, n_estimators=1; total time=   0.2s\n",
      "[CV] END bootstrap=False, max_depth=120, max_features=auto, min_samples_leaf=1, min_samples_split=2, n_estimators=1; total time=   1.4s\n",
      "[CV] END bootstrap=False, max_depth=120, max_features=auto, min_samples_leaf=1, min_samples_split=2, n_estimators=1; total time=   0.6s\n",
      "[CV] END bootstrap=True, max_depth=65, max_features=sqrt, min_samples_leaf=4, min_samples_split=6, n_estimators=1; total time=   0.2s\n",
      "[CV] END bootstrap=False, max_depth=120, max_features=auto, min_samples_leaf=1, min_samples_split=2, n_estimators=1; total time=   1.1s\n",
      "[CV] END bootstrap=True, max_depth=65, max_features=sqrt, min_samples_leaf=4, min_samples_split=6, n_estimators=1; total time=   0.3s\n",
      "[CV] END bootstrap=True, max_depth=65, max_features=sqrt, min_samples_leaf=4, min_samples_split=6, n_estimators=1; total time=   0.2s\n",
      "[CV] END bootstrap=False, max_depth=120, max_features=auto, min_samples_leaf=1, min_samples_split=2, n_estimators=1; total time=   1.0s\n",
      "[CV] END bootstrap=True, max_depth=65, max_features=sqrt, min_samples_leaf=4, min_samples_split=6, n_estimators=1; total time=   0.2s\n",
      "[CV] END bootstrap=False, max_depth=120, max_features=auto, min_samples_leaf=1, min_samples_split=2, n_estimators=1; total time=   1.3s\n",
      "[CV] END colsample_bytree=0.3, gamma=0.2, learning_rate=0.15, max_depth=6, min_child_weight=1; total time=  41.9s\n",
      "[CV] END colsample_bytree=0.3, gamma=0.2, learning_rate=0.15, max_depth=6, min_child_weight=1; total time=  43.9s\n",
      "[CV] END colsample_bytree=0.3, gamma=0.2, learning_rate=0.15, max_depth=6, min_child_weight=1; total time=  57.5s\n",
      "[CV] END colsample_bytree=0.3, gamma=0.2, learning_rate=0.15, max_depth=6, min_child_weight=1; total time=  53.8s\n",
      "[CV] END colsample_bytree=0.3, gamma=0.2, learning_rate=0.15, max_depth=6, min_child_weight=1; total time= 1.1min\n",
      "[CV] END bootstrap=True, max_depth=65, max_features=sqrt, min_samples_leaf=4, min_samples_split=6, n_estimators=1; total time=   0.2s\n",
      "[CV] END bootstrap=False, max_depth=120, max_features=auto, min_samples_leaf=1, min_samples_split=2, n_estimators=1; total time=   1.1s\n",
      "[CV] END bootstrap=True, max_depth=65, max_features=sqrt, min_samples_leaf=4, min_samples_split=6, n_estimators=1; total time=   0.2s\n",
      "[CV] END bootstrap=False, max_depth=120, max_features=auto, min_samples_leaf=1, min_samples_split=2, n_estimators=1; total time=   1.2s\n",
      "[CV] END bootstrap=True, max_depth=65, max_features=sqrt, min_samples_leaf=4, min_samples_split=6, n_estimators=1; total time=   0.2s\n",
      "[CV] END bootstrap=True, max_depth=65, max_features=sqrt, min_samples_leaf=4, min_samples_split=6, n_estimators=1; total time=   0.2s\n",
      "[CV] END bootstrap=False, max_depth=120, max_features=auto, min_samples_leaf=1, min_samples_split=2, n_estimators=1; total time=   1.4s\n",
      "[CV] END bootstrap=True, max_depth=65, max_features=sqrt, min_samples_leaf=4, min_samples_split=6, n_estimators=1; total time=   0.2s\n",
      "[CV] END bootstrap=False, max_depth=120, max_features=auto, min_samples_leaf=1, min_samples_split=2, n_estimators=1; total time=   1.0s\n",
      "[CV] END bootstrap=False, max_depth=120, max_features=auto, min_samples_leaf=1, min_samples_split=2, n_estimators=1; total time=   0.6s\n",
      "[CV] END bootstrap=True, max_depth=65, max_features=sqrt, min_samples_leaf=4, min_samples_split=6, n_estimators=1; total time=   0.2s\n",
      "[CV] END bootstrap=False, max_depth=120, max_features=auto, min_samples_leaf=1, min_samples_split=2, n_estimators=1; total time=   1.1s\n",
      "[CV] END bootstrap=True, max_depth=65, max_features=sqrt, min_samples_leaf=4, min_samples_split=6, n_estimators=1; total time=   0.3s\n",
      "[CV] END bootstrap=False, max_depth=120, max_features=auto, min_samples_leaf=1, min_samples_split=2, n_estimators=1; total time=   1.3s\n",
      "[CV] END bootstrap=False, max_depth=120, max_features=auto, min_samples_leaf=1, min_samples_split=2, n_estimators=1; total time=   0.7s\n",
      "[CV] END colsample_bytree=0.3, gamma=0.0, learning_rate=0.15, max_depth=4, min_child_weight=7; total time=  27.3s\n",
      "[CV] END colsample_bytree=0.3, gamma=0.0, learning_rate=0.15, max_depth=4, min_child_weight=7; total time=  23.0s\n",
      "[CV] END colsample_bytree=0.3, gamma=0.2, learning_rate=0.15, max_depth=6, min_child_weight=1; total time=  43.9s\n",
      "[CV] END colsample_bytree=0.3, gamma=0.2, learning_rate=0.15, max_depth=6, min_child_weight=1; total time=  57.4s\n",
      "[CV] END colsample_bytree=0.3, gamma=0.0, learning_rate=0.15, max_depth=4, min_child_weight=7; total time=  13.0s\n",
      "[CV] END colsample_bytree=0.3, gamma=0.0, learning_rate=0.15, max_depth=4, min_child_weight=7; total time=  36.2s\n",
      "[CV] END colsample_bytree=0.3, gamma=0.0, learning_rate=0.15, max_depth=4, min_child_weight=7; total time=  27.5s\n",
      "[CV] END colsample_bytree=0.3, gamma=0.2, learning_rate=0.15, max_depth=6, min_child_weight=1; total time= 1.1min\n",
      "[CV] END colsample_bytree=0.3, gamma=0.0, learning_rate=0.15, max_depth=4, min_child_weight=7; total time=  17.2s\n",
      "[CV] END bootstrap=True, max_depth=65, max_features=sqrt, min_samples_leaf=4, min_samples_split=6, n_estimators=1; total time=   0.2s\n",
      "[CV] END bootstrap=False, max_depth=120, max_features=auto, min_samples_leaf=1, min_samples_split=2, n_estimators=1; total time=   1.0s\n",
      "[CV] END bootstrap=True, max_depth=65, max_features=sqrt, min_samples_leaf=4, min_samples_split=6, n_estimators=1; total time=   0.2s\n",
      "[CV] END bootstrap=False, max_depth=120, max_features=auto, min_samples_leaf=1, min_samples_split=2, n_estimators=1; total time=   1.1s\n",
      "[CV] END bootstrap=False, max_depth=120, max_features=auto, min_samples_leaf=1, min_samples_split=2, n_estimators=1; total time=   0.5s\n",
      "[CV] END bootstrap=True, max_depth=65, max_features=sqrt, min_samples_leaf=4, min_samples_split=6, n_estimators=1; total time=   0.2s\n",
      "[CV] END bootstrap=False, max_depth=120, max_features=auto, min_samples_leaf=1, min_samples_split=2, n_estimators=1; total time=   1.5s\n",
      "[CV] END bootstrap=True, max_depth=65, max_features=sqrt, min_samples_leaf=4, min_samples_split=6, n_estimators=1; total time=   0.2s\n",
      "[CV] END bootstrap=True, max_depth=65, max_features=sqrt, min_samples_leaf=4, min_samples_split=6, n_estimators=1; total time=   0.2s\n",
      "[CV] END bootstrap=False, max_depth=120, max_features=auto, min_samples_leaf=1, min_samples_split=2, n_estimators=1; total time=   0.9s\n",
      "[CV] END bootstrap=True, max_depth=65, max_features=sqrt, min_samples_leaf=4, min_samples_split=6, n_estimators=1; total time=   0.2s\n",
      "[CV] END bootstrap=False, max_depth=120, max_features=auto, min_samples_leaf=1, min_samples_split=2, n_estimators=1; total time=   1.1s\n",
      "[CV] END bootstrap=True, max_depth=65, max_features=sqrt, min_samples_leaf=4, min_samples_split=6, n_estimators=1; total time=   0.2s\n",
      "[CV] END bootstrap=True, max_depth=65, max_features=sqrt, min_samples_leaf=4, min_samples_split=6, n_estimators=1; total time=   0.3s\n",
      "[CV] END bootstrap=False, max_depth=120, max_features=auto, min_samples_leaf=1, min_samples_split=2, n_estimators=1; total time=   1.2s\n",
      "[CV] END colsample_bytree=0.3, gamma=0.2, learning_rate=0.15, max_depth=6, min_child_weight=1; total time=  41.8s\n",
      "[CV] END colsample_bytree=0.3, gamma=0.0, learning_rate=0.15, max_depth=4, min_child_weight=7; total time=  13.0s\n",
      "[CV] END colsample_bytree=0.3, gamma=0.0, learning_rate=0.15, max_depth=4, min_child_weight=7; total time=  28.7s\n",
      "[CV] END colsample_bytree=0.3, gamma=0.0, learning_rate=0.15, max_depth=4, min_child_weight=7; total time=  23.2s\n",
      "[CV] END colsample_bytree=0.3, gamma=0.0, learning_rate=0.15, max_depth=4, min_child_weight=7; total time=  36.6s\n",
      "[CV] END colsample_bytree=0.3, gamma=0.0, learning_rate=0.15, max_depth=4, min_child_weight=7; total time=  29.1s\n",
      "[CV] END colsample_bytree=0.3, gamma=0.2, learning_rate=0.15, max_depth=6, min_child_weight=1; total time=  53.7s\n",
      "[CV] END colsample_bytree=0.3, gamma=0.0, learning_rate=0.15, max_depth=4, min_child_weight=7; total time=  17.5s\n",
      "[CV] END colsample_bytree=0.3, gamma=0.2, learning_rate=0.15, max_depth=6, min_child_weight=1; total time= 1.1min\n",
      "[CV] END bootstrap=True, max_depth=65, max_features=sqrt, min_samples_leaf=4, min_samples_split=6, n_estimators=1; total time=   0.2s\n",
      "[CV] END bootstrap=True, max_depth=65, max_features=sqrt, min_samples_leaf=4, min_samples_split=6, n_estimators=1; total time=   0.2s\n",
      "[CV] END bootstrap=False, max_depth=120, max_features=auto, min_samples_leaf=1, min_samples_split=2, n_estimators=1; total time=   1.0s\n",
      "[CV] END bootstrap=True, max_depth=65, max_features=sqrt, min_samples_leaf=4, min_samples_split=6, n_estimators=1; total time=   0.3s\n",
      "[CV] END bootstrap=False, max_depth=120, max_features=auto, min_samples_leaf=1, min_samples_split=2, n_estimators=1; total time=   1.1s\n",
      "[CV] END bootstrap=True, max_depth=65, max_features=sqrt, min_samples_leaf=4, min_samples_split=6, n_estimators=1; total time=   0.2s\n",
      "[CV] END bootstrap=False, max_depth=120, max_features=auto, min_samples_leaf=1, min_samples_split=2, n_estimators=1; total time=   1.5s\n",
      "[CV] END bootstrap=True, max_depth=65, max_features=sqrt, min_samples_leaf=4, min_samples_split=6, n_estimators=1; total time=   0.2s\n",
      "[CV] END bootstrap=False, max_depth=120, max_features=auto, min_samples_leaf=1, min_samples_split=2, n_estimators=1; total time=   1.0s\n",
      "[CV] END bootstrap=True, max_depth=65, max_features=sqrt, min_samples_leaf=4, min_samples_split=6, n_estimators=1; total time=   0.2s\n",
      "[CV] END bootstrap=False, max_depth=120, max_features=auto, min_samples_leaf=1, min_samples_split=2, n_estimators=1; total time=   1.0s\n",
      "[CV] END bootstrap=False, max_depth=120, max_features=auto, min_samples_leaf=1, min_samples_split=2, n_estimators=1; total time=   0.6s\n",
      "[CV] END bootstrap=True, max_depth=65, max_features=sqrt, min_samples_leaf=4, min_samples_split=6, n_estimators=1; total time=   0.4s\n",
      "[CV] END bootstrap=False, max_depth=120, max_features=auto, min_samples_leaf=1, min_samples_split=2, n_estimators=1; total time=   1.2s\n",
      "[CV] END colsample_bytree=0.3, gamma=0.2, learning_rate=0.15, max_depth=6, min_child_weight=1; total time=  42.0s\n",
      "[CV] END colsample_bytree=0.3, gamma=0.2, learning_rate=0.15, max_depth=6, min_child_weight=1; total time=  43.8s\n",
      "[CV] END colsample_bytree=0.3, gamma=0.0, learning_rate=0.15, max_depth=4, min_child_weight=7; total time=  12.2s\n",
      "[CV] END colsample_bytree=0.3, gamma=0.2, learning_rate=0.15, max_depth=6, min_child_weight=1; total time=  57.5s\n",
      "[CV] END colsample_bytree=0.3, gamma=0.2, learning_rate=0.15, max_depth=6, min_child_weight=1; total time=  53.8s\n",
      "[CV] END colsample_bytree=0.3, gamma=0.0, learning_rate=0.15, max_depth=4, min_child_weight=7; total time=  41.5s\n",
      "[CV] END colsample_bytree=0.3, gamma=0.0, learning_rate=0.15, max_depth=4, min_child_weight=7; total time=  34.6s\n",
      "[CV] END bootstrap=True, max_depth=65, max_features=sqrt, min_samples_leaf=4, min_samples_split=6, n_estimators=1; total time=   0.2s\n",
      "[CV] END bootstrap=False, max_depth=120, max_features=auto, min_samples_leaf=1, min_samples_split=2, n_estimators=1; total time=   1.1s\n",
      "[CV] END bootstrap=False, max_depth=120, max_features=auto, min_samples_leaf=1, min_samples_split=2, n_estimators=1; total time=   0.5s\n"
     ]
    }
   ],
   "source": [
    "trainer = Trainer(df = data_v5, \n",
    "                                 col_list = cols_removd_target,\n",
    "                  target_var = \"prixmetre\" ,\n",
    "                scaler = StandardScaler(),\n",
    "                 model=\"RandomForest\",\n",
    "                 params_cv= params_cv_forest,\n",
    "                     randomsearch_dict = randomsearch_dict,\n",
    "               nsplits = 2, \n",
    "         scor = \"neg_mean_absolute_error\")\n",
    "\n",
    "trainer.execute()"
   ]
  },
  {
   "cell_type": "code",
   "execution_count": null,
   "id": "fee332f2",
   "metadata": {},
   "outputs": [],
   "source": []
  }
 ],
 "metadata": {
  "kernelspec": {
   "display_name": "Python 3 (ipykernel)",
   "language": "python",
   "name": "python3"
  },
  "language_info": {
   "codemirror_mode": {
    "name": "ipython",
    "version": 3
   },
   "file_extension": ".py",
   "mimetype": "text/x-python",
   "name": "python",
   "nbconvert_exporter": "python",
   "pygments_lexer": "ipython3",
   "version": "3.8.6"
  },
  "toc": {
   "base_numbering": 1,
   "nav_menu": {},
   "number_sections": true,
   "sideBar": true,
   "skip_h1_title": false,
   "title_cell": "Table of Contents",
   "title_sidebar": "Contents",
   "toc_cell": false,
   "toc_position": {
    "height": "calc(100% - 180px)",
    "left": "10px",
    "top": "150px",
    "width": "320px"
   },
   "toc_section_display": true,
   "toc_window_display": true
  }
 },
 "nbformat": 4,
 "nbformat_minor": 5
}
