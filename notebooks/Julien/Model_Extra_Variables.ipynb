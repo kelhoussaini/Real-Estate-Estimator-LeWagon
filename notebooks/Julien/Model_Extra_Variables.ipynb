{
 "cells": [
  {
   "cell_type": "markdown",
   "id": "4fb2f309",
   "metadata": {},
   "source": [
    "# First Draft For Descriptive Statistics of the Dataset"
   ]
  },
  {
   "cell_type": "markdown",
   "id": "036e028f",
   "metadata": {},
   "source": [
    "## Some basic Data import"
   ]
  },
  {
   "cell_type": "code",
   "execution_count": 1,
   "id": "e01e0f9b",
   "metadata": {},
   "outputs": [],
   "source": [
    "#Importing our Packages: Analytics\n",
    "import pandas as pd\n",
    "import numpy as np\n",
    "\n",
    "#Viz libaries\n",
    "import matplotlib.pyplot as plt\n",
    "import seaborn as sns\n",
    "import plotly as ply\n",
    "\n",
    "#Data_libraries\n",
    "import pymysql\n",
    "import sqlalchemy\n",
    "\n",
    "\n",
    "#Sklearn libraries\n",
    "from sklearn.decomposition import PCA\n",
    "from sklearn.preprocessing import StandardScaler\n",
    "from sklearn.model_selection import train_test_split\n",
    "from sklearn.linear_model import LinearRegression , Ridge , Lasso\n",
    "\n",
    "#Scoring libraries\n",
    "from sklearn.metrics import mean_absolute_percentage_error as mape\n",
    "from sklearn.metrics import mean_squared_error as rmse\n",
    "from sklearn.metrics import r2_score"
   ]
  },
  {
   "cell_type": "code",
   "execution_count": 2,
   "id": "181f9d75",
   "metadata": {},
   "outputs": [],
   "source": [
    "#Create String for data creation\n",
    "querystring = \"\"\"SELECT dwu.code_commune AS code,\n",
    "dwu.type_local AS type,  \n",
    "year(dwu.date_mutation) AS 'Year', \n",
    "dwu.nom_commune AS commune,\n",
    "dwu.code_postal AS Code_post,\n",
    "ROUND(AVG(dwu.valeur_fonciere/dwu.surface_reelle_bati),0) AS Prixm2,\n",
    "ROUND(AVG(dwu.valeur_fonciere),0) AS Price,\n",
    "ROUND(AVG(dwu.surface_reelle_bati),0) AS Avg_sqm,\n",
    "COUNT(dwu.id_mutation) AS transactions,\n",
    "MAX(dwu.latitude) AS lat,\n",
    "MAX(dwu.longitude) AS lon\n",
    "FROM data_working_update dwu\n",
    "WHERE dwu.type_local IN('Appartement', 'Maison')\n",
    "GROUP BY code_commune, nom_commune,dwu.code_postal, dwu.type_local, year(dwu.date_mutation);\n",
    "\"\"\""
   ]
  },
  {
   "cell_type": "code",
   "execution_count": 3,
   "id": "bcc8a680",
   "metadata": {},
   "outputs": [],
   "source": [
    "#Load Libraries and Create engine Connection\n",
    "\n",
    "engine =sqlalchemy.create_engine(\n",
    "        sqlalchemy.engine.url.URL.create(\n",
    "        drivername=\"mysql+pymysql\",\n",
    "        username='Estimators',  # e.g. \"my-database-user\"\n",
    "        password='Estimator2021',  # e.g. \"my-database-password\"\n",
    "        host='34.77.88.127',  # e.g. \"127.0.0.1\"\n",
    "        port=3306,  # e.g. 3306\n",
    "        database='Housing_France',  # e.g. \"my-database-name\"\n",
    "    ))\n",
    "\n",
    "conn = engine.connect().execution_options(stream_results=True)    \n",
    "\n",
    "def get_data(querystring,chunk):\n",
    "    engine =sqlalchemy.create_engine(\n",
    "    sqlalchemy.engine.url.URL.create(\n",
    "    drivername=\"mysql+pymysql\",\n",
    "    username='Estimators',  # e.g. \"my-database-user\"\n",
    "    password='Estimator2021',  # e.g. \"my-database-password\"\n",
    "    host='34.77.88.127',  # e.g. \"127.0.0.1\"\n",
    "    port=3306,  # e.g. 3306\n",
    "    database='Housing_France',  # e.g. \"my-database-name\"\n",
    "    ))\n",
    "    conn = engine.connect().execution_options(stream_results=True)\n",
    "    frame = pd.DataFrame()\n",
    "    for chunk_dataframe in pd.read_sql(\n",
    "            querystring, conn, chunksize=chunk):\n",
    "            #print(f\"Got dataframe w/{len(chunk_dataframe)} rows\")\n",
    "            frame= frame.append(chunk_dataframe)\n",
    "\n",
    "            # ... do something with dataframe ...\n",
    "            \n",
    "    return frame"
   ]
  },
  {
   "cell_type": "code",
   "execution_count": 4,
   "id": "571d2f62",
   "metadata": {
    "scrolled": false
   },
   "outputs": [
    {
     "data": {
      "text/html": [
       "<div>\n",
       "<style scoped>\n",
       "    .dataframe tbody tr th:only-of-type {\n",
       "        vertical-align: middle;\n",
       "    }\n",
       "\n",
       "    .dataframe tbody tr th {\n",
       "        vertical-align: top;\n",
       "    }\n",
       "\n",
       "    .dataframe thead th {\n",
       "        text-align: right;\n",
       "    }\n",
       "</style>\n",
       "<table border=\"1\" class=\"dataframe\">\n",
       "  <thead>\n",
       "    <tr style=\"text-align: right;\">\n",
       "      <th></th>\n",
       "      <th>code</th>\n",
       "      <th>Year</th>\n",
       "      <th>Code_post</th>\n",
       "      <th>Prixm2</th>\n",
       "      <th>Price</th>\n",
       "      <th>Avg_sqm</th>\n",
       "      <th>transactions</th>\n",
       "      <th>lat</th>\n",
       "      <th>lon</th>\n",
       "    </tr>\n",
       "  </thead>\n",
       "  <tbody>\n",
       "    <tr>\n",
       "      <th>code</th>\n",
       "      <td>1.000000</td>\n",
       "      <td>0.011524</td>\n",
       "      <td>0.995112</td>\n",
       "      <td>0.075484</td>\n",
       "      <td>0.084333</td>\n",
       "      <td>-0.002490</td>\n",
       "      <td>0.058096</td>\n",
       "      <td>0.059599</td>\n",
       "      <td>-0.054278</td>\n",
       "    </tr>\n",
       "    <tr>\n",
       "      <th>Year</th>\n",
       "      <td>0.011524</td>\n",
       "      <td>1.000000</td>\n",
       "      <td>0.010642</td>\n",
       "      <td>0.020478</td>\n",
       "      <td>0.034592</td>\n",
       "      <td>0.013901</td>\n",
       "      <td>-0.000144</td>\n",
       "      <td>0.023972</td>\n",
       "      <td>-0.004505</td>\n",
       "    </tr>\n",
       "    <tr>\n",
       "      <th>Code_post</th>\n",
       "      <td>0.995112</td>\n",
       "      <td>0.010642</td>\n",
       "      <td>1.000000</td>\n",
       "      <td>0.077504</td>\n",
       "      <td>0.085938</td>\n",
       "      <td>-0.007534</td>\n",
       "      <td>0.057543</td>\n",
       "      <td>0.057124</td>\n",
       "      <td>-0.045134</td>\n",
       "    </tr>\n",
       "    <tr>\n",
       "      <th>Prixm2</th>\n",
       "      <td>0.075484</td>\n",
       "      <td>0.020478</td>\n",
       "      <td>0.077504</td>\n",
       "      <td>1.000000</td>\n",
       "      <td>0.795801</td>\n",
       "      <td>-0.189001</td>\n",
       "      <td>0.191009</td>\n",
       "      <td>-0.036689</td>\n",
       "      <td>0.031881</td>\n",
       "    </tr>\n",
       "    <tr>\n",
       "      <th>Price</th>\n",
       "      <td>0.084333</td>\n",
       "      <td>0.034592</td>\n",
       "      <td>0.085938</td>\n",
       "      <td>0.795801</td>\n",
       "      <td>1.000000</td>\n",
       "      <td>0.177759</td>\n",
       "      <td>0.145737</td>\n",
       "      <td>-0.031405</td>\n",
       "      <td>0.046748</td>\n",
       "    </tr>\n",
       "    <tr>\n",
       "      <th>Avg_sqm</th>\n",
       "      <td>-0.002490</td>\n",
       "      <td>0.013901</td>\n",
       "      <td>-0.007534</td>\n",
       "      <td>-0.189001</td>\n",
       "      <td>0.177759</td>\n",
       "      <td>1.000000</td>\n",
       "      <td>-0.100783</td>\n",
       "      <td>0.019598</td>\n",
       "      <td>-0.007236</td>\n",
       "    </tr>\n",
       "    <tr>\n",
       "      <th>transactions</th>\n",
       "      <td>0.058096</td>\n",
       "      <td>-0.000144</td>\n",
       "      <td>0.057543</td>\n",
       "      <td>0.191009</td>\n",
       "      <td>0.145737</td>\n",
       "      <td>-0.100783</td>\n",
       "      <td>1.000000</td>\n",
       "      <td>0.010670</td>\n",
       "      <td>0.000027</td>\n",
       "    </tr>\n",
       "    <tr>\n",
       "      <th>lat</th>\n",
       "      <td>0.059599</td>\n",
       "      <td>0.023972</td>\n",
       "      <td>0.057124</td>\n",
       "      <td>-0.036689</td>\n",
       "      <td>-0.031405</td>\n",
       "      <td>0.019598</td>\n",
       "      <td>0.010670</td>\n",
       "      <td>1.000000</td>\n",
       "      <td>0.032731</td>\n",
       "    </tr>\n",
       "    <tr>\n",
       "      <th>lon</th>\n",
       "      <td>-0.054278</td>\n",
       "      <td>-0.004505</td>\n",
       "      <td>-0.045134</td>\n",
       "      <td>0.031881</td>\n",
       "      <td>0.046748</td>\n",
       "      <td>-0.007236</td>\n",
       "      <td>0.000027</td>\n",
       "      <td>0.032731</td>\n",
       "      <td>1.000000</td>\n",
       "    </tr>\n",
       "  </tbody>\n",
       "</table>\n",
       "</div>"
      ],
      "text/plain": [
       "                  code      Year  Code_post    Prixm2     Price   Avg_sqm  \\\n",
       "code          1.000000  0.011524   0.995112  0.075484  0.084333 -0.002490   \n",
       "Year          0.011524  1.000000   0.010642  0.020478  0.034592  0.013901   \n",
       "Code_post     0.995112  0.010642   1.000000  0.077504  0.085938 -0.007534   \n",
       "Prixm2        0.075484  0.020478   0.077504  1.000000  0.795801 -0.189001   \n",
       "Price         0.084333  0.034592   0.085938  0.795801  1.000000  0.177759   \n",
       "Avg_sqm      -0.002490  0.013901  -0.007534 -0.189001  0.177759  1.000000   \n",
       "transactions  0.058096 -0.000144   0.057543  0.191009  0.145737 -0.100783   \n",
       "lat           0.059599  0.023972   0.057124 -0.036689 -0.031405  0.019598   \n",
       "lon          -0.054278 -0.004505  -0.045134  0.031881  0.046748 -0.007236   \n",
       "\n",
       "              transactions       lat       lon  \n",
       "code              0.058096  0.059599 -0.054278  \n",
       "Year             -0.000144  0.023972 -0.004505  \n",
       "Code_post         0.057543  0.057124 -0.045134  \n",
       "Prixm2            0.191009 -0.036689  0.031881  \n",
       "Price             0.145737 -0.031405  0.046748  \n",
       "Avg_sqm          -0.100783  0.019598 -0.007236  \n",
       "transactions      1.000000  0.010670  0.000027  \n",
       "lat               0.010670  1.000000  0.032731  \n",
       "lon               0.000027  0.032731  1.000000  "
      ]
     },
     "execution_count": 4,
     "metadata": {},
     "output_type": "execute_result"
    },
    {
     "data": {
      "image/png": "[encoded data removed]",
      "text/plain": [
       "<Figure size 432x288 with 2 Axes>"
      ]
     },
     "metadata": {
      "needs_background": "light"
     },
     "output_type": "display_data"
    }
   ],
   "source": [
    "#Get data from Mysql on Gcloud\n",
    "df = get_data(querystring, 100000)\n",
    "df.head(10)\n",
    "\n",
    "#Get the correlations\n",
    "corr =df.corr()\n",
    "\n",
    "# plot the heatmap\n",
    "sns.heatmap(corr, \n",
    "        xticklabels=corr.columns,\n",
    "        yticklabels=corr.columns)\n",
    "corr"
   ]
  },
  {
   "cell_type": "markdown",
   "id": "b46ab64c",
   "metadata": {},
   "source": [
    "## Basic Filtering of data to remove outliers"
   ]
  },
  {
   "cell_type": "code",
   "execution_count": 5,
   "id": "22a11c95",
   "metadata": {
    "scrolled": true
   },
   "outputs": [
    {
     "name": "stderr",
     "output_type": "stream",
     "text": [
      "/home/julienlefebvre/.pyenv/versions/3.8.6/envs/Housing/lib/python3.8/site-packages/pandas/core/generic.py:5516: SettingWithCopyWarning: \n",
      "A value is trying to be set on a copy of a slice from a DataFrame.\n",
      "Try using .loc[row_indexer,col_indexer] = value instead\n",
      "\n",
      "See the caveats in the documentation: https://pandas.pydata.org/pandas-docs/stable/user_guide/indexing.html#returning-a-view-versus-a-copy\n",
      "  self[name] = value\n"
     ]
    },
    {
     "data": {
      "text/html": [
       "<div>\n",
       "<style scoped>\n",
       "    .dataframe tbody tr th:only-of-type {\n",
       "        vertical-align: middle;\n",
       "    }\n",
       "\n",
       "    .dataframe tbody tr th {\n",
       "        vertical-align: top;\n",
       "    }\n",
       "\n",
       "    .dataframe thead th {\n",
       "        text-align: right;\n",
       "    }\n",
       "</style>\n",
       "<table border=\"1\" class=\"dataframe\">\n",
       "  <thead>\n",
       "    <tr style=\"text-align: right;\">\n",
       "      <th></th>\n",
       "      <th>code</th>\n",
       "      <th>type</th>\n",
       "      <th>Year</th>\n",
       "      <th>commune</th>\n",
       "      <th>Code_post</th>\n",
       "      <th>Prixm2</th>\n",
       "      <th>Price</th>\n",
       "      <th>Avg_sqm</th>\n",
       "      <th>transactions</th>\n",
       "      <th>lat</th>\n",
       "      <th>lon</th>\n",
       "    </tr>\n",
       "  </thead>\n",
       "  <tbody>\n",
       "    <tr>\n",
       "      <th>0</th>\n",
       "      <td>1370</td>\n",
       "      <td>Appartement</td>\n",
       "      <td>2016</td>\n",
       "      <td>Saint-Laurent-sur-Saône</td>\n",
       "      <td>1750</td>\n",
       "      <td>7.478735</td>\n",
       "      <td>11.465802</td>\n",
       "      <td>63.0</td>\n",
       "      <td>37</td>\n",
       "      <td>46.309896</td>\n",
       "      <td>4.843260</td>\n",
       "    </tr>\n",
       "    <tr>\n",
       "      <th>1</th>\n",
       "      <td>1364</td>\n",
       "      <td>Maison</td>\n",
       "      <td>2016</td>\n",
       "      <td>Saint-Jean-sur-Reyssouze</td>\n",
       "      <td>1560</td>\n",
       "      <td>7.148346</td>\n",
       "      <td>11.856260</td>\n",
       "      <td>118.0</td>\n",
       "      <td>18</td>\n",
       "      <td>46.422331</td>\n",
       "      <td>5.086478</td>\n",
       "    </tr>\n",
       "    <tr>\n",
       "      <th>2</th>\n",
       "      <td>1050</td>\n",
       "      <td>Maison</td>\n",
       "      <td>2016</td>\n",
       "      <td>Boissey</td>\n",
       "      <td>1190</td>\n",
       "      <td>7.639642</td>\n",
       "      <td>12.224404</td>\n",
       "      <td>98.0</td>\n",
       "      <td>2</td>\n",
       "      <td>46.383446</td>\n",
       "      <td>4.996678</td>\n",
       "    </tr>\n",
       "    <tr>\n",
       "      <th>3</th>\n",
       "      <td>1024</td>\n",
       "      <td>Maison</td>\n",
       "      <td>2016</td>\n",
       "      <td>Attignat</td>\n",
       "      <td>1340</td>\n",
       "      <td>7.428333</td>\n",
       "      <td>12.164917</td>\n",
       "      <td>119.0</td>\n",
       "      <td>50</td>\n",
       "      <td>46.296672</td>\n",
       "      <td>5.195046</td>\n",
       "    </tr>\n",
       "    <tr>\n",
       "      <th>4</th>\n",
       "      <td>1130</td>\n",
       "      <td>Maison</td>\n",
       "      <td>2016</td>\n",
       "      <td>Bresse Vallons</td>\n",
       "      <td>1340</td>\n",
       "      <td>7.502186</td>\n",
       "      <td>12.176999</td>\n",
       "      <td>112.0</td>\n",
       "      <td>33</td>\n",
       "      <td>46.335343</td>\n",
       "      <td>5.216090</td>\n",
       "    </tr>\n",
       "  </tbody>\n",
       "</table>\n",
       "</div>"
      ],
      "text/plain": [
       "   code         type  Year                   commune  Code_post    Prixm2  \\\n",
       "0  1370  Appartement  2016   Saint-Laurent-sur-Saône       1750  7.478735   \n",
       "1  1364       Maison  2016  Saint-Jean-sur-Reyssouze       1560  7.148346   \n",
       "2  1050       Maison  2016                   Boissey       1190  7.639642   \n",
       "3  1024       Maison  2016                  Attignat       1340  7.428333   \n",
       "4  1130       Maison  2016            Bresse Vallons       1340  7.502186   \n",
       "\n",
       "       Price  Avg_sqm  transactions        lat       lon  \n",
       "0  11.465802     63.0            37  46.309896  4.843260  \n",
       "1  11.856260    118.0            18  46.422331  5.086478  \n",
       "2  12.224404     98.0             2  46.383446  4.996678  \n",
       "3  12.164917    119.0            50  46.296672  5.195046  \n",
       "4  12.176999    112.0            33  46.335343  5.216090  "
      ]
     },
     "execution_count": 5,
     "metadata": {},
     "output_type": "execute_result"
    }
   ],
   "source": [
    "df2 = df[df.Prixm2.between(500,10000)]\n",
    "df2.Prixm2 = np.log(df2.Prixm2)\n",
    "df2.Price = np.log(df2.Price)\n",
    "df2.head(5)"
   ]
  },
  {
   "cell_type": "markdown",
   "id": "f667ae09",
   "metadata": {},
   "source": [
    "## Initial Visualizations and Description\n"
   ]
  },
  {
   "cell_type": "code",
   "execution_count": 6,
   "id": "513b5e54",
   "metadata": {},
   "outputs": [
    {
     "data": {
      "text/plain": [
       "<AxesSubplot:xlabel='Prixm2', ylabel='Count'>"
      ]
     },
     "execution_count": 6,
     "metadata": {},
     "output_type": "execute_result"
    },
    {
     "data": {
      "image/png": "[encoded data removed]",
      "text/plain": [
       "<Figure size 432x288 with 1 Axes>"
      ]
     },
     "metadata": {
      "needs_background": "light"
     },
     "output_type": "display_data"
    }
   ],
   "source": [
    "sns.histplot(data= df2.iloc[:10000,:], x='Prixm2', hue='type')"
   ]
  },
  {
   "cell_type": "markdown",
   "id": "821bc222",
   "metadata": {},
   "source": [
    "## Some nicely distributed violins year over year: no anomalities in the timeseries dimension\n",
    "\n",
    "- Prices seem to be normally distributed throughout time\n",
    "- Appartment curve confirmed to be flat over time\n",
    "-  "
   ]
  },
  {
   "cell_type": "code",
   "execution_count": 7,
   "id": "48ff5582",
   "metadata": {
    "scrolled": true
   },
   "outputs": [
    {
     "data": {
      "text/plain": [
       "<seaborn.axisgrid.FacetGrid at 0x7f441eaa6a90>"
      ]
     },
     "execution_count": 7,
     "metadata": {},
     "output_type": "execute_result"
    },
    {
     "data": {
      "image/png": "[encoded data removed]",
      "text/plain": [
       "<Figure size 944.025x595.44 with 1 Axes>"
      ]
     },
     "metadata": {},
     "output_type": "display_data"
    }
   ],
   "source": [
    "sns.set_style('whitegrid')\n",
    "colors = [\"#FFF19E\", ]\n",
    "g = sns.catplot(x='Year',y ='Price', \n",
    "                hue ='type',\n",
    "                #order=[\"2016\", \"2017\", \"2018\", \"2019\",\"2020\"],\n",
    "                data = df2, kind= \"violin\", \n",
    "                palette=\"pastel\", \n",
    "                split=True, height=8.27, aspect=11.7/8.27)\n",
    "g.set_ylabels(\"Price per Sqm\")\n",
    "#g.set(ylim=(0, 10000))"
   ]
  },
  {
   "cell_type": "code",
   "execution_count": 8,
   "id": "cce55866",
   "metadata": {
    "scrolled": true
   },
   "outputs": [
    {
     "data": {
      "text/plain": [
       "Text(0.5, 1.0, 'Evolution prix')"
      ]
     },
     "execution_count": 8,
     "metadata": {},
     "output_type": "execute_result"
    },
    {
     "data": {
      "image/png": "[encoded data removed]",
      "text/plain": [
       "<Figure size 432x288 with 1 Axes>"
      ]
     },
     "metadata": {},
     "output_type": "display_data"
    }
   ],
   "source": [
    "#Aha, app prices seem to stagnate while housing prices display a continuous increase\n",
    "df3 = df.groupby(['Year','type']).mean()['Prixm2']\n",
    "df3 =df3.reset_index(drop =False)\n",
    "sns.lineplot(data= df3, x='Year',y='Prixm2', hue='type')\n",
    "plt.title('Evolution prix')"
   ]
  },
  {
   "cell_type": "markdown",
   "id": "24946c81",
   "metadata": {},
   "source": [
    "Price Evolution seems to be:\n",
    "- more or less stable for appartments with a small declining trend\n",
    "- increasing slowly for Houses"
   ]
  },
  {
   "cell_type": "code",
   "execution_count": 9,
   "id": "cbf751fd",
   "metadata": {
    "scrolled": true
   },
   "outputs": [
    {
     "data": {
      "text/html": [
       "<div>\n",
       "<style scoped>\n",
       "    .dataframe tbody tr th:only-of-type {\n",
       "        vertical-align: middle;\n",
       "    }\n",
       "\n",
       "    .dataframe tbody tr th {\n",
       "        vertical-align: top;\n",
       "    }\n",
       "\n",
       "    .dataframe thead th {\n",
       "        text-align: right;\n",
       "    }\n",
       "</style>\n",
       "<table border=\"1\" class=\"dataframe\">\n",
       "  <thead>\n",
       "    <tr style=\"text-align: right;\">\n",
       "      <th></th>\n",
       "      <th>code</th>\n",
       "      <th>Year</th>\n",
       "      <th>Code_post</th>\n",
       "      <th>Prixm2</th>\n",
       "      <th>Price</th>\n",
       "      <th>Avg_sqm</th>\n",
       "      <th>transactions</th>\n",
       "      <th>lat</th>\n",
       "      <th>lon</th>\n",
       "    </tr>\n",
       "  </thead>\n",
       "  <tbody>\n",
       "    <tr>\n",
       "      <th>count</th>\n",
       "      <td>191919.000000</td>\n",
       "      <td>191919.000000</td>\n",
       "      <td>191919.000000</td>\n",
       "      <td>191919.000000</td>\n",
       "      <td>191919.000000</td>\n",
       "      <td>191919.000000</td>\n",
       "      <td>191919.000000</td>\n",
       "      <td>191919.000000</td>\n",
       "      <td>191919.000000</td>\n",
       "    </tr>\n",
       "    <tr>\n",
       "      <th>mean</th>\n",
       "      <td>46195.654776</td>\n",
       "      <td>2017.984254</td>\n",
       "      <td>46467.561159</td>\n",
       "      <td>7.443846</td>\n",
       "      <td>11.896482</td>\n",
       "      <td>96.012344</td>\n",
       "      <td>25.479692</td>\n",
       "      <td>46.113530</td>\n",
       "      <td>2.488366</td>\n",
       "    </tr>\n",
       "    <tr>\n",
       "      <th>std</th>\n",
       "      <td>26420.967310</td>\n",
       "      <td>1.399172</td>\n",
       "      <td>26190.610336</td>\n",
       "      <td>0.545979</td>\n",
       "      <td>0.544820</td>\n",
       "      <td>31.708565</td>\n",
       "      <td>89.148444</td>\n",
       "      <td>6.013114</td>\n",
       "      <td>4.674639</td>\n",
       "    </tr>\n",
       "    <tr>\n",
       "      <th>min</th>\n",
       "      <td>2.000000</td>\n",
       "      <td>2016.000000</td>\n",
       "      <td>0.000000</td>\n",
       "      <td>6.214608</td>\n",
       "      <td>9.210340</td>\n",
       "      <td>10.000000</td>\n",
       "      <td>1.000000</td>\n",
       "      <td>-21.353068</td>\n",
       "      <td>-63.015466</td>\n",
       "    </tr>\n",
       "    <tr>\n",
       "      <th>25%</th>\n",
       "      <td>25147.000000</td>\n",
       "      <td>2017.000000</td>\n",
       "      <td>25210.000000</td>\n",
       "      <td>7.075809</td>\n",
       "      <td>11.564882</td>\n",
       "      <td>76.000000</td>\n",
       "      <td>3.000000</td>\n",
       "      <td>44.839872</td>\n",
       "      <td>0.572106</td>\n",
       "    </tr>\n",
       "    <tr>\n",
       "      <th>50%</th>\n",
       "      <td>45278.000000</td>\n",
       "      <td>2018.000000</td>\n",
       "      <td>45480.000000</td>\n",
       "      <td>7.393263</td>\n",
       "      <td>11.902850</td>\n",
       "      <td>97.000000</td>\n",
       "      <td>8.000000</td>\n",
       "      <td>46.928197</td>\n",
       "      <td>2.515857</td>\n",
       "    </tr>\n",
       "    <tr>\n",
       "      <th>75%</th>\n",
       "      <td>69183.000000</td>\n",
       "      <td>2019.000000</td>\n",
       "      <td>69490.000000</td>\n",
       "      <td>7.768533</td>\n",
       "      <td>12.225569</td>\n",
       "      <td>112.000000</td>\n",
       "      <td>20.000000</td>\n",
       "      <td>48.671869</td>\n",
       "      <td>4.627094</td>\n",
       "    </tr>\n",
       "    <tr>\n",
       "      <th>max</th>\n",
       "      <td>97424.000000</td>\n",
       "      <td>2020.000000</td>\n",
       "      <td>97490.000000</td>\n",
       "      <td>9.210340</td>\n",
       "      <td>14.667235</td>\n",
       "      <td>1018.000000</td>\n",
       "      <td>5215.000000</td>\n",
       "      <td>51.082118</td>\n",
       "      <td>55.827382</td>\n",
       "    </tr>\n",
       "  </tbody>\n",
       "</table>\n",
       "</div>"
      ],
      "text/plain": [
       "                code           Year      Code_post         Prixm2  \\\n",
       "count  191919.000000  191919.000000  191919.000000  191919.000000   \n",
       "mean    46195.654776    2017.984254   46467.561159       7.443846   \n",
       "std     26420.967310       1.399172   26190.610336       0.545979   \n",
       "min         2.000000    2016.000000       0.000000       6.214608   \n",
       "25%     25147.000000    2017.000000   25210.000000       7.075809   \n",
       "50%     45278.000000    2018.000000   45480.000000       7.393263   \n",
       "75%     69183.000000    2019.000000   69490.000000       7.768533   \n",
       "max     97424.000000    2020.000000   97490.000000       9.210340   \n",
       "\n",
       "               Price        Avg_sqm   transactions            lat  \\\n",
       "count  191919.000000  191919.000000  191919.000000  191919.000000   \n",
       "mean       11.896482      96.012344      25.479692      46.113530   \n",
       "std         0.544820      31.708565      89.148444       6.013114   \n",
       "min         9.210340      10.000000       1.000000     -21.353068   \n",
       "25%        11.564882      76.000000       3.000000      44.839872   \n",
       "50%        11.902850      97.000000       8.000000      46.928197   \n",
       "75%        12.225569     112.000000      20.000000      48.671869   \n",
       "max        14.667235    1018.000000    5215.000000      51.082118   \n",
       "\n",
       "                 lon  \n",
       "count  191919.000000  \n",
       "mean        2.488366  \n",
       "std         4.674639  \n",
       "min       -63.015466  \n",
       "25%         0.572106  \n",
       "50%         2.515857  \n",
       "75%         4.627094  \n",
       "max        55.827382  "
      ]
     },
     "execution_count": 9,
     "metadata": {},
     "output_type": "execute_result"
    }
   ],
   "source": [
    "#Basic Statistics\n",
    "df2.describe()"
   ]
  },
  {
   "cell_type": "markdown",
   "id": "a24aeb0b",
   "metadata": {},
   "source": [
    "# Let's Get More Serious"
   ]
  },
  {
   "cell_type": "code",
   "execution_count": 10,
   "id": "07f42d1c",
   "metadata": {
    "scrolled": true
   },
   "outputs": [
    {
     "name": "stderr",
     "output_type": "stream",
     "text": [
      "/home/julienlefebvre/.pyenv/versions/3.8.6/envs/Housing/lib/python3.8/site-packages/IPython/core/interactiveshell.py:3441: DtypeWarning: Columns (0,2,4,5,13) have mixed types.Specify dtype option on import or set low_memory=False.\n",
      "  exec(code_obj, self.user_global_ns, self.user_ns)\n"
     ]
    }
   ],
   "source": [
    "#Get the initial data\n",
    "df = pd.read_csv('DataFrance/equipment_Geo.csv', sep=';')\n",
    "df.dropna(subset=['UU2020'], inplace=True)"
   ]
  },
  {
   "cell_type": "markdown",
   "id": "f8cf9111",
   "metadata": {},
   "source": [
    "## Get the dataframe into shape"
   ]
  },
  {
   "cell_type": "code",
   "execution_count": 11,
   "id": "3ea1bd59",
   "metadata": {},
   "outputs": [
    {
     "data": {
      "text/html": [
       "<div>\n",
       "<style scoped>\n",
       "    .dataframe tbody tr th:only-of-type {\n",
       "        vertical-align: middle;\n",
       "    }\n",
       "\n",
       "    .dataframe tbody tr th {\n",
       "        vertical-align: top;\n",
       "    }\n",
       "\n",
       "    .dataframe thead th {\n",
       "        text-align: right;\n",
       "    }\n",
       "</style>\n",
       "<table border=\"1\" class=\"dataframe\">\n",
       "  <thead>\n",
       "    <tr style=\"text-align: right;\">\n",
       "      <th>TYPEQU</th>\n",
       "      <th>DEPCOM</th>\n",
       "      <th>A101</th>\n",
       "      <th>A203</th>\n",
       "      <th>A206</th>\n",
       "      <th>A401</th>\n",
       "      <th>A405</th>\n",
       "      <th>A406</th>\n",
       "      <th>A501</th>\n",
       "      <th>A502</th>\n",
       "      <th>A503</th>\n",
       "      <th>...</th>\n",
       "      <th>F201</th>\n",
       "      <th>F202</th>\n",
       "      <th>F203</th>\n",
       "      <th>F303</th>\n",
       "      <th>F305</th>\n",
       "      <th>F306</th>\n",
       "      <th>F307</th>\n",
       "      <th>F308</th>\n",
       "      <th>F309</th>\n",
       "      <th>F310</th>\n",
       "    </tr>\n",
       "  </thead>\n",
       "  <tbody>\n",
       "    <tr>\n",
       "      <th>0</th>\n",
       "      <td>1004</td>\n",
       "      <td>0.0</td>\n",
       "      <td>12.0</td>\n",
       "      <td>2.0</td>\n",
       "      <td>25.0</td>\n",
       "      <td>16.0</td>\n",
       "      <td>9.0</td>\n",
       "      <td>24.0</td>\n",
       "      <td>2.0</td>\n",
       "      <td>5.0</td>\n",
       "      <td>...</td>\n",
       "      <td>0.0</td>\n",
       "      <td>0.0</td>\n",
       "      <td>0.0</td>\n",
       "      <td>1.0</td>\n",
       "      <td>0.0</td>\n",
       "      <td>0.0</td>\n",
       "      <td>1.0</td>\n",
       "      <td>0.0</td>\n",
       "      <td>0.0</td>\n",
       "      <td>0.0</td>\n",
       "    </tr>\n",
       "    <tr>\n",
       "      <th>1</th>\n",
       "      <td>1008</td>\n",
       "      <td>0.0</td>\n",
       "      <td>0.0</td>\n",
       "      <td>0.0</td>\n",
       "      <td>2.0</td>\n",
       "      <td>3.0</td>\n",
       "      <td>0.0</td>\n",
       "      <td>1.0</td>\n",
       "      <td>0.0</td>\n",
       "      <td>0.0</td>\n",
       "      <td>...</td>\n",
       "      <td>0.0</td>\n",
       "      <td>0.0</td>\n",
       "      <td>0.0</td>\n",
       "      <td>0.0</td>\n",
       "      <td>0.0</td>\n",
       "      <td>0.0</td>\n",
       "      <td>1.0</td>\n",
       "      <td>0.0</td>\n",
       "      <td>0.0</td>\n",
       "      <td>0.0</td>\n",
       "    </tr>\n",
       "    <tr>\n",
       "      <th>2</th>\n",
       "      <td>1014</td>\n",
       "      <td>0.0</td>\n",
       "      <td>0.0</td>\n",
       "      <td>0.0</td>\n",
       "      <td>8.0</td>\n",
       "      <td>2.0</td>\n",
       "      <td>0.0</td>\n",
       "      <td>6.0</td>\n",
       "      <td>1.0</td>\n",
       "      <td>0.0</td>\n",
       "      <td>...</td>\n",
       "      <td>0.0</td>\n",
       "      <td>0.0</td>\n",
       "      <td>0.0</td>\n",
       "      <td>0.0</td>\n",
       "      <td>0.0</td>\n",
       "      <td>0.0</td>\n",
       "      <td>1.0</td>\n",
       "      <td>0.0</td>\n",
       "      <td>0.0</td>\n",
       "      <td>0.0</td>\n",
       "    </tr>\n",
       "    <tr>\n",
       "      <th>3</th>\n",
       "      <td>1024</td>\n",
       "      <td>0.0</td>\n",
       "      <td>1.0</td>\n",
       "      <td>0.0</td>\n",
       "      <td>3.0</td>\n",
       "      <td>5.0</td>\n",
       "      <td>2.0</td>\n",
       "      <td>6.0</td>\n",
       "      <td>0.0</td>\n",
       "      <td>0.0</td>\n",
       "      <td>...</td>\n",
       "      <td>0.0</td>\n",
       "      <td>0.0</td>\n",
       "      <td>0.0</td>\n",
       "      <td>0.0</td>\n",
       "      <td>0.0</td>\n",
       "      <td>0.0</td>\n",
       "      <td>1.0</td>\n",
       "      <td>0.0</td>\n",
       "      <td>0.0</td>\n",
       "      <td>0.0</td>\n",
       "    </tr>\n",
       "    <tr>\n",
       "      <th>4</th>\n",
       "      <td>1025</td>\n",
       "      <td>0.0</td>\n",
       "      <td>0.0</td>\n",
       "      <td>0.0</td>\n",
       "      <td>4.0</td>\n",
       "      <td>2.0</td>\n",
       "      <td>0.0</td>\n",
       "      <td>2.0</td>\n",
       "      <td>0.0</td>\n",
       "      <td>1.0</td>\n",
       "      <td>...</td>\n",
       "      <td>0.0</td>\n",
       "      <td>0.0</td>\n",
       "      <td>0.0</td>\n",
       "      <td>0.0</td>\n",
       "      <td>0.0</td>\n",
       "      <td>0.0</td>\n",
       "      <td>2.0</td>\n",
       "      <td>0.0</td>\n",
       "      <td>0.0</td>\n",
       "      <td>0.0</td>\n",
       "    </tr>\n",
       "  </tbody>\n",
       "</table>\n",
       "<p>5 rows × 68 columns</p>\n",
       "</div>"
      ],
      "text/plain": [
       "TYPEQU DEPCOM  A101  A203  A206  A401  A405  A406  A501  A502  A503  ...  \\\n",
       "0        1004   0.0  12.0   2.0  25.0  16.0   9.0  24.0   2.0   5.0  ...   \n",
       "1        1008   0.0   0.0   0.0   2.0   3.0   0.0   1.0   0.0   0.0  ...   \n",
       "2        1014   0.0   0.0   0.0   8.0   2.0   0.0   6.0   1.0   0.0  ...   \n",
       "3        1024   0.0   1.0   0.0   3.0   5.0   2.0   6.0   0.0   0.0  ...   \n",
       "4        1025   0.0   0.0   0.0   4.0   2.0   0.0   2.0   0.0   1.0  ...   \n",
       "\n",
       "TYPEQU  F201  F202  F203  F303  F305  F306  F307  F308  F309  F310  \n",
       "0        0.0   0.0   0.0   1.0   0.0   0.0   1.0   0.0   0.0   0.0  \n",
       "1        0.0   0.0   0.0   0.0   0.0   0.0   1.0   0.0   0.0   0.0  \n",
       "2        0.0   0.0   0.0   0.0   0.0   0.0   1.0   0.0   0.0   0.0  \n",
       "3        0.0   0.0   0.0   0.0   0.0   0.0   1.0   0.0   0.0   0.0  \n",
       "4        0.0   0.0   0.0   0.0   0.0   0.0   2.0   0.0   0.0   0.0  \n",
       "\n",
       "[5 rows x 68 columns]"
      ]
     },
     "execution_count": 11,
     "metadata": {},
     "output_type": "execute_result"
    }
   ],
   "source": [
    "# Select columns that will be interesting to us\n",
    "df6 = df[['DEPCOM', 'TYPEQU','DEP']]\n",
    "liste= (\"A203\",\"A206\",\"A401\",\"A101\",\"A406\",\"A405\", \"A5\", \"B\", \"F\")\n",
    "df6 = df6[df6.TYPEQU.str.startswith(liste)]\n",
    "df6.shape\n",
    "\n",
    "#Pivot raw data into a more sense making dataframe\n",
    "df6 =df6.pivot_table(values='TYPEQU', index='DEPCOM',columns= 'TYPEQU',aggfunc='count').reset_index(drop=False)\n",
    "df6 = df6.fillna(0)\n",
    "df6.head()"
   ]
  },
  {
   "cell_type": "code",
   "execution_count": 12,
   "id": "4c5602f2",
   "metadata": {
    "scrolled": true
   },
   "outputs": [
    {
     "data": {
      "text/html": [
       "<div>\n",
       "<style scoped>\n",
       "    .dataframe tbody tr th:only-of-type {\n",
       "        vertical-align: middle;\n",
       "    }\n",
       "\n",
       "    .dataframe tbody tr th {\n",
       "        vertical-align: top;\n",
       "    }\n",
       "\n",
       "    .dataframe thead th {\n",
       "        text-align: right;\n",
       "    }\n",
       "</style>\n",
       "<table border=\"1\" class=\"dataframe\">\n",
       "  <thead>\n",
       "    <tr style=\"text-align: right;\">\n",
       "      <th></th>\n",
       "      <th>DEPCOM</th>\n",
       "      <th>A1</th>\n",
       "      <th>A2</th>\n",
       "      <th>A4</th>\n",
       "      <th>A5</th>\n",
       "      <th>B</th>\n",
       "      <th>F</th>\n",
       "      <th>Prixm2</th>\n",
       "      <th>type</th>\n",
       "      <th>commune</th>\n",
       "    </tr>\n",
       "  </thead>\n",
       "  <tbody>\n",
       "    <tr>\n",
       "      <th>0</th>\n",
       "      <td>1004</td>\n",
       "      <td>0</td>\n",
       "      <td>14</td>\n",
       "      <td>50</td>\n",
       "      <td>126</td>\n",
       "      <td>138</td>\n",
       "      <td>31</td>\n",
       "      <td>7.714677</td>\n",
       "      <td>Maison</td>\n",
       "      <td>Ambérieu-en-Bugey</td>\n",
       "    </tr>\n",
       "    <tr>\n",
       "      <th>1</th>\n",
       "      <td>1004</td>\n",
       "      <td>0</td>\n",
       "      <td>14</td>\n",
       "      <td>50</td>\n",
       "      <td>126</td>\n",
       "      <td>138</td>\n",
       "      <td>31</td>\n",
       "      <td>7.929846</td>\n",
       "      <td>Appartement</td>\n",
       "      <td>Ambérieu-en-Bugey</td>\n",
       "    </tr>\n",
       "    <tr>\n",
       "      <th>2</th>\n",
       "      <td>1004</td>\n",
       "      <td>0</td>\n",
       "      <td>14</td>\n",
       "      <td>50</td>\n",
       "      <td>126</td>\n",
       "      <td>138</td>\n",
       "      <td>31</td>\n",
       "      <td>7.859027</td>\n",
       "      <td>Appartement</td>\n",
       "      <td>Ambérieu-en-Bugey</td>\n",
       "    </tr>\n",
       "    <tr>\n",
       "      <th>3</th>\n",
       "      <td>1004</td>\n",
       "      <td>0</td>\n",
       "      <td>14</td>\n",
       "      <td>50</td>\n",
       "      <td>126</td>\n",
       "      <td>138</td>\n",
       "      <td>31</td>\n",
       "      <td>7.575072</td>\n",
       "      <td>Maison</td>\n",
       "      <td>Ambérieu-en-Bugey</td>\n",
       "    </tr>\n",
       "    <tr>\n",
       "      <th>4</th>\n",
       "      <td>1004</td>\n",
       "      <td>0</td>\n",
       "      <td>14</td>\n",
       "      <td>50</td>\n",
       "      <td>126</td>\n",
       "      <td>138</td>\n",
       "      <td>31</td>\n",
       "      <td>7.661056</td>\n",
       "      <td>Maison</td>\n",
       "      <td>Ambérieu-en-Bugey</td>\n",
       "    </tr>\n",
       "  </tbody>\n",
       "</table>\n",
       "</div>"
      ],
      "text/plain": [
       "  DEPCOM  A1  A2  A4   A5    B   F    Prixm2         type            commune\n",
       "0   1004   0  14  50  126  138  31  7.714677       Maison  Ambérieu-en-Bugey\n",
       "1   1004   0  14  50  126  138  31  7.929846  Appartement  Ambérieu-en-Bugey\n",
       "2   1004   0  14  50  126  138  31  7.859027  Appartement  Ambérieu-en-Bugey\n",
       "3   1004   0  14  50  126  138  31  7.575072       Maison  Ambérieu-en-Bugey\n",
       "4   1004   0  14  50  126  138  31  7.661056       Maison  Ambérieu-en-Bugey"
      ]
     },
     "execution_count": 12,
     "metadata": {},
     "output_type": "execute_result"
    }
   ],
   "source": [
    "#Rename Columns with the respective columns only\n",
    "categories = set([\"A2\",\"A4\",\"A1\", \"A5\", \"B\", \"F\"])\n",
    "\n",
    "def correct_categories(cols):\n",
    "    return [cat for col in cols for cat in categories if col.startswith(cat)]    \n",
    "\n",
    "names = correct_categories(df6.columns)\n",
    "names.insert(0,'DEPCOM')\n",
    "df6.columns = names\n",
    "\n",
    "#Format and Sun up  of features into their categories\n",
    "df7 = df6.drop(columns='DEPCOM').astype('int')\n",
    "df7 =df7.groupby(df7.columns, axis=1).agg(np.sum)\n",
    "df7.insert(0,'DEPCOM',df6.DEPCOM)\n",
    "df7.shape\n",
    "\n",
    "#Merge the two dataframes\n",
    "merged = df7.merge(df2[['Prixm2','code','type','commune']], left_on='DEPCOM', right_on='code' ,how='inner').drop(columns='code')\n",
    "merged.head()"
   ]
  },
  {
   "cell_type": "markdown",
   "id": "3fd0ff9c",
   "metadata": {},
   "source": [
    "## One hot encode communes and appartment types"
   ]
  },
  {
   "cell_type": "code",
   "execution_count": 13,
   "id": "23e17668",
   "metadata": {},
   "outputs": [],
   "source": [
    "from sklearn.preprocessing import LabelBinarizer\n",
    "merged.type = LabelBinarizer().fit_transform(merged.type)\n",
    "df8 = pd.get_dummies(merged.commune, prefix='comm')\n",
    "\n",
    "#Getting the final frame with encoded values\n",
    "final = merged.drop(columns=['commune','DEPCOM']).join(df8)"
   ]
  },
  {
   "cell_type": "markdown",
   "id": "095d5224",
   "metadata": {},
   "source": [
    "## Create our prediction Arrays and format (PCA / Scaler)"
   ]
  },
  {
   "cell_type": "code",
   "execution_count": 32,
   "id": "dafca19e",
   "metadata": {},
   "outputs": [],
   "source": [
    "X = final.drop(columns='Prixm2')\n",
    "y = final.Prixm2\n",
    "\n",
    "#Scale the data\n",
    "scaler = StandardScaler()\n",
    "X_scale = scaler.fit_transform(X)\n"
   ]
  },
  {
   "cell_type": "code",
   "execution_count": 33,
   "id": "003c8b77",
   "metadata": {},
   "outputs": [],
   "source": [
    "#Performing normal train test split on the formatted data (both X and target)\n",
    "X_train, X_test, y_train, y_test = train_test_split(X, y, test_size = 0.3, random_state = 0)\n",
    "\n"
   ]
  },
  {
   "cell_type": "markdown",
   "id": "77cf3eb9",
   "metadata": {},
   "source": [
    "### Optional: PCA for treatment - bad results so far"
   ]
  },
  {
   "cell_type": "code",
   "execution_count": 15,
   "id": "b2ca8f21",
   "metadata": {},
   "outputs": [],
   "source": [
    "# Defining our PCA model and converting our data into components\n",
    "#pca_model = PCA(n_components=5)\n",
    "#converted = pca_model.fit(X)\n",
    "#X = converted.transform(X)\n",
    "#X = X.drop(columns=X.columns[:6]).join(pd.DataFrame(X_scale, columns=X.columns[:6]))\n"
   ]
  },
  {
   "cell_type": "markdown",
   "id": "23c00ee8",
   "metadata": {},
   "source": [
    "# Do the Prediction Model\n",
    "\n",
    "- Linear Model first\n",
    "- Set of linear models second\n",
    "- Xgboost\n",
    "- Other advanced Techniques"
   ]
  },
  {
   "cell_type": "markdown",
   "id": "5c0c005a",
   "metadata": {},
   "source": [
    "## Fit and Predict models"
   ]
  },
  {
   "cell_type": "code",
   "execution_count": 35,
   "id": "ef996530",
   "metadata": {
    "scrolled": true
   },
   "outputs": [
    {
     "name": "stdout",
     "output_type": "stream",
     "text": [
      "LinearRegression() R2 score is: -1.830514029245583e+16)\n",
      "LinearRegression() rmse score is: 5082426718849469.0)\n",
      "LinearRegression() mape score is: 0.036\n"
     ]
    }
   ],
   "source": [
    "#Do the first basic model\n",
    "lr = LinearRegression()\n",
    "model = lr.fit(X_train, y_train)\n",
    "print(f\"{model} R2 score is: {np.round(model.score(X_test, y_test),3)})\")\n",
    "print(f\"{model} rmse score is: {np.round(rmse(model.predict(X_test),y_test),3)})\")\n",
    "print(f\"{model} mape score is: {np.round(mape(model.predict(X_test),y_test),3)}\"  )  "
   ]
  },
  {
   "cell_type": "code",
   "execution_count": null,
   "id": "69d3e280",
   "metadata": {},
   "outputs": [],
   "source": [
    "#Checking a variety of linear models\n",
    "models = [la,ri,lr]\n",
    "for model in models:\n",
    "    fitter = model.fit(X_train,y_train)\n",
    "    print(f\"{model} R2 score is: {np.round(model.score(X_test, y_test),3)})\")\n",
    "    print(f\"{model} rmse score is: {np.round(rmse(model.predict(X_test),y_test),3)})\")\n",
    "    print(f\"{model} mape score is: {np.round(mape(model.predict(X_test),y_test),3)}\"  )   "
   ]
  },
  {
   "cell_type": "code",
   "execution_count": null,
   "id": "c6c83619",
   "metadata": {},
   "outputs": [],
   "source": [
    "#Checking the result with a standard xgboost\n",
    "from xgboost import XGBRegressor as xgb\n",
    "model = xgb(learning_rate = .1)\n",
    "model = model.fit(X_train, y_train)\n",
    "fitter = model.fit(X_train,y_train)\n",
    "print(f\" R2 score is: {np.round(model.score(X_test, y_test),3)})\")\n",
    "print(f\"rmse score is: {np.round(rmse(model.predict(X_test),y_test),3)})\")\n",
    "print(f\" mape score is: {np.round(mape(model.predict(X_test),y_test),3)}\"  )  "
   ]
  },
  {
   "cell_type": "markdown",
   "id": "09fbc5eb",
   "metadata": {},
   "source": [
    "## Check against initial baseline model\n",
    "- Average price a a predictor"
   ]
  },
  {
   "cell_type": "code",
   "execution_count": null,
   "id": "9253d04d",
   "metadata": {},
   "outputs": [],
   "source": [
    "#Obtain Baseline Model\n",
    "dftest = pd.DataFrame(final['Prixm2'])\n",
    "dftest['baseline'] = dftest['Prixm2'].mean()\n",
    "dftest.head()"
   ]
  },
  {
   "cell_type": "code",
   "execution_count": null,
   "id": "e1aa6e77",
   "metadata": {},
   "outputs": [],
   "source": [
    "#print baseline Score Metrics\n",
    "print(r2_score(dftest.Prixm2, dftest.baseline))\n",
    "print(mean_squared_error(dftest.Prixm2, dftest.baseline))\n",
    "print(mape(dftest.Prixm2, dftest.baseline))"
   ]
  }
 ],
 "metadata": {
  "kernelspec": {
   "display_name": "Python 3 (ipykernel)",
   "language": "python",
   "name": "python3"
  },
  "language_info": {
   "codemirror_mode": {
    "name": "ipython",
    "version": 3
   },
   "file_extension": ".py",
   "mimetype": "text/x-python",
   "name": "python",
   "nbconvert_exporter": "python",
   "pygments_lexer": "ipython3",
   "version": "3.8.6"
  },
  "toc": {
   "base_numbering": 1,
   "nav_menu": {},
   "number_sections": true,
   "sideBar": true,
   "skip_h1_title": false,
   "title_cell": "Table of Contents",
   "title_sidebar": "Contents",
   "toc_cell": false,
   "toc_position": {},
   "toc_section_display": true,
   "toc_window_display": false
  }
 },
 "nbformat": 4,
 "nbformat_minor": 5
}
