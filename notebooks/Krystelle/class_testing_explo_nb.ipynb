{
 "cells": [
  {
   "cell_type": "code",
   "execution_count": 1,
   "id": "052a01b6",
   "metadata": {
    "ExecuteTime": {
     "end_time": "2021-08-26T09:42:42.319753Z",
     "start_time": "2021-08-26T09:42:42.304487Z"
    }
   },
   "outputs": [],
   "source": [
    "%reload_ext autoreload \n",
    "%autoreload 2"
   ]
  },
  {
   "cell_type": "code",
   "execution_count": 2,
   "id": "10c2a5a2",
   "metadata": {
    "ExecuteTime": {
     "end_time": "2021-08-26T09:42:44.896178Z",
     "start_time": "2021-08-26T09:42:44.179386Z"
    }
   },
   "outputs": [],
   "source": [
    "# Import library \n",
    "import pandas as pd\n",
    "import numpy as np\n",
    "import sqlite3\n",
    "import matplotlib.pyplot as plt\n",
    "import seaborn as sns\n",
    "from collections import namedtuple"
   ]
  },
  {
   "cell_type": "code",
   "execution_count": 3,
   "id": "c8713089",
   "metadata": {
    "ExecuteTime": {
     "end_time": "2021-08-26T09:42:44.979143Z",
     "start_time": "2021-08-26T09:42:44.960159Z"
    }
   },
   "outputs": [],
   "source": [
    "from reestimator.preprocessing.exploration import Exploration_data"
   ]
  },
  {
   "cell_type": "markdown",
   "id": "2d78238f",
   "metadata": {},
   "source": [
    "# TEST FONCTIONS OF THE EXPLORATION_DATA CLASS"
   ]
  },
  {
   "cell_type": "code",
   "execution_count": 4,
   "id": "693f0519",
   "metadata": {
    "ExecuteTime": {
     "end_time": "2021-08-26T09:42:54.701067Z",
     "start_time": "2021-08-26T09:42:45.364356Z"
    }
   },
   "outputs": [
    {
     "name": "stderr",
     "output_type": "stream",
     "text": [
      "/home/krystelle/.pyenv/versions/lewagon/envs/reestimator/lib/python3.8/site-packages/IPython/core/interactiveshell.py:3441: DtypeWarning: Columns (8,10,12,14,16,17,18,20,22,35,36) have mixed types.Specify dtype option on import or set low_memory=False.\n",
      "  exec(code_obj, self.user_global_ns, self.user_ns)\n"
     ]
    },
    {
     "data": {
      "text/html": [
       "<div>\n",
       "<style scoped>\n",
       "    .dataframe tbody tr th:only-of-type {\n",
       "        vertical-align: middle;\n",
       "    }\n",
       "\n",
       "    .dataframe tbody tr th {\n",
       "        vertical-align: top;\n",
       "    }\n",
       "\n",
       "    .dataframe thead th {\n",
       "        text-align: right;\n",
       "    }\n",
       "</style>\n",
       "<table border=\"1\" class=\"dataframe\">\n",
       "  <thead>\n",
       "    <tr style=\"text-align: right;\">\n",
       "      <th></th>\n",
       "      <th>id_mutation</th>\n",
       "      <th>date_mutation</th>\n",
       "      <th>numero_disposition</th>\n",
       "      <th>nature_mutation</th>\n",
       "      <th>valeur_fonciere</th>\n",
       "      <th>adresse_numero</th>\n",
       "      <th>adresse_suffixe</th>\n",
       "      <th>adresse_nom_voie</th>\n",
       "      <th>adresse_code_voie</th>\n",
       "      <th>code_postal</th>\n",
       "      <th>...</th>\n",
       "      <th>type_local</th>\n",
       "      <th>surface_reelle_bati</th>\n",
       "      <th>nombre_pieces_principales</th>\n",
       "      <th>code_nature_culture</th>\n",
       "      <th>nature_culture</th>\n",
       "      <th>code_nature_culture_speciale</th>\n",
       "      <th>nature_culture_speciale</th>\n",
       "      <th>surface_terrain</th>\n",
       "      <th>longitude</th>\n",
       "      <th>latitude</th>\n",
       "    </tr>\n",
       "  </thead>\n",
       "  <tbody>\n",
       "    <tr>\n",
       "      <th>0</th>\n",
       "      <td>2020-1</td>\n",
       "      <td>2020-01-07</td>\n",
       "      <td>1</td>\n",
       "      <td>Vente</td>\n",
       "      <td>8000.0</td>\n",
       "      <td>NaN</td>\n",
       "      <td>NaN</td>\n",
       "      <td>FORTUNAT</td>\n",
       "      <td>B063</td>\n",
       "      <td>1250.0</td>\n",
       "      <td>...</td>\n",
       "      <td>NaN</td>\n",
       "      <td>NaN</td>\n",
       "      <td>NaN</td>\n",
       "      <td>T</td>\n",
       "      <td>terres</td>\n",
       "      <td>NaN</td>\n",
       "      <td>NaN</td>\n",
       "      <td>1061.0</td>\n",
       "      <td>5.323540</td>\n",
       "      <td>46.171919</td>\n",
       "    </tr>\n",
       "    <tr>\n",
       "      <th>1</th>\n",
       "      <td>2020-2</td>\n",
       "      <td>2020-01-02</td>\n",
       "      <td>1</td>\n",
       "      <td>Vente</td>\n",
       "      <td>2175.0</td>\n",
       "      <td>NaN</td>\n",
       "      <td>NaN</td>\n",
       "      <td>TERRES DES CINQ SAULES</td>\n",
       "      <td>B124</td>\n",
       "      <td>1290.0</td>\n",
       "      <td>...</td>\n",
       "      <td>NaN</td>\n",
       "      <td>NaN</td>\n",
       "      <td>NaN</td>\n",
       "      <td>BT</td>\n",
       "      <td>taillis simples</td>\n",
       "      <td>NaN</td>\n",
       "      <td>NaN</td>\n",
       "      <td>85.0</td>\n",
       "      <td>4.893436</td>\n",
       "      <td>46.251868</td>\n",
       "    </tr>\n",
       "    <tr>\n",
       "      <th>2</th>\n",
       "      <td>2020-2</td>\n",
       "      <td>2020-01-02</td>\n",
       "      <td>1</td>\n",
       "      <td>Vente</td>\n",
       "      <td>2175.0</td>\n",
       "      <td>NaN</td>\n",
       "      <td>NaN</td>\n",
       "      <td>BOIS DU CHAMP RION</td>\n",
       "      <td>B006</td>\n",
       "      <td>1290.0</td>\n",
       "      <td>...</td>\n",
       "      <td>NaN</td>\n",
       "      <td>NaN</td>\n",
       "      <td>NaN</td>\n",
       "      <td>T</td>\n",
       "      <td>terres</td>\n",
       "      <td>NaN</td>\n",
       "      <td>NaN</td>\n",
       "      <td>1115.0</td>\n",
       "      <td>4.899919</td>\n",
       "      <td>46.235327</td>\n",
       "    </tr>\n",
       "    <tr>\n",
       "      <th>3</th>\n",
       "      <td>2020-2</td>\n",
       "      <td>2020-01-02</td>\n",
       "      <td>1</td>\n",
       "      <td>Vente</td>\n",
       "      <td>2175.0</td>\n",
       "      <td>NaN</td>\n",
       "      <td>NaN</td>\n",
       "      <td>EN COROBERT</td>\n",
       "      <td>B025</td>\n",
       "      <td>1290.0</td>\n",
       "      <td>...</td>\n",
       "      <td>NaN</td>\n",
       "      <td>NaN</td>\n",
       "      <td>NaN</td>\n",
       "      <td>T</td>\n",
       "      <td>terres</td>\n",
       "      <td>NaN</td>\n",
       "      <td>NaN</td>\n",
       "      <td>1940.0</td>\n",
       "      <td>4.882347</td>\n",
       "      <td>46.246519</td>\n",
       "    </tr>\n",
       "    <tr>\n",
       "      <th>4</th>\n",
       "      <td>2020-2</td>\n",
       "      <td>2020-01-02</td>\n",
       "      <td>1</td>\n",
       "      <td>Vente</td>\n",
       "      <td>2175.0</td>\n",
       "      <td>NaN</td>\n",
       "      <td>NaN</td>\n",
       "      <td>TERRES DES CINQ SAULES</td>\n",
       "      <td>B124</td>\n",
       "      <td>1290.0</td>\n",
       "      <td>...</td>\n",
       "      <td>NaN</td>\n",
       "      <td>NaN</td>\n",
       "      <td>NaN</td>\n",
       "      <td>T</td>\n",
       "      <td>terres</td>\n",
       "      <td>NaN</td>\n",
       "      <td>NaN</td>\n",
       "      <td>1148.0</td>\n",
       "      <td>4.894688</td>\n",
       "      <td>46.251820</td>\n",
       "    </tr>\n",
       "    <tr>\n",
       "      <th>5</th>\n",
       "      <td>2020-2</td>\n",
       "      <td>2020-01-02</td>\n",
       "      <td>1</td>\n",
       "      <td>Vente</td>\n",
       "      <td>2175.0</td>\n",
       "      <td>NaN</td>\n",
       "      <td>NaN</td>\n",
       "      <td>TERRES DES CINQ SAULES</td>\n",
       "      <td>B124</td>\n",
       "      <td>1290.0</td>\n",
       "      <td>...</td>\n",
       "      <td>NaN</td>\n",
       "      <td>NaN</td>\n",
       "      <td>NaN</td>\n",
       "      <td>T</td>\n",
       "      <td>terres</td>\n",
       "      <td>NaN</td>\n",
       "      <td>NaN</td>\n",
       "      <td>2960.0</td>\n",
       "      <td>4.894607</td>\n",
       "      <td>46.251943</td>\n",
       "    </tr>\n",
       "    <tr>\n",
       "      <th>6</th>\n",
       "      <td>2020-3</td>\n",
       "      <td>2020-01-07</td>\n",
       "      <td>1</td>\n",
       "      <td>Vente</td>\n",
       "      <td>75000.0</td>\n",
       "      <td>NaN</td>\n",
       "      <td>NaN</td>\n",
       "      <td>RUE DE LA CHARTREUSE</td>\n",
       "      <td>0064</td>\n",
       "      <td>1960.0</td>\n",
       "      <td>...</td>\n",
       "      <td>NaN</td>\n",
       "      <td>NaN</td>\n",
       "      <td>NaN</td>\n",
       "      <td>AB</td>\n",
       "      <td>terrains a bâtir</td>\n",
       "      <td>NaN</td>\n",
       "      <td>NaN</td>\n",
       "      <td>610.0</td>\n",
       "      <td>5.226198</td>\n",
       "      <td>46.184538</td>\n",
       "    </tr>\n",
       "    <tr>\n",
       "      <th>7</th>\n",
       "      <td>2020-4</td>\n",
       "      <td>2020-01-07</td>\n",
       "      <td>1</td>\n",
       "      <td>Vente</td>\n",
       "      <td>123.0</td>\n",
       "      <td>NaN</td>\n",
       "      <td>NaN</td>\n",
       "      <td>CHAMP PORTIER</td>\n",
       "      <td>B041</td>\n",
       "      <td>1370.0</td>\n",
       "      <td>...</td>\n",
       "      <td>NaN</td>\n",
       "      <td>NaN</td>\n",
       "      <td>NaN</td>\n",
       "      <td>S</td>\n",
       "      <td>sols</td>\n",
       "      <td>NaN</td>\n",
       "      <td>NaN</td>\n",
       "      <td>55.0</td>\n",
       "      <td>5.344396</td>\n",
       "      <td>46.263943</td>\n",
       "    </tr>\n",
       "    <tr>\n",
       "      <th>8</th>\n",
       "      <td>2020-4</td>\n",
       "      <td>2020-01-07</td>\n",
       "      <td>1</td>\n",
       "      <td>Vente</td>\n",
       "      <td>123.0</td>\n",
       "      <td>NaN</td>\n",
       "      <td>NaN</td>\n",
       "      <td>CHAMP PORTIER</td>\n",
       "      <td>B041</td>\n",
       "      <td>1370.0</td>\n",
       "      <td>...</td>\n",
       "      <td>NaN</td>\n",
       "      <td>NaN</td>\n",
       "      <td>NaN</td>\n",
       "      <td>S</td>\n",
       "      <td>sols</td>\n",
       "      <td>NaN</td>\n",
       "      <td>NaN</td>\n",
       "      <td>68.0</td>\n",
       "      <td>5.343884</td>\n",
       "      <td>46.263800</td>\n",
       "    </tr>\n",
       "    <tr>\n",
       "      <th>9</th>\n",
       "      <td>2020-5</td>\n",
       "      <td>2020-01-09</td>\n",
       "      <td>1</td>\n",
       "      <td>Vente</td>\n",
       "      <td>72000.0</td>\n",
       "      <td>NaN</td>\n",
       "      <td>NaN</td>\n",
       "      <td>CHAMPEL</td>\n",
       "      <td>B034</td>\n",
       "      <td>1270.0</td>\n",
       "      <td>...</td>\n",
       "      <td>NaN</td>\n",
       "      <td>NaN</td>\n",
       "      <td>NaN</td>\n",
       "      <td>J</td>\n",
       "      <td>jardins</td>\n",
       "      <td>NaN</td>\n",
       "      <td>NaN</td>\n",
       "      <td>328.0</td>\n",
       "      <td>5.350565</td>\n",
       "      <td>46.380898</td>\n",
       "    </tr>\n",
       "  </tbody>\n",
       "</table>\n",
       "<p>10 rows × 40 columns</p>\n",
       "</div>"
      ],
      "text/plain": [
       "  id_mutation date_mutation  numero_disposition nature_mutation  \\\n",
       "0      2020-1    2020-01-07                   1           Vente   \n",
       "1      2020-2    2020-01-02                   1           Vente   \n",
       "2      2020-2    2020-01-02                   1           Vente   \n",
       "3      2020-2    2020-01-02                   1           Vente   \n",
       "4      2020-2    2020-01-02                   1           Vente   \n",
       "5      2020-2    2020-01-02                   1           Vente   \n",
       "6      2020-3    2020-01-07                   1           Vente   \n",
       "7      2020-4    2020-01-07                   1           Vente   \n",
       "8      2020-4    2020-01-07                   1           Vente   \n",
       "9      2020-5    2020-01-09                   1           Vente   \n",
       "\n",
       "   valeur_fonciere  adresse_numero adresse_suffixe        adresse_nom_voie  \\\n",
       "0           8000.0             NaN             NaN                FORTUNAT   \n",
       "1           2175.0             NaN             NaN  TERRES DES CINQ SAULES   \n",
       "2           2175.0             NaN             NaN      BOIS DU CHAMP RION   \n",
       "3           2175.0             NaN             NaN             EN COROBERT   \n",
       "4           2175.0             NaN             NaN  TERRES DES CINQ SAULES   \n",
       "5           2175.0             NaN             NaN  TERRES DES CINQ SAULES   \n",
       "6          75000.0             NaN             NaN    RUE DE LA CHARTREUSE   \n",
       "7            123.0             NaN             NaN           CHAMP PORTIER   \n",
       "8            123.0             NaN             NaN           CHAMP PORTIER   \n",
       "9          72000.0             NaN             NaN                 CHAMPEL   \n",
       "\n",
       "  adresse_code_voie  code_postal  ... type_local surface_reelle_bati  \\\n",
       "0              B063       1250.0  ...        NaN                 NaN   \n",
       "1              B124       1290.0  ...        NaN                 NaN   \n",
       "2              B006       1290.0  ...        NaN                 NaN   \n",
       "3              B025       1290.0  ...        NaN                 NaN   \n",
       "4              B124       1290.0  ...        NaN                 NaN   \n",
       "5              B124       1290.0  ...        NaN                 NaN   \n",
       "6              0064       1960.0  ...        NaN                 NaN   \n",
       "7              B041       1370.0  ...        NaN                 NaN   \n",
       "8              B041       1370.0  ...        NaN                 NaN   \n",
       "9              B034       1270.0  ...        NaN                 NaN   \n",
       "\n",
       "  nombre_pieces_principales  code_nature_culture    nature_culture  \\\n",
       "0                       NaN                    T            terres   \n",
       "1                       NaN                   BT   taillis simples   \n",
       "2                       NaN                    T            terres   \n",
       "3                       NaN                    T            terres   \n",
       "4                       NaN                    T            terres   \n",
       "5                       NaN                    T            terres   \n",
       "6                       NaN                   AB  terrains a bâtir   \n",
       "7                       NaN                    S              sols   \n",
       "8                       NaN                    S              sols   \n",
       "9                       NaN                    J           jardins   \n",
       "\n",
       "  code_nature_culture_speciale nature_culture_speciale surface_terrain  \\\n",
       "0                          NaN                     NaN          1061.0   \n",
       "1                          NaN                     NaN            85.0   \n",
       "2                          NaN                     NaN          1115.0   \n",
       "3                          NaN                     NaN          1940.0   \n",
       "4                          NaN                     NaN          1148.0   \n",
       "5                          NaN                     NaN          2960.0   \n",
       "6                          NaN                     NaN           610.0   \n",
       "7                          NaN                     NaN            55.0   \n",
       "8                          NaN                     NaN            68.0   \n",
       "9                          NaN                     NaN           328.0   \n",
       "\n",
       "  longitude   latitude  \n",
       "0  5.323540  46.171919  \n",
       "1  4.893436  46.251868  \n",
       "2  4.899919  46.235327  \n",
       "3  4.882347  46.246519  \n",
       "4  4.894688  46.251820  \n",
       "5  4.894607  46.251943  \n",
       "6  5.226198  46.184538  \n",
       "7  5.344396  46.263943  \n",
       "8  5.343884  46.263800  \n",
       "9  5.350565  46.380898  \n",
       "\n",
       "[10 rows x 40 columns]"
      ]
     },
     "execution_count": 4,
     "metadata": {},
     "output_type": "execute_result"
    }
   ],
   "source": [
    "# Get_data from gz\n",
    "df_2020 = pd.read_csv('../../../Krys28/Project-Real estate estimator/data/csv/2020.gz', compression='gzip')\n",
    "df_2020.head(10)"
   ]
  },
  {
   "cell_type": "code",
   "execution_count": 5,
   "id": "dd3bfa72",
   "metadata": {
    "ExecuteTime": {
     "end_time": "2021-08-26T09:42:56.159460Z",
     "start_time": "2021-08-26T09:42:56.146880Z"
    }
   },
   "outputs": [],
   "source": [
    "explorer = Exploration_data(df_2020)"
   ]
  },
  {
   "cell_type": "code",
   "execution_count": 6,
   "id": "18f295e6",
   "metadata": {
    "ExecuteTime": {
     "end_time": "2021-08-26T09:42:57.738386Z",
     "start_time": "2021-08-26T09:42:57.716836Z"
    }
   },
   "outputs": [
    {
     "data": {
      "text/plain": [
       "['numero_disposition', 'nombre_lots']"
      ]
     },
     "execution_count": 6,
     "metadata": {},
     "output_type": "execute_result"
    }
   ],
   "source": [
    "list_floats = list(df_2020.select_dtypes(include=['int']).columns)\n",
    "list_floats"
   ]
  },
  {
   "cell_type": "code",
   "execution_count": 7,
   "id": "b053f113",
   "metadata": {
    "ExecuteTime": {
     "end_time": "2021-08-26T09:42:59.310837Z",
     "start_time": "2021-08-26T09:42:59.233426Z"
    }
   },
   "outputs": [
    {
     "data": {
      "text/plain": [
       "['valeur_fonciere',\n",
       " 'adresse_numero',\n",
       " 'code_postal',\n",
       " 'ancien_code_commune',\n",
       " 'lot1_surface_carrez',\n",
       " 'lot2_surface_carrez',\n",
       " 'lot3_surface_carrez',\n",
       " 'lot4_numero',\n",
       " 'lot4_surface_carrez',\n",
       " 'lot5_numero',\n",
       " 'lot5_surface_carrez',\n",
       " 'code_type_local',\n",
       " 'surface_reelle_bati',\n",
       " 'nombre_pieces_principales',\n",
       " 'surface_terrain',\n",
       " 'longitude',\n",
       " 'latitude']"
      ]
     },
     "execution_count": 7,
     "metadata": {},
     "output_type": "execute_result"
    }
   ],
   "source": [
    "explorer.get_float_columns()"
   ]
  },
  {
   "cell_type": "code",
   "execution_count": 8,
   "id": "b3e9e99a",
   "metadata": {
    "ExecuteTime": {
     "end_time": "2021-08-26T09:43:02.833339Z",
     "start_time": "2021-08-26T09:43:00.823390Z"
    }
   },
   "outputs": [
    {
     "data": {
      "text/html": [
       "<div>\n",
       "<style scoped>\n",
       "    .dataframe tbody tr th:only-of-type {\n",
       "        vertical-align: middle;\n",
       "    }\n",
       "\n",
       "    .dataframe tbody tr th {\n",
       "        vertical-align: top;\n",
       "    }\n",
       "\n",
       "    .dataframe thead th {\n",
       "        text-align: right;\n",
       "    }\n",
       "</style>\n",
       "<table border=\"1\" class=\"dataframe\">\n",
       "  <thead>\n",
       "    <tr style=\"text-align: right;\">\n",
       "      <th></th>\n",
       "      <th>0</th>\n",
       "    </tr>\n",
       "  </thead>\n",
       "  <tbody>\n",
       "    <tr>\n",
       "      <th>ancien_nom_commune</th>\n",
       "      <td>2459559</td>\n",
       "    </tr>\n",
       "    <tr>\n",
       "      <th>ancien_id_parcelle</th>\n",
       "      <td>2459559</td>\n",
       "    </tr>\n",
       "    <tr>\n",
       "      <th>ancien_code_commune</th>\n",
       "      <td>2459559</td>\n",
       "    </tr>\n",
       "    <tr>\n",
       "      <th>lot5_surface_carrez</th>\n",
       "      <td>2458997</td>\n",
       "    </tr>\n",
       "    <tr>\n",
       "      <th>lot4_surface_carrez</th>\n",
       "      <td>2458303</td>\n",
       "    </tr>\n",
       "    <tr>\n",
       "      <th>lot5_numero</th>\n",
       "      <td>2455417</td>\n",
       "    </tr>\n",
       "    <tr>\n",
       "      <th>lot3_surface_carrez</th>\n",
       "      <td>2454703</td>\n",
       "    </tr>\n",
       "    <tr>\n",
       "      <th>numero_volume</th>\n",
       "      <td>2452794</td>\n",
       "    </tr>\n",
       "    <tr>\n",
       "      <th>lot4_numero</th>\n",
       "      <td>2450649</td>\n",
       "    </tr>\n",
       "    <tr>\n",
       "      <th>lot3_numero</th>\n",
       "      <td>2434251</td>\n",
       "    </tr>\n",
       "    <tr>\n",
       "      <th>lot2_surface_carrez</th>\n",
       "      <td>2408519</td>\n",
       "    </tr>\n",
       "    <tr>\n",
       "      <th>adresse_suffixe</th>\n",
       "      <td>2352374</td>\n",
       "    </tr>\n",
       "    <tr>\n",
       "      <th>nature_culture_speciale</th>\n",
       "      <td>2352011</td>\n",
       "    </tr>\n",
       "    <tr>\n",
       "      <th>code_nature_culture_speciale</th>\n",
       "      <td>2352011</td>\n",
       "    </tr>\n",
       "    <tr>\n",
       "      <th>lot2_numero</th>\n",
       "      <td>2303817</td>\n",
       "    </tr>\n",
       "    <tr>\n",
       "      <th>lot1_surface_carrez</th>\n",
       "      <td>2250280</td>\n",
       "    </tr>\n",
       "    <tr>\n",
       "      <th>lot1_numero</th>\n",
       "      <td>1702571</td>\n",
       "    </tr>\n",
       "    <tr>\n",
       "      <th>surface_reelle_bati</th>\n",
       "      <td>1447059</td>\n",
       "    </tr>\n",
       "    <tr>\n",
       "      <th>nombre_pieces_principales</th>\n",
       "      <td>1145290</td>\n",
       "    </tr>\n",
       "    <tr>\n",
       "      <th>code_type_local</th>\n",
       "      <td>1143726</td>\n",
       "    </tr>\n",
       "    <tr>\n",
       "      <th>type_local</th>\n",
       "      <td>1143726</td>\n",
       "    </tr>\n",
       "    <tr>\n",
       "      <th>adresse_numero</th>\n",
       "      <td>990345</td>\n",
       "    </tr>\n",
       "    <tr>\n",
       "      <th>surface_terrain</th>\n",
       "      <td>767734</td>\n",
       "    </tr>\n",
       "    <tr>\n",
       "      <th>nature_culture</th>\n",
       "      <td>767675</td>\n",
       "    </tr>\n",
       "    <tr>\n",
       "      <th>code_nature_culture</th>\n",
       "      <td>767675</td>\n",
       "    </tr>\n",
       "    <tr>\n",
       "      <th>valeur_fonciere</th>\n",
       "      <td>31752</td>\n",
       "    </tr>\n",
       "    <tr>\n",
       "      <th>adresse_nom_voie</th>\n",
       "      <td>31123</td>\n",
       "    </tr>\n",
       "    <tr>\n",
       "      <th>code_postal</th>\n",
       "      <td>30992</td>\n",
       "    </tr>\n",
       "    <tr>\n",
       "      <th>adresse_code_voie</th>\n",
       "      <td>30948</td>\n",
       "    </tr>\n",
       "    <tr>\n",
       "      <th>longitude</th>\n",
       "      <td>30083</td>\n",
       "    </tr>\n",
       "    <tr>\n",
       "      <th>latitude</th>\n",
       "      <td>30083</td>\n",
       "    </tr>\n",
       "    <tr>\n",
       "      <th>nombre_lots</th>\n",
       "      <td>0</td>\n",
       "    </tr>\n",
       "    <tr>\n",
       "      <th>date_mutation</th>\n",
       "      <td>0</td>\n",
       "    </tr>\n",
       "    <tr>\n",
       "      <th>id_parcelle</th>\n",
       "      <td>0</td>\n",
       "    </tr>\n",
       "    <tr>\n",
       "      <th>code_departement</th>\n",
       "      <td>0</td>\n",
       "    </tr>\n",
       "    <tr>\n",
       "      <th>nom_commune</th>\n",
       "      <td>0</td>\n",
       "    </tr>\n",
       "    <tr>\n",
       "      <th>code_commune</th>\n",
       "      <td>0</td>\n",
       "    </tr>\n",
       "    <tr>\n",
       "      <th>nature_mutation</th>\n",
       "      <td>0</td>\n",
       "    </tr>\n",
       "    <tr>\n",
       "      <th>numero_disposition</th>\n",
       "      <td>0</td>\n",
       "    </tr>\n",
       "    <tr>\n",
       "      <th>id_mutation</th>\n",
       "      <td>0</td>\n",
       "    </tr>\n",
       "  </tbody>\n",
       "</table>\n",
       "</div>"
      ],
      "text/plain": [
       "                                    0\n",
       "ancien_nom_commune            2459559\n",
       "ancien_id_parcelle            2459559\n",
       "ancien_code_commune           2459559\n",
       "lot5_surface_carrez           2458997\n",
       "lot4_surface_carrez           2458303\n",
       "lot5_numero                   2455417\n",
       "lot3_surface_carrez           2454703\n",
       "numero_volume                 2452794\n",
       "lot4_numero                   2450649\n",
       "lot3_numero                   2434251\n",
       "lot2_surface_carrez           2408519\n",
       "adresse_suffixe               2352374\n",
       "nature_culture_speciale       2352011\n",
       "code_nature_culture_speciale  2352011\n",
       "lot2_numero                   2303817\n",
       "lot1_surface_carrez           2250280\n",
       "lot1_numero                   1702571\n",
       "surface_reelle_bati           1447059\n",
       "nombre_pieces_principales     1145290\n",
       "code_type_local               1143726\n",
       "type_local                    1143726\n",
       "adresse_numero                 990345\n",
       "surface_terrain                767734\n",
       "nature_culture                 767675\n",
       "code_nature_culture            767675\n",
       "valeur_fonciere                 31752\n",
       "adresse_nom_voie                31123\n",
       "code_postal                     30992\n",
       "adresse_code_voie               30948\n",
       "longitude                       30083\n",
       "latitude                        30083\n",
       "nombre_lots                         0\n",
       "date_mutation                       0\n",
       "id_parcelle                         0\n",
       "code_departement                    0\n",
       "nom_commune                         0\n",
       "code_commune                        0\n",
       "nature_mutation                     0\n",
       "numero_disposition                  0\n",
       "id_mutation                         0"
      ]
     },
     "execution_count": 8,
     "metadata": {},
     "output_type": "execute_result"
    }
   ],
   "source": [
    "explorer.get_count_of_missing_values()"
   ]
  },
  {
   "cell_type": "code",
   "execution_count": 9,
   "id": "b3b93b18",
   "metadata": {
    "ExecuteTime": {
     "end_time": "2021-08-26T09:43:06.286260Z",
     "start_time": "2021-08-26T09:43:04.467754Z"
    }
   },
   "outputs": [
    {
     "data": {
      "text/html": [
       "<div>\n",
       "<style scoped>\n",
       "    .dataframe tbody tr th:only-of-type {\n",
       "        vertical-align: middle;\n",
       "    }\n",
       "\n",
       "    .dataframe tbody tr th {\n",
       "        vertical-align: top;\n",
       "    }\n",
       "\n",
       "    .dataframe thead th {\n",
       "        text-align: right;\n",
       "    }\n",
       "</style>\n",
       "<table border=\"1\" class=\"dataframe\">\n",
       "  <thead>\n",
       "    <tr style=\"text-align: right;\">\n",
       "      <th></th>\n",
       "      <th>0</th>\n",
       "    </tr>\n",
       "  </thead>\n",
       "  <tbody>\n",
       "    <tr>\n",
       "      <th>nombre_lots</th>\n",
       "      <td>0</td>\n",
       "    </tr>\n",
       "    <tr>\n",
       "      <th>date_mutation</th>\n",
       "      <td>0</td>\n",
       "    </tr>\n",
       "    <tr>\n",
       "      <th>id_parcelle</th>\n",
       "      <td>0</td>\n",
       "    </tr>\n",
       "    <tr>\n",
       "      <th>code_departement</th>\n",
       "      <td>0</td>\n",
       "    </tr>\n",
       "    <tr>\n",
       "      <th>nom_commune</th>\n",
       "      <td>0</td>\n",
       "    </tr>\n",
       "    <tr>\n",
       "      <th>code_commune</th>\n",
       "      <td>0</td>\n",
       "    </tr>\n",
       "    <tr>\n",
       "      <th>nature_mutation</th>\n",
       "      <td>0</td>\n",
       "    </tr>\n",
       "    <tr>\n",
       "      <th>numero_disposition</th>\n",
       "      <td>0</td>\n",
       "    </tr>\n",
       "    <tr>\n",
       "      <th>id_mutation</th>\n",
       "      <td>0</td>\n",
       "    </tr>\n",
       "  </tbody>\n",
       "</table>\n",
       "</div>"
      ],
      "text/plain": [
       "                    0\n",
       "nombre_lots         0\n",
       "date_mutation       0\n",
       "id_parcelle         0\n",
       "code_departement    0\n",
       "nom_commune         0\n",
       "code_commune        0\n",
       "nature_mutation     0\n",
       "numero_disposition  0\n",
       "id_mutation         0"
      ]
     },
     "execution_count": 9,
     "metadata": {},
     "output_type": "execute_result"
    }
   ],
   "source": [
    "explorer.get_columns_without_missing_values()"
   ]
  },
  {
   "cell_type": "code",
   "execution_count": 10,
   "id": "d46271ba",
   "metadata": {
    "ExecuteTime": {
     "end_time": "2021-08-26T09:43:09.507102Z",
     "start_time": "2021-08-26T09:43:07.572276Z"
    }
   },
   "outputs": [
    {
     "data": {
      "text/plain": [
       "2459560"
      ]
     },
     "execution_count": 10,
     "metadata": {},
     "output_type": "execute_result"
    }
   ],
   "source": [
    "explorer.get_count_missing_vals_in_1column(col_name='date_mutation')"
   ]
  },
  {
   "cell_type": "code",
   "execution_count": 11,
   "id": "b4a448bc",
   "metadata": {
    "ExecuteTime": {
     "end_time": "2021-08-26T09:43:11.109450Z",
     "start_time": "2021-08-26T09:43:11.093309Z"
    }
   },
   "outputs": [
    {
     "data": {
      "text/plain": [
       "Index(['id_mutation', 'date_mutation', 'numero_disposition', 'nature_mutation',\n",
       "       'valeur_fonciere', 'adresse_numero', 'adresse_suffixe',\n",
       "       'adresse_nom_voie', 'adresse_code_voie', 'code_postal', 'code_commune',\n",
       "       'nom_commune', 'code_departement', 'ancien_code_commune',\n",
       "       'ancien_nom_commune', 'id_parcelle', 'ancien_id_parcelle',\n",
       "       'numero_volume', 'lot1_numero', 'lot1_surface_carrez', 'lot2_numero',\n",
       "       'lot2_surface_carrez', 'lot3_numero', 'lot3_surface_carrez',\n",
       "       'lot4_numero', 'lot4_surface_carrez', 'lot5_numero',\n",
       "       'lot5_surface_carrez', 'nombre_lots', 'code_type_local', 'type_local',\n",
       "       'surface_reelle_bati', 'nombre_pieces_principales',\n",
       "       'code_nature_culture', 'nature_culture', 'code_nature_culture_speciale',\n",
       "       'nature_culture_speciale', 'surface_terrain', 'longitude', 'latitude'],\n",
       "      dtype='object')"
      ]
     },
     "execution_count": 11,
     "metadata": {},
     "output_type": "execute_result"
    }
   ],
   "source": [
    "df_2020.columns"
   ]
  },
  {
   "cell_type": "code",
   "execution_count": 12,
   "id": "edfa8bf7",
   "metadata": {
    "ExecuteTime": {
     "end_time": "2021-08-26T09:43:13.392097Z",
     "start_time": "2021-08-26T09:43:12.510893Z"
    }
   },
   "outputs": [
    {
     "data": {
      "image/png": "[encoded data removed]",
      "text/plain": [
       "<Figure size 432x288 with 1 Axes>"
      ]
     },
     "metadata": {
      "needs_background": "light"
     },
     "output_type": "display_data"
    }
   ],
   "source": [
    "explorer.visualize_feature_types()"
   ]
  },
  {
   "cell_type": "code",
   "execution_count": 13,
   "id": "a4a5083d",
   "metadata": {
    "ExecuteTime": {
     "end_time": "2021-08-26T09:43:15.749794Z",
     "start_time": "2021-08-26T09:43:14.715701Z"
    }
   },
   "outputs": [
    {
     "data": {
      "image/png": "[encoded data removed]",
      "text/plain": [
       "<Figure size 720x288 with 1 Axes>"
      ]
     },
     "metadata": {
      "needs_background": "light"
     },
     "output_type": "display_data"
    }
   ],
   "source": [
    "explorer.visualize_type_local()"
   ]
  },
  {
   "cell_type": "code",
   "execution_count": 14,
   "id": "e63e721e",
   "metadata": {
    "ExecuteTime": {
     "end_time": "2021-08-26T09:43:26.157598Z",
     "start_time": "2021-08-26T09:43:16.976079Z"
    }
   },
   "outputs": [
    {
     "data": {
      "image/png": "[encoded data removed]",
      "text/plain": [
       "<Figure size 432x288 with 1 Axes>"
      ]
     },
     "metadata": {
      "needs_background": "light"
     },
     "output_type": "display_data"
    }
   ],
   "source": [
    "explorer.visualize_lot_numero_columns()"
   ]
  },
  {
   "cell_type": "code",
   "execution_count": 15,
   "id": "83f0db1b",
   "metadata": {
    "ExecuteTime": {
     "end_time": "2021-08-26T09:43:36.591846Z",
     "start_time": "2021-08-26T09:43:27.439273Z"
    }
   },
   "outputs": [
    {
     "data": {
      "image/png": "[encoded data removed]",
      "text/plain": [
       "<Figure size 432x288 with 1 Axes>"
      ]
     },
     "metadata": {
      "needs_background": "light"
     },
     "output_type": "display_data"
    }
   ],
   "source": [
    "explorer.visualize_lot_surface_columns()"
   ]
  },
  {
   "cell_type": "code",
   "execution_count": null,
   "id": "b34ce7b5",
   "metadata": {},
   "outputs": [],
   "source": []
  },
  {
   "cell_type": "code",
   "execution_count": null,
   "id": "8495722d",
   "metadata": {},
   "outputs": [],
   "source": []
  }
 ],
 "metadata": {
  "kernelspec": {
   "display_name": "Python 3 (ipykernel)",
   "language": "python",
   "name": "python3"
  },
  "language_info": {
   "codemirror_mode": {
    "name": "ipython",
    "version": 3
   },
   "file_extension": ".py",
   "mimetype": "text/x-python",
   "name": "python",
   "nbconvert_exporter": "python",
   "pygments_lexer": "ipython3",
   "version": "3.8.6"
  },
  "toc": {
   "base_numbering": 1,
   "nav_menu": {},
   "number_sections": true,
   "sideBar": true,
   "skip_h1_title": false,
   "title_cell": "Table of Contents",
   "title_sidebar": "Contents",
   "toc_cell": false,
   "toc_position": {
    "height": "calc(100% - 180px)",
    "left": "10px",
    "top": "150px",
    "width": "165px"
   },
   "toc_section_display": true,
   "toc_window_display": true
  },
  "varInspector": {
   "cols": {
    "lenName": 16,
    "lenType": 16,
    "lenVar": 40
   },
   "kernels_config": {
    "python": {
     "delete_cmd_postfix": "",
     "delete_cmd_prefix": "del ",
     "library": "var_list.py",
     "varRefreshCmd": "print(var_dic_list())"
    },
    "r": {
     "delete_cmd_postfix": ") ",
     "delete_cmd_prefix": "rm(",
     "library": "var_list.r",
     "varRefreshCmd": "cat(var_dic_list()) "
    }
   },
   "types_to_exclude": [
    "module",
    "function",
    "builtin_function_or_method",
    "instance",
    "_Feature"
   ],
   "window_display": false
  }
 },
 "nbformat": 4,
 "nbformat_minor": 5
}
