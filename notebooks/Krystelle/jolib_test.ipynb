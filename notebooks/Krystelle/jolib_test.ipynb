{
 "cells": [
  {
   "cell_type": "code",
   "execution_count": 18,
   "id": "93c2332c",
   "metadata": {
    "ExecuteTime": {
     "end_time": "2021-09-02T09:52:46.345791Z",
     "start_time": "2021-09-02T09:52:46.341107Z"
    }
   },
   "outputs": [],
   "source": [
    "# Import libraries\n",
    "import joblib\n",
    "import pandas as pd\n",
    "import numpy as np\n",
    "from sklearn.model_selection import train_test_split"
   ]
  },
  {
   "cell_type": "code",
   "execution_count": 12,
   "id": "8777947d",
   "metadata": {
    "ExecuteTime": {
     "end_time": "2021-09-02T09:39:04.262338Z",
     "start_time": "2021-09-02T09:39:04.258631Z"
    }
   },
   "outputs": [],
   "source": [
    "my_path = '../../raw_data/data_Marseille.csv'"
   ]
  },
  {
   "cell_type": "code",
   "execution_count": 13,
   "id": "fbddd376",
   "metadata": {
    "ExecuteTime": {
     "end_time": "2021-09-02T09:39:07.439655Z",
     "start_time": "2021-09-02T09:39:07.303687Z"
    }
   },
   "outputs": [],
   "source": [
    "df_marseille = pd.read_csv(my_path)"
   ]
  },
  {
   "cell_type": "code",
   "execution_count": 14,
   "id": "bd938087",
   "metadata": {
    "ExecuteTime": {
     "end_time": "2021-09-02T09:39:21.677472Z",
     "start_time": "2021-09-02T09:39:21.644490Z"
    }
   },
   "outputs": [
    {
     "data": {
      "text/html": [
       "<div>\n",
       "<style scoped>\n",
       "    .dataframe tbody tr th:only-of-type {\n",
       "        vertical-align: middle;\n",
       "    }\n",
       "\n",
       "    .dataframe tbody tr th {\n",
       "        vertical-align: top;\n",
       "    }\n",
       "\n",
       "    .dataframe thead th {\n",
       "        text-align: right;\n",
       "    }\n",
       "</style>\n",
       "<table border=\"1\" class=\"dataframe\">\n",
       "  <thead>\n",
       "    <tr style=\"text-align: right;\">\n",
       "      <th></th>\n",
       "      <th>Unnamed: 0</th>\n",
       "      <th>Unnamed: 0.1</th>\n",
       "      <th>id_mutation</th>\n",
       "      <th>date_mutation</th>\n",
       "      <th>nature_mutation</th>\n",
       "      <th>valeur_fonciere</th>\n",
       "      <th>adresse_nom_voie</th>\n",
       "      <th>adresse_code_voie</th>\n",
       "      <th>code_postal</th>\n",
       "      <th>code_commune</th>\n",
       "      <th>...</th>\n",
       "      <th>id_parcelle</th>\n",
       "      <th>type_local</th>\n",
       "      <th>surface_reelle_bati</th>\n",
       "      <th>nombre_pieces_principales</th>\n",
       "      <th>surface_terrain</th>\n",
       "      <th>longitude</th>\n",
       "      <th>latitude</th>\n",
       "      <th>Prixm2</th>\n",
       "      <th>Dependency</th>\n",
       "      <th>prixmetre</th>\n",
       "    </tr>\n",
       "  </thead>\n",
       "  <tbody>\n",
       "    <tr>\n",
       "      <th>0</th>\n",
       "      <td>367753</td>\n",
       "      <td>80623</td>\n",
       "      <td>2016-106776</td>\n",
       "      <td>2016-04-13</td>\n",
       "      <td>Vente</td>\n",
       "      <td>61000</td>\n",
       "      <td>RUE LANTHIER</td>\n",
       "      <td>5082</td>\n",
       "      <td>13003</td>\n",
       "      <td>13203</td>\n",
       "      <td>...</td>\n",
       "      <td>132038140D0137</td>\n",
       "      <td>Appartement</td>\n",
       "      <td>37</td>\n",
       "      <td>2</td>\n",
       "      <td>0</td>\n",
       "      <td>5.372</td>\n",
       "      <td>43.308</td>\n",
       "      <td>1649</td>\n",
       "      <td>0</td>\n",
       "      <td>1648.648649</td>\n",
       "    </tr>\n",
       "    <tr>\n",
       "      <th>1</th>\n",
       "      <td>367754</td>\n",
       "      <td>80624</td>\n",
       "      <td>2016-106777</td>\n",
       "      <td>2016-01-06</td>\n",
       "      <td>Vente</td>\n",
       "      <td>150000</td>\n",
       "      <td>PL BERNARD CADENAT</td>\n",
       "      <td>1120</td>\n",
       "      <td>13003</td>\n",
       "      <td>13203</td>\n",
       "      <td>...</td>\n",
       "      <td>132038110D0276</td>\n",
       "      <td>Appartement</td>\n",
       "      <td>66</td>\n",
       "      <td>4</td>\n",
       "      <td>0</td>\n",
       "      <td>5.387</td>\n",
       "      <td>43.313</td>\n",
       "      <td>2273</td>\n",
       "      <td>0</td>\n",
       "      <td>2272.727273</td>\n",
       "    </tr>\n",
       "    <tr>\n",
       "      <th>2</th>\n",
       "      <td>367755</td>\n",
       "      <td>80625</td>\n",
       "      <td>2016-106778</td>\n",
       "      <td>2016-01-06</td>\n",
       "      <td>Vente</td>\n",
       "      <td>165000</td>\n",
       "      <td>RUE ROUSSEL DORIA</td>\n",
       "      <td>8155</td>\n",
       "      <td>13004</td>\n",
       "      <td>13204</td>\n",
       "      <td>...</td>\n",
       "      <td>132048180H0168</td>\n",
       "      <td>Appartement</td>\n",
       "      <td>59</td>\n",
       "      <td>2</td>\n",
       "      <td>0</td>\n",
       "      <td>5.398</td>\n",
       "      <td>43.298</td>\n",
       "      <td>2797</td>\n",
       "      <td>0</td>\n",
       "      <td>2796.610169</td>\n",
       "    </tr>\n",
       "    <tr>\n",
       "      <th>3</th>\n",
       "      <td>367756</td>\n",
       "      <td>80626</td>\n",
       "      <td>2016-106779</td>\n",
       "      <td>2016-01-05</td>\n",
       "      <td>Vente</td>\n",
       "      <td>100000</td>\n",
       "      <td>RES VAL PINS</td>\n",
       "      <td>A949</td>\n",
       "      <td>13015</td>\n",
       "      <td>13215</td>\n",
       "      <td>...</td>\n",
       "      <td>132159040L0247</td>\n",
       "      <td>Appartement</td>\n",
       "      <td>67</td>\n",
       "      <td>4</td>\n",
       "      <td>0</td>\n",
       "      <td>5.363</td>\n",
       "      <td>43.371</td>\n",
       "      <td>1493</td>\n",
       "      <td>0</td>\n",
       "      <td>1492.537313</td>\n",
       "    </tr>\n",
       "    <tr>\n",
       "      <th>4</th>\n",
       "      <td>367757</td>\n",
       "      <td>80627</td>\n",
       "      <td>2016-106780</td>\n",
       "      <td>2016-01-05</td>\n",
       "      <td>Vente</td>\n",
       "      <td>92000</td>\n",
       "      <td>AV DE LA VISTE</td>\n",
       "      <td>6464</td>\n",
       "      <td>13015</td>\n",
       "      <td>13215</td>\n",
       "      <td>...</td>\n",
       "      <td>132159070I0029</td>\n",
       "      <td>Appartement</td>\n",
       "      <td>66</td>\n",
       "      <td>3</td>\n",
       "      <td>0</td>\n",
       "      <td>5.357</td>\n",
       "      <td>43.355</td>\n",
       "      <td>1394</td>\n",
       "      <td>0</td>\n",
       "      <td>1393.939394</td>\n",
       "    </tr>\n",
       "  </tbody>\n",
       "</table>\n",
       "<p>5 rows × 22 columns</p>\n",
       "</div>"
      ],
      "text/plain": [
       "   Unnamed: 0  Unnamed: 0.1  id_mutation date_mutation nature_mutation  \\\n",
       "0      367753         80623  2016-106776    2016-04-13           Vente   \n",
       "1      367754         80624  2016-106777    2016-01-06           Vente   \n",
       "2      367755         80625  2016-106778    2016-01-06           Vente   \n",
       "3      367756         80626  2016-106779    2016-01-05           Vente   \n",
       "4      367757         80627  2016-106780    2016-01-05           Vente   \n",
       "\n",
       "   valeur_fonciere    adresse_nom_voie adresse_code_voie  code_postal  \\\n",
       "0            61000        RUE LANTHIER              5082        13003   \n",
       "1           150000  PL BERNARD CADENAT              1120        13003   \n",
       "2           165000   RUE ROUSSEL DORIA              8155        13004   \n",
       "3           100000        RES VAL PINS              A949        13015   \n",
       "4            92000      AV DE LA VISTE              6464        13015   \n",
       "\n",
       "   code_commune  ...     id_parcelle   type_local surface_reelle_bati  \\\n",
       "0         13203  ...  132038140D0137  Appartement                  37   \n",
       "1         13203  ...  132038110D0276  Appartement                  66   \n",
       "2         13204  ...  132048180H0168  Appartement                  59   \n",
       "3         13215  ...  132159040L0247  Appartement                  67   \n",
       "4         13215  ...  132159070I0029  Appartement                  66   \n",
       "\n",
       "  nombre_pieces_principales  surface_terrain  longitude  latitude  Prixm2  \\\n",
       "0                         2                0      5.372    43.308    1649   \n",
       "1                         4                0      5.387    43.313    2273   \n",
       "2                         2                0      5.398    43.298    2797   \n",
       "3                         4                0      5.363    43.371    1493   \n",
       "4                         3                0      5.357    43.355    1394   \n",
       "\n",
       "   Dependency    prixmetre  \n",
       "0           0  1648.648649  \n",
       "1           0  2272.727273  \n",
       "2           0  2796.610169  \n",
       "3           0  1492.537313  \n",
       "4           0  1393.939394  \n",
       "\n",
       "[5 rows x 22 columns]"
      ]
     },
     "execution_count": 14,
     "metadata": {},
     "output_type": "execute_result"
    }
   ],
   "source": [
    "df_marseille.head()"
   ]
  },
  {
   "cell_type": "code",
   "execution_count": 32,
   "id": "b960c8fe",
   "metadata": {
    "ExecuteTime": {
     "end_time": "2021-09-02T10:44:19.991989Z",
     "start_time": "2021-09-02T10:44:19.986497Z"
    }
   },
   "outputs": [
    {
     "data": {
      "text/plain": [
       "dtype('int64')"
      ]
     },
     "execution_count": 32,
     "metadata": {},
     "output_type": "execute_result"
    }
   ],
   "source": [
    "df_marseille.surface_reelle_bati.dtype"
   ]
  },
  {
   "cell_type": "code",
   "execution_count": 19,
   "id": "4554902e",
   "metadata": {
    "ExecuteTime": {
     "end_time": "2021-09-02T09:53:49.654517Z",
     "start_time": "2021-09-02T09:53:49.643649Z"
    }
   },
   "outputs": [],
   "source": [
    "X = df_marseille.drop(columns='Prixm2')\n",
    "y = df_marseille.Prixm2"
   ]
  },
  {
   "cell_type": "code",
   "execution_count": 20,
   "id": "1f719fe9",
   "metadata": {
    "ExecuteTime": {
     "end_time": "2021-09-02T09:53:51.692387Z",
     "start_time": "2021-09-02T09:53:51.665962Z"
    }
   },
   "outputs": [],
   "source": [
    "X_train, X_test, y_train, y_test = train_test_split(X, y, test_size=0.33, random_state=42)"
   ]
  },
  {
   "cell_type": "code",
   "execution_count": 15,
   "id": "4471d063",
   "metadata": {
    "ExecuteTime": {
     "end_time": "2021-09-02T09:39:33.442629Z",
     "start_time": "2021-09-02T09:39:33.379326Z"
    }
   },
   "outputs": [],
   "source": [
    "# Load from file\n",
    "joblib_model = joblib.load(\"../../RandomForest.joblib\")"
   ]
  },
  {
   "cell_type": "code",
   "execution_count": 26,
   "id": "18d27611",
   "metadata": {
    "ExecuteTime": {
     "end_time": "2021-09-02T10:12:39.650324Z",
     "start_time": "2021-09-02T10:12:39.642258Z"
    }
   },
   "outputs": [
    {
     "data": {
      "text/plain": [
       "<bound method BaseEstimator.get_params of RandomForestRegressor(bootstrap=False, max_depth=10, max_features='log2',\n",
       "                      min_impurity_decrease=0.1, min_samples_leaf=0.1,\n",
       "                      min_samples_split=0.3, n_estimators=200, random_state=42)>"
      ]
     },
     "execution_count": 26,
     "metadata": {},
     "output_type": "execute_result"
    }
   ],
   "source": [
    "joblib_model.get_params"
   ]
  },
  {
   "cell_type": "code",
   "execution_count": 31,
   "id": "c7a3ecd7",
   "metadata": {
    "ExecuteTime": {
     "end_time": "2021-09-02T10:17:21.486297Z",
     "start_time": "2021-09-02T10:17:21.450027Z"
    }
   },
   "outputs": [
    {
     "data": {
      "text/plain": [
       "array([0.15697644, 0.08427095, 0.26761218, 0.        , 0.        ,\n",
       "       0.        , 0.        , 0.        , 0.        , 0.        ,\n",
       "       0.        , 0.        , 0.        , 0.        , 0.        ,\n",
       "       0.        , 0.        , 0.        , 0.11367503, 0.        ,\n",
       "       0.16763471, 0.2098307 ])"
      ]
     },
     "execution_count": 31,
     "metadata": {},
     "output_type": "execute_result"
    }
   ],
   "source": [
    "joblib_model.feature_importances_"
   ]
  },
  {
   "cell_type": "code",
   "execution_count": 24,
   "id": "d0fc4cef",
   "metadata": {
    "ExecuteTime": {
     "end_time": "2021-09-02T09:55:27.664937Z",
     "start_time": "2021-09-02T09:55:27.635298Z"
    },
    "collapsed": true
   },
   "outputs": [
    {
     "ename": "ValueError",
     "evalue": "could not convert string to float: '2016-113567'",
     "output_type": "error",
     "traceback": [
      "\u001b[0;31m---------------------------------------------------------------------------\u001b[0m",
      "\u001b[0;31mValueError\u001b[0m                                Traceback (most recent call last)",
      "\u001b[0;32m/tmp/ipykernel_11572/3174078419.py\u001b[0m in \u001b[0;36m<module>\u001b[0;34m\u001b[0m\n\u001b[1;32m      1\u001b[0m \u001b[0;31m# Calculate the accuracy and predictions\u001b[0m\u001b[0;34m\u001b[0m\u001b[0;34m\u001b[0m\u001b[0;34m\u001b[0m\u001b[0m\n\u001b[0;32m----> 2\u001b[0;31m \u001b[0mscore\u001b[0m \u001b[0;34m=\u001b[0m \u001b[0mjoblib_model\u001b[0m\u001b[0;34m.\u001b[0m\u001b[0mscore\u001b[0m\u001b[0;34m(\u001b[0m\u001b[0mX_test\u001b[0m\u001b[0;34m,\u001b[0m \u001b[0my_test\u001b[0m\u001b[0;34m)\u001b[0m\u001b[0;34m\u001b[0m\u001b[0;34m\u001b[0m\u001b[0m\n\u001b[0m\u001b[1;32m      3\u001b[0m \u001b[0;31m# print(100 * score)\u001b[0m\u001b[0;34m\u001b[0m\u001b[0;34m\u001b[0m\u001b[0;34m\u001b[0m\u001b[0m\n\u001b[1;32m      4\u001b[0m \u001b[0;31m# Ypredict = joblib_model.predict(X_test)\u001b[0m\u001b[0;34m\u001b[0m\u001b[0;34m\u001b[0m\u001b[0;34m\u001b[0m\u001b[0m\n",
      "\u001b[0;32m~/.pyenv/versions/lewagon/envs/reestimator/lib/python3.8/site-packages/sklearn/base.py\u001b[0m in \u001b[0;36mscore\u001b[0;34m(self, X, y, sample_weight)\u001b[0m\n\u001b[1;32m    551\u001b[0m \u001b[0;34m\u001b[0m\u001b[0m\n\u001b[1;32m    552\u001b[0m         \u001b[0;32mfrom\u001b[0m \u001b[0;34m.\u001b[0m\u001b[0mmetrics\u001b[0m \u001b[0;32mimport\u001b[0m \u001b[0mr2_score\u001b[0m\u001b[0;34m\u001b[0m\u001b[0;34m\u001b[0m\u001b[0m\n\u001b[0;32m--> 553\u001b[0;31m         \u001b[0my_pred\u001b[0m \u001b[0;34m=\u001b[0m \u001b[0mself\u001b[0m\u001b[0;34m.\u001b[0m\u001b[0mpredict\u001b[0m\u001b[0;34m(\u001b[0m\u001b[0mX\u001b[0m\u001b[0;34m)\u001b[0m\u001b[0;34m\u001b[0m\u001b[0;34m\u001b[0m\u001b[0m\n\u001b[0m\u001b[1;32m    554\u001b[0m         \u001b[0;32mreturn\u001b[0m \u001b[0mr2_score\u001b[0m\u001b[0;34m(\u001b[0m\u001b[0my\u001b[0m\u001b[0;34m,\u001b[0m \u001b[0my_pred\u001b[0m\u001b[0;34m,\u001b[0m \u001b[0msample_weight\u001b[0m\u001b[0;34m=\u001b[0m\u001b[0msample_weight\u001b[0m\u001b[0;34m)\u001b[0m\u001b[0;34m\u001b[0m\u001b[0;34m\u001b[0m\u001b[0m\n\u001b[1;32m    555\u001b[0m \u001b[0;34m\u001b[0m\u001b[0m\n",
      "\u001b[0;32m~/.pyenv/versions/lewagon/envs/reestimator/lib/python3.8/site-packages/sklearn/ensemble/_forest.py\u001b[0m in \u001b[0;36mpredict\u001b[0;34m(self, X)\u001b[0m\n\u001b[1;32m    782\u001b[0m         \u001b[0mcheck_is_fitted\u001b[0m\u001b[0;34m(\u001b[0m\u001b[0mself\u001b[0m\u001b[0;34m)\u001b[0m\u001b[0;34m\u001b[0m\u001b[0;34m\u001b[0m\u001b[0m\n\u001b[1;32m    783\u001b[0m         \u001b[0;31m# Check data\u001b[0m\u001b[0;34m\u001b[0m\u001b[0;34m\u001b[0m\u001b[0;34m\u001b[0m\u001b[0m\n\u001b[0;32m--> 784\u001b[0;31m         \u001b[0mX\u001b[0m \u001b[0;34m=\u001b[0m \u001b[0mself\u001b[0m\u001b[0;34m.\u001b[0m\u001b[0m_validate_X_predict\u001b[0m\u001b[0;34m(\u001b[0m\u001b[0mX\u001b[0m\u001b[0;34m)\u001b[0m\u001b[0;34m\u001b[0m\u001b[0;34m\u001b[0m\u001b[0m\n\u001b[0m\u001b[1;32m    785\u001b[0m \u001b[0;34m\u001b[0m\u001b[0m\n\u001b[1;32m    786\u001b[0m         \u001b[0;31m# Assign chunk of trees to jobs\u001b[0m\u001b[0;34m\u001b[0m\u001b[0;34m\u001b[0m\u001b[0;34m\u001b[0m\u001b[0m\n",
      "\u001b[0;32m~/.pyenv/versions/lewagon/envs/reestimator/lib/python3.8/site-packages/sklearn/ensemble/_forest.py\u001b[0m in \u001b[0;36m_validate_X_predict\u001b[0;34m(self, X)\u001b[0m\n\u001b[1;32m    420\u001b[0m         \u001b[0mcheck_is_fitted\u001b[0m\u001b[0;34m(\u001b[0m\u001b[0mself\u001b[0m\u001b[0;34m)\u001b[0m\u001b[0;34m\u001b[0m\u001b[0;34m\u001b[0m\u001b[0m\n\u001b[1;32m    421\u001b[0m \u001b[0;34m\u001b[0m\u001b[0m\n\u001b[0;32m--> 422\u001b[0;31m         \u001b[0;32mreturn\u001b[0m \u001b[0mself\u001b[0m\u001b[0;34m.\u001b[0m\u001b[0mestimators_\u001b[0m\u001b[0;34m[\u001b[0m\u001b[0;36m0\u001b[0m\u001b[0;34m]\u001b[0m\u001b[0;34m.\u001b[0m\u001b[0m_validate_X_predict\u001b[0m\u001b[0;34m(\u001b[0m\u001b[0mX\u001b[0m\u001b[0;34m,\u001b[0m \u001b[0mcheck_input\u001b[0m\u001b[0;34m=\u001b[0m\u001b[0;32mTrue\u001b[0m\u001b[0;34m)\u001b[0m\u001b[0;34m\u001b[0m\u001b[0;34m\u001b[0m\u001b[0m\n\u001b[0m\u001b[1;32m    423\u001b[0m \u001b[0;34m\u001b[0m\u001b[0m\n\u001b[1;32m    424\u001b[0m     \u001b[0;34m@\u001b[0m\u001b[0mproperty\u001b[0m\u001b[0;34m\u001b[0m\u001b[0;34m\u001b[0m\u001b[0m\n",
      "\u001b[0;32m~/.pyenv/versions/lewagon/envs/reestimator/lib/python3.8/site-packages/sklearn/tree/_classes.py\u001b[0m in \u001b[0;36m_validate_X_predict\u001b[0;34m(self, X, check_input)\u001b[0m\n\u001b[1;32m    405\u001b[0m         \u001b[0;34m\"\"\"Validate the training data on predict (probabilities).\"\"\"\u001b[0m\u001b[0;34m\u001b[0m\u001b[0;34m\u001b[0m\u001b[0m\n\u001b[1;32m    406\u001b[0m         \u001b[0;32mif\u001b[0m \u001b[0mcheck_input\u001b[0m\u001b[0;34m:\u001b[0m\u001b[0;34m\u001b[0m\u001b[0;34m\u001b[0m\u001b[0m\n\u001b[0;32m--> 407\u001b[0;31m             X = self._validate_data(X, dtype=DTYPE, accept_sparse=\"csr\",\n\u001b[0m\u001b[1;32m    408\u001b[0m                                     reset=False)\n\u001b[1;32m    409\u001b[0m             if issparse(X) and (X.indices.dtype != np.intc or\n",
      "\u001b[0;32m~/.pyenv/versions/lewagon/envs/reestimator/lib/python3.8/site-packages/sklearn/base.py\u001b[0m in \u001b[0;36m_validate_data\u001b[0;34m(self, X, y, reset, validate_separately, **check_params)\u001b[0m\n\u001b[1;32m    419\u001b[0m             \u001b[0mout\u001b[0m \u001b[0;34m=\u001b[0m \u001b[0mX\u001b[0m\u001b[0;34m\u001b[0m\u001b[0;34m\u001b[0m\u001b[0m\n\u001b[1;32m    420\u001b[0m         \u001b[0;32melif\u001b[0m \u001b[0misinstance\u001b[0m\u001b[0;34m(\u001b[0m\u001b[0my\u001b[0m\u001b[0;34m,\u001b[0m \u001b[0mstr\u001b[0m\u001b[0;34m)\u001b[0m \u001b[0;32mand\u001b[0m \u001b[0my\u001b[0m \u001b[0;34m==\u001b[0m \u001b[0;34m'no_validation'\u001b[0m\u001b[0;34m:\u001b[0m\u001b[0;34m\u001b[0m\u001b[0;34m\u001b[0m\u001b[0m\n\u001b[0;32m--> 421\u001b[0;31m             \u001b[0mX\u001b[0m \u001b[0;34m=\u001b[0m \u001b[0mcheck_array\u001b[0m\u001b[0;34m(\u001b[0m\u001b[0mX\u001b[0m\u001b[0;34m,\u001b[0m \u001b[0;34m**\u001b[0m\u001b[0mcheck_params\u001b[0m\u001b[0;34m)\u001b[0m\u001b[0;34m\u001b[0m\u001b[0;34m\u001b[0m\u001b[0m\n\u001b[0m\u001b[1;32m    422\u001b[0m             \u001b[0mout\u001b[0m \u001b[0;34m=\u001b[0m \u001b[0mX\u001b[0m\u001b[0;34m\u001b[0m\u001b[0;34m\u001b[0m\u001b[0m\n\u001b[1;32m    423\u001b[0m         \u001b[0;32melse\u001b[0m\u001b[0;34m:\u001b[0m\u001b[0;34m\u001b[0m\u001b[0;34m\u001b[0m\u001b[0m\n",
      "\u001b[0;32m~/.pyenv/versions/lewagon/envs/reestimator/lib/python3.8/site-packages/sklearn/utils/validation.py\u001b[0m in \u001b[0;36minner_f\u001b[0;34m(*args, **kwargs)\u001b[0m\n\u001b[1;32m     61\u001b[0m             \u001b[0mextra_args\u001b[0m \u001b[0;34m=\u001b[0m \u001b[0mlen\u001b[0m\u001b[0;34m(\u001b[0m\u001b[0margs\u001b[0m\u001b[0;34m)\u001b[0m \u001b[0;34m-\u001b[0m \u001b[0mlen\u001b[0m\u001b[0;34m(\u001b[0m\u001b[0mall_args\u001b[0m\u001b[0;34m)\u001b[0m\u001b[0;34m\u001b[0m\u001b[0;34m\u001b[0m\u001b[0m\n\u001b[1;32m     62\u001b[0m             \u001b[0;32mif\u001b[0m \u001b[0mextra_args\u001b[0m \u001b[0;34m<=\u001b[0m \u001b[0;36m0\u001b[0m\u001b[0;34m:\u001b[0m\u001b[0;34m\u001b[0m\u001b[0;34m\u001b[0m\u001b[0m\n\u001b[0;32m---> 63\u001b[0;31m                 \u001b[0;32mreturn\u001b[0m \u001b[0mf\u001b[0m\u001b[0;34m(\u001b[0m\u001b[0;34m*\u001b[0m\u001b[0margs\u001b[0m\u001b[0;34m,\u001b[0m \u001b[0;34m**\u001b[0m\u001b[0mkwargs\u001b[0m\u001b[0;34m)\u001b[0m\u001b[0;34m\u001b[0m\u001b[0;34m\u001b[0m\u001b[0m\n\u001b[0m\u001b[1;32m     64\u001b[0m \u001b[0;34m\u001b[0m\u001b[0m\n\u001b[1;32m     65\u001b[0m             \u001b[0;31m# extra_args > 0\u001b[0m\u001b[0;34m\u001b[0m\u001b[0;34m\u001b[0m\u001b[0;34m\u001b[0m\u001b[0m\n",
      "\u001b[0;32m~/.pyenv/versions/lewagon/envs/reestimator/lib/python3.8/site-packages/sklearn/utils/validation.py\u001b[0m in \u001b[0;36mcheck_array\u001b[0;34m(array, accept_sparse, accept_large_sparse, dtype, order, copy, force_all_finite, ensure_2d, allow_nd, ensure_min_samples, ensure_min_features, estimator)\u001b[0m\n\u001b[1;32m    671\u001b[0m                     \u001b[0marray\u001b[0m \u001b[0;34m=\u001b[0m \u001b[0marray\u001b[0m\u001b[0;34m.\u001b[0m\u001b[0mastype\u001b[0m\u001b[0;34m(\u001b[0m\u001b[0mdtype\u001b[0m\u001b[0;34m,\u001b[0m \u001b[0mcasting\u001b[0m\u001b[0;34m=\u001b[0m\u001b[0;34m\"unsafe\"\u001b[0m\u001b[0;34m,\u001b[0m \u001b[0mcopy\u001b[0m\u001b[0;34m=\u001b[0m\u001b[0;32mFalse\u001b[0m\u001b[0;34m)\u001b[0m\u001b[0;34m\u001b[0m\u001b[0;34m\u001b[0m\u001b[0m\n\u001b[1;32m    672\u001b[0m                 \u001b[0;32melse\u001b[0m\u001b[0;34m:\u001b[0m\u001b[0;34m\u001b[0m\u001b[0;34m\u001b[0m\u001b[0m\n\u001b[0;32m--> 673\u001b[0;31m                     \u001b[0marray\u001b[0m \u001b[0;34m=\u001b[0m \u001b[0mnp\u001b[0m\u001b[0;34m.\u001b[0m\u001b[0masarray\u001b[0m\u001b[0;34m(\u001b[0m\u001b[0marray\u001b[0m\u001b[0;34m,\u001b[0m \u001b[0morder\u001b[0m\u001b[0;34m=\u001b[0m\u001b[0morder\u001b[0m\u001b[0;34m,\u001b[0m \u001b[0mdtype\u001b[0m\u001b[0;34m=\u001b[0m\u001b[0mdtype\u001b[0m\u001b[0;34m)\u001b[0m\u001b[0;34m\u001b[0m\u001b[0;34m\u001b[0m\u001b[0m\n\u001b[0m\u001b[1;32m    674\u001b[0m             \u001b[0;32mexcept\u001b[0m \u001b[0mComplexWarning\u001b[0m \u001b[0;32mas\u001b[0m \u001b[0mcomplex_warning\u001b[0m\u001b[0;34m:\u001b[0m\u001b[0;34m\u001b[0m\u001b[0;34m\u001b[0m\u001b[0m\n\u001b[1;32m    675\u001b[0m                 raise ValueError(\"Complex data not supported\\n\"\n",
      "\u001b[0;32m~/.pyenv/versions/lewagon/envs/reestimator/lib/python3.8/site-packages/pandas/core/generic.py\u001b[0m in \u001b[0;36m__array__\u001b[0;34m(self, dtype)\u001b[0m\n\u001b[1;32m   1991\u001b[0m \u001b[0;34m\u001b[0m\u001b[0m\n\u001b[1;32m   1992\u001b[0m     \u001b[0;32mdef\u001b[0m \u001b[0m__array__\u001b[0m\u001b[0;34m(\u001b[0m\u001b[0mself\u001b[0m\u001b[0;34m,\u001b[0m \u001b[0mdtype\u001b[0m\u001b[0;34m:\u001b[0m \u001b[0mNpDtype\u001b[0m \u001b[0;34m|\u001b[0m \u001b[0;32mNone\u001b[0m \u001b[0;34m=\u001b[0m \u001b[0;32mNone\u001b[0m\u001b[0;34m)\u001b[0m \u001b[0;34m->\u001b[0m \u001b[0mnp\u001b[0m\u001b[0;34m.\u001b[0m\u001b[0mndarray\u001b[0m\u001b[0;34m:\u001b[0m\u001b[0;34m\u001b[0m\u001b[0;34m\u001b[0m\u001b[0m\n\u001b[0;32m-> 1993\u001b[0;31m         \u001b[0;32mreturn\u001b[0m \u001b[0mnp\u001b[0m\u001b[0;34m.\u001b[0m\u001b[0masarray\u001b[0m\u001b[0;34m(\u001b[0m\u001b[0mself\u001b[0m\u001b[0;34m.\u001b[0m\u001b[0m_values\u001b[0m\u001b[0;34m,\u001b[0m \u001b[0mdtype\u001b[0m\u001b[0;34m=\u001b[0m\u001b[0mdtype\u001b[0m\u001b[0;34m)\u001b[0m\u001b[0;34m\u001b[0m\u001b[0;34m\u001b[0m\u001b[0m\n\u001b[0m\u001b[1;32m   1994\u001b[0m \u001b[0;34m\u001b[0m\u001b[0m\n\u001b[1;32m   1995\u001b[0m     def __array_wrap__(\n",
      "\u001b[0;31mValueError\u001b[0m: could not convert string to float: '2016-113567'"
     ]
    }
   ],
   "source": [
    "# Calculate the accuracy and predictions\n",
    "score = joblib_model.score(X_test, y_test)\n",
    "# print(100 * score)\n",
    "# Ypredict = joblib_model.predict(X_test)"
   ]
  },
  {
   "cell_type": "code",
   "execution_count": null,
   "id": "44f3e795",
   "metadata": {},
   "outputs": [],
   "source": [
    "# les colonnes du X_train pour le modèle :\n",
    "# surface_reelle_bati\n",
    "nombre_pieces_principales\n",
    "surface_terrain\n",
    "Dependency\n",
    "Marseille 10e Arrondissement\n",
    "Marseille 11e Arrondissement\n",
    "Marseille 12e Arrondissement\n",
    "Marseille 13e Arrondissement\n",
    "Marseille 14e Arrondissement\n",
    "Marseille 15e Arrondissement\n",
    "Marseille 16e Arrondissement\n",
    "Marseille 1er Arrondissement\n",
    "Marseille 2e Arrondissement\n",
    "Marseille 3e Arrondissement\n",
    "Marseille 4e Arrondissement\n",
    "Marseille 5e Arrondissement\n",
    "Marseille 6e Arrondissement\n",
    "Marseille 7e Arrondissement\n",
    "Marseille 8e Arrondissement\n",
    "Marseille 9e Arrondissement\n",
    "Appartement\n",
    "Maison"
   ]
  },
  {
   "cell_type": "code",
   "execution_count": null,
   "id": "5e8fb369",
   "metadata": {},
   "outputs": [],
   "source": []
  },
  {
   "cell_type": "code",
   "execution_count": null,
   "id": "9448f35f",
   "metadata": {},
   "outputs": [],
   "source": []
  }
 ],
 "metadata": {
  "kernelspec": {
   "display_name": "Python 3 (ipykernel)",
   "language": "python",
   "name": "python3"
  },
  "language_info": {
   "codemirror_mode": {
    "name": "ipython",
    "version": 3
   },
   "file_extension": ".py",
   "mimetype": "text/x-python",
   "name": "python",
   "nbconvert_exporter": "python",
   "pygments_lexer": "ipython3",
   "version": "3.8.6"
  },
  "varInspector": {
   "cols": {
    "lenName": 16,
    "lenType": 16,
    "lenVar": 40
   },
   "kernels_config": {
    "python": {
     "delete_cmd_postfix": "",
     "delete_cmd_prefix": "del ",
     "library": "var_list.py",
     "varRefreshCmd": "print(var_dic_list())"
    },
    "r": {
     "delete_cmd_postfix": ") ",
     "delete_cmd_prefix": "rm(",
     "library": "var_list.r",
     "varRefreshCmd": "cat(var_dic_list()) "
    }
   },
   "types_to_exclude": [
    "module",
    "function",
    "builtin_function_or_method",
    "instance",
    "_Feature"
   ],
   "window_display": false
  }
 },
 "nbformat": 4,
 "nbformat_minor": 5
}
