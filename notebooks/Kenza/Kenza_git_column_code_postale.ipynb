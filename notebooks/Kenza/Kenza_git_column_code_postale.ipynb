{
  "nbformat": 4,
  "nbformat_minor": 0,
  "metadata": {
    "colab": {
      "name": "Kenza_git_column_code_postale.ipynb",
      "provenance": [],
      "collapsed_sections": [],
      "toc_visible": true
    },
    "kernelspec": {
      "name": "python3",
      "display_name": "Python 3"
    },
    "language_info": {
      "name": "python"
    }
  },
  "cells": [
    {
      "cell_type": "code",
      "metadata": {
        "id": "JqKsgm6-rdeI"
      },
      "source": [
        "import numpy as np\n",
        "import pandas as pd\n",
        "#import matplotlib.pyplot as plt\n",
        "#import seaborn as sns\n",
        "#from collections import namedtuple"
      ],
      "execution_count": 2,
      "outputs": []
    },
    {
      "cell_type": "markdown",
      "metadata": {
        "id": "5qo_Dee0rmDz"
      },
      "source": [
        "# Get data (file : valeursfoncieres-2020 )"
      ]
    },
    {
      "cell_type": "code",
      "metadata": {
        "colab": {
          "base_uri": "https://localhost:8080/"
        },
        "id": "s8SMVWC6riC3",
        "outputId": "054beb8d-818a-4806-cdd4-d8ada04ac27a"
      },
      "source": [
        "def get_data(url):\n",
        "  df = pd.read_csv(url, low_memory=False)\n",
        "  print(\"data.shape : \", df.shape)\n",
        "  return df\n",
        "  \n",
        "#get_data form url \n",
        "url = 'https://files.data.gouv.fr/geo-dvf/latest/csv/2020/full.csv.gz'\n",
        "df = get_data(url)\n",
        "# make copies\n",
        "whole_data = df.copy()\n",
        "\n",
        "def drop_rows_with_nan_in_column(df, col_name): #df : dataframe\n",
        "   selected_rows = df[df[col_name].notna()]\n",
        "   return selected_rows\n",
        "\n",
        "data_clean = drop_rows_with_nan_in_column(df = whole_data, col_name= 'valeur_fonciere')\n",
        "print(\"data_clean\", data_clean.shape, \"whole_data\", whole_data.shape)\n",
        "\n",
        "\n",
        "def filtered_data(df, col_mutation, col_local_type):\n",
        "  \n",
        "  modif_df = df[\n",
        "                (df[col_mutation] == \"Vente\") & \\\n",
        "                 (   \\\n",
        "                  (df[col_local_type] == \"Maison\") | \n",
        "                   (df[col_local_type] == \"Appartement\") | \n",
        "                  (df[col_local_type] == \"Dépendance\")\n",
        "                 )\n",
        "                 ] \n",
        "\n",
        "  return modif_df                                \n",
        " \n",
        "data = filtered_data(df = data_clean, \n",
        "                           col_mutation = 'nature_mutation',\n",
        "                           col_local_type = 'type_local')                          \n",
        "\n",
        "print(\"data.shape (whole)\", whole_data.shape) # whole data\n",
        "print(\"data_clean.shape\", data_clean.shape) # NaN 'valeur_fonciere' out\n",
        "\n",
        "print(\"data.shape (industrial out, NaN local type out, and only 'vente'mutation \", data.shape)"
      ],
      "execution_count": 5,
      "outputs": [
        {
          "output_type": "stream",
          "text": [
            "data.shape :  (2459560, 40)\n",
            "data_clean (2427808, 40) whole_data (2459560, 40)\n",
            "data.shape (whole) (2459560, 40)\n",
            "data_clean.shape (2427808, 40)\n",
            "data.shape (industrial out, NaN local type out, and only 'vente'mutation  (1203720, 40)\n"
          ],
          "name": "stdout"
        }
      ]
    },
    {
      "cell_type": "code",
      "metadata": {
        "colab": {
          "base_uri": "https://localhost:8080/"
        },
        "id": "jKMb8IIkttQO",
        "outputId": "0a7354dc-e801-4fbc-e889-f40485680f80"
      },
      "source": [
        "data['code_postal'].isnull().sum()"
      ],
      "execution_count": 7,
      "outputs": [
        {
          "output_type": "execute_result",
          "data": {
            "text/plain": [
              "37"
            ]
          },
          "metadata": {},
          "execution_count": 7
        }
      ]
    },
    {
      "cell_type": "markdown",
      "metadata": {
        "id": "RaxwHbIVvTBg"
      },
      "source": [
        "## Select rows with NaN in column"
      ]
    },
    {
      "cell_type": "code",
      "metadata": {
        "colab": {
          "base_uri": "https://localhost:8080/",
          "height": 165
        },
        "id": "3pVw5fv2uTUw",
        "outputId": "3723a745-0550-4832-8952-fcf2feecf943"
      },
      "source": [
        "selected_rows = data[data['code_postal'].isnull()]\n",
        "selected_rows.head(2)"
      ],
      "execution_count": 8,
      "outputs": [
        {
          "output_type": "execute_result",
          "data": {
            "text/html": [
              "<div>\n",
              "<style scoped>\n",
              "    .dataframe tbody tr th:only-of-type {\n",
              "        vertical-align: middle;\n",
              "    }\n",
              "\n",
              "    .dataframe tbody tr th {\n",
              "        vertical-align: top;\n",
              "    }\n",
              "\n",
              "    .dataframe thead th {\n",
              "        text-align: right;\n",
              "    }\n",
              "</style>\n",
              "<table border=\"1\" class=\"dataframe\">\n",
              "  <thead>\n",
              "    <tr style=\"text-align: right;\">\n",
              "      <th></th>\n",
              "      <th>id_mutation</th>\n",
              "      <th>date_mutation</th>\n",
              "      <th>numero_disposition</th>\n",
              "      <th>nature_mutation</th>\n",
              "      <th>valeur_fonciere</th>\n",
              "      <th>adresse_numero</th>\n",
              "      <th>adresse_suffixe</th>\n",
              "      <th>adresse_nom_voie</th>\n",
              "      <th>adresse_code_voie</th>\n",
              "      <th>code_postal</th>\n",
              "      <th>code_commune</th>\n",
              "      <th>nom_commune</th>\n",
              "      <th>code_departement</th>\n",
              "      <th>ancien_code_commune</th>\n",
              "      <th>ancien_nom_commune</th>\n",
              "      <th>id_parcelle</th>\n",
              "      <th>ancien_id_parcelle</th>\n",
              "      <th>numero_volume</th>\n",
              "      <th>lot1_numero</th>\n",
              "      <th>lot1_surface_carrez</th>\n",
              "      <th>lot2_numero</th>\n",
              "      <th>lot2_surface_carrez</th>\n",
              "      <th>lot3_numero</th>\n",
              "      <th>lot3_surface_carrez</th>\n",
              "      <th>lot4_numero</th>\n",
              "      <th>lot4_surface_carrez</th>\n",
              "      <th>lot5_numero</th>\n",
              "      <th>lot5_surface_carrez</th>\n",
              "      <th>nombre_lots</th>\n",
              "      <th>code_type_local</th>\n",
              "      <th>type_local</th>\n",
              "      <th>surface_reelle_bati</th>\n",
              "      <th>nombre_pieces_principales</th>\n",
              "      <th>code_nature_culture</th>\n",
              "      <th>nature_culture</th>\n",
              "      <th>code_nature_culture_speciale</th>\n",
              "      <th>nature_culture_speciale</th>\n",
              "      <th>surface_terrain</th>\n",
              "      <th>longitude</th>\n",
              "      <th>latitude</th>\n",
              "    </tr>\n",
              "  </thead>\n",
              "  <tbody>\n",
              "    <tr>\n",
              "      <th>81601</th>\n",
              "      <td>2020-32124</td>\n",
              "      <td>2020-05-26</td>\n",
              "      <td>1</td>\n",
              "      <td>Vente</td>\n",
              "      <td>104300.0</td>\n",
              "      <td>2.0</td>\n",
              "      <td>.</td>\n",
              "      <td>RUE ANTONIN CORONAT</td>\n",
              "      <td>0072</td>\n",
              "      <td>NaN</td>\n",
              "      <td>05061</td>\n",
              "      <td>Gap</td>\n",
              "      <td>05</td>\n",
              "      <td>NaN</td>\n",
              "      <td>NaN</td>\n",
              "      <td>05061000CY0138</td>\n",
              "      <td>NaN</td>\n",
              "      <td>NaN</td>\n",
              "      <td>46</td>\n",
              "      <td>NaN</td>\n",
              "      <td>NaN</td>\n",
              "      <td>NaN</td>\n",
              "      <td>NaN</td>\n",
              "      <td>NaN</td>\n",
              "      <td>NaN</td>\n",
              "      <td>NaN</td>\n",
              "      <td>NaN</td>\n",
              "      <td>NaN</td>\n",
              "      <td>1</td>\n",
              "      <td>3.0</td>\n",
              "      <td>Dépendance</td>\n",
              "      <td>NaN</td>\n",
              "      <td>0.0</td>\n",
              "      <td>NaN</td>\n",
              "      <td>NaN</td>\n",
              "      <td>NaN</td>\n",
              "      <td>NaN</td>\n",
              "      <td>NaN</td>\n",
              "      <td>6.071288</td>\n",
              "      <td>44.566967</td>\n",
              "    </tr>\n",
              "    <tr>\n",
              "      <th>81602</th>\n",
              "      <td>2020-32124</td>\n",
              "      <td>2020-05-26</td>\n",
              "      <td>1</td>\n",
              "      <td>Vente</td>\n",
              "      <td>104300.0</td>\n",
              "      <td>2.0</td>\n",
              "      <td>.</td>\n",
              "      <td>RUE ANTONIN CORONAT</td>\n",
              "      <td>0072</td>\n",
              "      <td>NaN</td>\n",
              "      <td>05061</td>\n",
              "      <td>Gap</td>\n",
              "      <td>05</td>\n",
              "      <td>NaN</td>\n",
              "      <td>NaN</td>\n",
              "      <td>05061000CY0138</td>\n",
              "      <td>NaN</td>\n",
              "      <td>NaN</td>\n",
              "      <td>22</td>\n",
              "      <td>NaN</td>\n",
              "      <td>34</td>\n",
              "      <td>NaN</td>\n",
              "      <td>NaN</td>\n",
              "      <td>NaN</td>\n",
              "      <td>NaN</td>\n",
              "      <td>NaN</td>\n",
              "      <td>NaN</td>\n",
              "      <td>NaN</td>\n",
              "      <td>2</td>\n",
              "      <td>2.0</td>\n",
              "      <td>Appartement</td>\n",
              "      <td>30.0</td>\n",
              "      <td>1.0</td>\n",
              "      <td>NaN</td>\n",
              "      <td>NaN</td>\n",
              "      <td>NaN</td>\n",
              "      <td>NaN</td>\n",
              "      <td>NaN</td>\n",
              "      <td>6.071288</td>\n",
              "      <td>44.566967</td>\n",
              "    </tr>\n",
              "  </tbody>\n",
              "</table>\n",
              "</div>"
            ],
            "text/plain": [
              "      id_mutation date_mutation  ...  longitude   latitude\n",
              "81601  2020-32124    2020-05-26  ...   6.071288  44.566967\n",
              "81602  2020-32124    2020-05-26  ...   6.071288  44.566967\n",
              "\n",
              "[2 rows x 40 columns]"
            ]
          },
          "metadata": {},
          "execution_count": 8
        }
      ]
    },
    {
      "cell_type": "code",
      "metadata": {
        "colab": {
          "base_uri": "https://localhost:8080/"
        },
        "id": "DdlgamEWuTbg",
        "outputId": "cdfa67bc-8b81-472b-f735-440db3b89114"
      },
      "source": [
        "selected_rows.shape"
      ],
      "execution_count": 9,
      "outputs": [
        {
          "output_type": "execute_result",
          "data": {
            "text/plain": [
              "(37, 40)"
            ]
          },
          "metadata": {},
          "execution_count": 9
        }
      ]
    },
    {
      "cell_type": "code",
      "metadata": {
        "colab": {
          "base_uri": "https://localhost:8080/"
        },
        "id": "RqsCXXH2uTYB",
        "outputId": "eb4cd2a3-5a35-4181-9404-c94587abb93b"
      },
      "source": [
        "def select_rows_with_nan_in_column(df, col_name): #df : dataframe\n",
        "  selected_rows = data[data[col_name].isnull()]\n",
        "  return selected_rows\n",
        "df_test = select_rows_with_nan_in_column(df = data, col_name= 'code_postal')\n",
        "df_test.shape"
      ],
      "execution_count": 10,
      "outputs": [
        {
          "output_type": "execute_result",
          "data": {
            "text/plain": [
              "(37, 40)"
            ]
          },
          "metadata": {},
          "execution_count": 10
        }
      ]
    },
    {
      "cell_type": "code",
      "metadata": {
        "colab": {
          "base_uri": "https://localhost:8080/"
        },
        "id": "ysQGCHGGuTgB",
        "outputId": "76cf313f-4fed-4125-9c07-54c5f0ac6d49"
      },
      "source": [
        "\n",
        "selected_rows['valeur_fonciere'].isnull().sum()"
      ],
      "execution_count": 11,
      "outputs": [
        {
          "output_type": "execute_result",
          "data": {
            "text/plain": [
              "0"
            ]
          },
          "metadata": {},
          "execution_count": 11
        }
      ]
    },
    {
      "cell_type": "code",
      "metadata": {
        "colab": {
          "base_uri": "https://localhost:8080/",
          "height": 309
        },
        "id": "tIAUBAnrv3sM",
        "outputId": "baabcb5b-fb8c-4283-86aa-6e7a7d894c2b"
      },
      "source": [
        "mask_columns = ['adresse_numero', 'adresse_suffixe',\n",
        "       'adresse_nom_voie', \n",
        "        'code_postal', 'code_commune',\n",
        "       'code_departement',\n",
        "       'valeur_fonciere',  'type_local',\n",
        "        'code_postal', 'id_parcelle']\n",
        "\n",
        "selected_rows[mask_columns].head(5)"
      ],
      "execution_count": 12,
      "outputs": [
        {
          "output_type": "execute_result",
          "data": {
            "text/html": [
              "<div>\n",
              "<style scoped>\n",
              "    .dataframe tbody tr th:only-of-type {\n",
              "        vertical-align: middle;\n",
              "    }\n",
              "\n",
              "    .dataframe tbody tr th {\n",
              "        vertical-align: top;\n",
              "    }\n",
              "\n",
              "    .dataframe thead th {\n",
              "        text-align: right;\n",
              "    }\n",
              "</style>\n",
              "<table border=\"1\" class=\"dataframe\">\n",
              "  <thead>\n",
              "    <tr style=\"text-align: right;\">\n",
              "      <th></th>\n",
              "      <th>adresse_numero</th>\n",
              "      <th>adresse_suffixe</th>\n",
              "      <th>adresse_nom_voie</th>\n",
              "      <th>code_postal</th>\n",
              "      <th>code_commune</th>\n",
              "      <th>code_departement</th>\n",
              "      <th>valeur_fonciere</th>\n",
              "      <th>type_local</th>\n",
              "      <th>code_postal</th>\n",
              "      <th>id_parcelle</th>\n",
              "    </tr>\n",
              "  </thead>\n",
              "  <tbody>\n",
              "    <tr>\n",
              "      <th>81601</th>\n",
              "      <td>2.0</td>\n",
              "      <td>.</td>\n",
              "      <td>RUE ANTONIN CORONAT</td>\n",
              "      <td>NaN</td>\n",
              "      <td>05061</td>\n",
              "      <td>05</td>\n",
              "      <td>104300.0</td>\n",
              "      <td>Dépendance</td>\n",
              "      <td>NaN</td>\n",
              "      <td>05061000CY0138</td>\n",
              "    </tr>\n",
              "    <tr>\n",
              "      <th>81602</th>\n",
              "      <td>2.0</td>\n",
              "      <td>.</td>\n",
              "      <td>RUE ANTONIN CORONAT</td>\n",
              "      <td>NaN</td>\n",
              "      <td>05061</td>\n",
              "      <td>05</td>\n",
              "      <td>104300.0</td>\n",
              "      <td>Appartement</td>\n",
              "      <td>NaN</td>\n",
              "      <td>05061000CY0138</td>\n",
              "    </tr>\n",
              "    <tr>\n",
              "      <th>139884</th>\n",
              "      <td>739.0</td>\n",
              "      <td>NaN</td>\n",
              "      <td>AV JEAN MARCHAND</td>\n",
              "      <td>NaN</td>\n",
              "      <td>06161</td>\n",
              "      <td>06</td>\n",
              "      <td>114000.0</td>\n",
              "      <td>Appartement</td>\n",
              "      <td>NaN</td>\n",
              "      <td>06161000AT0023</td>\n",
              "    </tr>\n",
              "    <tr>\n",
              "      <th>139969</th>\n",
              "      <td>31.0</td>\n",
              "      <td>NaN</td>\n",
              "      <td>AV JEAN MARCHAND</td>\n",
              "      <td>NaN</td>\n",
              "      <td>06161</td>\n",
              "      <td>06</td>\n",
              "      <td>4500.0</td>\n",
              "      <td>Dépendance</td>\n",
              "      <td>NaN</td>\n",
              "      <td>06161000AT0003</td>\n",
              "    </tr>\n",
              "    <tr>\n",
              "      <th>140008</th>\n",
              "      <td>629.0</td>\n",
              "      <td>NaN</td>\n",
              "      <td>AV JEAN MARCHAND</td>\n",
              "      <td>NaN</td>\n",
              "      <td>06161</td>\n",
              "      <td>06</td>\n",
              "      <td>248000.0</td>\n",
              "      <td>Appartement</td>\n",
              "      <td>NaN</td>\n",
              "      <td>06161000AT0007</td>\n",
              "    </tr>\n",
              "  </tbody>\n",
              "</table>\n",
              "</div>"
            ],
            "text/plain": [
              "        adresse_numero adresse_suffixe  ... code_postal     id_parcelle\n",
              "81601              2.0               .  ...         NaN  05061000CY0138\n",
              "81602              2.0               .  ...         NaN  05061000CY0138\n",
              "139884           739.0             NaN  ...         NaN  06161000AT0023\n",
              "139969            31.0             NaN  ...         NaN  06161000AT0003\n",
              "140008           629.0             NaN  ...         NaN  06161000AT0007\n",
              "\n",
              "[5 rows x 10 columns]"
            ]
          },
          "metadata": {},
          "execution_count": 12
        }
      ]
    },
    {
      "cell_type": "code",
      "metadata": {
        "colab": {
          "base_uri": "https://localhost:8080/"
        },
        "id": "1Nn7IyV8x0cY",
        "outputId": "5d4a4853-c147-4089-fb5d-2589bd13141c"
      },
      "source": [
        "selected_rows['adresse_suffixe'].unique() "
      ],
      "execution_count": 13,
      "outputs": [
        {
          "output_type": "execute_result",
          "data": {
            "text/plain": [
              "array(['.', nan, 'F'], dtype=object)"
            ]
          },
          "metadata": {},
          "execution_count": 13
        }
      ]
    },
    {
      "cell_type": "code",
      "metadata": {
        "colab": {
          "base_uri": "https://localhost:8080/"
        },
        "id": "u0CFwHXs0hDt",
        "outputId": "e239c958-f4b3-47bf-f1e4-a349578eb745"
      },
      "source": [
        "selected_rows['adresse_suffixe'].value_counts()"
      ],
      "execution_count": 14,
      "outputs": [
        {
          "output_type": "execute_result",
          "data": {
            "text/plain": [
              ".    5\n",
              "F    1\n",
              "Name: adresse_suffixe, dtype: int64"
            ]
          },
          "metadata": {},
          "execution_count": 14
        }
      ]
    },
    {
      "cell_type": "code",
      "metadata": {
        "colab": {
          "base_uri": "https://localhost:8080/"
        },
        "id": "zbw0mkRN01i-",
        "outputId": "39b1ccfc-60a4-4105-f684-394fbe61ea71"
      },
      "source": [
        "selected_rows['adresse_suffixe'].isnull().sum() # There are 31 missing values  (31/37)"
      ],
      "execution_count": 15,
      "outputs": [
        {
          "output_type": "execute_result",
          "data": {
            "text/plain": [
              "31"
            ]
          },
          "metadata": {},
          "execution_count": 15
        }
      ]
    },
    {
      "cell_type": "code",
      "metadata": {
        "id": "toRxto3J0891"
      },
      "source": [
        "def get_count_of_missing_values(df):\n",
        "  missing_df = pd.DataFrame(df.isnull().sum().sort_values(ascending=False))\n",
        "  return missing_df\n",
        "\n",
        "missing_df = get_count_of_missing_values(df = selected_rows)\n",
        "#missing_df"
      ],
      "execution_count": 16,
      "outputs": []
    },
    {
      "cell_type": "code",
      "metadata": {
        "id": "N3cnscgz26nw"
      },
      "source": [
        "mask_columns = ['adresse_numero', 'adresse_suffixe',\n",
        "       'adresse_nom_voie', \n",
        "        'code_postal', 'code_commune',\n",
        "       'code_departement',\n",
        "        'code_postal', 'id_parcelle']\n"
      ],
      "execution_count": 17,
      "outputs": []
    },
    {
      "cell_type": "code",
      "metadata": {
        "colab": {
          "base_uri": "https://localhost:8080/",
          "height": 100
        },
        "id": "7KE9sydN1eus",
        "outputId": "674bfc6b-1233-4499-a78d-1511e2b2f35d"
      },
      "source": [
        "(missing_df.T)[mask_columns]"
      ],
      "execution_count": 18,
      "outputs": [
        {
          "output_type": "execute_result",
          "data": {
            "text/html": [
              "<div>\n",
              "<style scoped>\n",
              "    .dataframe tbody tr th:only-of-type {\n",
              "        vertical-align: middle;\n",
              "    }\n",
              "\n",
              "    .dataframe tbody tr th {\n",
              "        vertical-align: top;\n",
              "    }\n",
              "\n",
              "    .dataframe thead th {\n",
              "        text-align: right;\n",
              "    }\n",
              "</style>\n",
              "<table border=\"1\" class=\"dataframe\">\n",
              "  <thead>\n",
              "    <tr style=\"text-align: right;\">\n",
              "      <th></th>\n",
              "      <th>adresse_numero</th>\n",
              "      <th>adresse_suffixe</th>\n",
              "      <th>adresse_nom_voie</th>\n",
              "      <th>code_postal</th>\n",
              "      <th>code_commune</th>\n",
              "      <th>code_departement</th>\n",
              "      <th>code_postal</th>\n",
              "      <th>id_parcelle</th>\n",
              "    </tr>\n",
              "  </thead>\n",
              "  <tbody>\n",
              "    <tr>\n",
              "      <th>0</th>\n",
              "      <td>0</td>\n",
              "      <td>31</td>\n",
              "      <td>0</td>\n",
              "      <td>37</td>\n",
              "      <td>0</td>\n",
              "      <td>0</td>\n",
              "      <td>37</td>\n",
              "      <td>0</td>\n",
              "    </tr>\n",
              "  </tbody>\n",
              "</table>\n",
              "</div>"
            ],
            "text/plain": [
              "   adresse_numero  adresse_suffixe  ...  code_postal  id_parcelle\n",
              "0               0               31  ...           37            0\n",
              "\n",
              "[1 rows x 8 columns]"
            ]
          },
          "metadata": {},
          "execution_count": 18
        }
      ]
    },
    {
      "cell_type": "markdown",
      "metadata": {
        "id": "-He3WEhg3lfB"
      },
      "source": [
        "**adresse_numero & adresse_nom_voie & code_commune & code_departement**: all  values exist\n",
        "\n",
        "**adresse_suffixe** : 31 missing values  (31/37)\n",
        "\n",
        "**adresse_suffixe** : 5 values (5/6) are labeled by .\n",
        "\n",
        "----\n",
        "\n",
        ".    5\n",
        "\n",
        "----\n",
        "\n",
        "F    1"
      ]
    },
    {
      "cell_type": "markdown",
      "metadata": {
        "id": "rp9Cn-tFy2f0"
      },
      "source": [
        "If there are **Missing values** in column **'code_postale'**, we look at the column **'adresse_suffixe'**.\n",
        "If in column **'adresse_suffixe'**,  there are a lot of missing values and/or '.'value, we drop rows of the column **'code_postale'**, with NaN"
      ]
    },
    {
      "cell_type": "code",
      "metadata": {
        "id": "6VZK_iebypvl"
      },
      "source": [
        ""
      ],
      "execution_count": null,
      "outputs": []
    },
    {
      "cell_type": "code",
      "metadata": {
        "id": "WRC3vUl22k7C"
      },
      "source": [
        "\n"
      ],
      "execution_count": null,
      "outputs": []
    }
  ]
}