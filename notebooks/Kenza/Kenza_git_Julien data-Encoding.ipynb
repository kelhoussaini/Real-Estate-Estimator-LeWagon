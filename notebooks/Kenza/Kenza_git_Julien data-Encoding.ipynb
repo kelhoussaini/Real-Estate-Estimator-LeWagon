{
 "cells": [
  {
   "cell_type": "code",
   "execution_count": 1,
   "id": "e4e59499",
   "metadata": {},
   "outputs": [],
   "source": [
    "#Importing our Packages\n",
    "import matplotlib.pyplot as plt\n",
    "from sklearn.decomposition import PCA\n",
    "from sklearn.preprocessing import StandardScaler\n",
    "from sklearn.model_selection import train_test_split\n",
    "import pandas as pd\n",
    "import numpy as np\n",
    "from sklearn.linear_model import LinearRegression , Ridge , Lasso\n",
    "from sklearn.metrics import mean_absolute_percentage_error as mape\n",
    "from sklearn.metrics import mean_squared_error as rmse\n"
   ]
  },
  {
   "cell_type": "code",
   "execution_count": 2,
   "id": "a125c644",
   "metadata": {},
   "outputs": [],
   "source": [
    "#Load Libraries and Create engine Connection\n",
    "\n",
    "import pymysql\n",
    "import pandas as pd\n",
    "import numpy as np\n",
    "import sqlalchemy\n",
    "import gc\n",
    "engine =sqlalchemy.create_engine(\n",
    "        sqlalchemy.engine.url.URL.create(\n",
    "        drivername=\"mysql+pymysql\",\n",
    "        username='Estimators',  # e.g. \"my-database-user\"\n",
    "        password='Estimator2021',  # e.g. \"my-database-password\"\n",
    "        host='34.77.88.127',  # e.g. \"127.0.0.1\"\n",
    "        port=3306,  # e.g. 3306\n",
    "        database='Housing_France',  # e.g. \"my-database-name\"\n",
    "    ))\n",
    "\n",
    "conn = engine.connect().execution_options(stream_results=True)"
   ]
  },
  {
   "cell_type": "code",
   "execution_count": 3,
   "id": "87fe155c",
   "metadata": {},
   "outputs": [],
   "source": [
    "#Load Libraries and Create engine Connection\n",
    "\n",
    "import pymysql\n",
    "import pandas as pd\n",
    "import numpy as np\n",
    "import sqlalchemy\n",
    "import gc\n",
    "\n",
    "def get_data(querystring,chunk):\n",
    "    engine =sqlalchemy.create_engine(\n",
    "    sqlalchemy.engine.url.URL.create(\n",
    "    drivername=\"mysql+pymysql\",\n",
    "    username='Estimators',  # e.g. \"my-database-user\"\n",
    "    password='Estimator2021',  # e.g. \"my-database-password\"\n",
    "    host='34.77.88.127',  # e.g. \"127.0.0.1\"\n",
    "    port=3306,  # e.g. 3306\n",
    "    database='Housing_France',  # e.g. \"my-database-name\"\n",
    "    ))\n",
    "    conn = engine.connect().execution_options(stream_results=True)\n",
    "    frame = pd.DataFrame()\n",
    "    for chunk_dataframe in pd.read_sql(\n",
    "            querystring, conn, chunksize=chunk):\n",
    "            print(f\"Got dataframe w/{len(chunk_dataframe)} rows\")\n",
    "            frame= frame.append(chunk_dataframe)\n",
    "            # ... do something with dataframe ...\n",
    "            \n",
    "    return frame"
   ]
  },
  {
   "cell_type": "code",
   "execution_count": 4,
   "id": "9294d902",
   "metadata": {},
   "outputs": [
    {
     "name": "stdout",
     "output_type": "stream",
     "text": [
      "Got dataframe w/1000 rows\n",
      "Got dataframe w/1000 rows\n",
      "Got dataframe w/1000 rows\n",
      "Got dataframe w/1000 rows\n",
      "Got dataframe w/1000 rows\n",
      "Got dataframe w/1000 rows\n",
      "Got dataframe w/1000 rows\n",
      "Got dataframe w/1000 rows\n",
      "Got dataframe w/1000 rows\n",
      "Got dataframe w/1000 rows\n"
     ]
    }
   ],
   "source": [
    "#Template for getting some data\n",
    "df = get_data(\"\"\"select * from data_working_update LIMIT 10000\"\"\", 1000)"
   ]
  },
  {
   "cell_type": "code",
   "execution_count": 5,
   "id": "f4496357",
   "metadata": {},
   "outputs": [
    {
     "data": {
      "text/plain": [
       "Index(['id_mutation', 'date_mutation', 'nature_mutation', 'valeur_fonciere',\n",
       "       'adresse_suffixe', 'adresse_nom_voie', 'adresse_code_voie',\n",
       "       'code_postal', 'code_commune', 'nom_commune', 'code_departement',\n",
       "       'ancien_code_commune', 'ancien_nom_commune', 'id_parcelle',\n",
       "       'ancien_id_parcelle', 'lot1_numero', 'lot1_surface_carrez',\n",
       "       'lot2_numero', 'lot2_surface_carrez', 'lot3_numero',\n",
       "       'lot3_surface_carrez', 'lot4_numero', 'lot4_surface_carrez',\n",
       "       'lot5_numero', 'lot5_surface_carrez', 'nombre_lots', 'code_type_local',\n",
       "       'type_local', 'surface_reelle_bati', 'nombre_pieces_principales',\n",
       "       'code_nature_culture', 'nature_culture', 'code_nature_culture_speciale',\n",
       "       'nature_culture_speciale', 'surface_terrain', 'longitude', 'latitude'],\n",
       "      dtype='object')"
      ]
     },
     "execution_count": 5,
     "metadata": {},
     "output_type": "execute_result"
    }
   ],
   "source": [
    "data = df.copy()\n",
    "data.columns"
   ]
  },
  {
   "cell_type": "code",
   "execution_count": 6,
   "id": "40c0a63e",
   "metadata": {},
   "outputs": [
    {
     "data": {
      "text/plain": [
       "(10000, 37)"
      ]
     },
     "execution_count": 6,
     "metadata": {},
     "output_type": "execute_result"
    }
   ],
   "source": [
    "data.shape"
   ]
  },
  {
   "cell_type": "markdown",
   "id": "d6224687",
   "metadata": {},
   "source": [
    "# Encoding"
   ]
  },
  {
   "cell_type": "markdown",
   "id": "5a56bf8d",
   "metadata": {},
   "source": [
    "## type_local"
   ]
  },
  {
   "cell_type": "code",
   "execution_count": 7,
   "id": "248e6c3b",
   "metadata": {},
   "outputs": [
    {
     "data": {
      "text/plain": [
       "type_local    0\n",
       "dtype: int64"
      ]
     },
     "execution_count": 7,
     "metadata": {},
     "output_type": "execute_result"
    }
   ],
   "source": [
    "data[['type_local']].isnull().sum()"
   ]
  },
  {
   "cell_type": "code",
   "execution_count": 8,
   "id": "19ab9663",
   "metadata": {},
   "outputs": [
    {
     "data": {
      "text/plain": [
       "Maison         6747\n",
       "Appartement    3252\n",
       "Dépendance        1\n",
       "Name: type_local, dtype: int64"
      ]
     },
     "execution_count": 8,
     "metadata": {},
     "output_type": "execute_result"
    }
   ],
   "source": [
    "data['type_local'].value_counts()"
   ]
  },
  {
   "cell_type": "code",
   "execution_count": 9,
   "id": "52d31ff4",
   "metadata": {},
   "outputs": [
    {
     "data": {
      "text/plain": [
       "array(['Appartement', 'Maison', 'Dépendance'], dtype=object)"
      ]
     },
     "execution_count": 9,
     "metadata": {},
     "output_type": "execute_result"
    }
   ],
   "source": [
    "data['type_local'].unique()"
   ]
  },
  {
   "cell_type": "code",
   "execution_count": 10,
   "id": "0a494a93",
   "metadata": {},
   "outputs": [
    {
     "data": {
      "text/plain": [
       "array([2, 1, 3])"
      ]
     },
     "execution_count": 10,
     "metadata": {},
     "output_type": "execute_result"
    }
   ],
   "source": [
    "data['code_type_local'].unique()"
   ]
  },
  {
   "cell_type": "code",
   "execution_count": 11,
   "id": "4b46d7e2",
   "metadata": {},
   "outputs": [
    {
     "name": "stdout",
     "output_type": "stream",
     "text": [
      "['Appartement' 'Maison' 'Dépendance']\n"
     ]
    },
    {
     "data": {
      "text/plain": [
       "OneHotEncoder(sparse=False)"
      ]
     },
     "execution_count": 11,
     "metadata": {},
     "output_type": "execute_result"
    }
   ],
   "source": [
    "from sklearn.preprocessing import OneHotEncoder\n",
    "\n",
    "print(data['type_local'].unique())  # Check unique values for streets (3)\n",
    "\n",
    "ohe = OneHotEncoder(sparse = False) # Instanciate encoder\n",
    "\n",
    "ohe.fit(data[['type_local']]) # Fit encoder  ---> OneHotEncoder(sparse=False)"
   ]
  },
  {
   "cell_type": "code",
   "execution_count": 12,
   "id": "196224be",
   "metadata": {},
   "outputs": [
    {
     "data": {
      "text/plain": [
       "[array(['Appartement', 'Dépendance', 'Maison'], dtype=object)]"
      ]
     },
     "execution_count": 12,
     "metadata": {},
     "output_type": "execute_result"
    }
   ],
   "source": [
    "ohe.categories_"
   ]
  },
  {
   "cell_type": "code",
   "execution_count": 14,
   "id": "1aa9eaa8",
   "metadata": {},
   "outputs": [],
   "source": [
    "type_local_encoded = ohe.transform(data[['type_local']]) # Encode\n",
    "\n",
    "data[\"Appartement\"], data['Maison'] , data['Dépendance']= \\\n",
    "\\\n",
    "type_local_encoded.T # Transpose encoded type_local \n",
    "                                                                            #back into dataframe"
   ]
  },
  {
   "cell_type": "code",
   "execution_count": 15,
   "id": "55c57a34",
   "metadata": {},
   "outputs": [
    {
     "data": {
      "text/plain": [
       "(10000, 39)"
      ]
     },
     "execution_count": 15,
     "metadata": {},
     "output_type": "execute_result"
    }
   ],
   "source": [
    "data = data.drop(columns= 'type_local')\n",
    "data.shape"
   ]
  },
  {
   "cell_type": "code",
   "execution_count": 16,
   "id": "8d0fb29f",
   "metadata": {},
   "outputs": [
    {
     "data": {
      "text/html": [
       "<div>\n",
       "<style scoped>\n",
       "    .dataframe tbody tr th:only-of-type {\n",
       "        vertical-align: middle;\n",
       "    }\n",
       "\n",
       "    .dataframe tbody tr th {\n",
       "        vertical-align: top;\n",
       "    }\n",
       "\n",
       "    .dataframe thead th {\n",
       "        text-align: right;\n",
       "    }\n",
       "</style>\n",
       "<table border=\"1\" class=\"dataframe\">\n",
       "  <thead>\n",
       "    <tr style=\"text-align: right;\">\n",
       "      <th></th>\n",
       "      <th>id_mutation</th>\n",
       "      <th>date_mutation</th>\n",
       "      <th>nature_mutation</th>\n",
       "      <th>valeur_fonciere</th>\n",
       "      <th>adresse_suffixe</th>\n",
       "      <th>adresse_nom_voie</th>\n",
       "      <th>adresse_code_voie</th>\n",
       "      <th>code_postal</th>\n",
       "      <th>code_commune</th>\n",
       "      <th>nom_commune</th>\n",
       "      <th>...</th>\n",
       "      <th>code_nature_culture</th>\n",
       "      <th>nature_culture</th>\n",
       "      <th>code_nature_culture_speciale</th>\n",
       "      <th>nature_culture_speciale</th>\n",
       "      <th>surface_terrain</th>\n",
       "      <th>longitude</th>\n",
       "      <th>latitude</th>\n",
       "      <th>Appartement</th>\n",
       "      <th>Maison</th>\n",
       "      <th>Dépendance</th>\n",
       "    </tr>\n",
       "  </thead>\n",
       "  <tbody>\n",
       "    <tr>\n",
       "      <th>0</th>\n",
       "      <td>2016-1</td>\n",
       "      <td>2016-01-08</td>\n",
       "      <td>Vente</td>\n",
       "      <td>40000</td>\n",
       "      <td></td>\n",
       "      <td>RUE TONY REVILLON</td>\n",
       "      <td>0560</td>\n",
       "      <td>1750</td>\n",
       "      <td>1370</td>\n",
       "      <td>Saint-Laurent-sur-Saône</td>\n",
       "      <td>...</td>\n",
       "      <td></td>\n",
       "      <td></td>\n",
       "      <td></td>\n",
       "      <td></td>\n",
       "      <td>0</td>\n",
       "      <td>4.840606</td>\n",
       "      <td>46.304486</td>\n",
       "      <td>1.0</td>\n",
       "      <td>0.0</td>\n",
       "      <td>0.0</td>\n",
       "    </tr>\n",
       "    <tr>\n",
       "      <th>1</th>\n",
       "      <td>2016-4</td>\n",
       "      <td>2016-01-08</td>\n",
       "      <td>Vente</td>\n",
       "      <td>90000</td>\n",
       "      <td></td>\n",
       "      <td>PELUS</td>\n",
       "      <td>B203</td>\n",
       "      <td>1560</td>\n",
       "      <td>1364</td>\n",
       "      <td>Saint-Jean-sur-Reyssouze</td>\n",
       "      <td>...</td>\n",
       "      <td>S</td>\n",
       "      <td>sols</td>\n",
       "      <td></td>\n",
       "      <td></td>\n",
       "      <td>1220</td>\n",
       "      <td>5.059020</td>\n",
       "      <td>46.386697</td>\n",
       "      <td>0.0</td>\n",
       "      <td>0.0</td>\n",
       "      <td>1.0</td>\n",
       "    </tr>\n",
       "  </tbody>\n",
       "</table>\n",
       "<p>2 rows × 39 columns</p>\n",
       "</div>"
      ],
      "text/plain": [
       "  id_mutation date_mutation nature_mutation  valeur_fonciere adresse_suffixe  \\\n",
       "0      2016-1    2016-01-08           Vente            40000                   \n",
       "1      2016-4    2016-01-08           Vente            90000                   \n",
       "\n",
       "    adresse_nom_voie adresse_code_voie  code_postal  code_commune  \\\n",
       "0  RUE TONY REVILLON              0560         1750          1370   \n",
       "1              PELUS              B203         1560          1364   \n",
       "\n",
       "                nom_commune  ...  code_nature_culture nature_culture  \\\n",
       "0   Saint-Laurent-sur-Saône  ...                                       \n",
       "1  Saint-Jean-sur-Reyssouze  ...                    S           sols   \n",
       "\n",
       "  code_nature_culture_speciale nature_culture_speciale surface_terrain  \\\n",
       "0                                                                    0   \n",
       "1                                                                 1220   \n",
       "\n",
       "  longitude   latitude  Appartement  Maison  Dépendance  \n",
       "0  4.840606  46.304486          1.0     0.0         0.0  \n",
       "1  5.059020  46.386697          0.0     0.0         1.0  \n",
       "\n",
       "[2 rows x 39 columns]"
      ]
     },
     "execution_count": 16,
     "metadata": {},
     "output_type": "execute_result"
    }
   ],
   "source": [
    "data.head(2)"
   ]
  },
  {
   "cell_type": "markdown",
   "id": "654a350e",
   "metadata": {},
   "source": [
    "## code_nature_culture"
   ]
  },
  {
   "cell_type": "code",
   "execution_count": 17,
   "id": "74c521e0",
   "metadata": {},
   "outputs": [
    {
     "data": {
      "text/plain": [
       "code_nature_culture    0\n",
       "dtype: int64"
      ]
     },
     "execution_count": 17,
     "metadata": {},
     "output_type": "execute_result"
    }
   ],
   "source": [
    "data[['code_nature_culture']].isnull().sum()"
   ]
  },
  {
   "cell_type": "code",
   "execution_count": 18,
   "id": "0e01da8e",
   "metadata": {},
   "outputs": [
    {
     "data": {
      "text/plain": [
       "array(['', 'S', 'AG', 'P', 'T', 'J', 'AB', 'BS', 'CH', 'BT', 'L', 'BM',\n",
       "       'PA', 'VE', 'BR'], dtype=object)"
      ]
     },
     "execution_count": 18,
     "metadata": {},
     "output_type": "execute_result"
    }
   ],
   "source": [
    "data['code_nature_culture'].unique()"
   ]
  },
  {
   "cell_type": "code",
   "execution_count": 19,
   "id": "5914e96f",
   "metadata": {},
   "outputs": [],
   "source": [
    "data['code_nature_culture'].replace(\"\", \"NoCodeNature\", inplace=True) #Replace NaN by \"NoCodeNature\""
   ]
  },
  {
   "cell_type": "code",
   "execution_count": 20,
   "id": "6ba76a0c",
   "metadata": {},
   "outputs": [
    {
     "name": "stdout",
     "output_type": "stream",
     "text": [
      "['NoCodeNature' 'S' 'AG' 'P' 'T' 'J' 'AB' 'BS' 'CH' 'BT' 'L' 'BM' 'PA'\n",
      " 'VE' 'BR']\n"
     ]
    },
    {
     "data": {
      "text/plain": [
       "OneHotEncoder(sparse=False)"
      ]
     },
     "execution_count": 20,
     "metadata": {},
     "output_type": "execute_result"
    }
   ],
   "source": [
    "print(data['code_nature_culture'].unique())  # Check unique values \n",
    "\n",
    "ohe = OneHotEncoder(sparse = False) # Instanciate encoder\n",
    "\n",
    "ohe.fit(data[['code_nature_culture']]) # Fit encoder  ---> OneHotEncoder(sparse=False)"
   ]
  },
  {
   "cell_type": "code",
   "execution_count": 21,
   "id": "2b60b213",
   "metadata": {},
   "outputs": [
    {
     "data": {
      "text/plain": [
       "[array(['AB', 'AG', 'BM', 'BR', 'BS', 'BT', 'CH', 'J', 'L', 'NoCodeNature',\n",
       "        'P', 'PA', 'S', 'T', 'VE'], dtype=object)]"
      ]
     },
     "execution_count": 21,
     "metadata": {},
     "output_type": "execute_result"
    }
   ],
   "source": [
    "ohe.categories_"
   ]
  },
  {
   "cell_type": "code",
   "execution_count": 22,
   "id": "29366619",
   "metadata": {},
   "outputs": [],
   "source": [
    "code_nature_culture_encoded = ohe.transform(data[['code_nature_culture']]) # Encode"
   ]
  },
  {
   "cell_type": "code",
   "execution_count": 23,
   "id": "4c3396c8",
   "metadata": {},
   "outputs": [
    {
     "data": {
      "text/plain": [
       "(15, 10000)"
      ]
     },
     "execution_count": 23,
     "metadata": {},
     "output_type": "execute_result"
    }
   ],
   "source": [
    "code_nature_culture_encoded.T.shape"
   ]
  },
  {
   "cell_type": "code",
   "execution_count": 24,
   "id": "31dcbb16",
   "metadata": {},
   "outputs": [
    {
     "name": "stdout",
     "output_type": "stream",
     "text": [
      "(10000, 15)\n"
     ]
    },
    {
     "data": {
      "text/html": [
       "<div>\n",
       "<style scoped>\n",
       "    .dataframe tbody tr th:only-of-type {\n",
       "        vertical-align: middle;\n",
       "    }\n",
       "\n",
       "    .dataframe tbody tr th {\n",
       "        vertical-align: top;\n",
       "    }\n",
       "\n",
       "    .dataframe thead th {\n",
       "        text-align: right;\n",
       "    }\n",
       "</style>\n",
       "<table border=\"1\" class=\"dataframe\">\n",
       "  <thead>\n",
       "    <tr style=\"text-align: right;\">\n",
       "      <th></th>\n",
       "      <th>AB</th>\n",
       "      <th>AG</th>\n",
       "      <th>BM</th>\n",
       "      <th>BR</th>\n",
       "      <th>BS</th>\n",
       "      <th>BT</th>\n",
       "      <th>CH</th>\n",
       "      <th>J</th>\n",
       "      <th>L</th>\n",
       "      <th>NoCodeNature</th>\n",
       "      <th>P</th>\n",
       "      <th>PA</th>\n",
       "      <th>S</th>\n",
       "      <th>T</th>\n",
       "      <th>VE</th>\n",
       "    </tr>\n",
       "  </thead>\n",
       "  <tbody>\n",
       "    <tr>\n",
       "      <th>0</th>\n",
       "      <td>0</td>\n",
       "      <td>0</td>\n",
       "      <td>0</td>\n",
       "      <td>0</td>\n",
       "      <td>0</td>\n",
       "      <td>0</td>\n",
       "      <td>0</td>\n",
       "      <td>0</td>\n",
       "      <td>0</td>\n",
       "      <td>1</td>\n",
       "      <td>0</td>\n",
       "      <td>0</td>\n",
       "      <td>0</td>\n",
       "      <td>0</td>\n",
       "      <td>0</td>\n",
       "    </tr>\n",
       "    <tr>\n",
       "      <th>1</th>\n",
       "      <td>0</td>\n",
       "      <td>0</td>\n",
       "      <td>0</td>\n",
       "      <td>0</td>\n",
       "      <td>0</td>\n",
       "      <td>0</td>\n",
       "      <td>0</td>\n",
       "      <td>0</td>\n",
       "      <td>0</td>\n",
       "      <td>0</td>\n",
       "      <td>0</td>\n",
       "      <td>0</td>\n",
       "      <td>1</td>\n",
       "      <td>0</td>\n",
       "      <td>0</td>\n",
       "    </tr>\n",
       "    <tr>\n",
       "      <th>2</th>\n",
       "      <td>0</td>\n",
       "      <td>0</td>\n",
       "      <td>0</td>\n",
       "      <td>0</td>\n",
       "      <td>0</td>\n",
       "      <td>0</td>\n",
       "      <td>0</td>\n",
       "      <td>0</td>\n",
       "      <td>0</td>\n",
       "      <td>0</td>\n",
       "      <td>0</td>\n",
       "      <td>0</td>\n",
       "      <td>1</td>\n",
       "      <td>0</td>\n",
       "      <td>0</td>\n",
       "    </tr>\n",
       "    <tr>\n",
       "      <th>3</th>\n",
       "      <td>0</td>\n",
       "      <td>1</td>\n",
       "      <td>0</td>\n",
       "      <td>0</td>\n",
       "      <td>0</td>\n",
       "      <td>0</td>\n",
       "      <td>0</td>\n",
       "      <td>0</td>\n",
       "      <td>0</td>\n",
       "      <td>0</td>\n",
       "      <td>0</td>\n",
       "      <td>0</td>\n",
       "      <td>0</td>\n",
       "      <td>0</td>\n",
       "      <td>0</td>\n",
       "    </tr>\n",
       "    <tr>\n",
       "      <th>4</th>\n",
       "      <td>0</td>\n",
       "      <td>0</td>\n",
       "      <td>0</td>\n",
       "      <td>0</td>\n",
       "      <td>0</td>\n",
       "      <td>0</td>\n",
       "      <td>0</td>\n",
       "      <td>0</td>\n",
       "      <td>0</td>\n",
       "      <td>0</td>\n",
       "      <td>0</td>\n",
       "      <td>0</td>\n",
       "      <td>1</td>\n",
       "      <td>0</td>\n",
       "      <td>0</td>\n",
       "    </tr>\n",
       "  </tbody>\n",
       "</table>\n",
       "</div>"
      ],
      "text/plain": [
       "   AB  AG  BM  BR  BS  BT  CH  J  L  NoCodeNature  P  PA  S  T  VE\n",
       "0   0   0   0   0   0   0   0  0  0             1  0   0  0  0   0\n",
       "1   0   0   0   0   0   0   0  0  0             0  0   0  1  0   0\n",
       "2   0   0   0   0   0   0   0  0  0             0  0   0  1  0   0\n",
       "3   0   1   0   0   0   0   0  0  0             0  0   0  0  0   0\n",
       "4   0   0   0   0   0   0   0  0  0             0  0   0  1  0   0"
      ]
     },
     "execution_count": 24,
     "metadata": {},
     "output_type": "execute_result"
    }
   ],
   "source": [
    "dicts_nature = {}\n",
    "keys = list(ohe.categories_[0])\n",
    "values = code_nature_culture_encoded.T.astype(int)\n",
    "for i,j in enumerate(keys):\n",
    "    dicts_nature[j] = values[i,:]\n",
    "\n",
    "result = pd.DataFrame.from_dict(dicts_nature)\n",
    "\n",
    "print(result.shape)\n",
    "result.head()"
   ]
  },
  {
   "cell_type": "code",
   "execution_count": 25,
   "id": "4961de83",
   "metadata": {},
   "outputs": [],
   "source": [
    "data = data.reset_index(drop=True)"
   ]
  },
  {
   "cell_type": "code",
   "execution_count": 26,
   "id": "a6b6c5df",
   "metadata": {},
   "outputs": [
    {
     "data": {
      "text/plain": [
       "(10000, 54)"
      ]
     },
     "execution_count": 26,
     "metadata": {},
     "output_type": "execute_result"
    }
   ],
   "source": [
    "#Concat data_v and result dataframe\n",
    "data_v1 = pd.concat([data, result], axis = 1)\n",
    "data_v1.shape"
   ]
  },
  {
   "cell_type": "code",
   "execution_count": 27,
   "id": "105e3867",
   "metadata": {},
   "outputs": [
    {
     "data": {
      "text/plain": [
       "(10000, 52)"
      ]
     },
     "execution_count": 27,
     "metadata": {},
     "output_type": "execute_result"
    }
   ],
   "source": [
    "data_v1 = data_v1.drop(columns= ['NoCodeNature', 'code_nature_culture'])\n",
    "data_v1.shape"
   ]
  },
  {
   "cell_type": "code",
   "execution_count": 28,
   "id": "44cc1430",
   "metadata": {
    "scrolled": true
   },
   "outputs": [
    {
     "data": {
      "text/html": [
       "<div>\n",
       "<style scoped>\n",
       "    .dataframe tbody tr th:only-of-type {\n",
       "        vertical-align: middle;\n",
       "    }\n",
       "\n",
       "    .dataframe tbody tr th {\n",
       "        vertical-align: top;\n",
       "    }\n",
       "\n",
       "    .dataframe thead th {\n",
       "        text-align: right;\n",
       "    }\n",
       "</style>\n",
       "<table border=\"1\" class=\"dataframe\">\n",
       "  <thead>\n",
       "    <tr style=\"text-align: right;\">\n",
       "      <th></th>\n",
       "      <th>id_mutation</th>\n",
       "      <th>date_mutation</th>\n",
       "      <th>nature_mutation</th>\n",
       "      <th>valeur_fonciere</th>\n",
       "      <th>adresse_suffixe</th>\n",
       "      <th>adresse_nom_voie</th>\n",
       "      <th>adresse_code_voie</th>\n",
       "      <th>code_postal</th>\n",
       "      <th>code_commune</th>\n",
       "      <th>nom_commune</th>\n",
       "      <th>...</th>\n",
       "      <th>BS</th>\n",
       "      <th>BT</th>\n",
       "      <th>CH</th>\n",
       "      <th>J</th>\n",
       "      <th>L</th>\n",
       "      <th>P</th>\n",
       "      <th>PA</th>\n",
       "      <th>S</th>\n",
       "      <th>T</th>\n",
       "      <th>VE</th>\n",
       "    </tr>\n",
       "  </thead>\n",
       "  <tbody>\n",
       "    <tr>\n",
       "      <th>0</th>\n",
       "      <td>2016-1</td>\n",
       "      <td>2016-01-08</td>\n",
       "      <td>Vente</td>\n",
       "      <td>40000</td>\n",
       "      <td></td>\n",
       "      <td>RUE TONY REVILLON</td>\n",
       "      <td>0560</td>\n",
       "      <td>1750</td>\n",
       "      <td>1370</td>\n",
       "      <td>Saint-Laurent-sur-Saône</td>\n",
       "      <td>...</td>\n",
       "      <td>0</td>\n",
       "      <td>0</td>\n",
       "      <td>0</td>\n",
       "      <td>0</td>\n",
       "      <td>0</td>\n",
       "      <td>0</td>\n",
       "      <td>0</td>\n",
       "      <td>0</td>\n",
       "      <td>0</td>\n",
       "      <td>0</td>\n",
       "    </tr>\n",
       "    <tr>\n",
       "      <th>1</th>\n",
       "      <td>2016-4</td>\n",
       "      <td>2016-01-08</td>\n",
       "      <td>Vente</td>\n",
       "      <td>90000</td>\n",
       "      <td></td>\n",
       "      <td>PELUS</td>\n",
       "      <td>B203</td>\n",
       "      <td>1560</td>\n",
       "      <td>1364</td>\n",
       "      <td>Saint-Jean-sur-Reyssouze</td>\n",
       "      <td>...</td>\n",
       "      <td>0</td>\n",
       "      <td>0</td>\n",
       "      <td>0</td>\n",
       "      <td>0</td>\n",
       "      <td>0</td>\n",
       "      <td>0</td>\n",
       "      <td>0</td>\n",
       "      <td>1</td>\n",
       "      <td>0</td>\n",
       "      <td>0</td>\n",
       "    </tr>\n",
       "  </tbody>\n",
       "</table>\n",
       "<p>2 rows × 52 columns</p>\n",
       "</div>"
      ],
      "text/plain": [
       "  id_mutation date_mutation nature_mutation  valeur_fonciere adresse_suffixe  \\\n",
       "0      2016-1    2016-01-08           Vente            40000                   \n",
       "1      2016-4    2016-01-08           Vente            90000                   \n",
       "\n",
       "    adresse_nom_voie adresse_code_voie  code_postal  code_commune  \\\n",
       "0  RUE TONY REVILLON              0560         1750          1370   \n",
       "1              PELUS              B203         1560          1364   \n",
       "\n",
       "                nom_commune  ...  BS BT CH  J  L  P  PA  S  T  VE  \n",
       "0   Saint-Laurent-sur-Saône  ...   0  0  0  0  0  0   0  0  0   0  \n",
       "1  Saint-Jean-sur-Reyssouze  ...   0  0  0  0  0  0   0  1  0   0  \n",
       "\n",
       "[2 rows x 52 columns]"
      ]
     },
     "execution_count": 28,
     "metadata": {},
     "output_type": "execute_result"
    }
   ],
   "source": [
    "data_v1.head(2)"
   ]
  },
  {
   "cell_type": "markdown",
   "id": "72d0499b",
   "metadata": {},
   "source": [
    "## code_commune"
   ]
  },
  {
   "cell_type": "code",
   "execution_count": 29,
   "id": "989828c1",
   "metadata": {},
   "outputs": [
    {
     "data": {
      "text/plain": [
       "code_commune    0\n",
       "dtype: int64"
      ]
     },
     "execution_count": 29,
     "metadata": {},
     "output_type": "execute_result"
    }
   ],
   "source": [
    "data_v1[['code_commune']].isnull().sum()"
   ]
  },
  {
   "cell_type": "code",
   "execution_count": 30,
   "id": "78d1e9f3",
   "metadata": {},
   "outputs": [
    {
     "name": "stdout",
     "output_type": "stream",
     "text": [
      "[1370 1364 1050 1024 1130 1163 1241 1273 1291 1159 1301 1266 1053 1374\n",
      " 1196 1320 1447 1072 1211 1305 1344 1350 1197 1426 1422 1321 1264 1451\n",
      " 1195 1232 1230 1016 1026 1179 1203 1304 1306 1346 1127 1229 1025 1042\n",
      " 1128 1433 1355 1334 1029 1124 1343 1375 1289 1231 1337 1323 1236 1437\n",
      " 1332 1367 1134 1245 1065 1314 1094 1385 1388 1136 1139 1369 1391 1175\n",
      " 1259 1115 1365 1125 1102 1151 1177 1184 1336 1309 1352 1212 1432 1145\n",
      " 1405 1284 1408 1108 1402 1380 1038 1445 1140 1069 1123 1254 1317 1430\n",
      " 1425 1296 1147 1387 1057 1095 1106 1406 1040 1150 1215 1004 1202 1199\n",
      " 1173 1034 1061 1419 1313 1255 1282 1185 1080 1033 1265 1354 1204 1269\n",
      " 1152 1035 1454 1283 1143 1345 1160 1209 1153 1444 1247 1103 1384 1431\n",
      " 1171 1116 1044 1286 1187 1288 1435 1281 1392 1007 1037 1227 1031 1386\n",
      " 1010 1181 1109 1099 1138 1277 1224 1047 1399 1421 1239 1210 1068 1357\n",
      " 1170 1148 1101 1237 1192 1011 1279 1307 1180 1036 1017 1213 1089 1280\n",
      " 1155 1452 1407 1110 1064 1303 1331 1071 1448 1366 1416 1149 1390 1098\n",
      " 1240 1436 1404 1087 1397 1008 1111 1022 1014 1012 1076 1158 1118 1401\n",
      " 1360 1372 1081 1190 1358 1403 1193 1216 1411 1133 1135 1189 1063 1162\n",
      " 1338 1104 1078 1415 1294 1441 1373 1051 1002 1112 1073 1066 1274 1308\n",
      " 1228 1114 1019 1257 1396 1453 1267 1041 1379 1363 1117 1206 1100 1015\n",
      " 1067 1400 1107 1079 1082 1060 1293 1141 1191 1058 1013 1200 1056 1302\n",
      " 1077 1268 1214 1329 1233 1219 1121 1234 1009 1208 1243 1420 1093 1427\n",
      " 1083 1347 1263 1356 1157 1348 1021 1043 1434 1244 1443 1322 1250 1389\n",
      " 1142 1457 1295 1398 1249 1062 1276 1262 1335 1194 1045 1165 1075 1333\n",
      " 1353 1325 1183 1362 1446 1113 1248 1049 1074 1424 1246 1169 1238 1166\n",
      " 1290 1030 1275 1393 1319 1285 1382 1272 1418 1167 1339 1371 1351 1342\n",
      " 1450 1084 1046 1235 1096 1032 1252 1376 1423 1258 1105 1005 1207 1383\n",
      " 1092 1428 1299 1054 1361 1090 1297 1260 1028 1378 1449 1368 1001 1088\n",
      " 1381 1027 1156 1429 1328 1129 1225 1261 1052 1146 1318 1412 1188 1359\n",
      " 1349 1085 2173 2541 2165 2304 2217 2676 2619 2111 2145 2719 2408 2309\n",
      " 2005 2502 2666 2430 2738 2671 2746 2591 2617 2250 2028 2680 2807 2720\n",
      " 2231 2018 2049 2350 2072 2550 2497 2626 2238 2566 2014 2453 2362 2037\n",
      " 2046 2431 2716 2472 2602 2329 2613 2686 2132 2743 2160 2546 2128 2399\n",
      " 2108 2106 2788 2158 2080 2041 2529 2460 2363 2461 2102 2236 2498 2157\n",
      " 2360 2155 2140 2318 2299 2456 2212 2675 2333 2261 2790 2093 2750 2264\n",
      " 2395 2180 2096 2572 2396 2181 2215 2191 2768 2237 2542 2052 2353 2471\n",
      " 2059 2207 2599 2002 2474 2468 2545 2260 2685 2517 2153 2457 2791 2660\n",
      " 2641 2553 2262 2086 2001 2755 2787 2827 2074 2234 2489 2587 2621 2013\n",
      " 2723 2159 2406 2126 2690 2556 2492 2218 2631 2196 2565 2586 2820 2133\n",
      " 2016 2208 2803 2097 2194 2824 2559 2115 2508 2189 2056 2021 2058 2107\n",
      " 2632 2697 2661 2017 2219 2073 2413 2751 2336 2171 2039 2834 2478 2151\n",
      " 2651 2656 2821 2248 2638 2033 2737 2335 2762 2229 2513 2433 2454 2761\n",
      " 2423 2819 2364 2076 2534 2764 2778 2409 2346 2183 2642 2178 2150 2561\n",
      " 2139 2493 2600 2616 2177 2560 2078 2034]\n"
     ]
    },
    {
     "data": {
      "text/plain": [
       "OneHotEncoder(sparse=False)"
      ]
     },
     "execution_count": 30,
     "metadata": {},
     "output_type": "execute_result"
    }
   ],
   "source": [
    "print(data_v1['code_commune'].unique())  # Check unique values \n",
    "\n",
    "ohe = OneHotEncoder(sparse = False) # Instanciate encoder\n",
    "\n",
    "ohe.fit(data_v1[['code_commune']]) # Fit encoder  ---> OneHotEncoder(sparse=False)"
   ]
  },
  {
   "cell_type": "code",
   "execution_count": 31,
   "id": "43c9c178",
   "metadata": {},
   "outputs": [
    {
     "data": {
      "text/plain": [
       "[array([1001, 1002, 1004, 1005, 1007, 1008, 1009, 1010, 1011, 1012, 1013,\n",
       "        1014, 1015, 1016, 1017, 1019, 1021, 1022, 1024, 1025, 1026, 1027,\n",
       "        1028, 1029, 1030, 1031, 1032, 1033, 1034, 1035, 1036, 1037, 1038,\n",
       "        1040, 1041, 1042, 1043, 1044, 1045, 1046, 1047, 1049, 1050, 1051,\n",
       "        1052, 1053, 1054, 1056, 1057, 1058, 1060, 1061, 1062, 1063, 1064,\n",
       "        1065, 1066, 1067, 1068, 1069, 1071, 1072, 1073, 1074, 1075, 1076,\n",
       "        1077, 1078, 1079, 1080, 1081, 1082, 1083, 1084, 1085, 1087, 1088,\n",
       "        1089, 1090, 1092, 1093, 1094, 1095, 1096, 1098, 1099, 1100, 1101,\n",
       "        1102, 1103, 1104, 1105, 1106, 1107, 1108, 1109, 1110, 1111, 1112,\n",
       "        1113, 1114, 1115, 1116, 1117, 1118, 1121, 1123, 1124, 1125, 1127,\n",
       "        1128, 1129, 1130, 1133, 1134, 1135, 1136, 1138, 1139, 1140, 1141,\n",
       "        1142, 1143, 1145, 1146, 1147, 1148, 1149, 1150, 1151, 1152, 1153,\n",
       "        1155, 1156, 1157, 1158, 1159, 1160, 1162, 1163, 1165, 1166, 1167,\n",
       "        1169, 1170, 1171, 1173, 1175, 1177, 1179, 1180, 1181, 1183, 1184,\n",
       "        1185, 1187, 1188, 1189, 1190, 1191, 1192, 1193, 1194, 1195, 1196,\n",
       "        1197, 1199, 1200, 1202, 1203, 1204, 1206, 1207, 1208, 1209, 1210,\n",
       "        1211, 1212, 1213, 1214, 1215, 1216, 1219, 1224, 1225, 1227, 1228,\n",
       "        1229, 1230, 1231, 1232, 1233, 1234, 1235, 1236, 1237, 1238, 1239,\n",
       "        1240, 1241, 1243, 1244, 1245, 1246, 1247, 1248, 1249, 1250, 1252,\n",
       "        1254, 1255, 1257, 1258, 1259, 1260, 1261, 1262, 1263, 1264, 1265,\n",
       "        1266, 1267, 1268, 1269, 1272, 1273, 1274, 1275, 1276, 1277, 1279,\n",
       "        1280, 1281, 1282, 1283, 1284, 1285, 1286, 1288, 1289, 1290, 1291,\n",
       "        1293, 1294, 1295, 1296, 1297, 1299, 1301, 1302, 1303, 1304, 1305,\n",
       "        1306, 1307, 1308, 1309, 1313, 1314, 1317, 1318, 1319, 1320, 1321,\n",
       "        1322, 1323, 1325, 1328, 1329, 1331, 1332, 1333, 1334, 1335, 1336,\n",
       "        1337, 1338, 1339, 1342, 1343, 1344, 1345, 1346, 1347, 1348, 1349,\n",
       "        1350, 1351, 1352, 1353, 1354, 1355, 1356, 1357, 1358, 1359, 1360,\n",
       "        1361, 1362, 1363, 1364, 1365, 1366, 1367, 1368, 1369, 1370, 1371,\n",
       "        1372, 1373, 1374, 1375, 1376, 1378, 1379, 1380, 1381, 1382, 1383,\n",
       "        1384, 1385, 1386, 1387, 1388, 1389, 1390, 1391, 1392, 1393, 1396,\n",
       "        1397, 1398, 1399, 1400, 1401, 1402, 1403, 1404, 1405, 1406, 1407,\n",
       "        1408, 1411, 1412, 1415, 1416, 1418, 1419, 1420, 1421, 1422, 1423,\n",
       "        1424, 1425, 1426, 1427, 1428, 1429, 1430, 1431, 1432, 1433, 1434,\n",
       "        1435, 1436, 1437, 1441, 1443, 1444, 1445, 1446, 1447, 1448, 1449,\n",
       "        1450, 1451, 1452, 1453, 1454, 1457, 2001, 2002, 2005, 2013, 2014,\n",
       "        2016, 2017, 2018, 2021, 2028, 2033, 2034, 2037, 2039, 2041, 2046,\n",
       "        2049, 2052, 2056, 2058, 2059, 2072, 2073, 2074, 2076, 2078, 2080,\n",
       "        2086, 2093, 2096, 2097, 2102, 2106, 2107, 2108, 2111, 2115, 2126,\n",
       "        2128, 2132, 2133, 2139, 2140, 2145, 2150, 2151, 2153, 2155, 2157,\n",
       "        2158, 2159, 2160, 2165, 2171, 2173, 2177, 2178, 2180, 2181, 2183,\n",
       "        2189, 2191, 2194, 2196, 2207, 2208, 2212, 2215, 2217, 2218, 2219,\n",
       "        2229, 2231, 2234, 2236, 2237, 2238, 2248, 2250, 2260, 2261, 2262,\n",
       "        2264, 2299, 2304, 2309, 2318, 2329, 2333, 2335, 2336, 2346, 2350,\n",
       "        2353, 2360, 2362, 2363, 2364, 2395, 2396, 2399, 2406, 2408, 2409,\n",
       "        2413, 2423, 2430, 2431, 2433, 2453, 2454, 2456, 2457, 2460, 2461,\n",
       "        2468, 2471, 2472, 2474, 2478, 2489, 2492, 2493, 2497, 2498, 2502,\n",
       "        2508, 2513, 2517, 2529, 2534, 2541, 2542, 2545, 2546, 2550, 2553,\n",
       "        2556, 2559, 2560, 2561, 2565, 2566, 2572, 2586, 2587, 2591, 2599,\n",
       "        2600, 2602, 2613, 2616, 2617, 2619, 2621, 2626, 2631, 2632, 2638,\n",
       "        2641, 2642, 2651, 2656, 2660, 2661, 2666, 2671, 2675, 2676, 2680,\n",
       "        2685, 2686, 2690, 2697, 2716, 2719, 2720, 2723, 2737, 2738, 2743,\n",
       "        2746, 2750, 2751, 2755, 2761, 2762, 2764, 2768, 2778, 2787, 2788,\n",
       "        2790, 2791, 2803, 2807, 2819, 2820, 2821, 2824, 2827, 2834])]"
      ]
     },
     "execution_count": 31,
     "metadata": {},
     "output_type": "execute_result"
    }
   ],
   "source": [
    "ohe.categories_"
   ]
  },
  {
   "cell_type": "code",
   "execution_count": 32,
   "id": "f4a57dc3",
   "metadata": {},
   "outputs": [],
   "source": [
    "code_commune_encoded = ohe.transform(data_v1[['code_commune']]) # Encode"
   ]
  },
  {
   "cell_type": "code",
   "execution_count": 33,
   "id": "b3f71322",
   "metadata": {},
   "outputs": [
    {
     "data": {
      "text/plain": [
       "(582, 10000)"
      ]
     },
     "execution_count": 33,
     "metadata": {},
     "output_type": "execute_result"
    }
   ],
   "source": [
    "code_commune_encoded.T.shape"
   ]
  },
  {
   "cell_type": "code",
   "execution_count": 34,
   "id": "8fec91bb",
   "metadata": {},
   "outputs": [
    {
     "name": "stdout",
     "output_type": "stream",
     "text": [
      "(10000, 582)\n"
     ]
    },
    {
     "data": {
      "text/html": [
       "<div>\n",
       "<style scoped>\n",
       "    .dataframe tbody tr th:only-of-type {\n",
       "        vertical-align: middle;\n",
       "    }\n",
       "\n",
       "    .dataframe tbody tr th {\n",
       "        vertical-align: top;\n",
       "    }\n",
       "\n",
       "    .dataframe thead th {\n",
       "        text-align: right;\n",
       "    }\n",
       "</style>\n",
       "<table border=\"1\" class=\"dataframe\">\n",
       "  <thead>\n",
       "    <tr style=\"text-align: right;\">\n",
       "      <th></th>\n",
       "      <th>1001</th>\n",
       "      <th>1002</th>\n",
       "      <th>1004</th>\n",
       "      <th>1005</th>\n",
       "      <th>1007</th>\n",
       "      <th>1008</th>\n",
       "      <th>1009</th>\n",
       "      <th>1010</th>\n",
       "      <th>1011</th>\n",
       "      <th>1012</th>\n",
       "      <th>...</th>\n",
       "      <th>2790</th>\n",
       "      <th>2791</th>\n",
       "      <th>2803</th>\n",
       "      <th>2807</th>\n",
       "      <th>2819</th>\n",
       "      <th>2820</th>\n",
       "      <th>2821</th>\n",
       "      <th>2824</th>\n",
       "      <th>2827</th>\n",
       "      <th>2834</th>\n",
       "    </tr>\n",
       "  </thead>\n",
       "  <tbody>\n",
       "    <tr>\n",
       "      <th>0</th>\n",
       "      <td>0</td>\n",
       "      <td>0</td>\n",
       "      <td>0</td>\n",
       "      <td>0</td>\n",
       "      <td>0</td>\n",
       "      <td>0</td>\n",
       "      <td>0</td>\n",
       "      <td>0</td>\n",
       "      <td>0</td>\n",
       "      <td>0</td>\n",
       "      <td>...</td>\n",
       "      <td>0</td>\n",
       "      <td>0</td>\n",
       "      <td>0</td>\n",
       "      <td>0</td>\n",
       "      <td>0</td>\n",
       "      <td>0</td>\n",
       "      <td>0</td>\n",
       "      <td>0</td>\n",
       "      <td>0</td>\n",
       "      <td>0</td>\n",
       "    </tr>\n",
       "    <tr>\n",
       "      <th>1</th>\n",
       "      <td>0</td>\n",
       "      <td>0</td>\n",
       "      <td>0</td>\n",
       "      <td>0</td>\n",
       "      <td>0</td>\n",
       "      <td>0</td>\n",
       "      <td>0</td>\n",
       "      <td>0</td>\n",
       "      <td>0</td>\n",
       "      <td>0</td>\n",
       "      <td>...</td>\n",
       "      <td>0</td>\n",
       "      <td>0</td>\n",
       "      <td>0</td>\n",
       "      <td>0</td>\n",
       "      <td>0</td>\n",
       "      <td>0</td>\n",
       "      <td>0</td>\n",
       "      <td>0</td>\n",
       "      <td>0</td>\n",
       "      <td>0</td>\n",
       "    </tr>\n",
       "    <tr>\n",
       "      <th>2</th>\n",
       "      <td>0</td>\n",
       "      <td>0</td>\n",
       "      <td>0</td>\n",
       "      <td>0</td>\n",
       "      <td>0</td>\n",
       "      <td>0</td>\n",
       "      <td>0</td>\n",
       "      <td>0</td>\n",
       "      <td>0</td>\n",
       "      <td>0</td>\n",
       "      <td>...</td>\n",
       "      <td>0</td>\n",
       "      <td>0</td>\n",
       "      <td>0</td>\n",
       "      <td>0</td>\n",
       "      <td>0</td>\n",
       "      <td>0</td>\n",
       "      <td>0</td>\n",
       "      <td>0</td>\n",
       "      <td>0</td>\n",
       "      <td>0</td>\n",
       "    </tr>\n",
       "    <tr>\n",
       "      <th>3</th>\n",
       "      <td>0</td>\n",
       "      <td>0</td>\n",
       "      <td>0</td>\n",
       "      <td>0</td>\n",
       "      <td>0</td>\n",
       "      <td>0</td>\n",
       "      <td>0</td>\n",
       "      <td>0</td>\n",
       "      <td>0</td>\n",
       "      <td>0</td>\n",
       "      <td>...</td>\n",
       "      <td>0</td>\n",
       "      <td>0</td>\n",
       "      <td>0</td>\n",
       "      <td>0</td>\n",
       "      <td>0</td>\n",
       "      <td>0</td>\n",
       "      <td>0</td>\n",
       "      <td>0</td>\n",
       "      <td>0</td>\n",
       "      <td>0</td>\n",
       "    </tr>\n",
       "    <tr>\n",
       "      <th>4</th>\n",
       "      <td>0</td>\n",
       "      <td>0</td>\n",
       "      <td>0</td>\n",
       "      <td>0</td>\n",
       "      <td>0</td>\n",
       "      <td>0</td>\n",
       "      <td>0</td>\n",
       "      <td>0</td>\n",
       "      <td>0</td>\n",
       "      <td>0</td>\n",
       "      <td>...</td>\n",
       "      <td>0</td>\n",
       "      <td>0</td>\n",
       "      <td>0</td>\n",
       "      <td>0</td>\n",
       "      <td>0</td>\n",
       "      <td>0</td>\n",
       "      <td>0</td>\n",
       "      <td>0</td>\n",
       "      <td>0</td>\n",
       "      <td>0</td>\n",
       "    </tr>\n",
       "  </tbody>\n",
       "</table>\n",
       "<p>5 rows × 582 columns</p>\n",
       "</div>"
      ],
      "text/plain": [
       "   1001  1002  1004  1005  1007  1008  1009  1010  1011  1012  ...  2790  \\\n",
       "0     0     0     0     0     0     0     0     0     0     0  ...     0   \n",
       "1     0     0     0     0     0     0     0     0     0     0  ...     0   \n",
       "2     0     0     0     0     0     0     0     0     0     0  ...     0   \n",
       "3     0     0     0     0     0     0     0     0     0     0  ...     0   \n",
       "4     0     0     0     0     0     0     0     0     0     0  ...     0   \n",
       "\n",
       "   2791  2803  2807  2819  2820  2821  2824  2827  2834  \n",
       "0     0     0     0     0     0     0     0     0     0  \n",
       "1     0     0     0     0     0     0     0     0     0  \n",
       "2     0     0     0     0     0     0     0     0     0  \n",
       "3     0     0     0     0     0     0     0     0     0  \n",
       "4     0     0     0     0     0     0     0     0     0  \n",
       "\n",
       "[5 rows x 582 columns]"
      ]
     },
     "execution_count": 34,
     "metadata": {},
     "output_type": "execute_result"
    }
   ],
   "source": [
    "dicts_commune = {}\n",
    "keys = list(ohe.categories_[0])\n",
    "values = code_commune_encoded.T.astype(int)\n",
    "for i,j in enumerate(keys):\n",
    "    dicts_commune[j] = values[i,:]\n",
    "\n",
    "result = pd.DataFrame.from_dict(dicts_commune)\n",
    "\n",
    "print(result.shape)\n",
    "result.head()"
   ]
  },
  {
   "cell_type": "code",
   "execution_count": 35,
   "id": "41aa7008",
   "metadata": {},
   "outputs": [
    {
     "data": {
      "text/plain": [
       "(10000, 52)"
      ]
     },
     "execution_count": 35,
     "metadata": {},
     "output_type": "execute_result"
    }
   ],
   "source": [
    "data_v1.shape"
   ]
  },
  {
   "cell_type": "code",
   "execution_count": 36,
   "id": "c8e24f4f",
   "metadata": {},
   "outputs": [],
   "source": [
    "data_v1 = data_v1.reset_index(drop=True)"
   ]
  },
  {
   "cell_type": "code",
   "execution_count": 37,
   "id": "03b7cebe",
   "metadata": {},
   "outputs": [
    {
     "data": {
      "text/plain": [
       "(10000, 634)"
      ]
     },
     "execution_count": 37,
     "metadata": {},
     "output_type": "execute_result"
    }
   ],
   "source": [
    "#Concat data_v1 and result dataframe\n",
    "data_v2 = pd.concat([data_v1, result], axis = 1)\n",
    "data_v2.shape"
   ]
  },
  {
   "cell_type": "code",
   "execution_count": 38,
   "id": "9ed273e7",
   "metadata": {},
   "outputs": [
    {
     "data": {
      "text/plain": [
       "(10000, 633)"
      ]
     },
     "execution_count": 38,
     "metadata": {},
     "output_type": "execute_result"
    }
   ],
   "source": [
    "data_v2 = data_v2.drop(columns= 'code_commune')\n",
    "data_v2.shape"
   ]
  },
  {
   "cell_type": "code",
   "execution_count": 39,
   "id": "150fa7be",
   "metadata": {},
   "outputs": [
    {
     "data": {
      "text/html": [
       "<div>\n",
       "<style scoped>\n",
       "    .dataframe tbody tr th:only-of-type {\n",
       "        vertical-align: middle;\n",
       "    }\n",
       "\n",
       "    .dataframe tbody tr th {\n",
       "        vertical-align: top;\n",
       "    }\n",
       "\n",
       "    .dataframe thead th {\n",
       "        text-align: right;\n",
       "    }\n",
       "</style>\n",
       "<table border=\"1\" class=\"dataframe\">\n",
       "  <thead>\n",
       "    <tr style=\"text-align: right;\">\n",
       "      <th></th>\n",
       "      <th>id_mutation</th>\n",
       "      <th>date_mutation</th>\n",
       "      <th>nature_mutation</th>\n",
       "      <th>valeur_fonciere</th>\n",
       "      <th>adresse_suffixe</th>\n",
       "      <th>adresse_nom_voie</th>\n",
       "      <th>adresse_code_voie</th>\n",
       "      <th>code_postal</th>\n",
       "      <th>nom_commune</th>\n",
       "      <th>code_departement</th>\n",
       "      <th>...</th>\n",
       "      <th>2790</th>\n",
       "      <th>2791</th>\n",
       "      <th>2803</th>\n",
       "      <th>2807</th>\n",
       "      <th>2819</th>\n",
       "      <th>2820</th>\n",
       "      <th>2821</th>\n",
       "      <th>2824</th>\n",
       "      <th>2827</th>\n",
       "      <th>2834</th>\n",
       "    </tr>\n",
       "  </thead>\n",
       "  <tbody>\n",
       "    <tr>\n",
       "      <th>0</th>\n",
       "      <td>2016-1</td>\n",
       "      <td>2016-01-08</td>\n",
       "      <td>Vente</td>\n",
       "      <td>40000</td>\n",
       "      <td></td>\n",
       "      <td>RUE TONY REVILLON</td>\n",
       "      <td>0560</td>\n",
       "      <td>1750</td>\n",
       "      <td>Saint-Laurent-sur-Saône</td>\n",
       "      <td>1</td>\n",
       "      <td>...</td>\n",
       "      <td>0</td>\n",
       "      <td>0</td>\n",
       "      <td>0</td>\n",
       "      <td>0</td>\n",
       "      <td>0</td>\n",
       "      <td>0</td>\n",
       "      <td>0</td>\n",
       "      <td>0</td>\n",
       "      <td>0</td>\n",
       "      <td>0</td>\n",
       "    </tr>\n",
       "    <tr>\n",
       "      <th>1</th>\n",
       "      <td>2016-4</td>\n",
       "      <td>2016-01-08</td>\n",
       "      <td>Vente</td>\n",
       "      <td>90000</td>\n",
       "      <td></td>\n",
       "      <td>PELUS</td>\n",
       "      <td>B203</td>\n",
       "      <td>1560</td>\n",
       "      <td>Saint-Jean-sur-Reyssouze</td>\n",
       "      <td>1</td>\n",
       "      <td>...</td>\n",
       "      <td>0</td>\n",
       "      <td>0</td>\n",
       "      <td>0</td>\n",
       "      <td>0</td>\n",
       "      <td>0</td>\n",
       "      <td>0</td>\n",
       "      <td>0</td>\n",
       "      <td>0</td>\n",
       "      <td>0</td>\n",
       "      <td>0</td>\n",
       "    </tr>\n",
       "  </tbody>\n",
       "</table>\n",
       "<p>2 rows × 633 columns</p>\n",
       "</div>"
      ],
      "text/plain": [
       "  id_mutation date_mutation nature_mutation  valeur_fonciere adresse_suffixe  \\\n",
       "0      2016-1    2016-01-08           Vente            40000                   \n",
       "1      2016-4    2016-01-08           Vente            90000                   \n",
       "\n",
       "    adresse_nom_voie adresse_code_voie  code_postal               nom_commune  \\\n",
       "0  RUE TONY REVILLON              0560         1750   Saint-Laurent-sur-Saône   \n",
       "1              PELUS              B203         1560  Saint-Jean-sur-Reyssouze   \n",
       "\n",
       "   code_departement  ... 2790 2791 2803 2807 2819  2820  2821  2824  2827  \\\n",
       "0                 1  ...    0    0    0    0    0     0     0     0     0   \n",
       "1                 1  ...    0    0    0    0    0     0     0     0     0   \n",
       "\n",
       "   2834  \n",
       "0     0  \n",
       "1     0  \n",
       "\n",
       "[2 rows x 633 columns]"
      ]
     },
     "execution_count": 39,
     "metadata": {},
     "output_type": "execute_result"
    }
   ],
   "source": [
    "data_v2.head(2)"
   ]
  },
  {
   "cell_type": "markdown",
   "id": "01681ce9",
   "metadata": {},
   "source": [
    "## code_nature_culture_speciale"
   ]
  },
  {
   "cell_type": "code",
   "execution_count": 40,
   "id": "2f8d5fa1",
   "metadata": {},
   "outputs": [
    {
     "data": {
      "text/plain": [
       "array(['', 'JARD', 'POTAG', 'PARC', 'MARAI', 'FER', 'PATUR', 'FRICH'],\n",
       "      dtype=object)"
      ]
     },
     "execution_count": 40,
     "metadata": {},
     "output_type": "execute_result"
    }
   ],
   "source": [
    "data_v2['code_nature_culture_speciale'].unique()"
   ]
  },
  {
   "cell_type": "code",
   "execution_count": 41,
   "id": "dd3dbbc0",
   "metadata": {},
   "outputs": [],
   "source": [
    "data_v2['code_nature_culture_speciale'].replace(\"\", \"NoCodeNatureSpecial\", inplace=True) #Replace NaN by \"NoCodeNatureSpecial\""
   ]
  },
  {
   "cell_type": "code",
   "execution_count": 42,
   "id": "ffa444e6",
   "metadata": {},
   "outputs": [
    {
     "name": "stdout",
     "output_type": "stream",
     "text": [
      "['NoCodeNatureSpecial' 'JARD' 'POTAG' 'PARC' 'MARAI' 'FER' 'PATUR' 'FRICH']\n"
     ]
    },
    {
     "data": {
      "text/plain": [
       "OneHotEncoder(sparse=False)"
      ]
     },
     "execution_count": 42,
     "metadata": {},
     "output_type": "execute_result"
    }
   ],
   "source": [
    "print(data_v2['code_nature_culture_speciale'].unique())  # Check unique values \n",
    "\n",
    "ohe = OneHotEncoder(sparse = False) # Instanciate encoder\n",
    "\n",
    "ohe.fit(data_v2[['code_nature_culture_speciale']]) # Fit encoder  ---> OneHotEncoder(sparse=False)"
   ]
  },
  {
   "cell_type": "code",
   "execution_count": 43,
   "id": "60666412",
   "metadata": {},
   "outputs": [
    {
     "data": {
      "text/plain": [
       "[array(['FER', 'FRICH', 'JARD', 'MARAI', 'NoCodeNatureSpecial', 'PARC',\n",
       "        'PATUR', 'POTAG'], dtype=object)]"
      ]
     },
     "execution_count": 43,
     "metadata": {},
     "output_type": "execute_result"
    }
   ],
   "source": [
    "ohe.categories_"
   ]
  },
  {
   "cell_type": "code",
   "execution_count": 44,
   "id": "33282f7e",
   "metadata": {},
   "outputs": [],
   "source": [
    "code_nature_culture_special_encoded = ohe.transform(data_v2[['code_nature_culture_speciale']]) # Encode"
   ]
  },
  {
   "cell_type": "code",
   "execution_count": 45,
   "id": "83d017b9",
   "metadata": {},
   "outputs": [
    {
     "data": {
      "text/plain": [
       "(8, 10000)"
      ]
     },
     "execution_count": 45,
     "metadata": {},
     "output_type": "execute_result"
    }
   ],
   "source": [
    "code_nature_culture_special_encoded.T.shape"
   ]
  },
  {
   "cell_type": "code",
   "execution_count": 46,
   "id": "bfcb74de",
   "metadata": {},
   "outputs": [
    {
     "name": "stdout",
     "output_type": "stream",
     "text": [
      "(10000, 8)\n"
     ]
    },
    {
     "data": {
      "text/html": [
       "<div>\n",
       "<style scoped>\n",
       "    .dataframe tbody tr th:only-of-type {\n",
       "        vertical-align: middle;\n",
       "    }\n",
       "\n",
       "    .dataframe tbody tr th {\n",
       "        vertical-align: top;\n",
       "    }\n",
       "\n",
       "    .dataframe thead th {\n",
       "        text-align: right;\n",
       "    }\n",
       "</style>\n",
       "<table border=\"1\" class=\"dataframe\">\n",
       "  <thead>\n",
       "    <tr style=\"text-align: right;\">\n",
       "      <th></th>\n",
       "      <th>FER</th>\n",
       "      <th>FRICH</th>\n",
       "      <th>JARD</th>\n",
       "      <th>MARAI</th>\n",
       "      <th>NoCodeNatureSpecial</th>\n",
       "      <th>PARC</th>\n",
       "      <th>PATUR</th>\n",
       "      <th>POTAG</th>\n",
       "    </tr>\n",
       "  </thead>\n",
       "  <tbody>\n",
       "    <tr>\n",
       "      <th>0</th>\n",
       "      <td>0</td>\n",
       "      <td>0</td>\n",
       "      <td>0</td>\n",
       "      <td>0</td>\n",
       "      <td>1</td>\n",
       "      <td>0</td>\n",
       "      <td>0</td>\n",
       "      <td>0</td>\n",
       "    </tr>\n",
       "    <tr>\n",
       "      <th>1</th>\n",
       "      <td>0</td>\n",
       "      <td>0</td>\n",
       "      <td>0</td>\n",
       "      <td>0</td>\n",
       "      <td>1</td>\n",
       "      <td>0</td>\n",
       "      <td>0</td>\n",
       "      <td>0</td>\n",
       "    </tr>\n",
       "    <tr>\n",
       "      <th>2</th>\n",
       "      <td>0</td>\n",
       "      <td>0</td>\n",
       "      <td>0</td>\n",
       "      <td>0</td>\n",
       "      <td>1</td>\n",
       "      <td>0</td>\n",
       "      <td>0</td>\n",
       "      <td>0</td>\n",
       "    </tr>\n",
       "    <tr>\n",
       "      <th>3</th>\n",
       "      <td>0</td>\n",
       "      <td>0</td>\n",
       "      <td>0</td>\n",
       "      <td>0</td>\n",
       "      <td>1</td>\n",
       "      <td>0</td>\n",
       "      <td>0</td>\n",
       "      <td>0</td>\n",
       "    </tr>\n",
       "    <tr>\n",
       "      <th>4</th>\n",
       "      <td>0</td>\n",
       "      <td>0</td>\n",
       "      <td>0</td>\n",
       "      <td>0</td>\n",
       "      <td>1</td>\n",
       "      <td>0</td>\n",
       "      <td>0</td>\n",
       "      <td>0</td>\n",
       "    </tr>\n",
       "  </tbody>\n",
       "</table>\n",
       "</div>"
      ],
      "text/plain": [
       "   FER  FRICH  JARD  MARAI  NoCodeNatureSpecial  PARC  PATUR  POTAG\n",
       "0    0      0     0      0                    1     0      0      0\n",
       "1    0      0     0      0                    1     0      0      0\n",
       "2    0      0     0      0                    1     0      0      0\n",
       "3    0      0     0      0                    1     0      0      0\n",
       "4    0      0     0      0                    1     0      0      0"
      ]
     },
     "execution_count": 46,
     "metadata": {},
     "output_type": "execute_result"
    }
   ],
   "source": [
    "dicts_nature_special = {}\n",
    "keys = list(ohe.categories_[0])\n",
    "values = code_nature_culture_special_encoded.T.astype(int)\n",
    "for i,j in enumerate(keys):\n",
    "    dicts_nature_special[j] = values[i,:]\n",
    "\n",
    "result = pd.DataFrame.from_dict(dicts_nature_special)\n",
    "\n",
    "print(result.shape)\n",
    "result.head()"
   ]
  },
  {
   "cell_type": "code",
   "execution_count": 47,
   "id": "54f9a8b2",
   "metadata": {},
   "outputs": [],
   "source": [
    "data_v2 = data_v2.reset_index(drop=True)"
   ]
  },
  {
   "cell_type": "code",
   "execution_count": 48,
   "id": "69acb94f",
   "metadata": {},
   "outputs": [
    {
     "data": {
      "text/plain": [
       "(10000, 641)"
      ]
     },
     "execution_count": 48,
     "metadata": {},
     "output_type": "execute_result"
    }
   ],
   "source": [
    "#Concat data_v and result dataframe\n",
    "data_v3 = pd.concat([data_v2, result], axis = 1)\n",
    "data_v3.shape"
   ]
  },
  {
   "cell_type": "code",
   "execution_count": 49,
   "id": "e21e7275",
   "metadata": {},
   "outputs": [
    {
     "data": {
      "text/plain": [
       "(10000, 639)"
      ]
     },
     "execution_count": 49,
     "metadata": {},
     "output_type": "execute_result"
    }
   ],
   "source": [
    "data_v3 = data_v3.drop(columns= ['NoCodeNatureSpecial', 'code_nature_culture_speciale'])\n",
    "data_v3.shape"
   ]
  },
  {
   "cell_type": "code",
   "execution_count": 50,
   "id": "c94266dd",
   "metadata": {
    "scrolled": true
   },
   "outputs": [
    {
     "data": {
      "text/html": [
       "<div>\n",
       "<style scoped>\n",
       "    .dataframe tbody tr th:only-of-type {\n",
       "        vertical-align: middle;\n",
       "    }\n",
       "\n",
       "    .dataframe tbody tr th {\n",
       "        vertical-align: top;\n",
       "    }\n",
       "\n",
       "    .dataframe thead th {\n",
       "        text-align: right;\n",
       "    }\n",
       "</style>\n",
       "<table border=\"1\" class=\"dataframe\">\n",
       "  <thead>\n",
       "    <tr style=\"text-align: right;\">\n",
       "      <th></th>\n",
       "      <th>id_mutation</th>\n",
       "      <th>date_mutation</th>\n",
       "      <th>nature_mutation</th>\n",
       "      <th>valeur_fonciere</th>\n",
       "      <th>adresse_suffixe</th>\n",
       "      <th>adresse_nom_voie</th>\n",
       "      <th>adresse_code_voie</th>\n",
       "      <th>code_postal</th>\n",
       "      <th>nom_commune</th>\n",
       "      <th>code_departement</th>\n",
       "      <th>...</th>\n",
       "      <th>2824</th>\n",
       "      <th>2827</th>\n",
       "      <th>2834</th>\n",
       "      <th>FER</th>\n",
       "      <th>FRICH</th>\n",
       "      <th>JARD</th>\n",
       "      <th>MARAI</th>\n",
       "      <th>PARC</th>\n",
       "      <th>PATUR</th>\n",
       "      <th>POTAG</th>\n",
       "    </tr>\n",
       "  </thead>\n",
       "  <tbody>\n",
       "    <tr>\n",
       "      <th>0</th>\n",
       "      <td>2016-1</td>\n",
       "      <td>2016-01-08</td>\n",
       "      <td>Vente</td>\n",
       "      <td>40000</td>\n",
       "      <td></td>\n",
       "      <td>RUE TONY REVILLON</td>\n",
       "      <td>0560</td>\n",
       "      <td>1750</td>\n",
       "      <td>Saint-Laurent-sur-Saône</td>\n",
       "      <td>1</td>\n",
       "      <td>...</td>\n",
       "      <td>0</td>\n",
       "      <td>0</td>\n",
       "      <td>0</td>\n",
       "      <td>0</td>\n",
       "      <td>0</td>\n",
       "      <td>0</td>\n",
       "      <td>0</td>\n",
       "      <td>0</td>\n",
       "      <td>0</td>\n",
       "      <td>0</td>\n",
       "    </tr>\n",
       "    <tr>\n",
       "      <th>1</th>\n",
       "      <td>2016-4</td>\n",
       "      <td>2016-01-08</td>\n",
       "      <td>Vente</td>\n",
       "      <td>90000</td>\n",
       "      <td></td>\n",
       "      <td>PELUS</td>\n",
       "      <td>B203</td>\n",
       "      <td>1560</td>\n",
       "      <td>Saint-Jean-sur-Reyssouze</td>\n",
       "      <td>1</td>\n",
       "      <td>...</td>\n",
       "      <td>0</td>\n",
       "      <td>0</td>\n",
       "      <td>0</td>\n",
       "      <td>0</td>\n",
       "      <td>0</td>\n",
       "      <td>0</td>\n",
       "      <td>0</td>\n",
       "      <td>0</td>\n",
       "      <td>0</td>\n",
       "      <td>0</td>\n",
       "    </tr>\n",
       "  </tbody>\n",
       "</table>\n",
       "<p>2 rows × 639 columns</p>\n",
       "</div>"
      ],
      "text/plain": [
       "  id_mutation date_mutation nature_mutation  valeur_fonciere adresse_suffixe  \\\n",
       "0      2016-1    2016-01-08           Vente            40000                   \n",
       "1      2016-4    2016-01-08           Vente            90000                   \n",
       "\n",
       "    adresse_nom_voie adresse_code_voie  code_postal               nom_commune  \\\n",
       "0  RUE TONY REVILLON              0560         1750   Saint-Laurent-sur-Saône   \n",
       "1              PELUS              B203         1560  Saint-Jean-sur-Reyssouze   \n",
       "\n",
       "   code_departement  ... 2824 2827 2834 FER FRICH  JARD  MARAI  PARC  PATUR  \\\n",
       "0                 1  ...    0    0    0   0     0     0      0     0      0   \n",
       "1                 1  ...    0    0    0   0     0     0      0     0      0   \n",
       "\n",
       "   POTAG  \n",
       "0      0  \n",
       "1      0  \n",
       "\n",
       "[2 rows x 639 columns]"
      ]
     },
     "execution_count": 50,
     "metadata": {},
     "output_type": "execute_result"
    }
   ],
   "source": [
    "data_v3.head(2)"
   ]
  },
  {
   "cell_type": "markdown",
   "id": "edec50b5",
   "metadata": {},
   "source": [
    "# Function encoding_categ_column"
   ]
  },
  {
   "cell_type": "code",
   "execution_count": 51,
   "id": "f999a684",
   "metadata": {},
   "outputs": [],
   "source": [
    "def encoding_categ_column(df, col_name):\n",
    "    \n",
    "    L = list(df[col_name].unique())\n",
    "    if '' in L:\n",
    "        df[col_name].replace(\"\", \"NoValue\", inplace=True) #Replace NaN by \"NoCodeNature\"\n",
    "    \n",
    "    ohe = OneHotEncoder(sparse = False) # Instanciate encoder\n",
    "    ohe.fit(df[[col_name]]) # Fit encoder  ---> OneHotEncoder(sparse=False)\n",
    "    \n",
    "    col_encoded = ohe.transform(df[[col_name]]) # Encode\n",
    "\n",
    "    dicts_col = {}\n",
    "    keys = list(ohe.categories_[0])\n",
    "    values = col_encoded.T.astype(int)\n",
    "    \n",
    "    for i,j in enumerate(keys):\n",
    "        dicts_col[j] = values[i,:]\n",
    "\n",
    "    result = pd.DataFrame.from_dict(dicts_col)\n",
    "    \n",
    "    df = df.reset_index(drop=True)\n",
    "    \n",
    "    #Concat df and result dataframes\n",
    "    data_res = pd.concat([df, result], axis = 1)\n",
    "    \n",
    "    if 'NoValue' in list(data_res.columns):\n",
    "        data_res = data_res.drop(columns= ['NoValue',col_name] )\n",
    "    else:\n",
    "        data_res = data_res.drop(columns= col_name)\n",
    "        \n",
    "    return data_res   "
   ]
  },
  {
   "cell_type": "markdown",
   "id": "c00b14ca",
   "metadata": {},
   "source": [
    "## Testing function"
   ]
  },
  {
   "cell_type": "code",
   "execution_count": 52,
   "id": "d02fbea3",
   "metadata": {},
   "outputs": [
    {
     "name": "stdout",
     "output_type": "stream",
     "text": [
      "Got dataframe w/1000 rows\n",
      "Got dataframe w/1000 rows\n",
      "Got dataframe w/1000 rows\n",
      "Got dataframe w/1000 rows\n",
      "Got dataframe w/1000 rows\n",
      "Got dataframe w/1000 rows\n",
      "Got dataframe w/1000 rows\n",
      "Got dataframe w/1000 rows\n",
      "Got dataframe w/1000 rows\n",
      "Got dataframe w/1000 rows\n"
     ]
    }
   ],
   "source": [
    "#Template for getting some data\n",
    "df2 = get_data(\"\"\"select * from data_working_update LIMIT 10000\"\"\", 1000)"
   ]
  },
  {
   "cell_type": "code",
   "execution_count": 53,
   "id": "efe18124",
   "metadata": {},
   "outputs": [
    {
     "data": {
      "text/plain": [
       "(10000, 37)"
      ]
     },
     "execution_count": 53,
     "metadata": {},
     "output_type": "execute_result"
    }
   ],
   "source": [
    "df2.shape"
   ]
  },
  {
   "cell_type": "code",
   "execution_count": 54,
   "id": "2ff13d7a",
   "metadata": {},
   "outputs": [
    {
     "data": {
      "text/plain": [
       "(10000, 618)"
      ]
     },
     "execution_count": 54,
     "metadata": {},
     "output_type": "execute_result"
    }
   ],
   "source": [
    "data_t = encoding_categ_column(df = df2, col_name = 'code_commune')\n",
    "data_t.shape"
   ]
  },
  {
   "cell_type": "code",
   "execution_count": 55,
   "id": "8d92c71d",
   "metadata": {},
   "outputs": [],
   "source": [
    "L1 = len(df2['code_commune'].unique()) + df2.shape[1] - 1\n",
    "L2 = data_t.shape[1]\n",
    "assert(L1 == L2)"
   ]
  },
  {
   "cell_type": "code",
   "execution_count": 56,
   "id": "fcab54fd",
   "metadata": {},
   "outputs": [
    {
     "data": {
      "text/plain": [
       "(10000, 631)"
      ]
     },
     "execution_count": 56,
     "metadata": {},
     "output_type": "execute_result"
    }
   ],
   "source": [
    "data_t2 = encoding_categ_column(df = data_t, col_name = 'code_nature_culture')\n",
    "data_t2.shape"
   ]
  },
  {
   "cell_type": "code",
   "execution_count": 57,
   "id": "616641a9",
   "metadata": {},
   "outputs": [
    {
     "name": "stdout",
     "output_type": "stream",
     "text": [
      "631 631\n"
     ]
    }
   ],
   "source": [
    "L1 = len(data_t['code_nature_culture'].unique()) + data_t.shape[1] - 2 # 2 because we dropped NoCodeNature column\n",
    "                                                                    # and encoded col\n",
    "L2 = data_t2.shape[1]\n",
    "print(L1, L2)\n",
    "assert(L1 == L2)"
   ]
  },
  {
   "cell_type": "code",
   "execution_count": 58,
   "id": "c896f833",
   "metadata": {},
   "outputs": [
    {
     "data": {
      "text/plain": [
       "(10000, 633)"
      ]
     },
     "execution_count": 58,
     "metadata": {},
     "output_type": "execute_result"
    }
   ],
   "source": [
    "data_t3 = encoding_categ_column(df = data_t2, col_name = 'type_local')\n",
    "data_t3.shape"
   ]
  },
  {
   "cell_type": "code",
   "execution_count": 59,
   "id": "a4099b51",
   "metadata": {},
   "outputs": [],
   "source": [
    "L1 = len(data_t2['type_local'].unique()) + data_t2.shape[1] - 1\n",
    "L2 = data_t3.shape[1]\n",
    "assert(L1 == L2)"
   ]
  },
  {
   "cell_type": "code",
   "execution_count": 60,
   "id": "06ff2edd",
   "metadata": {},
   "outputs": [
    {
     "data": {
      "text/plain": [
       "(10000, 639)"
      ]
     },
     "execution_count": 60,
     "metadata": {},
     "output_type": "execute_result"
    }
   ],
   "source": [
    "data_t4 = encoding_categ_column(df = data_t3, col_name = 'code_nature_culture_speciale')\n",
    "data_t4.shape"
   ]
  },
  {
   "cell_type": "code",
   "execution_count": 61,
   "id": "558cd600",
   "metadata": {},
   "outputs": [],
   "source": [
    "L1 = len(data_t3['code_nature_culture_speciale'].unique()) + data_t3.shape[1] - 2 # 2 because we dropped NoCodeNature column\n",
    "                                                                    # and encoded col\n",
    "L2 = data_t4.shape[1]\n",
    "assert(L1 == L2)"
   ]
  },
  {
   "cell_type": "markdown",
   "id": "701286db",
   "metadata": {},
   "source": [
    "# Function : convert_date"
   ]
  },
  {
   "cell_type": "code",
   "execution_count": 62,
   "id": "4d801d6a",
   "metadata": {},
   "outputs": [],
   "source": [
    "def convert_date(string, separator):\n",
    "    a = string.split(separator)\n",
    "    year = a[0]\n",
    "    month = a[1]\n",
    "    day = a[2]\n",
    "    return year, month, day\n",
    "\n",
    "Year, Month, Day = convert_date(string = '2020-01-09', separator = '-')"
   ]
  },
  {
   "cell_type": "code",
   "execution_count": 63,
   "id": "8b59044b",
   "metadata": {},
   "outputs": [
    {
     "data": {
      "text/plain": [
       "'2020'"
      ]
     },
     "execution_count": 63,
     "metadata": {},
     "output_type": "execute_result"
    }
   ],
   "source": [
    "Year"
   ]
  },
  {
   "cell_type": "code",
   "execution_count": 64,
   "id": "7c9ac56d",
   "metadata": {},
   "outputs": [
    {
     "data": {
      "text/plain": [
       "'01'"
      ]
     },
     "execution_count": 64,
     "metadata": {},
     "output_type": "execute_result"
    }
   ],
   "source": [
    "Month"
   ]
  },
  {
   "cell_type": "code",
   "execution_count": 65,
   "id": "358ef6c4",
   "metadata": {},
   "outputs": [
    {
     "data": {
      "text/plain": [
       "'09'"
      ]
     },
     "execution_count": 65,
     "metadata": {},
     "output_type": "execute_result"
    }
   ],
   "source": [
    "Day"
   ]
  },
  {
   "cell_type": "code",
   "execution_count": null,
   "id": "4ca630da",
   "metadata": {},
   "outputs": [],
   "source": []
  }
 ],
 "metadata": {
  "kernelspec": {
   "display_name": "Python 3 (ipykernel)",
   "language": "python",
   "name": "python3"
  },
  "language_info": {
   "codemirror_mode": {
    "name": "ipython",
    "version": 3
   },
   "file_extension": ".py",
   "mimetype": "text/x-python",
   "name": "python",
   "nbconvert_exporter": "python",
   "pygments_lexer": "ipython3",
   "version": "3.8.6"
  },
  "toc": {
   "base_numbering": 1,
   "nav_menu": {},
   "number_sections": true,
   "sideBar": true,
   "skip_h1_title": false,
   "title_cell": "Table of Contents",
   "title_sidebar": "Contents",
   "toc_cell": false,
   "toc_position": {
    "height": "calc(100% - 180px)",
    "left": "10px",
    "top": "150px",
    "width": "320px"
   },
   "toc_section_display": true,
   "toc_window_display": true
  }
 },
 "nbformat": 4,
 "nbformat_minor": 5
}
