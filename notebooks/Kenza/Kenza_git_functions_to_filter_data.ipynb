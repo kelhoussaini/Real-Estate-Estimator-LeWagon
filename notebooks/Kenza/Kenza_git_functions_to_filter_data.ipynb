{
  "nbformat": 4,
  "nbformat_minor": 0,
  "metadata": {
    "colab": {
      "name": "Kenza_git_functions_to_filter_data.ipynb",
      "provenance": [],
      "collapsed_sections": [],
      "toc_visible": true
    },
    "kernelspec": {
      "name": "python3",
      "display_name": "Python 3"
    },
    "language_info": {
      "name": "python"
    }
  },
  "cells": [
    {
      "cell_type": "code",
      "metadata": {
        "id": "JqKsgm6-rdeI"
      },
      "source": [
        "import numpy as np\n",
        "import pandas as pd\n",
        "#import matplotlib.pyplot as plt\n",
        "#import seaborn as sns\n",
        "#from collections import namedtuple"
      ],
      "execution_count": null,
      "outputs": []
    },
    {
      "cell_type": "markdown",
      "metadata": {
        "id": "5qo_Dee0rmDz"
      },
      "source": [
        "# Get data (file : valeursfoncieres-2020 )"
      ]
    },
    {
      "cell_type": "code",
      "metadata": {
        "colab": {
          "base_uri": "https://localhost:8080/"
        },
        "id": "s8SMVWC6riC3",
        "outputId": "54588728-5623-4caa-85a5-724992d9dfb3"
      },
      "source": [
        "def get_data(url):\n",
        "  df = pd.read_csv(url, low_memory=False)\n",
        "  print(\"data.shape : \", df.shape)\n",
        "  return df\n",
        "\n",
        "url = 'https://files.data.gouv.fr/geo-dvf/latest/csv/2020/full.csv.gz'\n",
        "df = get_data(url)\n",
        "data = df.copy()"
      ],
      "execution_count": null,
      "outputs": [
        {
          "output_type": "stream",
          "text": [
            "data.shape :  (2459560, 40)\n"
          ],
          "name": "stdout"
        }
      ]
    },
    {
      "cell_type": "markdown",
      "metadata": {
        "id": "ChlrbFA8sAXP"
      },
      "source": [
        "## Extracting industrial local_type"
      ]
    },
    {
      "cell_type": "code",
      "metadata": {
        "id": "cmAS33bvriFd"
      },
      "source": [
        "data = df.copy()\n",
        "whole_data = df.copy()"
      ],
      "execution_count": null,
      "outputs": []
    },
    {
      "cell_type": "code",
      "metadata": {
        "colab": {
          "base_uri": "https://localhost:8080/"
        },
        "id": "e0uQ-rZ_sDDh",
        "outputId": "794c8e83-992f-4a19-bbb5-372b6a88ea88"
      },
      "source": [
        "def extract_one_local_type(df, string):# df: dataframe && string :value of df['type_local']\n",
        "\n",
        "  # Get names of indexes for which column type_local is 'Local industriel. commercial ou assimilé'\n",
        "  indexNames = df[df['type_local'] == string].index\n",
        "  # Delete these row indexes from dataFrame\n",
        "  df.drop(indexNames , inplace=True)\n",
        "  return df\n",
        "\n",
        "data_industrial_out = extract_one_local_type(df = data, string = 'Local industriel. commercial ou assimilé')\n",
        "data_industrial_out.shape, whole_data.shape, data.shape\n"
      ],
      "execution_count": null,
      "outputs": [
        {
          "output_type": "execute_result",
          "data": {
            "text/plain": [
              "((2372623, 40), (2459560, 40), (2372623, 40))"
            ]
          },
          "metadata": {},
          "execution_count": 16
        }
      ]
    },
    {
      "cell_type": "markdown",
      "metadata": {
        "id": "IU8vabbMtdiS"
      },
      "source": [
        "##Drop rows with NaN in column type_local"
      ]
    },
    {
      "cell_type": "code",
      "metadata": {
        "colab": {
          "base_uri": "https://localhost:8080/"
        },
        "id": "m8ZV-y0_tdxD",
        "outputId": "74838b54-da1c-4750-a961-0d14f097721d"
      },
      "source": [
        "def drop_rows_with_nan_in_column(df, col_name): #df : dataframe\n",
        "  selected_rows = data[data[col_name].notna()]\n",
        "  return selected_rows\n",
        "\n",
        "data_clean = drop_rows_with_nan_in_column(df = data, col_name= 'type_local')\n",
        "data_clean.shape, data.shape"
      ],
      "execution_count": null,
      "outputs": [
        {
          "output_type": "execute_result",
          "data": {
            "text/plain": [
              "((1228897, 40), (2372623, 40))"
            ]
          },
          "metadata": {},
          "execution_count": 17
        }
      ]
    },
    {
      "cell_type": "code",
      "metadata": {
        "id": "QY5M4royVaO-"
      },
      "source": [
        "data_copy_1 = data_clean.copy() # to test the function bellow (version 1)\n",
        "data_copy_2 = data_clean.copy() # to test the function bellow (version 2)\n",
        "data_copy_3 = data_clean.copy() # to test the function bellow (version 3)"
      ],
      "execution_count": null,
      "outputs": []
    },
    {
      "cell_type": "markdown",
      "metadata": {
        "id": "tSN845_osXB6"
      },
      "source": [
        "## Extract data with value 'Vente'"
      ]
    },
    {
      "cell_type": "markdown",
      "metadata": {
        "id": "WqOYq3r9WvdR"
      },
      "source": [
        "###verion 1 : reducing_ONE_column_value"
      ]
    },
    {
      "cell_type": "code",
      "metadata": {
        "colab": {
          "base_uri": "https://localhost:8080/"
        },
        "id": "7SrH1s1dsDJw",
        "outputId": "38aad362-b6c6-49d5-c85d-a8872e45ad3c"
      },
      "source": [
        "def reducing_one_column_value(df, string, col_name):# df: dataframe && string :value of df['type_local']\n",
        "\n",
        "  # Get names of indexes for which column type_local is 'Local industriel. commercial ou assimilé'\n",
        "  indexNames = df[df[col_name] == string].index\n",
        "  # Delete these row indexes from dataFrame\n",
        "  df.drop(indexNames , inplace=True)\n",
        "  \n",
        "  return df\n",
        "\n",
        "list_nature_mutation = [\"Expropriation\",\"Adjudication\", \n",
        "                        \"Vente terrain à bâtir\", \"Echange\",\n",
        "                        \"Vente en l'état futur d'achèvement\"]\n",
        "\n",
        "for i in list_nature_mutation:\n",
        "  \n",
        "  data_vente_version1 = reducing_one_column_value(df = data_copy_1,\n",
        "                                             string = i, col_name = 'nature_mutation')\n",
        "  \n",
        "data_vente_version1.shape, whole_data.shape, data.shape\n",
        "#whole_data : indutrial local type included\n",
        "#data       : indutrial local type out\n",
        "#data_vente_version1 : indutrial local type out & (nature_mutation = 'vente)"
      ],
      "execution_count": null,
      "outputs": [
        {
          "output_type": "execute_result",
          "data": {
            "text/plain": [
              "((1214948, 40), (2459560, 40), (2372623, 40))"
            ]
          },
          "metadata": {},
          "execution_count": 19
        }
      ]
    },
    {
      "cell_type": "markdown",
      "metadata": {
        "id": "ueqH3da9W9Ul"
      },
      "source": [
        "###verion 2 : reducing_LIST_column_values"
      ]
    },
    {
      "cell_type": "code",
      "metadata": {
        "colab": {
          "base_uri": "https://localhost:8080/"
        },
        "id": "AGezdW74UBic",
        "outputId": "7b83b333-6da2-475e-c0b4-2844f8a4202b"
      },
      "source": [
        "def reducing_list_column_values(df, list_strings, col_name):# df: dataframe && list_strings = []: list of strings :value of df[col_name]\n",
        "\n",
        "  for i in list_strings:\n",
        "\n",
        "    # Get names of indexes for which column type_local is 'Local industriel. commercial ou assimilé'\n",
        "    indexNames = df[df[col_name] == i].index\n",
        "    # Delete these row indexes from dataFrame\n",
        "    df.drop(indexNames , inplace=True)\n",
        "  \n",
        "  return df\n",
        "\n",
        "list_nature_mutation = [\"Expropriation\",\"Adjudication\", \n",
        "                        \"Vente terrain à bâtir\", \"Echange\",\n",
        "                        \"Vente en l'état futur d'achèvement\"]\n",
        "\n",
        "data_vente_version2 = reducing_list_column_values(df = data_copy_2,\n",
        "                                             list_strings = list_nature_mutation, col_name = 'nature_mutation')\n",
        "  \n",
        "data_vente_version2.shape, whole_data.shape, data.shape\n",
        "#whole_data : indutrial local type included\n",
        "#data       : indutrial local type out\n",
        "#data_vente_version2 : indutrial local type out & (nature_mutation = 'vente)"
      ],
      "execution_count": null,
      "outputs": [
        {
          "output_type": "execute_result",
          "data": {
            "text/plain": [
              "((1214948, 40), (2459560, 40), (2372623, 40))"
            ]
          },
          "metadata": {},
          "execution_count": 20
        }
      ]
    },
    {
      "cell_type": "markdown",
      "metadata": {
        "id": "8lMle8kdX3jb"
      },
      "source": [
        "###version3 : getting new dataframe with only nature_mutation = 'vente'"
      ]
    },
    {
      "cell_type": "code",
      "metadata": {
        "id": "af212qL1sTHR",
        "colab": {
          "base_uri": "https://localhost:8080/"
        },
        "outputId": "c3d9fcce-d3c4-45f9-ead2-1c1de8270f21"
      },
      "source": [
        "def get_data_vente_only(df, col_name):\n",
        "  \n",
        "  modif_df = df[df[col_name] == \"Vente\"]\n",
        "\n",
        "  return modif_df  \n",
        "\n",
        "data_vente_version3 = get_data_vente_only(df = data_copy_3,\n",
        "                                           col_name = 'nature_mutation')                          \n",
        " \n",
        "data_vente_version3.shape, whole_data.shape, data.shape\n",
        "\n",
        "#whole_data : indutrial local type included\n",
        "#data       : indutrial local type out\n",
        "#data_vente_version3 : indutrial local type out & (nature_mutation = 'vente)"
      ],
      "execution_count": null,
      "outputs": [
        {
          "output_type": "execute_result",
          "data": {
            "text/plain": [
              "((1214948, 40), (2459560, 40), (2372623, 40))"
            ]
          },
          "metadata": {},
          "execution_count": 21
        }
      ]
    },
    {
      "cell_type": "markdown",
      "metadata": {
        "id": "-mN0UVCUc6L7"
      },
      "source": [
        "# Filter data based on all functions"
      ]
    },
    {
      "cell_type": "code",
      "metadata": {
        "id": "tj2RCqGPd3SS"
      },
      "source": [
        "def get_data(url):\n",
        "  df = pd.read_csv(url, low_memory=False)\n",
        "  print(\"data.shape : \", df.shape)\n",
        "  return df\n",
        "\n",
        "def extract_one_local_type(df, string):# df: dataframe && string :value of df['type_local']\n",
        "\n",
        "  # Get names of indexes for which column type_local is 'Local industriel. commercial ou assimilé'\n",
        "  indexNames = df[df['type_local'] == string].index\n",
        "  # Delete these row indexes from dataFrame\n",
        "  df.drop(indexNames , inplace=True)\n",
        "  return df\n",
        "\n",
        "def drop_rows_with_nan_in_column(df, col_name): #df : dataframe\n",
        "  selected_rows = data[data[col_name].notna()]\n",
        "  return selected_rows\n",
        "\n",
        "\n",
        "def get_data_vente_only(df, col_name):\n",
        "  \n",
        "  modif_df = df[df[col_name] == \"Vente\"]\n",
        "\n",
        "  return modif_df "
      ],
      "execution_count": null,
      "outputs": []
    },
    {
      "cell_type": "code",
      "metadata": {
        "colab": {
          "base_uri": "https://localhost:8080/"
        },
        "id": "tXi5fB8QRAwC",
        "outputId": "934bb7ae-743b-4950-9249-f9a7be7d02ae"
      },
      "source": [
        "#get_data form url \n",
        "url = 'https://files.data.gouv.fr/geo-dvf/latest/csv/2020/full.csv.gz'\n",
        "df = get_data(url)\n",
        "# make copies\n",
        "data = df.copy()\n",
        "whole_data = df.copy()\n",
        "\n",
        "#extract industrial local type\n",
        "data_industrial_out = extract_one_local_type(df = data, string = 'Local industriel. commercial ou assimilé')\n",
        "\n",
        "print(\"data.shape 'whole data' \", whole_data.shape) # data and data_industrial_out have the same shape \n",
        "print(\"data.shape whithout industrial local type \", data.shape) # data and data_industrial_out have the same shape \n",
        "\n",
        "# remove missing values for column 'type_lowal'\n",
        "data_clean = drop_rows_with_nan_in_column(df = data, col_name= 'type_local')\n",
        "print(\"data.shape whithout (industrial local type & NaN) \", data_clean.shape) # data and data_industrial_out have the same shape \n",
        "\n",
        "#get new dataframe with ( only nature_mutation = 'vente' ) & ( without industrial local type)\n",
        "\n",
        "data_vente = get_data_vente_only(df = data_clean,\n",
        "                                           col_name = 'nature_mutation')                          \n",
        "\n",
        "data_vente.shape, data_clean.shape, whole_data.shape, data.shape\n",
        "\n",
        "#whole_data : indutrial local type included\n",
        "#data       : indutrial local type out\n",
        "#data_clean  : (indutrial local type  & NaN ) out\n",
        "#data_vente : indutrial local type out & (nature_mutation = 'vente) & (NaN out)"
      ],
      "execution_count": null,
      "outputs": [
        {
          "output_type": "stream",
          "text": [
            "data.shape :  (2459560, 40)\n",
            "data.shape 'whole data'  (2459560, 40)\n",
            "data.shape whithout industrial local type  (2372623, 40)\n",
            "data.shape whithout (industrial local type & NaN)  (1228897, 40)\n"
          ],
          "name": "stdout"
        },
        {
          "output_type": "execute_result",
          "data": {
            "text/plain": [
              "((1214948, 40), (1228897, 40), (2459560, 40), (2372623, 40))"
            ]
          },
          "metadata": {},
          "execution_count": 6
        }
      ]
    },
    {
      "cell_type": "code",
      "metadata": {
        "colab": {
          "base_uri": "https://localhost:8080/"
        },
        "id": "vmjAKU0XQImJ",
        "outputId": "08a55c02-e32b-400a-bfdb-a0d59d10ae95"
      },
      "source": [
        "data_vente.columns"
      ],
      "execution_count": null,
      "outputs": [
        {
          "output_type": "execute_result",
          "data": {
            "text/plain": [
              "Index(['id_mutation', 'date_mutation', 'numero_disposition', 'nature_mutation',\n",
              "       'valeur_fonciere', 'adresse_numero', 'adresse_suffixe',\n",
              "       'adresse_nom_voie', 'adresse_code_voie', 'code_postal', 'code_commune',\n",
              "       'nom_commune', 'code_departement', 'ancien_code_commune',\n",
              "       'ancien_nom_commune', 'id_parcelle', 'ancien_id_parcelle',\n",
              "       'numero_volume', 'lot1_numero', 'lot1_surface_carrez', 'lot2_numero',\n",
              "       'lot2_surface_carrez', 'lot3_numero', 'lot3_surface_carrez',\n",
              "       'lot4_numero', 'lot4_surface_carrez', 'lot5_numero',\n",
              "       'lot5_surface_carrez', 'nombre_lots', 'code_type_local', 'type_local',\n",
              "       'surface_reelle_bati', 'nombre_pieces_principales',\n",
              "       'code_nature_culture', 'nature_culture', 'code_nature_culture_speciale',\n",
              "       'nature_culture_speciale', 'surface_terrain', 'longitude', 'latitude'],\n",
              "      dtype='object')"
            ]
          },
          "metadata": {},
          "execution_count": 7
        }
      ]
    },
    {
      "cell_type": "markdown",
      "metadata": {
        "id": "p8s5XtXiabsA"
      },
      "source": [
        "# Create function to Filter data "
      ]
    },
    {
      "cell_type": "code",
      "metadata": {
        "colab": {
          "base_uri": "https://localhost:8080/"
        },
        "id": "S9AUEGNrXJ1o",
        "outputId": "ceff98cb-04e9-4e4e-dfff-b0cfaf583fde"
      },
      "source": [
        "def get_data(url):\n",
        "  df = pd.read_csv(url, low_memory=False)\n",
        "  print(\"data.shape : \", df.shape)\n",
        "  return df\n",
        "  \n",
        "#get_data form url \n",
        "url = 'https://files.data.gouv.fr/geo-dvf/latest/csv/2020/full.csv.gz'\n",
        "df = get_data(url)\n",
        "# make copies\n",
        "data = df.copy()\n",
        "whole_data = df.copy()\n",
        "\n",
        "def filtered_data(df, col_mutation, col_local_type):\n",
        "  \n",
        "  modif_df = df[\n",
        "                (df[col_mutation] == \"Vente\") & \\\n",
        "                 (   \\\n",
        "                  (df[col_local_type] == \"Maison\") | \n",
        "                   (df[col_local_type] == \"Appartement\") | \n",
        "                  (df[col_local_type] == \"Dépendance\")\n",
        "                 )\n",
        "                 ] \n",
        "\n",
        "  return modif_df                                \n",
        " \n",
        "data_vente = filtered_data(df = data, \n",
        "                           col_mutation = 'nature_mutation',\n",
        "                           col_local_type = 'type_local')                          \n",
        "\n",
        "data_vente.shape, whole_data.shape, data.shape\n",
        "\n",
        "#whole_data : indutrial local type included\n",
        "#data       : indutrial local type out\n",
        "#data_vente : indutrial local type out & (nature_mutation = 'vente)"
      ],
      "execution_count": null,
      "outputs": [
        {
          "output_type": "stream",
          "text": [
            "data.shape :  (2459560, 40)\n"
          ],
          "name": "stdout"
        },
        {
          "output_type": "execute_result",
          "data": {
            "text/plain": [
              "((1214948, 40), (2459560, 40), (2459560, 40))"
            ]
          },
          "metadata": {},
          "execution_count": 24
        }
      ]
    },
    {
      "cell_type": "markdown",
      "metadata": {
        "id": "SbJVLvwiOht0"
      },
      "source": [
        "# Filter data. Drop selected columns (with missing values)"
      ]
    },
    {
      "cell_type": "code",
      "metadata": {
        "id": "4IWLE-8ZfFPl",
        "colab": {
          "base_uri": "https://localhost:8080/"
        },
        "outputId": "aa667af6-c2be-49fd-a901-d9e57b76a646"
      },
      "source": [
        "def get_data(url):\n",
        "  df = pd.read_csv(url, low_memory=False)\n",
        "  print(\"data.shape : \", df.shape)\n",
        "  return df\n",
        "\n",
        "def get_count_of_missing_values(df):\n",
        "  missing_df = pd.DataFrame(df.isnull().sum().sort_values(ascending=False))\n",
        "  return missing_df\n",
        " \n",
        "  \n",
        "#get_data form url \n",
        "url = 'https://files.data.gouv.fr/geo-dvf/latest/csv/2020/full.csv.gz'\n",
        "df = get_data(url)\n",
        "# make copies\n",
        "data = df.copy()\n",
        "whole_data = df.copy()\n",
        "\n",
        "#Drop selected columns with missing values (here, 13 columns)\n",
        "missing_df = get_count_of_missing_values(df = data)\n",
        "cols = list(missing_df[:10].index) + \\\n",
        "           list(missing_df[12:14].index) + \\\n",
        "                     list(missing_df[28:29].index)\n",
        "\n",
        "# Remove selected columns \n",
        "data = data.drop(cols, axis = 1)\n",
        "print(\"data.shape ; selected columns are dropped\", data.shape)\n",
        "\n",
        "\n",
        "def filtered_data(df, col_mutation, col_local_type):\n",
        "  \n",
        "  modif_df = df[\n",
        "                (df[col_mutation] == \"Vente\") & \\\n",
        "                 (   \\\n",
        "                  (df[col_local_type] == \"Maison\") | \n",
        "                   (df[col_local_type] == \"Appartement\") | \n",
        "                  (df[col_local_type] == \"Dépendance\")\n",
        "                 )\n",
        "                 ] \n",
        "\n",
        "  return modif_df                                \n",
        " \n",
        "data_vente = filtered_data(df = data, \n",
        "                           col_mutation = 'nature_mutation',\n",
        "                           col_local_type = 'type_local')                          \n",
        "\n",
        "data_vente.shape, whole_data.shape, data.shape\n",
        "\n",
        "#whole_data : indutrial local type included\n",
        "#data       : indutrial local type out\n",
        "#data_vente : indutrial local type out & (nature_mutation = 'vente)"
      ],
      "execution_count": null,
      "outputs": [
        {
          "output_type": "stream",
          "text": [
            "data.shape :  (2459560, 40)\n",
            "data.shape ; selected columns are dropped (2459560, 27)\n"
          ],
          "name": "stdout"
        },
        {
          "output_type": "execute_result",
          "data": {
            "text/plain": [
              "((1214948, 27), (2459560, 40), (2459560, 27))"
            ]
          },
          "metadata": {},
          "execution_count": 3
        }
      ]
    },
    {
      "cell_type": "code",
      "metadata": {
        "colab": {
          "base_uri": "https://localhost:8080/"
        },
        "id": "s8pEckIxTpc1",
        "outputId": "91d84092-a43b-4c10-d5fa-8c218367b9cd"
      },
      "source": [
        "data.columns"
      ],
      "execution_count": null,
      "outputs": [
        {
          "output_type": "execute_result",
          "data": {
            "text/plain": [
              "Index(['id_mutation', 'date_mutation', 'numero_disposition', 'nature_mutation',\n",
              "       'valeur_fonciere', 'adresse_numero', 'adresse_suffixe',\n",
              "       'adresse_nom_voie', 'code_postal', 'code_commune', 'nom_commune',\n",
              "       'code_departement', 'id_parcelle', 'lot1_numero', 'lot1_surface_carrez',\n",
              "       'lot2_numero', 'lot2_surface_carrez', 'nombre_lots', 'code_type_local',\n",
              "       'type_local', 'surface_reelle_bati', 'nombre_pieces_principales',\n",
              "       'code_nature_culture', 'nature_culture', 'surface_terrain', 'longitude',\n",
              "       'latitude'],\n",
              "      dtype='object')"
            ]
          },
          "metadata": {},
          "execution_count": 4
        }
      ]
    },
    {
      "cell_type": "code",
      "metadata": {
        "id": "bFzaFIjAVJsZ"
      },
      "source": [
        ""
      ],
      "execution_count": null,
      "outputs": []
    }
  ]
}