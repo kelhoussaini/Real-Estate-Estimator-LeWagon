{
 "cells": [
  {
   "cell_type": "code",
   "execution_count": 1,
   "id": "a125c644",
   "metadata": {},
   "outputs": [],
   "source": [
    "#Load Libraries and Create engine Connection\n",
    "\n",
    "import pymysql\n",
    "import pandas as pd\n",
    "import numpy as np\n",
    "import sqlalchemy\n",
    "import gc\n",
    "engine =sqlalchemy.create_engine(\n",
    "        sqlalchemy.engine.url.URL.create(\n",
    "        drivername=\"mysql+pymysql\",\n",
    "        username='Estimators',  # e.g. \"my-database-user\"\n",
    "        password='Estimator2021',  # e.g. \"my-database-password\"\n",
    "        host='34.77.88.127',  # e.g. \"127.0.0.1\"\n",
    "        port=3306,  # e.g. 3306\n",
    "        database='Housing_France',  # e.g. \"my-database-name\"\n",
    "    ))\n",
    "\n",
    "conn = engine.connect().execution_options(stream_results=True)"
   ]
  },
  {
   "cell_type": "code",
   "execution_count": 2,
   "id": "87fe155c",
   "metadata": {},
   "outputs": [],
   "source": [
    "#Load Libraries and Create engine Connection\n",
    "\n",
    "import pymysql\n",
    "import pandas as pd\n",
    "import numpy as np\n",
    "import sqlalchemy\n",
    "import gc\n",
    "\n",
    "def get_data(querystring,chunk):\n",
    "    engine =sqlalchemy.create_engine(\n",
    "    sqlalchemy.engine.url.URL.create(\n",
    "    drivername=\"mysql+pymysql\",\n",
    "    username='Estimators',  # e.g. \"my-database-user\"\n",
    "    password='Estimator2021',  # e.g. \"my-database-password\"\n",
    "    host='34.77.88.127',  # e.g. \"127.0.0.1\"\n",
    "    port=3306,  # e.g. 3306\n",
    "    database='Housing_France',  # e.g. \"my-database-name\"\n",
    "    ))\n",
    "    conn = engine.connect().execution_options(stream_results=True)\n",
    "    frame = pd.DataFrame()\n",
    "    for chunk_dataframe in pd.read_sql(\n",
    "            querystring, conn, chunksize=chunk):\n",
    "            print(f\"Got dataframe w/{len(chunk_dataframe)} rows\")\n",
    "            frame= frame.append(chunk_dataframe)\n",
    "            # ... do something with dataframe ...\n",
    "            \n",
    "    return frame"
   ]
  },
  {
   "cell_type": "code",
   "execution_count": 3,
   "id": "9294d902",
   "metadata": {},
   "outputs": [
    {
     "name": "stdout",
     "output_type": "stream",
     "text": [
      "Got dataframe w/1000 rows\n",
      "Got dataframe w/1000 rows\n",
      "Got dataframe w/1000 rows\n",
      "Got dataframe w/1000 rows\n",
      "Got dataframe w/1000 rows\n",
      "Got dataframe w/1000 rows\n",
      "Got dataframe w/1000 rows\n",
      "Got dataframe w/1000 rows\n",
      "Got dataframe w/1000 rows\n",
      "Got dataframe w/1000 rows\n",
      "Got dataframe w/1000 rows\n",
      "Got dataframe w/1000 rows\n",
      "Got dataframe w/1000 rows\n",
      "Got dataframe w/1000 rows\n",
      "Got dataframe w/1000 rows\n",
      "Got dataframe w/1000 rows\n",
      "Got dataframe w/1000 rows\n",
      "Got dataframe w/1000 rows\n",
      "Got dataframe w/1000 rows\n",
      "Got dataframe w/1000 rows\n",
      "Got dataframe w/1000 rows\n",
      "Got dataframe w/1000 rows\n",
      "Got dataframe w/1000 rows\n",
      "Got dataframe w/1000 rows\n",
      "Got dataframe w/1000 rows\n",
      "Got dataframe w/1000 rows\n",
      "Got dataframe w/1000 rows\n",
      "Got dataframe w/1000 rows\n",
      "Got dataframe w/1000 rows\n",
      "Got dataframe w/1000 rows\n",
      "Got dataframe w/1000 rows\n",
      "Got dataframe w/1000 rows\n",
      "Got dataframe w/1000 rows\n",
      "Got dataframe w/1000 rows\n",
      "Got dataframe w/1000 rows\n",
      "Got dataframe w/1000 rows\n",
      "Got dataframe w/1000 rows\n",
      "Got dataframe w/1000 rows\n",
      "Got dataframe w/1000 rows\n",
      "Got dataframe w/1000 rows\n",
      "Got dataframe w/1000 rows\n",
      "Got dataframe w/1000 rows\n",
      "Got dataframe w/1000 rows\n",
      "Got dataframe w/1000 rows\n",
      "Got dataframe w/1000 rows\n",
      "Got dataframe w/1000 rows\n",
      "Got dataframe w/1000 rows\n",
      "Got dataframe w/1000 rows\n",
      "Got dataframe w/1000 rows\n",
      "Got dataframe w/1000 rows\n"
     ]
    }
   ],
   "source": [
    "#Template for getting some data\n",
    "df = get_data(\"\"\"select * from data_working_update LIMIT 50000\"\"\", 1000)"
   ]
  },
  {
   "cell_type": "code",
   "execution_count": 4,
   "id": "f4496357",
   "metadata": {},
   "outputs": [
    {
     "data": {
      "text/plain": [
       "Index(['id_mutation', 'date_mutation', 'nature_mutation', 'valeur_fonciere',\n",
       "       'adresse_nom_voie', 'adresse_code_voie', 'code_postal', 'code_commune',\n",
       "       'nom_commune', 'code_departement', 'id_parcelle', 'type_local',\n",
       "       'surface_reelle_bati', 'nombre_pieces_principales', 'surface_terrain',\n",
       "       'longitude', 'latitude'],\n",
       "      dtype='object')"
      ]
     },
     "execution_count": 4,
     "metadata": {},
     "output_type": "execute_result"
    }
   ],
   "source": [
    "data = df.copy()\n",
    "data.columns"
   ]
  },
  {
   "cell_type": "code",
   "execution_count": 5,
   "id": "40c0a63e",
   "metadata": {},
   "outputs": [
    {
     "data": {
      "text/plain": [
       "(50000, 17)"
      ]
     },
     "execution_count": 5,
     "metadata": {},
     "output_type": "execute_result"
    }
   ],
   "source": [
    "data.shape"
   ]
  },
  {
   "cell_type": "code",
   "execution_count": 6,
   "id": "91a0eff9",
   "metadata": {},
   "outputs": [
    {
     "data": {
      "text/html": [
       "<div>\n",
       "<style scoped>\n",
       "    .dataframe tbody tr th:only-of-type {\n",
       "        vertical-align: middle;\n",
       "    }\n",
       "\n",
       "    .dataframe tbody tr th {\n",
       "        vertical-align: top;\n",
       "    }\n",
       "\n",
       "    .dataframe thead th {\n",
       "        text-align: right;\n",
       "    }\n",
       "</style>\n",
       "<table border=\"1\" class=\"dataframe\">\n",
       "  <thead>\n",
       "    <tr style=\"text-align: right;\">\n",
       "      <th></th>\n",
       "      <th>id_mutation</th>\n",
       "      <th>date_mutation</th>\n",
       "      <th>nature_mutation</th>\n",
       "      <th>valeur_fonciere</th>\n",
       "      <th>adresse_nom_voie</th>\n",
       "      <th>adresse_code_voie</th>\n",
       "      <th>code_postal</th>\n",
       "      <th>code_commune</th>\n",
       "      <th>nom_commune</th>\n",
       "      <th>code_departement</th>\n",
       "      <th>id_parcelle</th>\n",
       "      <th>type_local</th>\n",
       "      <th>surface_reelle_bati</th>\n",
       "      <th>nombre_pieces_principales</th>\n",
       "      <th>surface_terrain</th>\n",
       "      <th>longitude</th>\n",
       "      <th>latitude</th>\n",
       "    </tr>\n",
       "  </thead>\n",
       "  <tbody>\n",
       "    <tr>\n",
       "      <th>998</th>\n",
       "      <td>2016-62756</td>\n",
       "      <td>2016-07-21</td>\n",
       "      <td>Vente</td>\n",
       "      <td>547000</td>\n",
       "      <td>CHE DES ECOLIERS</td>\n",
       "      <td>0417</td>\n",
       "      <td>6140</td>\n",
       "      <td>6157</td>\n",
       "      <td>Vence</td>\n",
       "      <td>6</td>\n",
       "      <td>06157000BI0080</td>\n",
       "      <td>Maison</td>\n",
       "      <td>108</td>\n",
       "      <td>5</td>\n",
       "      <td>731</td>\n",
       "      <td>7.125507</td>\n",
       "      <td>43.727813</td>\n",
       "    </tr>\n",
       "    <tr>\n",
       "      <th>999</th>\n",
       "      <td>2016-62756</td>\n",
       "      <td>2016-07-21</td>\n",
       "      <td>Vente</td>\n",
       "      <td>547000</td>\n",
       "      <td>CHE DES ECOLIERS</td>\n",
       "      <td>0417</td>\n",
       "      <td>6140</td>\n",
       "      <td>6157</td>\n",
       "      <td>Vence</td>\n",
       "      <td>6</td>\n",
       "      <td>06157000BI0080</td>\n",
       "      <td>Maison</td>\n",
       "      <td>108</td>\n",
       "      <td>5</td>\n",
       "      <td>502</td>\n",
       "      <td>7.125507</td>\n",
       "      <td>43.727813</td>\n",
       "    </tr>\n",
       "  </tbody>\n",
       "</table>\n",
       "</div>"
      ],
      "text/plain": [
       "    id_mutation date_mutation nature_mutation  valeur_fonciere  \\\n",
       "998  2016-62756    2016-07-21           Vente           547000   \n",
       "999  2016-62756    2016-07-21           Vente           547000   \n",
       "\n",
       "     adresse_nom_voie adresse_code_voie  code_postal  code_commune  \\\n",
       "998  CHE DES ECOLIERS              0417         6140          6157   \n",
       "999  CHE DES ECOLIERS              0417         6140          6157   \n",
       "\n",
       "    nom_commune  code_departement     id_parcelle type_local  \\\n",
       "998       Vence                 6  06157000BI0080     Maison   \n",
       "999       Vence                 6  06157000BI0080     Maison   \n",
       "\n",
       "     surface_reelle_bati  nombre_pieces_principales  surface_terrain  \\\n",
       "998                  108                          5              731   \n",
       "999                  108                          5              502   \n",
       "\n",
       "     longitude   latitude  \n",
       "998   7.125507  43.727813  \n",
       "999   7.125507  43.727813  "
      ]
     },
     "execution_count": 6,
     "metadata": {},
     "output_type": "execute_result"
    }
   ],
   "source": [
    "data[data['id_mutation'] == '2016-62756']"
   ]
  },
  {
   "cell_type": "markdown",
   "id": "08de5019",
   "metadata": {},
   "source": [
    "# Drop duplicates"
   ]
  },
  {
   "cell_type": "markdown",
   "id": "3d8686ec",
   "metadata": {},
   "source": [
    "## id_mutation"
   ]
  },
  {
   "cell_type": "code",
   "execution_count": 7,
   "id": "1605121f",
   "metadata": {},
   "outputs": [
    {
     "data": {
      "text/plain": [
       "(40717, 17)"
      ]
     },
     "execution_count": 7,
     "metadata": {},
     "output_type": "execute_result"
    }
   ],
   "source": [
    "def drop_duplicates(df, col_name):\n",
    "    return df.drop_duplicates(subset=[col_name])\n",
    "\n",
    "data = drop_duplicates(df=data, col_name = 'id_mutation')\n",
    "data.shape"
   ]
  },
  {
   "cell_type": "code",
   "execution_count": 8,
   "id": "2486c9a5",
   "metadata": {},
   "outputs": [
    {
     "data": {
      "text/html": [
       "<div>\n",
       "<style scoped>\n",
       "    .dataframe tbody tr th:only-of-type {\n",
       "        vertical-align: middle;\n",
       "    }\n",
       "\n",
       "    .dataframe tbody tr th {\n",
       "        vertical-align: top;\n",
       "    }\n",
       "\n",
       "    .dataframe thead th {\n",
       "        text-align: right;\n",
       "    }\n",
       "</style>\n",
       "<table border=\"1\" class=\"dataframe\">\n",
       "  <thead>\n",
       "    <tr style=\"text-align: right;\">\n",
       "      <th></th>\n",
       "      <th>id_mutation</th>\n",
       "      <th>date_mutation</th>\n",
       "      <th>nature_mutation</th>\n",
       "      <th>valeur_fonciere</th>\n",
       "      <th>adresse_nom_voie</th>\n",
       "      <th>adresse_code_voie</th>\n",
       "      <th>code_postal</th>\n",
       "      <th>code_commune</th>\n",
       "      <th>nom_commune</th>\n",
       "      <th>code_departement</th>\n",
       "      <th>id_parcelle</th>\n",
       "      <th>type_local</th>\n",
       "      <th>surface_reelle_bati</th>\n",
       "      <th>nombre_pieces_principales</th>\n",
       "      <th>surface_terrain</th>\n",
       "      <th>longitude</th>\n",
       "      <th>latitude</th>\n",
       "    </tr>\n",
       "  </thead>\n",
       "  <tbody>\n",
       "    <tr>\n",
       "      <th>998</th>\n",
       "      <td>2016-62756</td>\n",
       "      <td>2016-07-21</td>\n",
       "      <td>Vente</td>\n",
       "      <td>547000</td>\n",
       "      <td>CHE DES ECOLIERS</td>\n",
       "      <td>0417</td>\n",
       "      <td>6140</td>\n",
       "      <td>6157</td>\n",
       "      <td>Vence</td>\n",
       "      <td>6</td>\n",
       "      <td>06157000BI0080</td>\n",
       "      <td>Maison</td>\n",
       "      <td>108</td>\n",
       "      <td>5</td>\n",
       "      <td>731</td>\n",
       "      <td>7.125507</td>\n",
       "      <td>43.727813</td>\n",
       "    </tr>\n",
       "  </tbody>\n",
       "</table>\n",
       "</div>"
      ],
      "text/plain": [
       "    id_mutation date_mutation nature_mutation  valeur_fonciere  \\\n",
       "998  2016-62756    2016-07-21           Vente           547000   \n",
       "\n",
       "     adresse_nom_voie adresse_code_voie  code_postal  code_commune  \\\n",
       "998  CHE DES ECOLIERS              0417         6140          6157   \n",
       "\n",
       "    nom_commune  code_departement     id_parcelle type_local  \\\n",
       "998       Vence                 6  06157000BI0080     Maison   \n",
       "\n",
       "     surface_reelle_bati  nombre_pieces_principales  surface_terrain  \\\n",
       "998                  108                          5              731   \n",
       "\n",
       "     longitude   latitude  \n",
       "998   7.125507  43.727813  "
      ]
     },
     "execution_count": 8,
     "metadata": {},
     "output_type": "execute_result"
    }
   ],
   "source": [
    "# Test\n",
    "\n",
    "data[data['id_mutation'] == '2016-62756']"
   ]
  },
  {
   "cell_type": "code",
   "execution_count": null,
   "id": "33af49c7",
   "metadata": {},
   "outputs": [],
   "source": []
  }
 ],
 "metadata": {
  "kernelspec": {
   "display_name": "Python 3 (ipykernel)",
   "language": "python",
   "name": "python3"
  },
  "language_info": {
   "codemirror_mode": {
    "name": "ipython",
    "version": 3
   },
   "file_extension": ".py",
   "mimetype": "text/x-python",
   "name": "python",
   "nbconvert_exporter": "python",
   "pygments_lexer": "ipython3",
   "version": "3.8.6"
  },
  "toc": {
   "base_numbering": 1,
   "nav_menu": {},
   "number_sections": true,
   "sideBar": true,
   "skip_h1_title": false,
   "title_cell": "Table of Contents",
   "title_sidebar": "Contents",
   "toc_cell": false,
   "toc_position": {
    "height": "calc(100% - 180px)",
    "left": "10px",
    "top": "150px",
    "width": "320px"
   },
   "toc_section_display": true,
   "toc_window_display": true
  }
 },
 "nbformat": 4,
 "nbformat_minor": 5
}
