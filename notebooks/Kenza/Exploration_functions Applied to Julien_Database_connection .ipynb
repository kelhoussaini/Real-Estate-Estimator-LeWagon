{
 "cells": [
  {
   "cell_type": "code",
   "execution_count": 115,
   "id": "d2f10685",
   "metadata": {},
   "outputs": [],
   "source": [
    "#Imports \n",
    "\n",
    "import numpy as np\n",
    "import pandas as pd\n",
    "import matplotlib.pyplot as plt\n",
    "import seaborn as sns\n",
    "from collections import namedtuple"
   ]
  },
  {
   "cell_type": "markdown",
   "id": "e3bf67a7",
   "metadata": {},
   "source": [
    "# Get Data"
   ]
  },
  {
   "cell_type": "code",
   "execution_count": 116,
   "id": "7cdaea07",
   "metadata": {},
   "outputs": [],
   "source": [
    "#Load Libraries and Create engine Connection\n",
    "\n",
    "import pymysql\n",
    "import pandas as pd\n",
    "import numpy as np\n",
    "import sqlalchemy\n",
    "import gc\n",
    "engine =sqlalchemy.create_engine(\n",
    "        sqlalchemy.engine.url.URL.create(\n",
    "        drivername=\"mysql+pymysql\",\n",
    "        username='Estimators',  # e.g. \"my-database-user\"\n",
    "        password='Estimator2021',  # e.g. \"my-database-password\"\n",
    "        host='34.77.88.127',  # e.g. \"127.0.0.1\"\n",
    "        port=3306,  # e.g. 3306\n",
    "        database='Housing_France',  # e.g. \"my-database-name\"\n",
    "    ))\n",
    "\n",
    "conn = engine.connect().execution_options(stream_results=True)"
   ]
  },
  {
   "cell_type": "code",
   "execution_count": 117,
   "id": "498c23df",
   "metadata": {},
   "outputs": [],
   "source": [
    "#Load Libraries and Create engine Connection\n",
    "\n",
    "import pymysql\n",
    "import pandas as pd\n",
    "import numpy as np\n",
    "import sqlalchemy\n",
    "import gc\n",
    "\n",
    "def get_data(querystring,chunk):\n",
    "    engine =sqlalchemy.create_engine(\n",
    "    sqlalchemy.engine.url.URL.create(\n",
    "    drivername=\"mysql+pymysql\",\n",
    "    username='Estimators',  # e.g. \"my-database-user\"\n",
    "    password='Estimator2021',  # e.g. \"my-database-password\"\n",
    "    host='34.77.88.127',  # e.g. \"127.0.0.1\"\n",
    "    port=3306,  # e.g. 3306\n",
    "    database='Housing_France',  # e.g. \"my-database-name\"\n",
    "    ))\n",
    "    conn = engine.connect().execution_options(stream_results=True)\n",
    "    frame = pd.DataFrame()\n",
    "    for chunk_dataframe in pd.read_sql(\n",
    "            querystring, conn, chunksize=chunk):\n",
    "            print(f\"Got dataframe w/{len(chunk_dataframe)} rows\")\n",
    "            frame= frame.append(chunk_dataframe)\n",
    "            # ... do something with dataframe ...\n",
    "            \n",
    "    return frame"
   ]
  },
  {
   "cell_type": "code",
   "execution_count": 118,
   "id": "3565e230",
   "metadata": {},
   "outputs": [
    {
     "name": "stdout",
     "output_type": "stream",
     "text": [
      "Got dataframe w/1000 rows\n",
      "Got dataframe w/1000 rows\n",
      "Got dataframe w/1000 rows\n",
      "Got dataframe w/1000 rows\n",
      "Got dataframe w/1000 rows\n",
      "Got dataframe w/1000 rows\n",
      "Got dataframe w/1000 rows\n",
      "Got dataframe w/1000 rows\n",
      "Got dataframe w/1000 rows\n",
      "Got dataframe w/1000 rows\n",
      "Got dataframe w/1000 rows\n",
      "Got dataframe w/1000 rows\n",
      "Got dataframe w/1000 rows\n",
      "Got dataframe w/1000 rows\n",
      "Got dataframe w/1000 rows\n",
      "Got dataframe w/1000 rows\n",
      "Got dataframe w/1000 rows\n",
      "Got dataframe w/1000 rows\n",
      "Got dataframe w/1000 rows\n",
      "Got dataframe w/1000 rows\n",
      "Got dataframe w/1000 rows\n",
      "Got dataframe w/1000 rows\n",
      "Got dataframe w/1000 rows\n",
      "Got dataframe w/1000 rows\n",
      "Got dataframe w/1000 rows\n",
      "Got dataframe w/1000 rows\n",
      "Got dataframe w/1000 rows\n",
      "Got dataframe w/1000 rows\n",
      "Got dataframe w/1000 rows\n",
      "Got dataframe w/1000 rows\n",
      "Got dataframe w/1000 rows\n",
      "Got dataframe w/1000 rows\n",
      "Got dataframe w/1000 rows\n",
      "Got dataframe w/1000 rows\n",
      "Got dataframe w/1000 rows\n",
      "Got dataframe w/1000 rows\n",
      "Got dataframe w/1000 rows\n",
      "Got dataframe w/1000 rows\n",
      "Got dataframe w/1000 rows\n",
      "Got dataframe w/1000 rows\n",
      "Got dataframe w/1000 rows\n",
      "Got dataframe w/1000 rows\n",
      "Got dataframe w/1000 rows\n",
      "Got dataframe w/1000 rows\n",
      "Got dataframe w/1000 rows\n",
      "Got dataframe w/1000 rows\n",
      "Got dataframe w/1000 rows\n",
      "Got dataframe w/1000 rows\n",
      "Got dataframe w/1000 rows\n",
      "Got dataframe w/1000 rows\n"
     ]
    }
   ],
   "source": [
    "#Template for getting some data\n",
    "df = get_data(\"\"\"select * from data_working LIMIT 50000\"\"\", 1000)"
   ]
  },
  {
   "cell_type": "code",
   "execution_count": 119,
   "id": "474d0e99",
   "metadata": {},
   "outputs": [],
   "source": [
    "#Replace all the blank rows with np.NaN\n",
    "\n",
    "for i in df.columns:\n",
    "    df[i].replace(r'', np.nan, regex=True, inplace= True)"
   ]
  },
  {
   "cell_type": "code",
   "execution_count": 120,
   "id": "9471c8d9",
   "metadata": {},
   "outputs": [],
   "source": [
    "#Some Preprocessing\n",
    "df2 = df.copy()\n",
    "df2 = df2[df2['type_local']. notna()]\n",
    "df2 = df2[df2['id_mutation']!= 'id_mutation']\n",
    "df2 = df2[df2['type_local']== 'Maison']\n",
    "columns = ['ancien_nom_commune','ancien_id_parcelle','ancien_code_commune','lot5_surface_carrez','lot4_surface_carrez','lot5_numero'\n",
    "            ,'lot3_surface_carrez', 'numero_volume','lot4_numero','lot3_numero','adresse_suffixe']\n",
    "df2.drop(columns=columns, inplace=True)"
   ]
  },
  {
   "cell_type": "code",
   "execution_count": 121,
   "id": "f4f331b0",
   "metadata": {},
   "outputs": [
    {
     "data": {
      "text/plain": [
       "(50000, 40)"
      ]
     },
     "execution_count": 121,
     "metadata": {},
     "output_type": "execute_result"
    }
   ],
   "source": [
    "df.shape"
   ]
  },
  {
   "cell_type": "code",
   "execution_count": 122,
   "id": "5c0496a3",
   "metadata": {},
   "outputs": [
    {
     "name": "stdout",
     "output_type": "stream",
     "text": [
      "<class 'pandas.core.frame.DataFrame'>\n",
      "Int64Index: 50000 entries, 0 to 999\n",
      "Data columns (total 40 columns):\n",
      " #   Column                        Non-Null Count  Dtype  \n",
      "---  ------                        --------------  -----  \n",
      " 0   id_mutation                   50000 non-null  object \n",
      " 1   date_mutation                 50000 non-null  object \n",
      " 2   numero_disposition            50000 non-null  int64  \n",
      " 3   nature_mutation               50000 non-null  object \n",
      " 4   valeur_fonciere               50000 non-null  int64  \n",
      " 5   adresse_numero                50000 non-null  int64  \n",
      " 6   adresse_suffixe               3137 non-null   object \n",
      " 7   adresse_nom_voie              50000 non-null  object \n",
      " 8   adresse_code_voie             50000 non-null  object \n",
      " 9   code_postal                   50000 non-null  int64  \n",
      " 10  code_commune                  50000 non-null  int64  \n",
      " 11  nom_commune                   50000 non-null  object \n",
      " 12  code_departement              50000 non-null  int64  \n",
      " 13  ancien_code_commune           918 non-null    object \n",
      " 14  ancien_nom_commune            918 non-null    object \n",
      " 15  id_parcelle                   50000 non-null  object \n",
      " 16  ancien_id_parcelle            200 non-null    object \n",
      " 17  numero_volume                 50000 non-null  int64  \n",
      " 18  lot1_numero                   23112 non-null  object \n",
      " 19  lot1_surface_carrez           50000 non-null  float64\n",
      " 20  lot2_numero                   50000 non-null  int64  \n",
      " 21  lot2_surface_carrez           50000 non-null  float64\n",
      " 22  lot3_numero                   50000 non-null  int64  \n",
      " 23  lot3_surface_carrez           50000 non-null  float64\n",
      " 24  lot4_numero                   50000 non-null  int64  \n",
      " 25  lot4_surface_carrez           50000 non-null  float64\n",
      " 26  lot5_numero                   50000 non-null  int64  \n",
      " 27  lot5_surface_carrez           18 non-null     object \n",
      " 28  nombre_lots                   50000 non-null  int64  \n",
      " 29  code_type_local               50000 non-null  int64  \n",
      " 30  type_local                    50000 non-null  object \n",
      " 31  surface_reelle_bati           50000 non-null  int64  \n",
      " 32  nombre_pieces_principales     50000 non-null  int64  \n",
      " 33  code_nature_culture           26816 non-null  object \n",
      " 34  nature_culture                26816 non-null  object \n",
      " 35  code_nature_culture_speciale  369 non-null    object \n",
      " 36  nature_culture_speciale       369 non-null    object \n",
      " 37  surface_terrain               50000 non-null  int64  \n",
      " 38  longitude                     50000 non-null  float64\n",
      " 39  latitude                      50000 non-null  float64\n",
      "dtypes: float64(6), int64(16), object(18)\n",
      "memory usage: 15.6+ MB\n"
     ]
    }
   ],
   "source": [
    "df.info()"
   ]
  },
  {
   "cell_type": "code",
   "execution_count": 123,
   "id": "349c902e",
   "metadata": {},
   "outputs": [
    {
     "data": {
      "text/html": [
       "<div>\n",
       "<style scoped>\n",
       "    .dataframe tbody tr th:only-of-type {\n",
       "        vertical-align: middle;\n",
       "    }\n",
       "\n",
       "    .dataframe tbody tr th {\n",
       "        vertical-align: top;\n",
       "    }\n",
       "\n",
       "    .dataframe thead th {\n",
       "        text-align: right;\n",
       "    }\n",
       "</style>\n",
       "<table border=\"1\" class=\"dataframe\">\n",
       "  <thead>\n",
       "    <tr style=\"text-align: right;\">\n",
       "      <th></th>\n",
       "      <th>id_mutation</th>\n",
       "      <th>date_mutation</th>\n",
       "      <th>numero_disposition</th>\n",
       "      <th>nature_mutation</th>\n",
       "      <th>valeur_fonciere</th>\n",
       "      <th>adresse_numero</th>\n",
       "      <th>adresse_suffixe</th>\n",
       "      <th>adresse_nom_voie</th>\n",
       "      <th>adresse_code_voie</th>\n",
       "      <th>code_postal</th>\n",
       "      <th>...</th>\n",
       "      <th>type_local</th>\n",
       "      <th>surface_reelle_bati</th>\n",
       "      <th>nombre_pieces_principales</th>\n",
       "      <th>code_nature_culture</th>\n",
       "      <th>nature_culture</th>\n",
       "      <th>code_nature_culture_speciale</th>\n",
       "      <th>nature_culture_speciale</th>\n",
       "      <th>surface_terrain</th>\n",
       "      <th>longitude</th>\n",
       "      <th>latitude</th>\n",
       "    </tr>\n",
       "  </thead>\n",
       "  <tbody>\n",
       "    <tr>\n",
       "      <th>0</th>\n",
       "      <td>2016-1</td>\n",
       "      <td>2016-01-08</td>\n",
       "      <td>1</td>\n",
       "      <td>Vente</td>\n",
       "      <td>40000</td>\n",
       "      <td>77</td>\n",
       "      <td>NaN</td>\n",
       "      <td>RUE TONY REVILLON</td>\n",
       "      <td>0560</td>\n",
       "      <td>1750</td>\n",
       "      <td>...</td>\n",
       "      <td>Appartement</td>\n",
       "      <td>50</td>\n",
       "      <td>2</td>\n",
       "      <td>NaN</td>\n",
       "      <td>NaN</td>\n",
       "      <td>NaN</td>\n",
       "      <td>NaN</td>\n",
       "      <td>0</td>\n",
       "      <td>4.840606</td>\n",
       "      <td>46.304486</td>\n",
       "    </tr>\n",
       "    <tr>\n",
       "      <th>1</th>\n",
       "      <td>2016-2</td>\n",
       "      <td>2016-01-11</td>\n",
       "      <td>1</td>\n",
       "      <td>Vente</td>\n",
       "      <td>1677</td>\n",
       "      <td>5246</td>\n",
       "      <td>NaN</td>\n",
       "      <td>LES BROTTEAUX</td>\n",
       "      <td>B011</td>\n",
       "      <td>1160</td>\n",
       "      <td>...</td>\n",
       "      <td>Local industriel. commercial ou assimilé</td>\n",
       "      <td>0</td>\n",
       "      <td>0</td>\n",
       "      <td>S</td>\n",
       "      <td>sols</td>\n",
       "      <td>NaN</td>\n",
       "      <td>NaN</td>\n",
       "      <td>838</td>\n",
       "      <td>5.323666</td>\n",
       "      <td>46.040803</td>\n",
       "    </tr>\n",
       "  </tbody>\n",
       "</table>\n",
       "<p>2 rows × 40 columns</p>\n",
       "</div>"
      ],
      "text/plain": [
       "  id_mutation date_mutation  numero_disposition nature_mutation  \\\n",
       "0      2016-1    2016-01-08                   1           Vente   \n",
       "1      2016-2    2016-01-11                   1           Vente   \n",
       "\n",
       "   valeur_fonciere  adresse_numero adresse_suffixe   adresse_nom_voie  \\\n",
       "0            40000              77             NaN  RUE TONY REVILLON   \n",
       "1             1677            5246             NaN      LES BROTTEAUX   \n",
       "\n",
       "  adresse_code_voie  code_postal  ...  \\\n",
       "0              0560         1750  ...   \n",
       "1              B011         1160  ...   \n",
       "\n",
       "                                 type_local surface_reelle_bati  \\\n",
       "0                               Appartement                  50   \n",
       "1  Local industriel. commercial ou assimilé                   0   \n",
       "\n",
       "   nombre_pieces_principales code_nature_culture nature_culture  \\\n",
       "0                          2                 NaN            NaN   \n",
       "1                          0                   S           sols   \n",
       "\n",
       "  code_nature_culture_speciale nature_culture_speciale  surface_terrain  \\\n",
       "0                          NaN                     NaN                0   \n",
       "1                          NaN                     NaN              838   \n",
       "\n",
       "  longitude   latitude  \n",
       "0  4.840606  46.304486  \n",
       "1  5.323666  46.040803  \n",
       "\n",
       "[2 rows x 40 columns]"
      ]
     },
     "execution_count": 123,
     "metadata": {},
     "output_type": "execute_result"
    }
   ],
   "source": [
    "df.head(2)"
   ]
  },
  {
   "cell_type": "raw",
   "id": "3da86137",
   "metadata": {},
   "source": [
    "Make a copy of df"
   ]
  },
  {
   "cell_type": "code",
   "execution_count": 124,
   "id": "502e0f98",
   "metadata": {},
   "outputs": [],
   "source": [
    "data = df.copy()"
   ]
  },
  {
   "cell_type": "markdown",
   "id": "da5f94e3",
   "metadata": {},
   "source": [
    "# Exploration"
   ]
  },
  {
   "cell_type": "markdown",
   "id": "9b34ec44",
   "metadata": {},
   "source": [
    "## Dtypes indentification"
   ]
  },
  {
   "cell_type": "code",
   "execution_count": 125,
   "id": "e265e1d4",
   "metadata": {},
   "outputs": [
    {
     "data": {
      "text/plain": [
       "array([dtype('O'), dtype('int64'), dtype('float64')], dtype=object)"
      ]
     },
     "execution_count": 125,
     "metadata": {},
     "output_type": "execute_result"
    }
   ],
   "source": [
    "data.dtypes.unique()"
   ]
  },
  {
   "cell_type": "markdown",
   "id": "67a2aa60",
   "metadata": {},
   "source": [
    "### float64"
   ]
  },
  {
   "cell_type": "code",
   "execution_count": 126,
   "id": "8a39512a",
   "metadata": {},
   "outputs": [
    {
     "name": "stdout",
     "output_type": "stream",
     "text": [
      "6\n"
     ]
    }
   ],
   "source": [
    "def get_float_columns(df):\n",
    "    list_floats = list(df.select_dtypes(include=['float64']).columns)\n",
    "    return list_floats\n",
    "\n",
    "list_floats = get_float_columns(df = data)\n",
    "print(len(list_floats))"
   ]
  },
  {
   "cell_type": "code",
   "execution_count": 127,
   "id": "b5379a4e",
   "metadata": {},
   "outputs": [
    {
     "data": {
      "text/plain": [
       "array(['lot1_surface_carrez', 'lot2_surface_carrez',\n",
       "       'lot3_surface_carrez', 'lot4_surface_carrez', 'longitude',\n",
       "       'latitude'], dtype='<U19')"
      ]
     },
     "execution_count": 127,
     "metadata": {},
     "output_type": "execute_result"
    }
   ],
   "source": [
    "np.array(list_floats)"
   ]
  },
  {
   "cell_type": "markdown",
   "id": "dfbadfa3",
   "metadata": {},
   "source": [
    "### int64"
   ]
  },
  {
   "cell_type": "code",
   "execution_count": 128,
   "id": "24642c54",
   "metadata": {},
   "outputs": [
    {
     "name": "stdout",
     "output_type": "stream",
     "text": [
      "16\n"
     ]
    },
    {
     "data": {
      "text/plain": [
       "array(['numero_disposition', 'valeur_fonciere', 'adresse_numero',\n",
       "       'code_postal', 'code_commune', 'code_departement', 'numero_volume',\n",
       "       'lot2_numero', 'lot3_numero', 'lot4_numero', 'lot5_numero',\n",
       "       'nombre_lots', 'code_type_local', 'surface_reelle_bati',\n",
       "       'nombre_pieces_principales', 'surface_terrain'], dtype='<U25')"
      ]
     },
     "execution_count": 128,
     "metadata": {},
     "output_type": "execute_result"
    }
   ],
   "source": [
    "def get_int_columns(df):\n",
    "    list_int = list(df.select_dtypes(include=['int64']).columns)\n",
    "    return list_int\n",
    "\n",
    "list_int = get_int_columns(df = data)\n",
    "print(len(list_int))\n",
    "np.array(list_int)"
   ]
  },
  {
   "cell_type": "markdown",
   "id": "a14f8435",
   "metadata": {},
   "source": [
    "### Object"
   ]
  },
  {
   "cell_type": "code",
   "execution_count": 129,
   "id": "30c2c371",
   "metadata": {},
   "outputs": [
    {
     "name": "stdout",
     "output_type": "stream",
     "text": [
      "18\n"
     ]
    },
    {
     "data": {
      "text/plain": [
       "array(['id_mutation', 'date_mutation', 'nature_mutation',\n",
       "       'adresse_suffixe', 'adresse_nom_voie', 'adresse_code_voie',\n",
       "       'nom_commune', 'ancien_code_commune', 'ancien_nom_commune',\n",
       "       'id_parcelle', 'ancien_id_parcelle', 'lot1_numero',\n",
       "       'lot5_surface_carrez', 'type_local', 'code_nature_culture',\n",
       "       'nature_culture', 'code_nature_culture_speciale',\n",
       "       'nature_culture_speciale'], dtype='<U28')"
      ]
     },
     "execution_count": 129,
     "metadata": {},
     "output_type": "execute_result"
    }
   ],
   "source": [
    "def get_object_columns(df):\n",
    "    list_objects = list(df.select_dtypes(include=['O']).columns)\n",
    "    return list_objects\n",
    "\n",
    "list_objects = get_object_columns(df = data)\n",
    "print(len(list_objects))\n",
    "np.array(list_objects)"
   ]
  },
  {
   "cell_type": "markdown",
   "id": "b85bb1b9",
   "metadata": {},
   "source": [
    "## Empty values --- Exploring missing values "
   ]
  },
  {
   "cell_type": "code",
   "execution_count": 130,
   "id": "23d20b15",
   "metadata": {},
   "outputs": [
    {
     "data": {
      "text/html": [
       "<div>\n",
       "<style scoped>\n",
       "    .dataframe tbody tr th:only-of-type {\n",
       "        vertical-align: middle;\n",
       "    }\n",
       "\n",
       "    .dataframe tbody tr th {\n",
       "        vertical-align: top;\n",
       "    }\n",
       "\n",
       "    .dataframe thead th {\n",
       "        text-align: right;\n",
       "    }\n",
       "</style>\n",
       "<table border=\"1\" class=\"dataframe\">\n",
       "  <thead>\n",
       "    <tr style=\"text-align: right;\">\n",
       "      <th></th>\n",
       "      <th>0</th>\n",
       "    </tr>\n",
       "  </thead>\n",
       "  <tbody>\n",
       "    <tr>\n",
       "      <th>lot5_surface_carrez</th>\n",
       "      <td>49982</td>\n",
       "    </tr>\n",
       "    <tr>\n",
       "      <th>ancien_id_parcelle</th>\n",
       "      <td>49800</td>\n",
       "    </tr>\n",
       "    <tr>\n",
       "      <th>nature_culture_speciale</th>\n",
       "      <td>49631</td>\n",
       "    </tr>\n",
       "    <tr>\n",
       "      <th>code_nature_culture_speciale</th>\n",
       "      <td>49631</td>\n",
       "    </tr>\n",
       "    <tr>\n",
       "      <th>ancien_nom_commune</th>\n",
       "      <td>49082</td>\n",
       "    </tr>\n",
       "  </tbody>\n",
       "</table>\n",
       "</div>"
      ],
      "text/plain": [
       "                                  0\n",
       "lot5_surface_carrez           49982\n",
       "ancien_id_parcelle            49800\n",
       "nature_culture_speciale       49631\n",
       "code_nature_culture_speciale  49631\n",
       "ancien_nom_commune            49082"
      ]
     },
     "execution_count": 130,
     "metadata": {},
     "output_type": "execute_result"
    }
   ],
   "source": [
    "def get_count_of_missing_values(df):\n",
    "    missing_df = pd.DataFrame(df.isnull().sum().sort_values(ascending=False))\n",
    "    return missing_df\n",
    "\n",
    "missing_df = get_count_of_missing_values(df = data)\n",
    "missing_df.head(5) # 5 first ones"
   ]
  },
  {
   "cell_type": "code",
   "execution_count": 131,
   "id": "e8d315c2",
   "metadata": {},
   "outputs": [
    {
     "data": {
      "text/html": [
       "<div>\n",
       "<style scoped>\n",
       "    .dataframe tbody tr th:only-of-type {\n",
       "        vertical-align: middle;\n",
       "    }\n",
       "\n",
       "    .dataframe tbody tr th {\n",
       "        vertical-align: top;\n",
       "    }\n",
       "\n",
       "    .dataframe thead th {\n",
       "        text-align: right;\n",
       "    }\n",
       "</style>\n",
       "<table border=\"1\" class=\"dataframe\">\n",
       "  <thead>\n",
       "    <tr style=\"text-align: right;\">\n",
       "      <th></th>\n",
       "      <th>0</th>\n",
       "    </tr>\n",
       "  </thead>\n",
       "  <tbody>\n",
       "    <tr>\n",
       "      <th>id_parcelle</th>\n",
       "      <td>0</td>\n",
       "    </tr>\n",
       "    <tr>\n",
       "      <th>numero_volume</th>\n",
       "      <td>0</td>\n",
       "    </tr>\n",
       "    <tr>\n",
       "      <th>lot1_surface_carrez</th>\n",
       "      <td>0</td>\n",
       "    </tr>\n",
       "    <tr>\n",
       "      <th>date_mutation</th>\n",
       "      <td>0</td>\n",
       "    </tr>\n",
       "    <tr>\n",
       "      <th>latitude</th>\n",
       "      <td>0</td>\n",
       "    </tr>\n",
       "  </tbody>\n",
       "</table>\n",
       "</div>"
      ],
      "text/plain": [
       "                     0\n",
       "id_parcelle          0\n",
       "numero_volume        0\n",
       "lot1_surface_carrez  0\n",
       "date_mutation        0\n",
       "latitude             0"
      ]
     },
     "execution_count": 131,
     "metadata": {},
     "output_type": "execute_result"
    }
   ],
   "source": [
    "missing_df.tail(5) # 5 last ones"
   ]
  },
  {
   "cell_type": "markdown",
   "id": "99fb9dd5",
   "metadata": {},
   "source": [
    "*If we want to see the dtype of each column in addition to the dataframe above*"
   ]
  },
  {
   "cell_type": "code",
   "execution_count": 132,
   "id": "20fd926a",
   "metadata": {},
   "outputs": [
    {
     "data": {
      "text/html": [
       "<div>\n",
       "<style scoped>\n",
       "    .dataframe tbody tr th:only-of-type {\n",
       "        vertical-align: middle;\n",
       "    }\n",
       "\n",
       "    .dataframe tbody tr th {\n",
       "        vertical-align: top;\n",
       "    }\n",
       "\n",
       "    .dataframe thead th {\n",
       "        text-align: right;\n",
       "    }\n",
       "</style>\n",
       "<table border=\"1\" class=\"dataframe\">\n",
       "  <thead>\n",
       "    <tr style=\"text-align: right;\">\n",
       "      <th></th>\n",
       "      <th>0</th>\n",
       "      <th>Dtype</th>\n",
       "    </tr>\n",
       "  </thead>\n",
       "  <tbody>\n",
       "    <tr>\n",
       "      <th>lot5_surface_carrez</th>\n",
       "      <td>49982</td>\n",
       "      <td>Object</td>\n",
       "    </tr>\n",
       "    <tr>\n",
       "      <th>ancien_id_parcelle</th>\n",
       "      <td>49800</td>\n",
       "      <td>Object</td>\n",
       "    </tr>\n",
       "    <tr>\n",
       "      <th>nature_culture_speciale</th>\n",
       "      <td>49631</td>\n",
       "      <td>Object</td>\n",
       "    </tr>\n",
       "    <tr>\n",
       "      <th>code_nature_culture_speciale</th>\n",
       "      <td>49631</td>\n",
       "      <td>Object</td>\n",
       "    </tr>\n",
       "    <tr>\n",
       "      <th>ancien_nom_commune</th>\n",
       "      <td>49082</td>\n",
       "      <td>Object</td>\n",
       "    </tr>\n",
       "    <tr>\n",
       "      <th>ancien_code_commune</th>\n",
       "      <td>49082</td>\n",
       "      <td>Object</td>\n",
       "    </tr>\n",
       "    <tr>\n",
       "      <th>adresse_suffixe</th>\n",
       "      <td>46863</td>\n",
       "      <td>Object</td>\n",
       "    </tr>\n",
       "    <tr>\n",
       "      <th>lot1_numero</th>\n",
       "      <td>26888</td>\n",
       "      <td>Object</td>\n",
       "    </tr>\n",
       "    <tr>\n",
       "      <th>nature_culture</th>\n",
       "      <td>23184</td>\n",
       "      <td>Object</td>\n",
       "    </tr>\n",
       "    <tr>\n",
       "      <th>code_nature_culture</th>\n",
       "      <td>23184</td>\n",
       "      <td>Object</td>\n",
       "    </tr>\n",
       "    <tr>\n",
       "      <th>id_mutation</th>\n",
       "      <td>0</td>\n",
       "      <td>Object</td>\n",
       "    </tr>\n",
       "    <tr>\n",
       "      <th>lot4_surface_carrez</th>\n",
       "      <td>0</td>\n",
       "      <td>float</td>\n",
       "    </tr>\n",
       "    <tr>\n",
       "      <th>lot5_numero</th>\n",
       "      <td>0</td>\n",
       "      <td>int</td>\n",
       "    </tr>\n",
       "    <tr>\n",
       "      <th>nombre_lots</th>\n",
       "      <td>0</td>\n",
       "      <td>int</td>\n",
       "    </tr>\n",
       "    <tr>\n",
       "      <th>type_local</th>\n",
       "      <td>0</td>\n",
       "      <td>Object</td>\n",
       "    </tr>\n",
       "    <tr>\n",
       "      <th>code_type_local</th>\n",
       "      <td>0</td>\n",
       "      <td>int</td>\n",
       "    </tr>\n",
       "    <tr>\n",
       "      <th>lot3_surface_carrez</th>\n",
       "      <td>0</td>\n",
       "      <td>float</td>\n",
       "    </tr>\n",
       "    <tr>\n",
       "      <th>surface_reelle_bati</th>\n",
       "      <td>0</td>\n",
       "      <td>int</td>\n",
       "    </tr>\n",
       "    <tr>\n",
       "      <th>nombre_pieces_principales</th>\n",
       "      <td>0</td>\n",
       "      <td>int</td>\n",
       "    </tr>\n",
       "    <tr>\n",
       "      <th>surface_terrain</th>\n",
       "      <td>0</td>\n",
       "      <td>int</td>\n",
       "    </tr>\n",
       "    <tr>\n",
       "      <th>longitude</th>\n",
       "      <td>0</td>\n",
       "      <td>float</td>\n",
       "    </tr>\n",
       "    <tr>\n",
       "      <th>lot4_numero</th>\n",
       "      <td>0</td>\n",
       "      <td>int</td>\n",
       "    </tr>\n",
       "    <tr>\n",
       "      <th>lot2_numero</th>\n",
       "      <td>0</td>\n",
       "      <td>int</td>\n",
       "    </tr>\n",
       "    <tr>\n",
       "      <th>lot3_numero</th>\n",
       "      <td>0</td>\n",
       "      <td>int</td>\n",
       "    </tr>\n",
       "    <tr>\n",
       "      <th>code_postal</th>\n",
       "      <td>0</td>\n",
       "      <td>int</td>\n",
       "    </tr>\n",
       "    <tr>\n",
       "      <th>numero_disposition</th>\n",
       "      <td>0</td>\n",
       "      <td>int</td>\n",
       "    </tr>\n",
       "    <tr>\n",
       "      <th>nature_mutation</th>\n",
       "      <td>0</td>\n",
       "      <td>Object</td>\n",
       "    </tr>\n",
       "    <tr>\n",
       "      <th>valeur_fonciere</th>\n",
       "      <td>0</td>\n",
       "      <td>int</td>\n",
       "    </tr>\n",
       "    <tr>\n",
       "      <th>adresse_numero</th>\n",
       "      <td>0</td>\n",
       "      <td>int</td>\n",
       "    </tr>\n",
       "    <tr>\n",
       "      <th>adresse_nom_voie</th>\n",
       "      <td>0</td>\n",
       "      <td>Object</td>\n",
       "    </tr>\n",
       "    <tr>\n",
       "      <th>adresse_code_voie</th>\n",
       "      <td>0</td>\n",
       "      <td>Object</td>\n",
       "    </tr>\n",
       "    <tr>\n",
       "      <th>code_commune</th>\n",
       "      <td>0</td>\n",
       "      <td>int</td>\n",
       "    </tr>\n",
       "    <tr>\n",
       "      <th>lot2_surface_carrez</th>\n",
       "      <td>0</td>\n",
       "      <td>float</td>\n",
       "    </tr>\n",
       "    <tr>\n",
       "      <th>nom_commune</th>\n",
       "      <td>0</td>\n",
       "      <td>Object</td>\n",
       "    </tr>\n",
       "    <tr>\n",
       "      <th>code_departement</th>\n",
       "      <td>0</td>\n",
       "      <td>int</td>\n",
       "    </tr>\n",
       "    <tr>\n",
       "      <th>id_parcelle</th>\n",
       "      <td>0</td>\n",
       "      <td>Object</td>\n",
       "    </tr>\n",
       "    <tr>\n",
       "      <th>numero_volume</th>\n",
       "      <td>0</td>\n",
       "      <td>int</td>\n",
       "    </tr>\n",
       "    <tr>\n",
       "      <th>lot1_surface_carrez</th>\n",
       "      <td>0</td>\n",
       "      <td>float</td>\n",
       "    </tr>\n",
       "    <tr>\n",
       "      <th>date_mutation</th>\n",
       "      <td>0</td>\n",
       "      <td>Object</td>\n",
       "    </tr>\n",
       "    <tr>\n",
       "      <th>latitude</th>\n",
       "      <td>0</td>\n",
       "      <td>float</td>\n",
       "    </tr>\n",
       "  </tbody>\n",
       "</table>\n",
       "</div>"
      ],
      "text/plain": [
       "                                  0   Dtype\n",
       "lot5_surface_carrez           49982  Object\n",
       "ancien_id_parcelle            49800  Object\n",
       "nature_culture_speciale       49631  Object\n",
       "code_nature_culture_speciale  49631  Object\n",
       "ancien_nom_commune            49082  Object\n",
       "ancien_code_commune           49082  Object\n",
       "adresse_suffixe               46863  Object\n",
       "lot1_numero                   26888  Object\n",
       "nature_culture                23184  Object\n",
       "code_nature_culture           23184  Object\n",
       "id_mutation                       0  Object\n",
       "lot4_surface_carrez               0   float\n",
       "lot5_numero                       0     int\n",
       "nombre_lots                       0     int\n",
       "type_local                        0  Object\n",
       "code_type_local                   0     int\n",
       "lot3_surface_carrez               0   float\n",
       "surface_reelle_bati               0     int\n",
       "nombre_pieces_principales         0     int\n",
       "surface_terrain                   0     int\n",
       "longitude                         0   float\n",
       "lot4_numero                       0     int\n",
       "lot2_numero                       0     int\n",
       "lot3_numero                       0     int\n",
       "code_postal                       0     int\n",
       "numero_disposition                0     int\n",
       "nature_mutation                   0  Object\n",
       "valeur_fonciere                   0     int\n",
       "adresse_numero                    0     int\n",
       "adresse_nom_voie                  0  Object\n",
       "adresse_code_voie                 0  Object\n",
       "code_commune                      0     int\n",
       "lot2_surface_carrez               0   float\n",
       "nom_commune                       0  Object\n",
       "code_departement                  0     int\n",
       "id_parcelle                       0  Object\n",
       "numero_volume                     0     int\n",
       "lot1_surface_carrez               0   float\n",
       "date_mutation                     0  Object\n",
       "latitude                          0   float"
      ]
     },
     "execution_count": 132,
     "metadata": {},
     "output_type": "execute_result"
    }
   ],
   "source": [
    "L = [] #missing_df['Dtype']\n",
    "for i in missing_df.index:\n",
    "    if i in list_objects:\n",
    "        L.append('Object')\n",
    "    elif i in list_floats:\n",
    "        L.append('float')\n",
    "    else:\n",
    "        L.append('int')\n",
    "\n",
    "missing_df['Dtype'] = L\n",
    "missing_df"
   ]
  },
  {
   "cell_type": "markdown",
   "id": "56a6c177",
   "metadata": {},
   "source": [
    "### List of columns with missing values"
   ]
  },
  {
   "cell_type": "code",
   "execution_count": 133,
   "id": "77d1aea0",
   "metadata": {},
   "outputs": [
    {
     "name": "stdout",
     "output_type": "stream",
     "text": [
      "10\n"
     ]
    },
    {
     "data": {
      "text/plain": [
       "(None,\n",
       " ['lot5_surface_carrez',\n",
       "  'ancien_id_parcelle',\n",
       "  'nature_culture_speciale',\n",
       "  'code_nature_culture_speciale',\n",
       "  'ancien_nom_commune',\n",
       "  'ancien_code_commune',\n",
       "  'adresse_suffixe',\n",
       "  'lot1_numero',\n",
       "  'nature_culture',\n",
       "  'code_nature_culture'])"
      ]
     },
     "execution_count": 133,
     "metadata": {},
     "output_type": "execute_result"
    }
   ],
   "source": [
    "def get_columns_with_missing_values(df): #df dataframe\n",
    "\n",
    "    missing_df = get_count_of_missing_values(df =df)\n",
    "    missing_data = missing_df[missing_df[0] !=0]\n",
    "    return missing_data\n",
    "\n",
    "missing_data = get_columns_with_missing_values(df = data)\n",
    "print(len(missing_data.index)), list(missing_data.index)"
   ]
  },
  {
   "cell_type": "markdown",
   "id": "78aa73ee",
   "metadata": {},
   "source": [
    "### List of clean columns \"*without missing values*\""
   ]
  },
  {
   "cell_type": "code",
   "execution_count": 134,
   "id": "260d3b26",
   "metadata": {},
   "outputs": [
    {
     "name": "stdout",
     "output_type": "stream",
     "text": [
      "30\n"
     ]
    },
    {
     "data": {
      "text/plain": [
       "(None,\n",
       " Index(['id_mutation', 'lot4_surface_carrez', 'lot5_numero', 'nombre_lots',\n",
       "        'type_local', 'code_type_local', 'lot3_surface_carrez',\n",
       "        'surface_reelle_bati', 'nombre_pieces_principales', 'surface_terrain',\n",
       "        'longitude', 'lot4_numero', 'lot2_numero', 'lot3_numero', 'code_postal',\n",
       "        'numero_disposition', 'nature_mutation', 'valeur_fonciere',\n",
       "        'adresse_numero', 'adresse_nom_voie', 'adresse_code_voie',\n",
       "        'code_commune', 'lot2_surface_carrez', 'nom_commune',\n",
       "        'code_departement', 'id_parcelle', 'numero_volume',\n",
       "        'lot1_surface_carrez', 'date_mutation', 'latitude'],\n",
       "       dtype='object'))"
      ]
     },
     "execution_count": 134,
     "metadata": {},
     "output_type": "execute_result"
    }
   ],
   "source": [
    "def get_columns_without_missing_values(df): #df dataframe\n",
    "    missing_df = get_count_of_missing_values(df =df)\n",
    "    clean_data = missing_df[missing_df[0] ==0]\n",
    "    return clean_data\n",
    "\n",
    "clean_data = get_columns_without_missing_values(df = data)\n",
    "print(len(clean_data.index)), clean_data.index"
   ]
  },
  {
   "cell_type": "code",
   "execution_count": 135,
   "id": "97cb87ec",
   "metadata": {},
   "outputs": [
    {
     "data": {
      "text/plain": [
       "369"
      ]
     },
     "execution_count": 135,
     "metadata": {},
     "output_type": "execute_result"
    }
   ],
   "source": [
    "def get_count_missing_vals_in_1column(df, col_name): #df dataframe && col_name : name of column \n",
    "    missing_df = get_count_of_missing_values(df =df)\n",
    "    return df.shape[0] - missing_df.loc[col_name][0]\n",
    "\n",
    "get_count_missing_vals_in_1column(df = data, col_name= 'code_nature_culture_speciale')"
   ]
  },
  {
   "cell_type": "code",
   "execution_count": 136,
   "id": "4a1b42fb",
   "metadata": {},
   "outputs": [
    {
     "data": {
      "text/plain": [
       "50000"
      ]
     },
     "execution_count": 136,
     "metadata": {},
     "output_type": "execute_result"
    }
   ],
   "source": [
    "data.shape[0]"
   ]
  },
  {
   "cell_type": "markdown",
   "id": "f8d2c2ba",
   "metadata": {},
   "source": [
    "## Visualization functions"
   ]
  },
  {
   "cell_type": "markdown",
   "id": "f774172b",
   "metadata": {},
   "source": [
    "### Visualizing dtypes"
   ]
  },
  {
   "cell_type": "code",
   "execution_count": 137,
   "id": "f734ae6e",
   "metadata": {},
   "outputs": [
    {
     "data": {
      "image/png": "[encoded data removed]",
      "text/plain": [
       "<Figure size 432x288 with 1 Axes>"
      ]
     },
     "metadata": {
      "needs_background": "light"
     },
     "output_type": "display_data"
    }
   ],
   "source": [
    "def visualize_feature_types(df):\n",
    "  list_floats = get_float_columns(df)\n",
    "  list_objects = get_object_columns(df)\n",
    "  list_int = get_int_columns(df)\n",
    "\n",
    "  dx = pd.DataFrame({'lab':['Object','int64', 'float64'], 'count':[len(list_objects), len(list_floats), len(list_int)]})\n",
    "  dx.plot.bar(x='lab', y='count', rot=0, color=plt.cm.Paired(np.arange(3)));\n",
    "\n",
    "\n",
    "visualize_feature_types(df = data)"
   ]
  },
  {
   "cell_type": "markdown",
   "id": "323e12c1",
   "metadata": {},
   "source": [
    "### Visualizing distribution of \"local\"  types"
   ]
  },
  {
   "cell_type": "code",
   "execution_count": 138,
   "id": "bdc61dbd",
   "metadata": {},
   "outputs": [
    {
     "data": {
      "image/png": "[encoded data removed]",
      "text/plain": [
       "<Figure size 720x288 with 1 Axes>"
      ]
     },
     "metadata": {
      "needs_background": "light"
     },
     "output_type": "display_data"
    }
   ],
   "source": [
    "def visualize_type_local(df):\n",
    "    fig, ax = plt.subplots(figsize = (10,4))\n",
    "\n",
    "    sns.countplot(y = 'type_local', data = df, order = df['type_local'].value_counts().index)\n",
    "    plt.ylabel('Local type', size = 18, color='red')\n",
    "    ax.xaxis.set_ticks_position('top')\n",
    "    ax.set_xlabel('')   \n",
    "    plt.title(' Distribution', size = 15, weight=600, pad = 60, loc = 'left')\n",
    "\n",
    "    plt.show();\n",
    "\n",
    "visualize_type_local(df = data)"
   ]
  },
  {
   "cell_type": "markdown",
   "id": "9a380c8e",
   "metadata": {},
   "source": [
    "### Visualizing lot_surface columns"
   ]
  },
  {
   "cell_type": "code",
   "execution_count": 139,
   "id": "574c2330",
   "metadata": {},
   "outputs": [
    {
     "data": {
      "image/png": "[encoded data removed]",
      "text/plain": [
       "<Figure size 432x288 with 1 Axes>"
      ]
     },
     "metadata": {
      "needs_background": "light"
     },
     "output_type": "display_data"
    }
   ],
   "source": [
    "def visualize_lot_surface_columns(df):\n",
    "    \n",
    "    L = ['lot1_surface_carrez', 'lot2_surface_carrez',\n",
    "       'lot3_surface_carrez', 'lot4_surface_carrez',\n",
    "       'lot5_surface_carrez']\n",
    "    K = []\n",
    "    for i in L:\n",
    "        m = get_count_missing_vals_in_1column(df = df, col_name= i)\n",
    "        K.append(m)\n",
    "\n",
    "    dx = pd.DataFrame({'lot_surface_carrez':list(np.arange(1,6)), 'count real values':K})\n",
    "    dx.plot.bar(x='lot_surface_carrez', y='count real values', rot=0, color=plt.cm.Paired(np.arange(5)));\n",
    "\n",
    "\n",
    "visualize_lot_surface_columns(df = data)"
   ]
  },
  {
   "cell_type": "markdown",
   "id": "fe78245a",
   "metadata": {},
   "source": [
    "### Visualizing lot_numero columns"
   ]
  },
  {
   "cell_type": "code",
   "execution_count": 140,
   "id": "3be3ced6",
   "metadata": {},
   "outputs": [
    {
     "data": {
      "image/png": "[encoded data removed]",
      "text/plain": [
       "<Figure size 432x288 with 1 Axes>"
      ]
     },
     "metadata": {
      "needs_background": "light"
     },
     "output_type": "display_data"
    }
   ],
   "source": [
    "def visualize_lot_numero_columns(df):\n",
    "    \n",
    "    L = ['lot1_numero', 'lot2_numero',\n",
    "       'lot3_numero', 'lot4_numero',\n",
    "       'lot5_numero']\n",
    "    K = []\n",
    "    for i in L:\n",
    "        m = get_count_missing_vals_in_1column(df = df, col_name= i)\n",
    "        K.append(m)\n",
    "\n",
    "    dx = pd.DataFrame({'lot_numero':list(np.arange(1,6)), 'count real values':K})\n",
    "    dx.plot.bar(x='lot_numero', y='count real values', rot=0, color=plt.cm.Paired(np.arange(5)));\n",
    "\n",
    "\n",
    "visualize_lot_numero_columns(df = data)"
   ]
  },
  {
   "cell_type": "code",
   "execution_count": null,
   "id": "006357b6",
   "metadata": {},
   "outputs": [],
   "source": []
  }
 ],
 "metadata": {
  "kernelspec": {
   "display_name": "Python 3 (ipykernel)",
   "language": "python",
   "name": "python3"
  },
  "language_info": {
   "codemirror_mode": {
    "name": "ipython",
    "version": 3
   },
   "file_extension": ".py",
   "mimetype": "text/x-python",
   "name": "python",
   "nbconvert_exporter": "python",
   "pygments_lexer": "ipython3",
   "version": "3.8.6"
  },
  "toc": {
   "base_numbering": 1,
   "nav_menu": {},
   "number_sections": true,
   "sideBar": true,
   "skip_h1_title": false,
   "title_cell": "Table of Contents",
   "title_sidebar": "Contents",
   "toc_cell": false,
   "toc_position": {},
   "toc_section_display": true,
   "toc_window_display": true
  }
 },
 "nbformat": 4,
 "nbformat_minor": 5
}
