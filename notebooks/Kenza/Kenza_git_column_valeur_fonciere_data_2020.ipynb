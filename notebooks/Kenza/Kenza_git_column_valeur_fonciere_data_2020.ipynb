{
 "cells": [
  {
   "cell_type": "code",
   "execution_count": 51,
   "metadata": {
    "id": "7-hLr5nQg8qv"
   },
   "outputs": [],
   "source": [
    "# Imports "
   ]
  },
  {
   "cell_type": "code",
   "execution_count": 52,
   "metadata": {
    "id": "q0QUkD4bhALP"
   },
   "outputs": [],
   "source": [
    "import numpy as np\n",
    "import pandas as pd\n",
    "import matplotlib.pyplot as plt\n",
    "import seaborn as sns"
   ]
  },
  {
   "cell_type": "markdown",
   "metadata": {
    "id": "a8wvp0PhgZq7"
   },
   "source": [
    "# Get and Filter data\n"
   ]
  },
  {
   "cell_type": "code",
   "execution_count": 3,
   "metadata": {
    "colab": {
     "base_uri": "https://localhost:8080/"
    },
    "id": "Pz8HmoZogaO7",
    "outputId": "73fa892f-75a2-40de-a97d-e3fd37c8d811"
   },
   "outputs": [
    {
     "name": "stdout",
     "output_type": "stream",
     "text": [
      "data.shape :  (2459560, 40)\n",
      "data_clean (2427808, 40) whole_data (2459560, 40)\n",
      "data.shape (whole) (2459560, 40)\n",
      "data_clean.shape (2427808, 40)\n",
      "data.shape (industrial out, NaN local type out, and only 'vente'mutation  (1203720, 40)\n"
     ]
    }
   ],
   "source": [
    "def get_data(url):\n",
    "    df = pd.read_csv(url, low_memory=False)\n",
    "    print(\"data.shape : \", df.shape)\n",
    "    return df\n",
    "  \n",
    "#get_data form url \n",
    "url = 'https://files.data.gouv.fr/geo-dvf/latest/csv/2020/full.csv.gz'\n",
    "df = get_data(url)\n",
    "# make copies\n",
    "whole_data = df.copy()\n",
    "\n",
    "def drop_rows_with_nan_in_column(df, col_name): #df : dataframe\n",
    "    selected_rows = df[df[col_name].notna()]\n",
    "    return selected_rows\n",
    "\n",
    "data_clean = drop_rows_with_nan_in_column(df = whole_data, col_name= 'valeur_fonciere')\n",
    "print(\"data_clean\", data_clean.shape, \"whole_data\", whole_data.shape)\n",
    "\n",
    "\n",
    "def filtered_data(df, col_mutation, col_local_type):\n",
    "  \n",
    "  modif_df = df[\n",
    "                (df[col_mutation] == \"Vente\") & \\\n",
    "                 (   \\\n",
    "                  (df[col_local_type] == \"Maison\") | \n",
    "                   (df[col_local_type] == \"Appartement\") | \n",
    "                  (df[col_local_type] == \"Dépendance\")\n",
    "                 )\n",
    "                 ] \n",
    "\n",
    "    return modif_df                                \n",
    " \n",
    "data = filtered_data(df = data_clean, \n",
    "                           col_mutation = 'nature_mutation',\n",
    "                           col_local_type = 'type_local')                          \n",
    "\n",
    "print(\"data.shape (whole)\", whole_data.shape) # whole data\n",
    "print(\"data_clean.shape\", data_clean.shape) # NaN 'valeur_fonciere' out\n",
    "\n",
    "print(\"data.shape (industrial out, NaN local type out, and only 'vente'mutation \", data.shape)\n",
    "\n",
    "\n",
    "#whole_data : indutrial local type included\n",
    "#data : indutrial local type out & (nature_mutation = 'vente)"
   ]
  },
  {
   "cell_type": "code",
   "execution_count": 4,
   "metadata": {
    "colab": {
     "base_uri": "https://localhost:8080/"
    },
    "id": "uTmqhT1-gx0t",
    "outputId": "08509358-82c1-4e60-e2cf-71b05fd86212"
   },
   "outputs": [
    {
     "data": {
      "text/plain": [
       "Index(['id_mutation', 'date_mutation', 'numero_disposition', 'nature_mutation',\n",
       "       'valeur_fonciere', 'adresse_numero', 'adresse_suffixe',\n",
       "       'adresse_nom_voie', 'adresse_code_voie', 'code_postal', 'code_commune',\n",
       "       'nom_commune', 'code_departement', 'ancien_code_commune',\n",
       "       'ancien_nom_commune', 'id_parcelle', 'ancien_id_parcelle',\n",
       "       'numero_volume', 'lot1_numero', 'lot1_surface_carrez', 'lot2_numero',\n",
       "       'lot2_surface_carrez', 'lot3_numero', 'lot3_surface_carrez',\n",
       "       'lot4_numero', 'lot4_surface_carrez', 'lot5_numero',\n",
       "       'lot5_surface_carrez', 'nombre_lots', 'code_type_local', 'type_local',\n",
       "       'surface_reelle_bati', 'nombre_pieces_principales',\n",
       "       'code_nature_culture', 'nature_culture', 'code_nature_culture_speciale',\n",
       "       'nature_culture_speciale', 'surface_terrain', 'longitude', 'latitude'],\n",
       "      dtype='object')"
      ]
     },
     "execution_count": 4,
     "metadata": {},
     "output_type": "execute_result"
    }
   ],
   "source": [
    "data.columns"
   ]
  },
  {
   "cell_type": "markdown",
   "metadata": {
    "id": "iDBoPn56hqJx"
   },
   "source": [
    "## Column : surface_terrain"
   ]
  },
  {
   "cell_type": "code",
   "execution_count": 5,
   "metadata": {
    "colab": {
     "base_uri": "https://localhost:8080/"
    },
    "id": "FH3bGsJihTFJ",
    "outputId": "e788e83e-f39c-492b-8aa5-8d8c0b7e767d"
   },
   "outputs": [
    {
     "data": {
      "text/plain": [
       "array([  72000.,  180300.,   54800., ..., 2025150.,  141293., 1937500.])"
      ]
     },
     "execution_count": 5,
     "metadata": {},
     "output_type": "execute_result"
    }
   ],
   "source": [
    "data['valeur_fonciere'].unique()"
   ]
  },
  {
   "cell_type": "code",
   "execution_count": 6,
   "metadata": {
    "colab": {
     "base_uri": "https://localhost:8080/"
    },
    "id": "J4OJO5dfit1B",
    "outputId": "b167c092-af18-46bc-c352-6984099c14d6"
   },
   "outputs": [
    {
     "data": {
      "text/plain": [
       "150000.0    12253\n",
       "120000.0    11176\n",
       "100000.0    10689\n",
       "130000.0    10315\n",
       "160000.0    10048\n",
       "            ...  \n",
       "151790.0        1\n",
       "312710.0        1\n",
       "133060.0        1\n",
       "199030.0        1\n",
       "49720.0         1\n",
       "Name: valeur_fonciere, Length: 64933, dtype: int64"
      ]
     },
     "execution_count": 6,
     "metadata": {},
     "output_type": "execute_result"
    }
   ],
   "source": [
    "data['valeur_fonciere'].value_counts()"
   ]
  },
  {
   "cell_type": "markdown",
   "metadata": {
    "id": "0EzRI4NJjNn3"
   },
   "source": [
    "###Missing values"
   ]
  },
  {
   "cell_type": "code",
   "execution_count": 7,
   "metadata": {
    "colab": {
     "base_uri": "https://localhost:8080/"
    },
    "id": "zX5et6EGjIMu",
    "outputId": "9a681161-85f0-4424-b8dd-cf95ec875561"
   },
   "outputs": [
    {
     "data": {
      "text/plain": [
       "0"
      ]
     },
     "execution_count": 7,
     "metadata": {},
     "output_type": "execute_result"
    }
   ],
   "source": [
    "data['valeur_fonciere'].isnull().sum()"
   ]
  },
  {
   "cell_type": "markdown",
   "metadata": {
    "id": "WLqL3MSl0zMZ"
   },
   "source": [
    "# Select rows with NaN in 'valeur_fonciere'"
   ]
  },
  {
   "cell_type": "markdown",
   "metadata": {},
   "source": [
    "Check if there are NaN in column 'surface_terrain'"
   ]
  },
  {
   "cell_type": "code",
   "execution_count": 53,
   "metadata": {
    "colab": {
     "base_uri": "https://localhost:8080/"
    },
    "id": "pyaNk5kNsT0p",
    "outputId": "7c71511d-78de-45a5-a24f-1d769e224a63"
   },
   "outputs": [
    {
     "data": {
      "text/plain": [
       "(0, 40)"
      ]
     },
     "execution_count": 53,
     "metadata": {},
     "output_type": "execute_result"
    }
   ],
   "source": [
    "def select_rows_with_nan_in_list_columns(df, col_name): #df : dataframe\n",
    "    if len(col_name) == 1 :\n",
    "        selected_rows = df[\n",
    "                     df[col_name[0]].isnull() \n",
    "                     ]\n",
    "    elif len(col_name) > 1:\n",
    "        selected_rows = df[\n",
    "                     df[col_name[0]].isnull() & \\\n",
    "                     df[col_name[1]].isnull() \n",
    "                     ]\n",
    "    return selected_rows\n",
    "\n",
    "\n",
    "df_test = select_rows_with_nan_in_list_columns(df = data,\n",
    "                                         col_name= ['valeur_fonciere'])\n",
    "df_test.shape\n"
   ]
  },
  {
   "cell_type": "code",
   "execution_count": 54,
   "metadata": {
    "colab": {
     "base_uri": "https://localhost:8080/"
    },
    "id": "bz_wOBMo1fvJ",
    "outputId": "41a7377c-d420-47f5-e285-2cb26479c200"
   },
   "outputs": [
    {
     "data": {
      "text/plain": [
       "1203720"
      ]
     },
     "execution_count": 54,
     "metadata": {},
     "output_type": "execute_result"
    }
   ],
   "source": [
    "len(data) - len(df_test) "
   ]
  },
  {
   "cell_type": "code",
   "execution_count": 12,
   "metadata": {
    "colab": {
     "base_uri": "https://localhost:8080/",
     "height": 69
    },
    "id": "YAHHwQto3chS",
    "outputId": "e140d3ff-ff99-4b2f-94be-cb35aa0c824d"
   },
   "outputs": [
    {
     "data": {
      "text/html": [
       "<div>\n",
       "<style scoped>\n",
       "    .dataframe tbody tr th:only-of-type {\n",
       "        vertical-align: middle;\n",
       "    }\n",
       "\n",
       "    .dataframe tbody tr th {\n",
       "        vertical-align: top;\n",
       "    }\n",
       "\n",
       "    .dataframe thead th {\n",
       "        text-align: right;\n",
       "    }\n",
       "</style>\n",
       "<table border=\"1\" class=\"dataframe\">\n",
       "  <thead>\n",
       "    <tr style=\"text-align: right;\">\n",
       "      <th></th>\n",
       "      <th>id_mutation</th>\n",
       "      <th>date_mutation</th>\n",
       "      <th>numero_disposition</th>\n",
       "      <th>nature_mutation</th>\n",
       "      <th>surface_terrain</th>\n",
       "      <th>surface_reelle_bati</th>\n",
       "      <th>nombre_lots</th>\n",
       "      <th>valeur_fonciere</th>\n",
       "    </tr>\n",
       "  </thead>\n",
       "  <tbody>\n",
       "  </tbody>\n",
       "</table>\n",
       "</div>"
      ],
      "text/plain": [
       "Empty DataFrame\n",
       "Columns: [id_mutation, date_mutation, numero_disposition, nature_mutation, surface_terrain, surface_reelle_bati, nombre_lots, valeur_fonciere]\n",
       "Index: []"
      ]
     },
     "execution_count": 12,
     "metadata": {},
     "output_type": "execute_result"
    }
   ],
   "source": [
    "mask_columns = ['id_mutation', 'date_mutation', \n",
    "                'numero_disposition', 'nature_mutation', \n",
    "       'surface_terrain', 'surface_reelle_bati',\n",
    "                'nombre_lots', \n",
    "                'valeur_fonciere']\n",
    "\n",
    "df_test[mask_columns]"
   ]
  },
  {
   "cell_type": "markdown",
   "metadata": {
    "id": "Ftbnc9cl32jl"
   },
   "source": [
    "# Drop rows with NaN in 'valeur_fonciere'"
   ]
  },
  {
   "cell_type": "code",
   "execution_count": 13,
   "metadata": {
    "colab": {
     "base_uri": "https://localhost:8080/"
    },
    "id": "hK3_ZSx031dh",
    "outputId": "5b2e10ed-75a4-4123-9307-16ce5b714a95"
   },
   "outputs": [
    {
     "data": {
      "text/plain": [
       "(1203720, 40)"
      ]
     },
     "execution_count": 13,
     "metadata": {},
     "output_type": "execute_result"
    }
   ],
   "source": [
    "def drop_rows_with_nan_in_list_columns(df, col_name): #df : dataframe\n",
    "\n",
    "    mod_df = df.dropna( how='all', subset=col_name)\n",
    "  \n",
    "    return mod_df\n",
    "\n",
    "\n",
    "clean_data = drop_rows_with_nan_in_list_columns(df = data,\n",
    "                          col_name= ['valeur_fonciere'])\n",
    "\n",
    "clean_data.shape\n"
   ]
  },
  {
   "cell_type": "code",
   "execution_count": 14,
   "metadata": {
    "colab": {
     "base_uri": "https://localhost:8080/",
     "height": 439
    },
    "id": "IJYXElye31qI",
    "outputId": "bc10f252-073b-4b30-c768-e833b0b521f9"
   },
   "outputs": [
    {
     "data": {
      "text/html": [
       "<div>\n",
       "<style scoped>\n",
       "    .dataframe tbody tr th:only-of-type {\n",
       "        vertical-align: middle;\n",
       "    }\n",
       "\n",
       "    .dataframe tbody tr th {\n",
       "        vertical-align: top;\n",
       "    }\n",
       "\n",
       "    .dataframe thead th {\n",
       "        text-align: right;\n",
       "    }\n",
       "</style>\n",
       "<table border=\"1\" class=\"dataframe\">\n",
       "  <thead>\n",
       "    <tr style=\"text-align: right;\">\n",
       "      <th></th>\n",
       "      <th>id_mutation</th>\n",
       "      <th>date_mutation</th>\n",
       "      <th>numero_disposition</th>\n",
       "      <th>nature_mutation</th>\n",
       "      <th>surface_terrain</th>\n",
       "      <th>surface_reelle_bati</th>\n",
       "      <th>nombre_lots</th>\n",
       "      <th>valeur_fonciere</th>\n",
       "    </tr>\n",
       "  </thead>\n",
       "  <tbody>\n",
       "    <tr>\n",
       "      <th>11</th>\n",
       "      <td>2020-5</td>\n",
       "      <td>2020-01-09</td>\n",
       "      <td>1</td>\n",
       "      <td>Vente</td>\n",
       "      <td>381.0</td>\n",
       "      <td>35.0</td>\n",
       "      <td>0</td>\n",
       "      <td>72000.0</td>\n",
       "    </tr>\n",
       "    <tr>\n",
       "      <th>13</th>\n",
       "      <td>2020-7</td>\n",
       "      <td>2020-01-06</td>\n",
       "      <td>1</td>\n",
       "      <td>Vente</td>\n",
       "      <td>525.0</td>\n",
       "      <td>75.0</td>\n",
       "      <td>0</td>\n",
       "      <td>180300.0</td>\n",
       "    </tr>\n",
       "    <tr>\n",
       "      <th>14</th>\n",
       "      <td>2020-8</td>\n",
       "      <td>2020-01-06</td>\n",
       "      <td>1</td>\n",
       "      <td>Vente</td>\n",
       "      <td>NaN</td>\n",
       "      <td>32.0</td>\n",
       "      <td>2</td>\n",
       "      <td>54800.0</td>\n",
       "    </tr>\n",
       "    <tr>\n",
       "      <th>16</th>\n",
       "      <td>2020-9</td>\n",
       "      <td>2020-01-03</td>\n",
       "      <td>1</td>\n",
       "      <td>Vente</td>\n",
       "      <td>1267.0</td>\n",
       "      <td>201.0</td>\n",
       "      <td>0</td>\n",
       "      <td>350750.0</td>\n",
       "    </tr>\n",
       "    <tr>\n",
       "      <th>17</th>\n",
       "      <td>2020-9</td>\n",
       "      <td>2020-01-03</td>\n",
       "      <td>1</td>\n",
       "      <td>Vente</td>\n",
       "      <td>1497.0</td>\n",
       "      <td>201.0</td>\n",
       "      <td>0</td>\n",
       "      <td>350750.0</td>\n",
       "    </tr>\n",
       "    <tr>\n",
       "      <th>...</th>\n",
       "      <td>...</td>\n",
       "      <td>...</td>\n",
       "      <td>...</td>\n",
       "      <td>...</td>\n",
       "      <td>...</td>\n",
       "      <td>...</td>\n",
       "      <td>...</td>\n",
       "      <td>...</td>\n",
       "    </tr>\n",
       "    <tr>\n",
       "      <th>2459554</th>\n",
       "      <td>2020-1075291</td>\n",
       "      <td>2020-12-16</td>\n",
       "      <td>1</td>\n",
       "      <td>Vente</td>\n",
       "      <td>447.0</td>\n",
       "      <td>27.0</td>\n",
       "      <td>0</td>\n",
       "      <td>1937500.0</td>\n",
       "    </tr>\n",
       "    <tr>\n",
       "      <th>2459555</th>\n",
       "      <td>2020-1075291</td>\n",
       "      <td>2020-12-16</td>\n",
       "      <td>1</td>\n",
       "      <td>Vente</td>\n",
       "      <td>447.0</td>\n",
       "      <td>87.0</td>\n",
       "      <td>0</td>\n",
       "      <td>1937500.0</td>\n",
       "    </tr>\n",
       "    <tr>\n",
       "      <th>2459556</th>\n",
       "      <td>2020-1075291</td>\n",
       "      <td>2020-12-16</td>\n",
       "      <td>1</td>\n",
       "      <td>Vente</td>\n",
       "      <td>447.0</td>\n",
       "      <td>NaN</td>\n",
       "      <td>0</td>\n",
       "      <td>1937500.0</td>\n",
       "    </tr>\n",
       "    <tr>\n",
       "      <th>2459557</th>\n",
       "      <td>2020-1075291</td>\n",
       "      <td>2020-12-16</td>\n",
       "      <td>1</td>\n",
       "      <td>Vente</td>\n",
       "      <td>447.0</td>\n",
       "      <td>82.0</td>\n",
       "      <td>0</td>\n",
       "      <td>1937500.0</td>\n",
       "    </tr>\n",
       "    <tr>\n",
       "      <th>2459558</th>\n",
       "      <td>2020-1075291</td>\n",
       "      <td>2020-12-16</td>\n",
       "      <td>1</td>\n",
       "      <td>Vente</td>\n",
       "      <td>447.0</td>\n",
       "      <td>NaN</td>\n",
       "      <td>0</td>\n",
       "      <td>1937500.0</td>\n",
       "    </tr>\n",
       "  </tbody>\n",
       "</table>\n",
       "<p>1203720 rows × 8 columns</p>\n",
       "</div>"
      ],
      "text/plain": [
       "          id_mutation date_mutation  numero_disposition nature_mutation  \\\n",
       "11             2020-5    2020-01-09                   1           Vente   \n",
       "13             2020-7    2020-01-06                   1           Vente   \n",
       "14             2020-8    2020-01-06                   1           Vente   \n",
       "16             2020-9    2020-01-03                   1           Vente   \n",
       "17             2020-9    2020-01-03                   1           Vente   \n",
       "...               ...           ...                 ...             ...   \n",
       "2459554  2020-1075291    2020-12-16                   1           Vente   \n",
       "2459555  2020-1075291    2020-12-16                   1           Vente   \n",
       "2459556  2020-1075291    2020-12-16                   1           Vente   \n",
       "2459557  2020-1075291    2020-12-16                   1           Vente   \n",
       "2459558  2020-1075291    2020-12-16                   1           Vente   \n",
       "\n",
       "         surface_terrain  surface_reelle_bati  nombre_lots  valeur_fonciere  \n",
       "11                 381.0                 35.0            0          72000.0  \n",
       "13                 525.0                 75.0            0         180300.0  \n",
       "14                   NaN                 32.0            2          54800.0  \n",
       "16                1267.0                201.0            0         350750.0  \n",
       "17                1497.0                201.0            0         350750.0  \n",
       "...                  ...                  ...          ...              ...  \n",
       "2459554            447.0                 27.0            0        1937500.0  \n",
       "2459555            447.0                 87.0            0        1937500.0  \n",
       "2459556            447.0                  NaN            0        1937500.0  \n",
       "2459557            447.0                 82.0            0        1937500.0  \n",
       "2459558            447.0                  NaN            0        1937500.0  \n",
       "\n",
       "[1203720 rows x 8 columns]"
      ]
     },
     "execution_count": 14,
     "metadata": {},
     "output_type": "execute_result"
    }
   ],
   "source": [
    "mask_columns = ['id_mutation', 'date_mutation', \n",
    "                'numero_disposition', 'nature_mutation', \n",
    "       'surface_terrain', 'surface_reelle_bati',\n",
    "                'nombre_lots', \n",
    "                'valeur_fonciere']\n",
    "\n",
    "\n",
    "clean_data[mask_columns]"
   ]
  },
  {
   "cell_type": "code",
   "execution_count": 15,
   "metadata": {
    "colab": {
     "base_uri": "https://localhost:8080/",
     "height": 439
    },
    "id": "DlWaQGK131uk",
    "outputId": "621a6fc4-4b7f-45db-8a04-fe2d516b4485"
   },
   "outputs": [
    {
     "data": {
      "text/html": [
       "<div>\n",
       "<style scoped>\n",
       "    .dataframe tbody tr th:only-of-type {\n",
       "        vertical-align: middle;\n",
       "    }\n",
       "\n",
       "    .dataframe tbody tr th {\n",
       "        vertical-align: top;\n",
       "    }\n",
       "\n",
       "    .dataframe thead th {\n",
       "        text-align: right;\n",
       "    }\n",
       "</style>\n",
       "<table border=\"1\" class=\"dataframe\">\n",
       "  <thead>\n",
       "    <tr style=\"text-align: right;\">\n",
       "      <th></th>\n",
       "      <th>id_mutation</th>\n",
       "      <th>date_mutation</th>\n",
       "      <th>numero_disposition</th>\n",
       "      <th>nature_mutation</th>\n",
       "      <th>surface_terrain</th>\n",
       "      <th>surface_reelle_bati</th>\n",
       "      <th>nombre_lots</th>\n",
       "      <th>valeur_fonciere</th>\n",
       "    </tr>\n",
       "  </thead>\n",
       "  <tbody>\n",
       "    <tr>\n",
       "      <th>11</th>\n",
       "      <td>2020-5</td>\n",
       "      <td>2020-01-09</td>\n",
       "      <td>1</td>\n",
       "      <td>Vente</td>\n",
       "      <td>381.0</td>\n",
       "      <td>35.0</td>\n",
       "      <td>0</td>\n",
       "      <td>72000.0</td>\n",
       "    </tr>\n",
       "    <tr>\n",
       "      <th>13</th>\n",
       "      <td>2020-7</td>\n",
       "      <td>2020-01-06</td>\n",
       "      <td>1</td>\n",
       "      <td>Vente</td>\n",
       "      <td>525.0</td>\n",
       "      <td>75.0</td>\n",
       "      <td>0</td>\n",
       "      <td>180300.0</td>\n",
       "    </tr>\n",
       "    <tr>\n",
       "      <th>14</th>\n",
       "      <td>2020-8</td>\n",
       "      <td>2020-01-06</td>\n",
       "      <td>1</td>\n",
       "      <td>Vente</td>\n",
       "      <td>NaN</td>\n",
       "      <td>32.0</td>\n",
       "      <td>2</td>\n",
       "      <td>54800.0</td>\n",
       "    </tr>\n",
       "    <tr>\n",
       "      <th>16</th>\n",
       "      <td>2020-9</td>\n",
       "      <td>2020-01-03</td>\n",
       "      <td>1</td>\n",
       "      <td>Vente</td>\n",
       "      <td>1267.0</td>\n",
       "      <td>201.0</td>\n",
       "      <td>0</td>\n",
       "      <td>350750.0</td>\n",
       "    </tr>\n",
       "    <tr>\n",
       "      <th>17</th>\n",
       "      <td>2020-9</td>\n",
       "      <td>2020-01-03</td>\n",
       "      <td>1</td>\n",
       "      <td>Vente</td>\n",
       "      <td>1497.0</td>\n",
       "      <td>201.0</td>\n",
       "      <td>0</td>\n",
       "      <td>350750.0</td>\n",
       "    </tr>\n",
       "    <tr>\n",
       "      <th>...</th>\n",
       "      <td>...</td>\n",
       "      <td>...</td>\n",
       "      <td>...</td>\n",
       "      <td>...</td>\n",
       "      <td>...</td>\n",
       "      <td>...</td>\n",
       "      <td>...</td>\n",
       "      <td>...</td>\n",
       "    </tr>\n",
       "    <tr>\n",
       "      <th>2459553</th>\n",
       "      <td>2020-1075291</td>\n",
       "      <td>2020-12-16</td>\n",
       "      <td>1</td>\n",
       "      <td>Vente</td>\n",
       "      <td>447.0</td>\n",
       "      <td>29.0</td>\n",
       "      <td>0</td>\n",
       "      <td>1937500.0</td>\n",
       "    </tr>\n",
       "    <tr>\n",
       "      <th>2459554</th>\n",
       "      <td>2020-1075291</td>\n",
       "      <td>2020-12-16</td>\n",
       "      <td>1</td>\n",
       "      <td>Vente</td>\n",
       "      <td>447.0</td>\n",
       "      <td>27.0</td>\n",
       "      <td>0</td>\n",
       "      <td>1937500.0</td>\n",
       "    </tr>\n",
       "    <tr>\n",
       "      <th>2459555</th>\n",
       "      <td>2020-1075291</td>\n",
       "      <td>2020-12-16</td>\n",
       "      <td>1</td>\n",
       "      <td>Vente</td>\n",
       "      <td>447.0</td>\n",
       "      <td>87.0</td>\n",
       "      <td>0</td>\n",
       "      <td>1937500.0</td>\n",
       "    </tr>\n",
       "    <tr>\n",
       "      <th>2459556</th>\n",
       "      <td>2020-1075291</td>\n",
       "      <td>2020-12-16</td>\n",
       "      <td>1</td>\n",
       "      <td>Vente</td>\n",
       "      <td>447.0</td>\n",
       "      <td>NaN</td>\n",
       "      <td>0</td>\n",
       "      <td>1937500.0</td>\n",
       "    </tr>\n",
       "    <tr>\n",
       "      <th>2459557</th>\n",
       "      <td>2020-1075291</td>\n",
       "      <td>2020-12-16</td>\n",
       "      <td>1</td>\n",
       "      <td>Vente</td>\n",
       "      <td>447.0</td>\n",
       "      <td>82.0</td>\n",
       "      <td>0</td>\n",
       "      <td>1937500.0</td>\n",
       "    </tr>\n",
       "  </tbody>\n",
       "</table>\n",
       "<p>1146255 rows × 8 columns</p>\n",
       "</div>"
      ],
      "text/plain": [
       "          id_mutation date_mutation  numero_disposition nature_mutation  \\\n",
       "11             2020-5    2020-01-09                   1           Vente   \n",
       "13             2020-7    2020-01-06                   1           Vente   \n",
       "14             2020-8    2020-01-06                   1           Vente   \n",
       "16             2020-9    2020-01-03                   1           Vente   \n",
       "17             2020-9    2020-01-03                   1           Vente   \n",
       "...               ...           ...                 ...             ...   \n",
       "2459553  2020-1075291    2020-12-16                   1           Vente   \n",
       "2459554  2020-1075291    2020-12-16                   1           Vente   \n",
       "2459555  2020-1075291    2020-12-16                   1           Vente   \n",
       "2459556  2020-1075291    2020-12-16                   1           Vente   \n",
       "2459557  2020-1075291    2020-12-16                   1           Vente   \n",
       "\n",
       "         surface_terrain  surface_reelle_bati  nombre_lots  valeur_fonciere  \n",
       "11                 381.0                 35.0            0          72000.0  \n",
       "13                 525.0                 75.0            0         180300.0  \n",
       "14                   NaN                 32.0            2          54800.0  \n",
       "16                1267.0                201.0            0         350750.0  \n",
       "17                1497.0                201.0            0         350750.0  \n",
       "...                  ...                  ...          ...              ...  \n",
       "2459553            447.0                 29.0            0        1937500.0  \n",
       "2459554            447.0                 27.0            0        1937500.0  \n",
       "2459555            447.0                 87.0            0        1937500.0  \n",
       "2459556            447.0                  NaN            0        1937500.0  \n",
       "2459557            447.0                 82.0            0        1937500.0  \n",
       "\n",
       "[1146255 rows x 8 columns]"
      ]
     },
     "execution_count": 15,
     "metadata": {},
     "output_type": "execute_result"
    }
   ],
   "source": [
    "df_new = clean_data.drop_duplicates()\n",
    "df_new[mask_columns]"
   ]
  },
  {
   "cell_type": "code",
   "execution_count": 16,
   "metadata": {
    "colab": {
     "base_uri": "https://localhost:8080/"
    },
    "id": "HtZYPSmT6Nnl",
    "outputId": "d1fe72e9-acf1-4d97-a479-b0fa6c371cca"
   },
   "outputs": [
    {
     "data": {
      "text/plain": [
       "633.0"
      ]
     },
     "execution_count": 16,
     "metadata": {},
     "output_type": "execute_result"
    }
   ],
   "source": [
    "df_test = df_new[df_new['id_mutation'] == '2020-1075291']\n",
    "df_test['surface_reelle_bati'].sum()"
   ]
  },
  {
   "cell_type": "code",
   "execution_count": 17,
   "metadata": {
    "colab": {
     "base_uri": "https://localhost:8080/"
    },
    "id": "50wYH9c39SKD",
    "outputId": "479e721a-0a69-4d26-db9b-df592b89fd6f"
   },
   "outputs": [
    {
     "data": {
      "text/plain": [
       "(14, 40)"
      ]
     },
     "execution_count": 17,
     "metadata": {},
     "output_type": "execute_result"
    }
   ],
   "source": [
    "df_test.shape"
   ]
  },
  {
   "cell_type": "code",
   "execution_count": 18,
   "metadata": {
    "colab": {
     "base_uri": "https://localhost:8080/",
     "height": 741
    },
    "id": "IzRSyYzB8EHq",
    "outputId": "0a7be131-d5d2-4cb7-d68b-4c2c05d63374"
   },
   "outputs": [
    {
     "data": {
      "text/html": [
       "<div>\n",
       "<style scoped>\n",
       "    .dataframe tbody tr th:only-of-type {\n",
       "        vertical-align: middle;\n",
       "    }\n",
       "\n",
       "    .dataframe tbody tr th {\n",
       "        vertical-align: top;\n",
       "    }\n",
       "\n",
       "    .dataframe thead th {\n",
       "        text-align: right;\n",
       "    }\n",
       "</style>\n",
       "<table border=\"1\" class=\"dataframe\">\n",
       "  <thead>\n",
       "    <tr style=\"text-align: right;\">\n",
       "      <th></th>\n",
       "      <th>id_mutation</th>\n",
       "      <th>date_mutation</th>\n",
       "      <th>numero_disposition</th>\n",
       "      <th>nature_mutation</th>\n",
       "      <th>valeur_fonciere</th>\n",
       "      <th>adresse_numero</th>\n",
       "      <th>adresse_suffixe</th>\n",
       "      <th>adresse_nom_voie</th>\n",
       "      <th>adresse_code_voie</th>\n",
       "      <th>code_postal</th>\n",
       "      <th>...</th>\n",
       "      <th>type_local</th>\n",
       "      <th>surface_reelle_bati</th>\n",
       "      <th>nombre_pieces_principales</th>\n",
       "      <th>code_nature_culture</th>\n",
       "      <th>nature_culture</th>\n",
       "      <th>code_nature_culture_speciale</th>\n",
       "      <th>nature_culture_speciale</th>\n",
       "      <th>surface_terrain</th>\n",
       "      <th>longitude</th>\n",
       "      <th>latitude</th>\n",
       "    </tr>\n",
       "  </thead>\n",
       "  <tbody>\n",
       "    <tr>\n",
       "      <th>2459542</th>\n",
       "      <td>2020-1075291</td>\n",
       "      <td>2020-12-16</td>\n",
       "      <td>1</td>\n",
       "      <td>Vente</td>\n",
       "      <td>1937500.0</td>\n",
       "      <td>24.0</td>\n",
       "      <td>NaN</td>\n",
       "      <td>RUE CHANOINESSE</td>\n",
       "      <td>1748</td>\n",
       "      <td>75004.0</td>\n",
       "      <td>...</td>\n",
       "      <td>Appartement</td>\n",
       "      <td>33.0</td>\n",
       "      <td>1.0</td>\n",
       "      <td>S</td>\n",
       "      <td>sols</td>\n",
       "      <td>NaN</td>\n",
       "      <td>NaN</td>\n",
       "      <td>447.0</td>\n",
       "      <td>2.350481</td>\n",
       "      <td>48.854293</td>\n",
       "    </tr>\n",
       "    <tr>\n",
       "      <th>2459543</th>\n",
       "      <td>2020-1075291</td>\n",
       "      <td>2020-12-16</td>\n",
       "      <td>1</td>\n",
       "      <td>Vente</td>\n",
       "      <td>1937500.0</td>\n",
       "      <td>24.0</td>\n",
       "      <td>NaN</td>\n",
       "      <td>RUE CHANOINESSE</td>\n",
       "      <td>1748</td>\n",
       "      <td>75004.0</td>\n",
       "      <td>...</td>\n",
       "      <td>Appartement</td>\n",
       "      <td>37.0</td>\n",
       "      <td>2.0</td>\n",
       "      <td>S</td>\n",
       "      <td>sols</td>\n",
       "      <td>NaN</td>\n",
       "      <td>NaN</td>\n",
       "      <td>447.0</td>\n",
       "      <td>2.350481</td>\n",
       "      <td>48.854293</td>\n",
       "    </tr>\n",
       "    <tr>\n",
       "      <th>2459544</th>\n",
       "      <td>2020-1075291</td>\n",
       "      <td>2020-12-16</td>\n",
       "      <td>1</td>\n",
       "      <td>Vente</td>\n",
       "      <td>1937500.0</td>\n",
       "      <td>24.0</td>\n",
       "      <td>NaN</td>\n",
       "      <td>RUE CHANOINESSE</td>\n",
       "      <td>1748</td>\n",
       "      <td>75004.0</td>\n",
       "      <td>...</td>\n",
       "      <td>Appartement</td>\n",
       "      <td>32.0</td>\n",
       "      <td>2.0</td>\n",
       "      <td>S</td>\n",
       "      <td>sols</td>\n",
       "      <td>NaN</td>\n",
       "      <td>NaN</td>\n",
       "      <td>447.0</td>\n",
       "      <td>2.350481</td>\n",
       "      <td>48.854293</td>\n",
       "    </tr>\n",
       "    <tr>\n",
       "      <th>2459545</th>\n",
       "      <td>2020-1075291</td>\n",
       "      <td>2020-12-16</td>\n",
       "      <td>1</td>\n",
       "      <td>Vente</td>\n",
       "      <td>1937500.0</td>\n",
       "      <td>24.0</td>\n",
       "      <td>NaN</td>\n",
       "      <td>RUE CHANOINESSE</td>\n",
       "      <td>1748</td>\n",
       "      <td>75004.0</td>\n",
       "      <td>...</td>\n",
       "      <td>Appartement</td>\n",
       "      <td>64.0</td>\n",
       "      <td>2.0</td>\n",
       "      <td>S</td>\n",
       "      <td>sols</td>\n",
       "      <td>NaN</td>\n",
       "      <td>NaN</td>\n",
       "      <td>447.0</td>\n",
       "      <td>2.350481</td>\n",
       "      <td>48.854293</td>\n",
       "    </tr>\n",
       "    <tr>\n",
       "      <th>2459546</th>\n",
       "      <td>2020-1075291</td>\n",
       "      <td>2020-12-16</td>\n",
       "      <td>1</td>\n",
       "      <td>Vente</td>\n",
       "      <td>1937500.0</td>\n",
       "      <td>24.0</td>\n",
       "      <td>NaN</td>\n",
       "      <td>RUE CHANOINESSE</td>\n",
       "      <td>1748</td>\n",
       "      <td>75004.0</td>\n",
       "      <td>...</td>\n",
       "      <td>Appartement</td>\n",
       "      <td>24.0</td>\n",
       "      <td>1.0</td>\n",
       "      <td>S</td>\n",
       "      <td>sols</td>\n",
       "      <td>NaN</td>\n",
       "      <td>NaN</td>\n",
       "      <td>447.0</td>\n",
       "      <td>2.350481</td>\n",
       "      <td>48.854293</td>\n",
       "    </tr>\n",
       "    <tr>\n",
       "      <th>2459547</th>\n",
       "      <td>2020-1075291</td>\n",
       "      <td>2020-12-16</td>\n",
       "      <td>1</td>\n",
       "      <td>Vente</td>\n",
       "      <td>1937500.0</td>\n",
       "      <td>24.0</td>\n",
       "      <td>NaN</td>\n",
       "      <td>RUE CHANOINESSE</td>\n",
       "      <td>1748</td>\n",
       "      <td>75004.0</td>\n",
       "      <td>...</td>\n",
       "      <td>Appartement</td>\n",
       "      <td>110.0</td>\n",
       "      <td>5.0</td>\n",
       "      <td>S</td>\n",
       "      <td>sols</td>\n",
       "      <td>NaN</td>\n",
       "      <td>NaN</td>\n",
       "      <td>447.0</td>\n",
       "      <td>2.350481</td>\n",
       "      <td>48.854293</td>\n",
       "    </tr>\n",
       "    <tr>\n",
       "      <th>2459548</th>\n",
       "      <td>2020-1075291</td>\n",
       "      <td>2020-12-16</td>\n",
       "      <td>1</td>\n",
       "      <td>Vente</td>\n",
       "      <td>1937500.0</td>\n",
       "      <td>24.0</td>\n",
       "      <td>NaN</td>\n",
       "      <td>RUE CHANOINESSE</td>\n",
       "      <td>1748</td>\n",
       "      <td>75004.0</td>\n",
       "      <td>...</td>\n",
       "      <td>Appartement</td>\n",
       "      <td>22.0</td>\n",
       "      <td>1.0</td>\n",
       "      <td>S</td>\n",
       "      <td>sols</td>\n",
       "      <td>NaN</td>\n",
       "      <td>NaN</td>\n",
       "      <td>447.0</td>\n",
       "      <td>2.350481</td>\n",
       "      <td>48.854293</td>\n",
       "    </tr>\n",
       "    <tr>\n",
       "      <th>2459550</th>\n",
       "      <td>2020-1075291</td>\n",
       "      <td>2020-12-16</td>\n",
       "      <td>1</td>\n",
       "      <td>Vente</td>\n",
       "      <td>1937500.0</td>\n",
       "      <td>24.0</td>\n",
       "      <td>NaN</td>\n",
       "      <td>RUE CHANOINESSE</td>\n",
       "      <td>1748</td>\n",
       "      <td>75004.0</td>\n",
       "      <td>...</td>\n",
       "      <td>Appartement</td>\n",
       "      <td>40.0</td>\n",
       "      <td>2.0</td>\n",
       "      <td>S</td>\n",
       "      <td>sols</td>\n",
       "      <td>NaN</td>\n",
       "      <td>NaN</td>\n",
       "      <td>447.0</td>\n",
       "      <td>2.350481</td>\n",
       "      <td>48.854293</td>\n",
       "    </tr>\n",
       "    <tr>\n",
       "      <th>2459551</th>\n",
       "      <td>2020-1075291</td>\n",
       "      <td>2020-12-16</td>\n",
       "      <td>1</td>\n",
       "      <td>Vente</td>\n",
       "      <td>1937500.0</td>\n",
       "      <td>24.0</td>\n",
       "      <td>NaN</td>\n",
       "      <td>RUE CHANOINESSE</td>\n",
       "      <td>1748</td>\n",
       "      <td>75004.0</td>\n",
       "      <td>...</td>\n",
       "      <td>Appartement</td>\n",
       "      <td>46.0</td>\n",
       "      <td>2.0</td>\n",
       "      <td>S</td>\n",
       "      <td>sols</td>\n",
       "      <td>NaN</td>\n",
       "      <td>NaN</td>\n",
       "      <td>447.0</td>\n",
       "      <td>2.350481</td>\n",
       "      <td>48.854293</td>\n",
       "    </tr>\n",
       "    <tr>\n",
       "      <th>2459553</th>\n",
       "      <td>2020-1075291</td>\n",
       "      <td>2020-12-16</td>\n",
       "      <td>1</td>\n",
       "      <td>Vente</td>\n",
       "      <td>1937500.0</td>\n",
       "      <td>24.0</td>\n",
       "      <td>NaN</td>\n",
       "      <td>RUE CHANOINESSE</td>\n",
       "      <td>1748</td>\n",
       "      <td>75004.0</td>\n",
       "      <td>...</td>\n",
       "      <td>Appartement</td>\n",
       "      <td>29.0</td>\n",
       "      <td>2.0</td>\n",
       "      <td>S</td>\n",
       "      <td>sols</td>\n",
       "      <td>NaN</td>\n",
       "      <td>NaN</td>\n",
       "      <td>447.0</td>\n",
       "      <td>2.350481</td>\n",
       "      <td>48.854293</td>\n",
       "    </tr>\n",
       "    <tr>\n",
       "      <th>2459554</th>\n",
       "      <td>2020-1075291</td>\n",
       "      <td>2020-12-16</td>\n",
       "      <td>1</td>\n",
       "      <td>Vente</td>\n",
       "      <td>1937500.0</td>\n",
       "      <td>24.0</td>\n",
       "      <td>NaN</td>\n",
       "      <td>RUE CHANOINESSE</td>\n",
       "      <td>1748</td>\n",
       "      <td>75004.0</td>\n",
       "      <td>...</td>\n",
       "      <td>Appartement</td>\n",
       "      <td>27.0</td>\n",
       "      <td>2.0</td>\n",
       "      <td>S</td>\n",
       "      <td>sols</td>\n",
       "      <td>NaN</td>\n",
       "      <td>NaN</td>\n",
       "      <td>447.0</td>\n",
       "      <td>2.350481</td>\n",
       "      <td>48.854293</td>\n",
       "    </tr>\n",
       "    <tr>\n",
       "      <th>2459555</th>\n",
       "      <td>2020-1075291</td>\n",
       "      <td>2020-12-16</td>\n",
       "      <td>1</td>\n",
       "      <td>Vente</td>\n",
       "      <td>1937500.0</td>\n",
       "      <td>24.0</td>\n",
       "      <td>NaN</td>\n",
       "      <td>RUE CHANOINESSE</td>\n",
       "      <td>1748</td>\n",
       "      <td>75004.0</td>\n",
       "      <td>...</td>\n",
       "      <td>Appartement</td>\n",
       "      <td>87.0</td>\n",
       "      <td>4.0</td>\n",
       "      <td>S</td>\n",
       "      <td>sols</td>\n",
       "      <td>NaN</td>\n",
       "      <td>NaN</td>\n",
       "      <td>447.0</td>\n",
       "      <td>2.350481</td>\n",
       "      <td>48.854293</td>\n",
       "    </tr>\n",
       "    <tr>\n",
       "      <th>2459556</th>\n",
       "      <td>2020-1075291</td>\n",
       "      <td>2020-12-16</td>\n",
       "      <td>1</td>\n",
       "      <td>Vente</td>\n",
       "      <td>1937500.0</td>\n",
       "      <td>24.0</td>\n",
       "      <td>NaN</td>\n",
       "      <td>RUE CHANOINESSE</td>\n",
       "      <td>1748</td>\n",
       "      <td>75004.0</td>\n",
       "      <td>...</td>\n",
       "      <td>Dépendance</td>\n",
       "      <td>NaN</td>\n",
       "      <td>0.0</td>\n",
       "      <td>S</td>\n",
       "      <td>sols</td>\n",
       "      <td>NaN</td>\n",
       "      <td>NaN</td>\n",
       "      <td>447.0</td>\n",
       "      <td>2.350481</td>\n",
       "      <td>48.854293</td>\n",
       "    </tr>\n",
       "    <tr>\n",
       "      <th>2459557</th>\n",
       "      <td>2020-1075291</td>\n",
       "      <td>2020-12-16</td>\n",
       "      <td>1</td>\n",
       "      <td>Vente</td>\n",
       "      <td>1937500.0</td>\n",
       "      <td>24.0</td>\n",
       "      <td>NaN</td>\n",
       "      <td>RUE CHANOINESSE</td>\n",
       "      <td>1748</td>\n",
       "      <td>75004.0</td>\n",
       "      <td>...</td>\n",
       "      <td>Appartement</td>\n",
       "      <td>82.0</td>\n",
       "      <td>2.0</td>\n",
       "      <td>S</td>\n",
       "      <td>sols</td>\n",
       "      <td>NaN</td>\n",
       "      <td>NaN</td>\n",
       "      <td>447.0</td>\n",
       "      <td>2.350481</td>\n",
       "      <td>48.854293</td>\n",
       "    </tr>\n",
       "  </tbody>\n",
       "</table>\n",
       "<p>14 rows × 40 columns</p>\n",
       "</div>"
      ],
      "text/plain": [
       "          id_mutation date_mutation  numero_disposition nature_mutation  \\\n",
       "2459542  2020-1075291    2020-12-16                   1           Vente   \n",
       "2459543  2020-1075291    2020-12-16                   1           Vente   \n",
       "2459544  2020-1075291    2020-12-16                   1           Vente   \n",
       "2459545  2020-1075291    2020-12-16                   1           Vente   \n",
       "2459546  2020-1075291    2020-12-16                   1           Vente   \n",
       "2459547  2020-1075291    2020-12-16                   1           Vente   \n",
       "2459548  2020-1075291    2020-12-16                   1           Vente   \n",
       "2459550  2020-1075291    2020-12-16                   1           Vente   \n",
       "2459551  2020-1075291    2020-12-16                   1           Vente   \n",
       "2459553  2020-1075291    2020-12-16                   1           Vente   \n",
       "2459554  2020-1075291    2020-12-16                   1           Vente   \n",
       "2459555  2020-1075291    2020-12-16                   1           Vente   \n",
       "2459556  2020-1075291    2020-12-16                   1           Vente   \n",
       "2459557  2020-1075291    2020-12-16                   1           Vente   \n",
       "\n",
       "         valeur_fonciere  adresse_numero adresse_suffixe adresse_nom_voie  \\\n",
       "2459542        1937500.0            24.0             NaN  RUE CHANOINESSE   \n",
       "2459543        1937500.0            24.0             NaN  RUE CHANOINESSE   \n",
       "2459544        1937500.0            24.0             NaN  RUE CHANOINESSE   \n",
       "2459545        1937500.0            24.0             NaN  RUE CHANOINESSE   \n",
       "2459546        1937500.0            24.0             NaN  RUE CHANOINESSE   \n",
       "2459547        1937500.0            24.0             NaN  RUE CHANOINESSE   \n",
       "2459548        1937500.0            24.0             NaN  RUE CHANOINESSE   \n",
       "2459550        1937500.0            24.0             NaN  RUE CHANOINESSE   \n",
       "2459551        1937500.0            24.0             NaN  RUE CHANOINESSE   \n",
       "2459553        1937500.0            24.0             NaN  RUE CHANOINESSE   \n",
       "2459554        1937500.0            24.0             NaN  RUE CHANOINESSE   \n",
       "2459555        1937500.0            24.0             NaN  RUE CHANOINESSE   \n",
       "2459556        1937500.0            24.0             NaN  RUE CHANOINESSE   \n",
       "2459557        1937500.0            24.0             NaN  RUE CHANOINESSE   \n",
       "\n",
       "        adresse_code_voie  code_postal  ...   type_local surface_reelle_bati  \\\n",
       "2459542              1748      75004.0  ...  Appartement                33.0   \n",
       "2459543              1748      75004.0  ...  Appartement                37.0   \n",
       "2459544              1748      75004.0  ...  Appartement                32.0   \n",
       "2459545              1748      75004.0  ...  Appartement                64.0   \n",
       "2459546              1748      75004.0  ...  Appartement                24.0   \n",
       "2459547              1748      75004.0  ...  Appartement               110.0   \n",
       "2459548              1748      75004.0  ...  Appartement                22.0   \n",
       "2459550              1748      75004.0  ...  Appartement                40.0   \n",
       "2459551              1748      75004.0  ...  Appartement                46.0   \n",
       "2459553              1748      75004.0  ...  Appartement                29.0   \n",
       "2459554              1748      75004.0  ...  Appartement                27.0   \n",
       "2459555              1748      75004.0  ...  Appartement                87.0   \n",
       "2459556              1748      75004.0  ...   Dépendance                 NaN   \n",
       "2459557              1748      75004.0  ...  Appartement                82.0   \n",
       "\n",
       "        nombre_pieces_principales  code_nature_culture nature_culture  \\\n",
       "2459542                       1.0                    S           sols   \n",
       "2459543                       2.0                    S           sols   \n",
       "2459544                       2.0                    S           sols   \n",
       "2459545                       2.0                    S           sols   \n",
       "2459546                       1.0                    S           sols   \n",
       "2459547                       5.0                    S           sols   \n",
       "2459548                       1.0                    S           sols   \n",
       "2459550                       2.0                    S           sols   \n",
       "2459551                       2.0                    S           sols   \n",
       "2459553                       2.0                    S           sols   \n",
       "2459554                       2.0                    S           sols   \n",
       "2459555                       4.0                    S           sols   \n",
       "2459556                       0.0                    S           sols   \n",
       "2459557                       2.0                    S           sols   \n",
       "\n",
       "        code_nature_culture_speciale nature_culture_speciale surface_terrain  \\\n",
       "2459542                          NaN                     NaN           447.0   \n",
       "2459543                          NaN                     NaN           447.0   \n",
       "2459544                          NaN                     NaN           447.0   \n",
       "2459545                          NaN                     NaN           447.0   \n",
       "2459546                          NaN                     NaN           447.0   \n",
       "2459547                          NaN                     NaN           447.0   \n",
       "2459548                          NaN                     NaN           447.0   \n",
       "2459550                          NaN                     NaN           447.0   \n",
       "2459551                          NaN                     NaN           447.0   \n",
       "2459553                          NaN                     NaN           447.0   \n",
       "2459554                          NaN                     NaN           447.0   \n",
       "2459555                          NaN                     NaN           447.0   \n",
       "2459556                          NaN                     NaN           447.0   \n",
       "2459557                          NaN                     NaN           447.0   \n",
       "\n",
       "        longitude   latitude  \n",
       "2459542  2.350481  48.854293  \n",
       "2459543  2.350481  48.854293  \n",
       "2459544  2.350481  48.854293  \n",
       "2459545  2.350481  48.854293  \n",
       "2459546  2.350481  48.854293  \n",
       "2459547  2.350481  48.854293  \n",
       "2459548  2.350481  48.854293  \n",
       "2459550  2.350481  48.854293  \n",
       "2459551  2.350481  48.854293  \n",
       "2459553  2.350481  48.854293  \n",
       "2459554  2.350481  48.854293  \n",
       "2459555  2.350481  48.854293  \n",
       "2459556  2.350481  48.854293  \n",
       "2459557  2.350481  48.854293  \n",
       "\n",
       "[14 rows x 40 columns]"
      ]
     },
     "execution_count": 18,
     "metadata": {},
     "output_type": "execute_result"
    }
   ],
   "source": [
    "df_test"
   ]
  },
  {
   "cell_type": "code",
   "execution_count": 19,
   "metadata": {
    "colab": {
     "base_uri": "https://localhost:8080/"
    },
    "id": "oKjBvgTirOdt",
    "outputId": "39beebf7-eee2-44e2-df2e-96ea7640413a"
   },
   "outputs": [
    {
     "data": {
      "text/plain": [
       "(1146255, 40)"
      ]
     },
     "execution_count": 19,
     "metadata": {},
     "output_type": "execute_result"
    }
   ],
   "source": [
    "df_new.shape"
   ]
  },
  {
   "cell_type": "code",
   "execution_count": 20,
   "metadata": {
    "colab": {
     "base_uri": "https://localhost:8080/"
    },
    "id": "YwyRN0jQBIB8",
    "outputId": "420e3c5a-4138-439b-e525-2c3498cafb4d"
   },
   "outputs": [
    {
     "data": {
      "text/plain": [
       "(1146255, 8)"
      ]
     },
     "execution_count": 20,
     "metadata": {},
     "output_type": "execute_result"
    }
   ],
   "source": [
    "dfn = df_new[mask_columns]\n",
    "dfn.shape"
   ]
  },
  {
   "cell_type": "markdown",
   "metadata": {
    "id": "VuTs0Qvx_4lJ"
   },
   "source": [
    "# Fill numeric and nonnumeric nulls "
   ]
  },
  {
   "cell_type": "code",
   "execution_count": 24,
   "metadata": {},
   "outputs": [
    {
     "data": {
      "text/plain": [
       "Index(['id_mutation', 'date_mutation', 'numero_disposition', 'nature_mutation',\n",
       "       'surface_terrain', 'surface_reelle_bati', 'nombre_lots',\n",
       "       'valeur_fonciere'],\n",
       "      dtype='object')"
      ]
     },
     "execution_count": 24,
     "metadata": {},
     "output_type": "execute_result"
    }
   ],
   "source": [
    "dfn.columns"
   ]
  },
  {
   "cell_type": "code",
   "execution_count": 25,
   "metadata": {
    "id": "mX4ddGBI_zzx"
   },
   "outputs": [],
   "source": [
    "#created a function to fill numeric and nonnumeric nulls with either their mean or mode.\n",
    "\n",
    "def fill_na_with_mean_or_mode(col):\n",
    "    if col.dtype == int or col.dtype == float:\n",
    "        return col.fillna(round(col.mean()), inplace=True)\n",
    "    else:\n",
    "        return col.fillna(col.mode()[0], inplace=True)\n",
    "\n",
    "#for col in list(dfn.columns):\n",
    " #   fill_na_with_mean_or_mode(dfn[col])"
   ]
  },
  {
   "cell_type": "code",
   "execution_count": 27,
   "metadata": {
    "colab": {
     "base_uri": "https://localhost:8080/"
    },
    "id": "pchflEiYBrzb",
    "outputId": "0c78605f-03e3-4a46-d690-69132c027410"
   },
   "outputs": [
    {
     "name": "stdout",
     "output_type": "stream",
     "text": [
      "There are no longer any null values\n"
     ]
    },
    {
     "data": {
      "text/plain": [
       "True"
      ]
     },
     "execution_count": 27,
     "metadata": {},
     "output_type": "execute_result"
    }
   ],
   "source": [
    "def confirm_no_any_null_vals(df):\n",
    "    L = df[df.columns[df.isnull().any()]].isnull().sum()\n",
    "    if len(L) == 0:\n",
    "        print('There are no longer any null values')\n",
    "    else :\n",
    "        print('Warning ! Null values still exist ')\n",
    "    return True if len(L)==0 else False\n",
    "\n",
    "confirm_no_any_null_vals(dfn)"
   ]
  },
  {
   "cell_type": "code",
   "execution_count": 29,
   "metadata": {
    "colab": {
     "base_uri": "https://localhost:8080/"
    },
    "id": "cgrpkgkEDkX1",
    "outputId": "83bc3d52-31c3-4f8c-c5cb-421669ec0f8f"
   },
   "outputs": [
    {
     "name": "stdout",
     "output_type": "stream",
     "text": [
      "There were no mutations where sale price was less than 0€\n"
     ]
    },
    {
     "data": {
      "text/plain": [
       "True"
      ]
     },
     "execution_count": 29,
     "metadata": {},
     "output_type": "execute_result"
    }
   ],
   "source": [
    "#check there were no instances where sale price was less than 0€\n",
    "\n",
    "def confirm_no_negative_val_fonciere(df):\n",
    "    L = df[df['valeur_fonciere'] < 0]\n",
    "    if len(L) == 0:\n",
    "        print('There were no mutations where sale price was less than 0€')\n",
    "    else :\n",
    "        print('Warning ! Negative sale price exist ')\n",
    "    return True if len(L)==0 else False\n",
    "\n",
    "confirm_no_negative_val_fonciere(dfn)"
   ]
  },
  {
   "cell_type": "code",
   "execution_count": 30,
   "metadata": {
    "colab": {
     "base_uri": "https://localhost:8080/"
    },
    "id": "TMe8ZZ7ZDkbE",
    "outputId": "9e9ac34b-b5da-4bda-ac22-d8bbd4a0c249"
   },
   "outputs": [
    {
     "data": {
      "text/plain": [
       "1003"
      ]
     },
     "execution_count": 30,
     "metadata": {},
     "output_type": "execute_result"
    }
   ],
   "source": [
    "def get_count_val_fonciere_equal_1(df):\n",
    "    L = df[df['valeur_fonciere'] ==1]\n",
    "  \n",
    "    return len(L)\n",
    "\n",
    "get_count_val_fonciere_equal_1(dfn)"
   ]
  },
  {
   "cell_type": "code",
   "execution_count": 31,
   "metadata": {
    "colab": {
     "base_uri": "https://localhost:8080/"
    },
    "id": "HJ8R5Wd1J8b2",
    "outputId": "414c8e75-9fc8-4f03-9f99-21395d0c3d95"
   },
   "outputs": [
    {
     "data": {
      "text/plain": [
       "7"
      ]
     },
     "execution_count": 31,
     "metadata": {},
     "output_type": "execute_result"
    }
   ],
   "source": [
    "def get_count_val_fonciere_less_than_1(df):\n",
    "    L = df[df['valeur_fonciere'] < 1]\n",
    "  \n",
    "    return len(L)\n",
    "\n",
    "get_count_val_fonciere_less_than_1(dfn)"
   ]
  },
  {
   "cell_type": "markdown",
   "metadata": {},
   "source": [
    "# Visualize the distribution of the target variable / or other feature"
   ]
  },
  {
   "cell_type": "code",
   "execution_count": 32,
   "metadata": {
    "colab": {
     "base_uri": "https://localhost:8080/",
     "height": 364
    },
    "id": "icQjEuO3Fmmw",
    "outputId": "ca99d600-bbae-4796-af25-cce051bd112e"
   },
   "outputs": [
    {
     "name": "stderr",
     "output_type": "stream",
     "text": [
      "/Users/kenzaelhoussaini/.pyenv/versions/3.8.6/envs/reestimator/lib/python3.8/site-packages/seaborn/distributions.py:2619: FutureWarning: `distplot` is a deprecated function and will be removed in a future version. Please adapt your code to use either `displot` (a figure-level function with similar flexibility) or `histplot` (an axes-level function for histograms).\n",
      "  warnings.warn(msg, FutureWarning)\n"
     ]
    },
    {
     "data": {
      "image/png": "[encoded data removed]",
      "text/plain": [
       "<Figure size 504x288 with 1 Axes>"
      ]
     },
     "metadata": {
      "needs_background": "light"
     },
     "output_type": "display_data"
    }
   ],
   "source": [
    "#looking at the distribution of the target variable : valeur_fonciere \n",
    "# or any column\n",
    "def visualize_distribution_column(df, col_name, labelx): #labelx : string \n",
    "                                                  #to describe x-axis\n",
    "    fig, ax = plt.subplots(figsize = (7, 4))\n",
    "    sns.distplot(df[col_name], kde=False, bins=10)\n",
    "\n",
    "    plt.xlabel(labelx, fontsize=19, labelpad=11)\n",
    "    plt.xticks(fontsize=14)\n",
    "    plt.ylabel('Count', fontsize=19, labelpad=11)\n",
    "    plt.yticks(fontsize=14);\n",
    "\n",
    "visualize_distribution_column(df = dfn, \n",
    "                              col_name='valeur_fonciere',labelx = 'Sale Price')\n",
    "\n"
   ]
  },
  {
   "cell_type": "code",
   "execution_count": 33,
   "metadata": {
    "colab": {
     "base_uri": "https://localhost:8080/",
     "height": 364
    },
    "id": "6iq09MG4Fmpw",
    "outputId": "5cec3255-1e8f-4664-854a-06e55bf8cbde"
   },
   "outputs": [
    {
     "data": {
      "image/png": "[encoded data removed]",
      "text/plain": [
       "<Figure size 504x288 with 1 Axes>"
      ]
     },
     "metadata": {
      "needs_background": "light"
     },
     "output_type": "display_data"
    }
   ],
   "source": [
    "#looking at the distribution of the column :surface_terrain \n",
    "\n",
    "visualize_distribution_column(df = dfn, \n",
    "                              col_name='surface_terrain',\n",
    "                              labelx = 'Surface terrain')"
   ]
  },
  {
   "cell_type": "markdown",
   "metadata": {},
   "source": [
    "# Visualize the log distribution of the target variable / or other feature"
   ]
  },
  {
   "cell_type": "code",
   "execution_count": 34,
   "metadata": {
    "colab": {
     "base_uri": "https://localhost:8080/",
     "height": 353
    },
    "id": "X74R09KuMDcH",
    "outputId": "35c421c7-48c1-4e25-f5fb-090c92b775cf"
   },
   "outputs": [
    {
     "data": {
      "image/png": "[encoded data removed]",
      "text/plain": [
       "<Figure size 504x288 with 1 Axes>"
      ]
     },
     "metadata": {
      "needs_background": "light"
     },
     "output_type": "display_data"
    }
   ],
   "source": [
    "#looking at the log distribution of the target variable : valeur_fonciere \n",
    "# or any column\n",
    "def visualize_log_distribution_column(df, col_name, labelx): #labelx : string \n",
    "                                                  #to describe x-axis\n",
    "    fig, ax = plt.subplots(figsize = (7, 4))\n",
    "    sns.distplot(np.log(df[col_name]), kde=False, bins=10)\n",
    "\n",
    "    plt.xlabel(labelx, fontsize=19, labelpad=11)\n",
    "    plt.xticks(fontsize=14)\n",
    "    plt.ylabel('Count', fontsize=19, labelpad=11)\n",
    "    plt.yticks(fontsize=14);\n",
    "\n",
    "visualize_log_distribution_column(df = dfn, \n",
    "                              col_name='valeur_fonciere',labelx = 'Sale Price')"
   ]
  },
  {
   "cell_type": "code",
   "execution_count": 35,
   "metadata": {
    "colab": {
     "base_uri": "https://localhost:8080/",
     "height": 353
    },
    "id": "JiOMJV8WMDft",
    "outputId": "0179d12b-35c2-4c7d-8ba9-d6f581d60839"
   },
   "outputs": [
    {
     "data": {
      "image/png": "[encoded data removed]",
      "text/plain": [
       "<Figure size 504x288 with 1 Axes>"
      ]
     },
     "metadata": {
      "needs_background": "light"
     },
     "output_type": "display_data"
    }
   ],
   "source": [
    "#looking at the log distribution of the column :surface_terrain \n",
    "\n",
    "visualize_log_distribution_column(df = dfn, \n",
    "                              col_name='surface_terrain',\n",
    "                              labelx = 'Surface terrain')"
   ]
  },
  {
   "cell_type": "code",
   "execution_count": 36,
   "metadata": {
    "colab": {
     "base_uri": "https://localhost:8080/",
     "height": 353
    },
    "id": "se0n2SWqPpGQ",
    "outputId": "98142d9c-6645-49c7-ae99-4b5f05ba003b"
   },
   "outputs": [
    {
     "data": {
      "image/png": "[encoded data removed]",
      "text/plain": [
       "<Figure size 504x288 with 1 Axes>"
      ]
     },
     "metadata": {
      "needs_background": "light"
     },
     "output_type": "display_data"
    }
   ],
   "source": [
    "#looking at the log distribution of the column :surface_reelle_bati\n",
    "\n",
    "visualize_log_distribution_column(df = dfn, \n",
    "                              col_name='surface_reelle_bati',\n",
    "                              labelx = 'Surface réelle bâtiment')"
   ]
  },
  {
   "cell_type": "markdown",
   "metadata": {},
   "source": [
    "# Get summary stats"
   ]
  },
  {
   "cell_type": "code",
   "execution_count": 55,
   "metadata": {
    "id": "eY86E4pFIw6N"
   },
   "outputs": [],
   "source": [
    "#getting summary stats on column \n",
    "\n",
    "def get_summary_stats(df, col_name):\n",
    "    return df[col_name].describe()"
   ]
  },
  {
   "cell_type": "code",
   "execution_count": 57,
   "metadata": {},
   "outputs": [],
   "source": [
    "def get_summary_stats_log(df, col_name):\n",
    "    return np.log(df[col_name]).describe()"
   ]
  },
  {
   "cell_type": "code",
   "execution_count": 56,
   "metadata": {
    "colab": {
     "base_uri": "https://localhost:8080/"
    },
    "id": "1izgcgLqIw9N",
    "outputId": "1961f19f-74f0-42e4-90c9-c35de36a2ce8"
   },
   "outputs": [
    {
     "data": {
      "text/plain": [
       "count    1.146255e+06\n",
       "mean     4.051195e+05\n",
       "std      4.120611e+06\n",
       "min      1.500000e-01\n",
       "25%      1.040000e+05\n",
       "50%      1.730000e+05\n",
       "75%      2.800000e+05\n",
       "max      4.352450e+08\n",
       "Name: valeur_fonciere, dtype: float64"
      ]
     },
     "execution_count": 56,
     "metadata": {},
     "output_type": "execute_result"
    }
   ],
   "source": [
    "#summary stats on target variable 'valeur_fonciere'\n",
    "get_summary_stats(df= dfn, col_name = 'valeur_fonciere')"
   ]
  },
  {
   "cell_type": "code",
   "execution_count": 58,
   "metadata": {},
   "outputs": [],
   "source": [
    "res = get_summary_stats(df= dfn, col_name = 'valeur_fonciere')"
   ]
  },
  {
   "cell_type": "code",
   "execution_count": 61,
   "metadata": {},
   "outputs": [
    {
     "data": {
      "text/plain": [
       "(0.15, 435244992.0)"
      ]
     },
     "execution_count": 61,
     "metadata": {},
     "output_type": "execute_result"
    }
   ],
   "source": [
    "res['min'], res['max']"
   ]
  },
  {
   "cell_type": "code",
   "execution_count": 39,
   "metadata": {
    "colab": {
     "base_uri": "https://localhost:8080/"
    },
    "id": "JI433W-YIxAJ",
    "outputId": "2d88fc7d-9613-47d1-d83e-e0bca2efc9d3"
   },
   "outputs": [
    {
     "data": {
      "text/plain": [
       "count    1.146255e+06\n",
       "mean     9.131281e+02\n",
       "std      3.800793e+03\n",
       "min      1.000000e+00\n",
       "25%      4.990000e+02\n",
       "50%      9.130000e+02\n",
       "75%      9.130000e+02\n",
       "max      8.500000e+05\n",
       "Name: surface_terrain, dtype: float64"
      ]
     },
     "execution_count": 39,
     "metadata": {},
     "output_type": "execute_result"
    }
   ],
   "source": [
    "#summary stats on column 'surface_terrain'\n",
    "get_summary_stats(df= dfn, col_name = 'surface_terrain')"
   ]
  },
  {
   "cell_type": "code",
   "execution_count": 62,
   "metadata": {},
   "outputs": [],
   "source": [
    "#summary stats on target variable 'valeur_fonciere'\n",
    "res_log = get_summary_stats_log(df= dfn, col_name = 'valeur_fonciere')"
   ]
  },
  {
   "cell_type": "code",
   "execution_count": 63,
   "metadata": {},
   "outputs": [
    {
     "data": {
      "text/plain": [
       "(-1.8971199848858813, 19.89141963051536)"
      ]
     },
     "execution_count": 63,
     "metadata": {},
     "output_type": "execute_result"
    }
   ],
   "source": [
    "res_log['min'], res_log['max']"
   ]
  },
  {
   "cell_type": "markdown",
   "metadata": {
    "id": "s-0sJgsBksJL"
   },
   "source": [
    "#Corelations with target column : valeur_fonciere"
   ]
  },
  {
   "cell_type": "markdown",
   "metadata": {
    "id": "hnAOJYzPlffX"
   },
   "source": [
    "Correlations: Check correlation between indep variables :\n",
    "\n",
    "*   surface_terrain, surface_reelle_bati\n",
    "\n",
    "and\n",
    "*  target variable : valeur_fonciere.\n",
    "\n",
    "\n",
    "\n",
    "is there correlation between these variable and 'valeur_fonciere' ?"
   ]
  },
  {
   "cell_type": "code",
   "execution_count": 78,
   "metadata": {
    "colab": {
     "base_uri": "https://localhost:8080/",
     "height": 204
    },
    "id": "7sclTvLGQDmg",
    "outputId": "e18c6360-2e63-44c8-a30f-5b43ecbc1402"
   },
   "outputs": [
    {
     "data": {
      "text/html": [
       "<div>\n",
       "<style scoped>\n",
       "    .dataframe tbody tr th:only-of-type {\n",
       "        vertical-align: middle;\n",
       "    }\n",
       "\n",
       "    .dataframe tbody tr th {\n",
       "        vertical-align: top;\n",
       "    }\n",
       "\n",
       "    .dataframe thead th {\n",
       "        text-align: right;\n",
       "    }\n",
       "</style>\n",
       "<table border=\"1\" class=\"dataframe\">\n",
       "  <thead>\n",
       "    <tr style=\"text-align: right;\">\n",
       "      <th></th>\n",
       "      <th>valeur_fonciere</th>\n",
       "    </tr>\n",
       "  </thead>\n",
       "  <tbody>\n",
       "    <tr>\n",
       "      <th>valeur_fonciere</th>\n",
       "      <td>1.000000</td>\n",
       "    </tr>\n",
       "    <tr>\n",
       "      <th>lot5_surface_carrez</th>\n",
       "      <td>0.503555</td>\n",
       "    </tr>\n",
       "    <tr>\n",
       "      <th>lot4_surface_carrez</th>\n",
       "      <td>0.384171</td>\n",
       "    </tr>\n",
       "    <tr>\n",
       "      <th>lot3_surface_carrez</th>\n",
       "      <td>0.375851</td>\n",
       "    </tr>\n",
       "    <tr>\n",
       "      <th>lot2_surface_carrez</th>\n",
       "      <td>0.275931</td>\n",
       "    </tr>\n",
       "  </tbody>\n",
       "</table>\n",
       "</div>"
      ],
      "text/plain": [
       "                     valeur_fonciere\n",
       "valeur_fonciere             1.000000\n",
       "lot5_surface_carrez         0.503555\n",
       "lot4_surface_carrez         0.384171\n",
       "lot3_surface_carrez         0.375851\n",
       "lot2_surface_carrez         0.275931"
      ]
     },
     "execution_count": 78,
     "metadata": {},
     "output_type": "execute_result"
    }
   ],
   "source": [
    "# Here, We use whole data df, to look at correlation between variable target and all other features\n",
    "\n",
    "def get_correlation_features_targetVar(df, target_var):\n",
    "    df_corr = df.corr()[[target_var]].sort_values(target_var, ascending=False)\n",
    "    return df_corr\n",
    "\n",
    "df_corr = get_correlation_features_targetVar(df = df, target_var = 'valeur_fonciere')\n",
    "df_corr.head(5)"
   ]
  },
  {
   "cell_type": "code",
   "execution_count": 79,
   "metadata": {},
   "outputs": [
    {
     "data": {
      "text/html": [
       "<div>\n",
       "<style scoped>\n",
       "    .dataframe tbody tr th:only-of-type {\n",
       "        vertical-align: middle;\n",
       "    }\n",
       "\n",
       "    .dataframe tbody tr th {\n",
       "        vertical-align: top;\n",
       "    }\n",
       "\n",
       "    .dataframe thead th {\n",
       "        text-align: right;\n",
       "    }\n",
       "</style>\n",
       "<table border=\"1\" class=\"dataframe\">\n",
       "  <thead>\n",
       "    <tr style=\"text-align: right;\">\n",
       "      <th></th>\n",
       "      <th>id_mutation</th>\n",
       "      <th>date_mutation</th>\n",
       "      <th>numero_disposition</th>\n",
       "      <th>nature_mutation</th>\n",
       "      <th>log(valeur_fonciere)</th>\n",
       "      <th>adresse_numero</th>\n",
       "      <th>adresse_suffixe</th>\n",
       "      <th>adresse_nom_voie</th>\n",
       "      <th>adresse_code_voie</th>\n",
       "      <th>code_postal</th>\n",
       "      <th>...</th>\n",
       "      <th>type_local</th>\n",
       "      <th>surface_reelle_bati</th>\n",
       "      <th>nombre_pieces_principales</th>\n",
       "      <th>code_nature_culture</th>\n",
       "      <th>nature_culture</th>\n",
       "      <th>code_nature_culture_speciale</th>\n",
       "      <th>nature_culture_speciale</th>\n",
       "      <th>surface_terrain</th>\n",
       "      <th>longitude</th>\n",
       "      <th>latitude</th>\n",
       "    </tr>\n",
       "  </thead>\n",
       "  <tbody>\n",
       "    <tr>\n",
       "      <th>0</th>\n",
       "      <td>2020-1</td>\n",
       "      <td>2020-01-07</td>\n",
       "      <td>1</td>\n",
       "      <td>Vente</td>\n",
       "      <td>8.987197</td>\n",
       "      <td>NaN</td>\n",
       "      <td>NaN</td>\n",
       "      <td>FORTUNAT</td>\n",
       "      <td>B063</td>\n",
       "      <td>1250.0</td>\n",
       "      <td>...</td>\n",
       "      <td>NaN</td>\n",
       "      <td>NaN</td>\n",
       "      <td>NaN</td>\n",
       "      <td>T</td>\n",
       "      <td>terres</td>\n",
       "      <td>NaN</td>\n",
       "      <td>NaN</td>\n",
       "      <td>1061.0</td>\n",
       "      <td>5.323540</td>\n",
       "      <td>46.171919</td>\n",
       "    </tr>\n",
       "    <tr>\n",
       "      <th>1</th>\n",
       "      <td>2020-2</td>\n",
       "      <td>2020-01-02</td>\n",
       "      <td>1</td>\n",
       "      <td>Vente</td>\n",
       "      <td>7.684784</td>\n",
       "      <td>NaN</td>\n",
       "      <td>NaN</td>\n",
       "      <td>TERRES DES CINQ SAULES</td>\n",
       "      <td>B124</td>\n",
       "      <td>1290.0</td>\n",
       "      <td>...</td>\n",
       "      <td>NaN</td>\n",
       "      <td>NaN</td>\n",
       "      <td>NaN</td>\n",
       "      <td>BT</td>\n",
       "      <td>taillis simples</td>\n",
       "      <td>NaN</td>\n",
       "      <td>NaN</td>\n",
       "      <td>85.0</td>\n",
       "      <td>4.893436</td>\n",
       "      <td>46.251868</td>\n",
       "    </tr>\n",
       "    <tr>\n",
       "      <th>2</th>\n",
       "      <td>2020-2</td>\n",
       "      <td>2020-01-02</td>\n",
       "      <td>1</td>\n",
       "      <td>Vente</td>\n",
       "      <td>7.684784</td>\n",
       "      <td>NaN</td>\n",
       "      <td>NaN</td>\n",
       "      <td>BOIS DU CHAMP RION</td>\n",
       "      <td>B006</td>\n",
       "      <td>1290.0</td>\n",
       "      <td>...</td>\n",
       "      <td>NaN</td>\n",
       "      <td>NaN</td>\n",
       "      <td>NaN</td>\n",
       "      <td>T</td>\n",
       "      <td>terres</td>\n",
       "      <td>NaN</td>\n",
       "      <td>NaN</td>\n",
       "      <td>1115.0</td>\n",
       "      <td>4.899919</td>\n",
       "      <td>46.235327</td>\n",
       "    </tr>\n",
       "  </tbody>\n",
       "</table>\n",
       "<p>3 rows × 40 columns</p>\n",
       "</div>"
      ],
      "text/plain": [
       "  id_mutation date_mutation  numero_disposition nature_mutation  \\\n",
       "0      2020-1    2020-01-07                   1           Vente   \n",
       "1      2020-2    2020-01-02                   1           Vente   \n",
       "2      2020-2    2020-01-02                   1           Vente   \n",
       "\n",
       "   log(valeur_fonciere)  adresse_numero adresse_suffixe  \\\n",
       "0              8.987197             NaN             NaN   \n",
       "1              7.684784             NaN             NaN   \n",
       "2              7.684784             NaN             NaN   \n",
       "\n",
       "         adresse_nom_voie adresse_code_voie  code_postal  ... type_local  \\\n",
       "0                FORTUNAT              B063       1250.0  ...        NaN   \n",
       "1  TERRES DES CINQ SAULES              B124       1290.0  ...        NaN   \n",
       "2      BOIS DU CHAMP RION              B006       1290.0  ...        NaN   \n",
       "\n",
       "  surface_reelle_bati nombre_pieces_principales  code_nature_culture  \\\n",
       "0                 NaN                       NaN                    T   \n",
       "1                 NaN                       NaN                   BT   \n",
       "2                 NaN                       NaN                    T   \n",
       "\n",
       "    nature_culture code_nature_culture_speciale nature_culture_speciale  \\\n",
       "0           terres                          NaN                     NaN   \n",
       "1  taillis simples                          NaN                     NaN   \n",
       "2           terres                          NaN                     NaN   \n",
       "\n",
       "  surface_terrain longitude   latitude  \n",
       "0          1061.0  5.323540  46.171919  \n",
       "1            85.0  4.893436  46.251868  \n",
       "2          1115.0  4.899919  46.235327  \n",
       "\n",
       "[3 rows x 40 columns]"
      ]
     },
     "execution_count": 79,
     "metadata": {},
     "output_type": "execute_result"
    }
   ],
   "source": [
    "df_log = df.copy()\n",
    "df_log['valeur_fonciere']= np.log(df['valeur_fonciere'])\n",
    "df_log = df_log.rename(columns={\"valeur_fonciere\": \"log(valeur_fonciere)\"})\n",
    "df_log.head(3)"
   ]
  },
  {
   "cell_type": "code",
   "execution_count": 80,
   "metadata": {
    "colab": {
     "base_uri": "https://localhost:8080/",
     "height": 292
    },
    "id": "Phz3YNLyJwik",
    "outputId": "4e0541af-d7f8-42a9-df82-798d8341cb17"
   },
   "outputs": [
    {
     "data": {
      "image/png": "[encoded data removed]",
      "text/plain": [
       "<Figure size 1440x360 with 2 Axes>"
      ]
     },
     "metadata": {
      "needs_background": "light"
     },
     "output_type": "display_data"
    }
   ],
   "source": [
    "def plot_correlation_heatmap(df, target_var): #df : correlation dataframe\n",
    "    df = df.dropna()\n",
    "    fig, ax = plt.subplots(figsize = (20, 5))\n",
    "\n",
    "    cmap = sns.diverging_palette(150, 275, as_cmap=True)\n",
    "    sns.heatmap(df, annot=True, linewidths=.4, cmap=cmap, ax=ax);\n",
    "\n",
    "\n",
    "plot_correlation_heatmap(df = df_corr, target_var = 'valeur_fonciere')"
   ]
  },
  {
   "cell_type": "code",
   "execution_count": 82,
   "metadata": {},
   "outputs": [
    {
     "data": {
      "image/png": "[encoded data removed]",
      "text/plain": [
       "<Figure size 1440x360 with 2 Axes>"
      ]
     },
     "metadata": {
      "needs_background": "light"
     },
     "output_type": "display_data"
    }
   ],
   "source": [
    "df_corr_log = get_correlation_features_targetVar(df = df_log, target_var = 'log(valeur_fonciere)')\n",
    "\n",
    "plot_correlation_heatmap(df = df_corr_log, target_var = 'log(valeur_fonciere)')"
   ]
  },
  {
   "cell_type": "markdown",
   "metadata": {},
   "source": [
    "# Scatterplots"
   ]
  },
  {
   "cell_type": "code",
   "execution_count": 44,
   "metadata": {
    "colab": {
     "base_uri": "https://localhost:8080/",
     "height": 308
    },
    "id": "XJMz9kmncpRo",
    "outputId": "3619d234-84dc-4b65-d24c-23c0af35dd52"
   },
   "outputs": [
    {
     "data": {
      "image/png": "[encoded data removed]",
      "text/plain": [
       "<Figure size 432x288 with 1 Axes>"
      ]
     },
     "metadata": {
      "needs_background": "light"
     },
     "output_type": "display_data"
    }
   ],
   "source": [
    "sns.scatterplot(x=df['nombre_lots'], y=df['valeur_fonciere']);"
   ]
  },
  {
   "cell_type": "code",
   "execution_count": 64,
   "metadata": {},
   "outputs": [
    {
     "data": {
      "image/png": "[encoded data removed]",
      "text/plain": [
       "<Figure size 432x288 with 1 Axes>"
      ]
     },
     "metadata": {
      "needs_background": "light"
     },
     "output_type": "display_data"
    }
   ],
   "source": [
    "sns.scatterplot(x=df['nombre_lots'], y=np.log(df['valeur_fonciere']));"
   ]
  },
  {
   "cell_type": "code",
   "execution_count": 45,
   "metadata": {
    "colab": {
     "base_uri": "https://localhost:8080/",
     "height": 308
    },
    "id": "XmanYLorcx0w",
    "outputId": "2cd80137-8771-45e8-f51c-0d556d79039d"
   },
   "outputs": [
    {
     "data": {
      "image/png": "[encoded data removed]",
      "text/plain": [
       "<Figure size 432x288 with 1 Axes>"
      ]
     },
     "metadata": {
      "needs_background": "light"
     },
     "output_type": "display_data"
    }
   ],
   "source": [
    "sns.scatterplot(x=df['nombre_pieces_principales'], y=df['valeur_fonciere']);"
   ]
  },
  {
   "cell_type": "code",
   "execution_count": 65,
   "metadata": {},
   "outputs": [
    {
     "data": {
      "image/png": "[encoded data removed]",
      "text/plain": [
       "<Figure size 432x288 with 1 Axes>"
      ]
     },
     "metadata": {
      "needs_background": "light"
     },
     "output_type": "display_data"
    }
   ],
   "source": [
    "sns.scatterplot(x=df['nombre_pieces_principales'], y=np.log(df['valeur_fonciere']));"
   ]
  },
  {
   "cell_type": "code",
   "execution_count": 46,
   "metadata": {
    "colab": {
     "base_uri": "https://localhost:8080/",
     "height": 308
    },
    "id": "SZleOKZccx50",
    "outputId": "721b2c05-d815-47f8-ba15-d22b3171ec75"
   },
   "outputs": [
    {
     "data": {
      "image/png": "[encoded data removed]",
      "text/plain": [
       "<Figure size 432x288 with 1 Axes>"
      ]
     },
     "metadata": {
      "needs_background": "light"
     },
     "output_type": "display_data"
    }
   ],
   "source": [
    "sns.scatterplot(x=(df['lot4_numero']).dropna(), y=df['valeur_fonciere']);"
   ]
  },
  {
   "cell_type": "code",
   "execution_count": 66,
   "metadata": {},
   "outputs": [
    {
     "data": {
      "image/png": "[encoded data removed]",
      "text/plain": [
       "<Figure size 432x288 with 1 Axes>"
      ]
     },
     "metadata": {
      "needs_background": "light"
     },
     "output_type": "display_data"
    }
   ],
   "source": [
    "sns.scatterplot(x=(df['lot4_numero']).dropna(), y=np.log(df['valeur_fonciere']));"
   ]
  },
  {
   "cell_type": "code",
   "execution_count": 47,
   "metadata": {
    "colab": {
     "base_uri": "https://localhost:8080/",
     "height": 308
    },
    "id": "zCYallLvMafu",
    "outputId": "062587a5-fe80-43d0-8d5f-8487312d78b2"
   },
   "outputs": [
    {
     "data": {
      "image/png": "[encoded data removed]",
      "text/plain": [
       "<Figure size 432x288 with 1 Axes>"
      ]
     },
     "metadata": {
      "needs_background": "light"
     },
     "output_type": "display_data"
    }
   ],
   "source": [
    "sns.scatterplot(x=(df['lot5_surface_carrez']).dropna(), y=df['valeur_fonciere']);"
   ]
  },
  {
   "cell_type": "code",
   "execution_count": 67,
   "metadata": {},
   "outputs": [
    {
     "data": {
      "image/png": "[encoded data removed]",
      "text/plain": [
       "<Figure size 432x288 with 1 Axes>"
      ]
     },
     "metadata": {
      "needs_background": "light"
     },
     "output_type": "display_data"
    }
   ],
   "source": [
    "sns.scatterplot(x=(df['lot5_surface_carrez']).dropna(), y=np.log(df['valeur_fonciere']));"
   ]
  },
  {
   "cell_type": "code",
   "execution_count": 48,
   "metadata": {
    "colab": {
     "base_uri": "https://localhost:8080/",
     "height": 308
    },
    "id": "rXp-UaAAFmuA",
    "outputId": "e3bffc84-5ba3-4d65-dd50-cf1774aac74a"
   },
   "outputs": [
    {
     "data": {
      "image/png": "[encoded data removed]",
      "text/plain": [
       "<Figure size 432x288 with 1 Axes>"
      ]
     },
     "metadata": {
      "needs_background": "light"
     },
     "output_type": "display_data"
    }
   ],
   "source": [
    "sns.scatterplot(x=df['surface_terrain'], y=df['valeur_fonciere']);"
   ]
  },
  {
   "cell_type": "code",
   "execution_count": 68,
   "metadata": {},
   "outputs": [
    {
     "data": {
      "image/png": "[encoded data removed]",
      "text/plain": [
       "<Figure size 432x288 with 1 Axes>"
      ]
     },
     "metadata": {
      "needs_background": "light"
     },
     "output_type": "display_data"
    }
   ],
   "source": [
    "sns.scatterplot(x=df['surface_terrain'], y=np.log(df['valeur_fonciere']));"
   ]
  },
  {
   "cell_type": "code",
   "execution_count": 49,
   "metadata": {
    "colab": {
     "base_uri": "https://localhost:8080/",
     "height": 308
    },
    "id": "suoDUZ7iDkeU",
    "outputId": "8081cc58-ed76-49c8-c38e-0ec58471b8d8"
   },
   "outputs": [
    {
     "data": {
      "image/png": "[encoded data removed]",
      "text/plain": [
       "<Figure size 432x288 with 1 Axes>"
      ]
     },
     "metadata": {
      "needs_background": "light"
     },
     "output_type": "display_data"
    }
   ],
   "source": [
    "sns.scatterplot(x=df['surface_reelle_bati'], y=df['valeur_fonciere']);"
   ]
  },
  {
   "cell_type": "code",
   "execution_count": 69,
   "metadata": {
    "id": "KhahAoOyKBei"
   },
   "outputs": [
    {
     "data": {
      "image/png": "[encoded data removed]",
      "text/plain": [
       "<Figure size 432x288 with 1 Axes>"
      ]
     },
     "metadata": {
      "needs_background": "light"
     },
     "output_type": "display_data"
    }
   ],
   "source": [
    "sns.scatterplot(x=df['surface_reelle_bati'], y=np.log(df['valeur_fonciere']));"
   ]
  },
  {
   "cell_type": "code",
   "execution_count": null,
   "metadata": {},
   "outputs": [],
   "source": []
  }
 ],
 "metadata": {
  "colab": {
   "collapsed_sections": [
    "7-hLr5nQg8qv",
    "iDBoPn56hqJx",
    "0EzRI4NJjNn3"
   ],
   "name": "Kenza_git_column_valeur_fonciere.ipynb",
   "provenance": [],
   "toc_visible": true
  },
  "kernelspec": {
   "display_name": "Python 3 (ipykernel)",
   "language": "python",
   "name": "python3"
  },
  "language_info": {
   "codemirror_mode": {
    "name": "ipython",
    "version": 3
   },
   "file_extension": ".py",
   "mimetype": "text/x-python",
   "name": "python",
   "nbconvert_exporter": "python",
   "pygments_lexer": "ipython3",
   "version": "3.8.6"
  },
  "toc": {
   "base_numbering": 1,
   "nav_menu": {},
   "number_sections": true,
   "sideBar": true,
   "skip_h1_title": false,
   "title_cell": "Table of Contents",
   "title_sidebar": "Contents",
   "toc_cell": false,
   "toc_position": {},
   "toc_section_display": true,
   "toc_window_display": true
  }
 },
 "nbformat": 4,
 "nbformat_minor": 1
}
