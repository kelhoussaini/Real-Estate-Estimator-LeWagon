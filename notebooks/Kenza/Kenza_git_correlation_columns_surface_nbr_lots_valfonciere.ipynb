{
 "cells": [
  {
   "cell_type": "markdown",
   "metadata": {
    "id": "7-hLr5nQg8qv"
   },
   "source": [
    "## Imports "
   ]
  },
  {
   "cell_type": "code",
   "execution_count": 25,
   "metadata": {
    "id": "q0QUkD4bhALP"
   },
   "outputs": [],
   "source": [
    "import numpy as np\n",
    "import pandas as pd\n",
    "import matplotlib.pyplot as plt\n",
    "import seaborn as sns"
   ]
  },
  {
   "cell_type": "markdown",
   "metadata": {
    "id": "a8wvp0PhgZq7"
   },
   "source": [
    "## Get data\n"
   ]
  },
  {
   "cell_type": "code",
   "execution_count": 1,
   "metadata": {
    "colab": {
     "base_uri": "https://localhost:8080/"
    },
    "id": "Pz8HmoZogaO7",
    "outputId": "6938ce8b-a454-44e2-c6eb-d89a6ecbac11"
   },
   "outputs": [],
   "source": [
    "#Load Libraries and Create engine Connection\n",
    "\n",
    "import pymysql\n",
    "import pandas as pd\n",
    "import numpy as np\n",
    "import sqlalchemy\n",
    "import gc\n",
    "engine =sqlalchemy.create_engine(\n",
    "        sqlalchemy.engine.url.URL.create(\n",
    "        drivername=\"mysql+pymysql\",\n",
    "        username='Estimators',  # e.g. \"my-database-user\"\n",
    "        password='Estimator2021',  # e.g. \"my-database-password\"\n",
    "        host='34.77.88.127',  # e.g. \"127.0.0.1\"\n",
    "        port=3306,  # e.g. 3306\n",
    "        database='Housing_France',  # e.g. \"my-database-name\"\n",
    "    ))\n",
    "\n",
    "conn = engine.connect().execution_options(stream_results=True)"
   ]
  },
  {
   "cell_type": "code",
   "execution_count": 2,
   "metadata": {},
   "outputs": [],
   "source": [
    "#Load Libraries and Create engine Connection\n",
    "\n",
    "import pymysql\n",
    "import pandas as pd\n",
    "import numpy as np\n",
    "import sqlalchemy\n",
    "import gc\n",
    "\n",
    "def get_data(querystring,chunk):\n",
    "    engine =sqlalchemy.create_engine(\n",
    "    sqlalchemy.engine.url.URL.create(\n",
    "    drivername=\"mysql+pymysql\",\n",
    "    username='Estimators',  # e.g. \"my-database-user\"\n",
    "    password='Estimator2021',  # e.g. \"my-database-password\"\n",
    "    host='34.77.88.127',  # e.g. \"127.0.0.1\"\n",
    "    port=3306,  # e.g. 3306\n",
    "    database='Housing_France',  # e.g. \"my-database-name\"\n",
    "    ))\n",
    "    conn = engine.connect().execution_options(stream_results=True)\n",
    "    frame = pd.DataFrame()\n",
    "    for chunk_dataframe in pd.read_sql(\n",
    "            querystring, conn, chunksize=chunk):\n",
    "            print(f\"Got dataframe w/{len(chunk_dataframe)} rows\")\n",
    "            frame= frame.append(chunk_dataframe)\n",
    "            # ... do something with dataframe ...\n",
    "            \n",
    "    return frame"
   ]
  },
  {
   "cell_type": "code",
   "execution_count": 3,
   "metadata": {},
   "outputs": [
    {
     "name": "stdout",
     "output_type": "stream",
     "text": [
      "Got dataframe w/1000 rows\n",
      "Got dataframe w/1000 rows\n",
      "Got dataframe w/1000 rows\n",
      "Got dataframe w/1000 rows\n",
      "Got dataframe w/1000 rows\n",
      "Got dataframe w/1000 rows\n",
      "Got dataframe w/1000 rows\n",
      "Got dataframe w/1000 rows\n",
      "Got dataframe w/1000 rows\n",
      "Got dataframe w/1000 rows\n",
      "Got dataframe w/1000 rows\n",
      "Got dataframe w/1000 rows\n",
      "Got dataframe w/1000 rows\n",
      "Got dataframe w/1000 rows\n",
      "Got dataframe w/1000 rows\n",
      "Got dataframe w/1000 rows\n",
      "Got dataframe w/1000 rows\n",
      "Got dataframe w/1000 rows\n",
      "Got dataframe w/1000 rows\n",
      "Got dataframe w/1000 rows\n",
      "Got dataframe w/1000 rows\n",
      "Got dataframe w/1000 rows\n",
      "Got dataframe w/1000 rows\n",
      "Got dataframe w/1000 rows\n",
      "Got dataframe w/1000 rows\n",
      "Got dataframe w/1000 rows\n",
      "Got dataframe w/1000 rows\n",
      "Got dataframe w/1000 rows\n",
      "Got dataframe w/1000 rows\n",
      "Got dataframe w/1000 rows\n",
      "Got dataframe w/1000 rows\n",
      "Got dataframe w/1000 rows\n",
      "Got dataframe w/1000 rows\n",
      "Got dataframe w/1000 rows\n",
      "Got dataframe w/1000 rows\n",
      "Got dataframe w/1000 rows\n",
      "Got dataframe w/1000 rows\n",
      "Got dataframe w/1000 rows\n",
      "Got dataframe w/1000 rows\n",
      "Got dataframe w/1000 rows\n",
      "Got dataframe w/1000 rows\n",
      "Got dataframe w/1000 rows\n",
      "Got dataframe w/1000 rows\n",
      "Got dataframe w/1000 rows\n",
      "Got dataframe w/1000 rows\n",
      "Got dataframe w/1000 rows\n",
      "Got dataframe w/1000 rows\n",
      "Got dataframe w/1000 rows\n",
      "Got dataframe w/1000 rows\n",
      "Got dataframe w/1000 rows\n"
     ]
    }
   ],
   "source": [
    "#Template for getting some data\n",
    "df = get_data(\"\"\"select * from data_working LIMIT 50000\"\"\", 1000)"
   ]
  },
  {
   "cell_type": "code",
   "execution_count": 4,
   "metadata": {},
   "outputs": [],
   "source": [
    "#Replace all the blank rows with np.NaN\n",
    "\n",
    "for i in df.columns:\n",
    "    df[i].replace(r'', np.nan, regex=True, inplace= True)"
   ]
  },
  {
   "cell_type": "code",
   "execution_count": 5,
   "metadata": {},
   "outputs": [],
   "source": [
    "#Some Preprocessing\n",
    "df2 = df.copy()\n",
    "df2 = df2[df2['type_local']. notna()]\n",
    "df2 = df2[df2['id_mutation']!= 'id_mutation']\n",
    "df2 = df2[df2['type_local']== 'Maison']\n",
    "columns = ['ancien_nom_commune','ancien_id_parcelle','ancien_code_commune','lot5_surface_carrez','lot4_surface_carrez','lot5_numero'\n",
    "            ,'lot3_surface_carrez', 'numero_volume','lot4_numero','lot3_numero','adresse_suffixe']\n",
    "df2.drop(columns=columns, inplace=True)"
   ]
  },
  {
   "cell_type": "code",
   "execution_count": 6,
   "metadata": {},
   "outputs": [
    {
     "data": {
      "text/plain": [
       "(50000, 40)"
      ]
     },
     "execution_count": 6,
     "metadata": {},
     "output_type": "execute_result"
    }
   ],
   "source": [
    "df.shape"
   ]
  },
  {
   "cell_type": "code",
   "execution_count": 7,
   "metadata": {},
   "outputs": [
    {
     "data": {
      "text/html": [
       "<div>\n",
       "<style scoped>\n",
       "    .dataframe tbody tr th:only-of-type {\n",
       "        vertical-align: middle;\n",
       "    }\n",
       "\n",
       "    .dataframe tbody tr th {\n",
       "        vertical-align: top;\n",
       "    }\n",
       "\n",
       "    .dataframe thead th {\n",
       "        text-align: right;\n",
       "    }\n",
       "</style>\n",
       "<table border=\"1\" class=\"dataframe\">\n",
       "  <thead>\n",
       "    <tr style=\"text-align: right;\">\n",
       "      <th></th>\n",
       "      <th>id_mutation</th>\n",
       "      <th>date_mutation</th>\n",
       "      <th>numero_disposition</th>\n",
       "      <th>nature_mutation</th>\n",
       "      <th>valeur_fonciere</th>\n",
       "      <th>adresse_numero</th>\n",
       "      <th>adresse_suffixe</th>\n",
       "      <th>adresse_nom_voie</th>\n",
       "      <th>adresse_code_voie</th>\n",
       "      <th>code_postal</th>\n",
       "      <th>...</th>\n",
       "      <th>type_local</th>\n",
       "      <th>surface_reelle_bati</th>\n",
       "      <th>nombre_pieces_principales</th>\n",
       "      <th>code_nature_culture</th>\n",
       "      <th>nature_culture</th>\n",
       "      <th>code_nature_culture_speciale</th>\n",
       "      <th>nature_culture_speciale</th>\n",
       "      <th>surface_terrain</th>\n",
       "      <th>longitude</th>\n",
       "      <th>latitude</th>\n",
       "    </tr>\n",
       "  </thead>\n",
       "  <tbody>\n",
       "    <tr>\n",
       "      <th>0</th>\n",
       "      <td>2016-1</td>\n",
       "      <td>2016-01-08</td>\n",
       "      <td>1</td>\n",
       "      <td>Vente</td>\n",
       "      <td>40000</td>\n",
       "      <td>77</td>\n",
       "      <td>NaN</td>\n",
       "      <td>RUE TONY REVILLON</td>\n",
       "      <td>0560</td>\n",
       "      <td>1750</td>\n",
       "      <td>...</td>\n",
       "      <td>Appartement</td>\n",
       "      <td>50</td>\n",
       "      <td>2</td>\n",
       "      <td>NaN</td>\n",
       "      <td>NaN</td>\n",
       "      <td>NaN</td>\n",
       "      <td>NaN</td>\n",
       "      <td>0</td>\n",
       "      <td>4.840606</td>\n",
       "      <td>46.304486</td>\n",
       "    </tr>\n",
       "    <tr>\n",
       "      <th>1</th>\n",
       "      <td>2016-2</td>\n",
       "      <td>2016-01-11</td>\n",
       "      <td>1</td>\n",
       "      <td>Vente</td>\n",
       "      <td>1677</td>\n",
       "      <td>5246</td>\n",
       "      <td>NaN</td>\n",
       "      <td>LES BROTTEAUX</td>\n",
       "      <td>B011</td>\n",
       "      <td>1160</td>\n",
       "      <td>...</td>\n",
       "      <td>Local industriel. commercial ou assimilé</td>\n",
       "      <td>0</td>\n",
       "      <td>0</td>\n",
       "      <td>S</td>\n",
       "      <td>sols</td>\n",
       "      <td>NaN</td>\n",
       "      <td>NaN</td>\n",
       "      <td>838</td>\n",
       "      <td>5.323666</td>\n",
       "      <td>46.040803</td>\n",
       "    </tr>\n",
       "  </tbody>\n",
       "</table>\n",
       "<p>2 rows × 40 columns</p>\n",
       "</div>"
      ],
      "text/plain": [
       "  id_mutation date_mutation  numero_disposition nature_mutation  \\\n",
       "0      2016-1    2016-01-08                   1           Vente   \n",
       "1      2016-2    2016-01-11                   1           Vente   \n",
       "\n",
       "   valeur_fonciere  adresse_numero adresse_suffixe   adresse_nom_voie  \\\n",
       "0            40000              77             NaN  RUE TONY REVILLON   \n",
       "1             1677            5246             NaN      LES BROTTEAUX   \n",
       "\n",
       "  adresse_code_voie  code_postal  ...  \\\n",
       "0              0560         1750  ...   \n",
       "1              B011         1160  ...   \n",
       "\n",
       "                                 type_local surface_reelle_bati  \\\n",
       "0                               Appartement                  50   \n",
       "1  Local industriel. commercial ou assimilé                   0   \n",
       "\n",
       "   nombre_pieces_principales code_nature_culture nature_culture  \\\n",
       "0                          2                 NaN            NaN   \n",
       "1                          0                   S           sols   \n",
       "\n",
       "  code_nature_culture_speciale nature_culture_speciale  surface_terrain  \\\n",
       "0                          NaN                     NaN                0   \n",
       "1                          NaN                     NaN              838   \n",
       "\n",
       "  longitude   latitude  \n",
       "0  4.840606  46.304486  \n",
       "1  5.323666  46.040803  \n",
       "\n",
       "[2 rows x 40 columns]"
      ]
     },
     "execution_count": 7,
     "metadata": {},
     "output_type": "execute_result"
    }
   ],
   "source": [
    "df.head(2)"
   ]
  },
  {
   "cell_type": "markdown",
   "metadata": {},
   "source": [
    "Make a copy of df"
   ]
  },
  {
   "cell_type": "code",
   "execution_count": 8,
   "metadata": {},
   "outputs": [],
   "source": [
    "data = df.copy()"
   ]
  },
  {
   "cell_type": "markdown",
   "metadata": {
    "id": "iDBoPn56hqJx"
   },
   "source": [
    "## Column : surface_terrain"
   ]
  },
  {
   "cell_type": "code",
   "execution_count": 10,
   "metadata": {
    "colab": {
     "base_uri": "https://localhost:8080/"
    },
    "id": "FH3bGsJihTFJ",
    "outputId": "f192488c-23ed-4caa-c3fc-a2504641e725"
   },
   "outputs": [
    {
     "data": {
      "text/plain": [
       "array([   0,  838, 1151, ..., 2372, 4737, 2302])"
      ]
     },
     "execution_count": 10,
     "metadata": {},
     "output_type": "execute_result"
    }
   ],
   "source": [
    "data['surface_terrain'].unique()"
   ]
  },
  {
   "cell_type": "code",
   "execution_count": 11,
   "metadata": {
    "colab": {
     "base_uri": "https://localhost:8080/"
    },
    "id": "J4OJO5dfit1B",
    "outputId": "2bf70732-07c3-4cd9-c647-0f065acc66f5"
   },
   "outputs": [
    {
     "data": {
      "text/plain": [
       "0       23184\n",
       "500       775\n",
       "1000      401\n",
       "800       157\n",
       "600       152\n",
       "        ...  \n",
       "3278        1\n",
       "1812        1\n",
       "1890        1\n",
       "2648        1\n",
       "3634        1\n",
       "Name: surface_terrain, Length: 2998, dtype: int64"
      ]
     },
     "execution_count": 11,
     "metadata": {},
     "output_type": "execute_result"
    }
   ],
   "source": [
    "data['surface_terrain'].value_counts()"
   ]
  },
  {
   "cell_type": "markdown",
   "metadata": {
    "id": "WLqL3MSl0zMZ"
   },
   "source": [
    "# Select rows with NaN in 'surface_terrain'"
   ]
  },
  {
   "cell_type": "code",
   "execution_count": 15,
   "metadata": {
    "colab": {
     "base_uri": "https://localhost:8080/"
    },
    "id": "pyaNk5kNsT0p",
    "outputId": "bebaa61e-8a4e-4393-9284-3a135a731681"
   },
   "outputs": [
    {
     "data": {
      "text/plain": [
       "(0, 40)"
      ]
     },
     "execution_count": 15,
     "metadata": {},
     "output_type": "execute_result"
    }
   ],
   "source": [
    "def select_rows_with_nan_in_list_columns(df, col_name): #df : dataframe\n",
    "      if len(col_name) == 1 :\n",
    "        selected_rows = df[\n",
    "                     df[col_name[0]].isnull() \n",
    "                     ]\n",
    "      elif len(col_name) > 1:\n",
    "        selected_rows = df[\n",
    "                     df[col_name[0]].isnull() & \\\n",
    "                     df[col_name[1]].isnull() \n",
    "                     ]\n",
    "      return selected_rows\n",
    "\n",
    "\n",
    "df_test = select_rows_with_nan_in_list_columns(df = data,\n",
    "                                         col_name= ['surface_terrain'])\n",
    "df_test.shape\n"
   ]
  },
  {
   "cell_type": "code",
   "execution_count": 16,
   "metadata": {
    "colab": {
     "base_uri": "https://localhost:8080/"
    },
    "id": "bz_wOBMo1fvJ",
    "outputId": "95611c68-830a-4ee2-c2aa-de5d7fe603cc"
   },
   "outputs": [
    {
     "data": {
      "text/plain": [
       "50000"
      ]
     },
     "execution_count": 16,
     "metadata": {},
     "output_type": "execute_result"
    }
   ],
   "source": [
    "len(data) - len(df_test) # len of data with one of both colums : \n",
    "# 'code_nature_culture', 'code_nature_culture_speciale'\n",
    "#is NaN"
   ]
  },
  {
   "cell_type": "code",
   "execution_count": 17,
   "metadata": {
    "colab": {
     "base_uri": "https://localhost:8080/",
     "height": 419
    },
    "id": "YAHHwQto3chS",
    "outputId": "42c14f99-e550-457d-e4b5-bb6018a0e75a"
   },
   "outputs": [
    {
     "data": {
      "text/html": [
       "<div>\n",
       "<style scoped>\n",
       "    .dataframe tbody tr th:only-of-type {\n",
       "        vertical-align: middle;\n",
       "    }\n",
       "\n",
       "    .dataframe tbody tr th {\n",
       "        vertical-align: top;\n",
       "    }\n",
       "\n",
       "    .dataframe thead th {\n",
       "        text-align: right;\n",
       "    }\n",
       "</style>\n",
       "<table border=\"1\" class=\"dataframe\">\n",
       "  <thead>\n",
       "    <tr style=\"text-align: right;\">\n",
       "      <th></th>\n",
       "      <th>surface_terrain</th>\n",
       "      <th>surface_reelle_bati</th>\n",
       "      <th>nombre_lots</th>\n",
       "      <th>numero_disposition</th>\n",
       "      <th>valeur_fonciere</th>\n",
       "    </tr>\n",
       "  </thead>\n",
       "  <tbody>\n",
       "  </tbody>\n",
       "</table>\n",
       "</div>"
      ],
      "text/plain": [
       "Empty DataFrame\n",
       "Columns: [surface_terrain, surface_reelle_bati, nombre_lots, numero_disposition, valeur_fonciere]\n",
       "Index: []"
      ]
     },
     "execution_count": 17,
     "metadata": {},
     "output_type": "execute_result"
    }
   ],
   "source": [
    "mask_columns = ['surface_terrain', 'surface_reelle_bati',\n",
    "                'nombre_lots', 'numero_disposition',\n",
    "                'valeur_fonciere']\n",
    "\n",
    "df_test[mask_columns]"
   ]
  },
  {
   "cell_type": "markdown",
   "metadata": {
    "id": "Ftbnc9cl32jl"
   },
   "source": [
    "# Drop rows with NaN in 'surface_terrain'"
   ]
  },
  {
   "cell_type": "code",
   "execution_count": 18,
   "metadata": {
    "colab": {
     "base_uri": "https://localhost:8080/"
    },
    "id": "hK3_ZSx031dh",
    "outputId": "31597fbf-eb93-4bda-dcf8-65c0f2d36ddd"
   },
   "outputs": [
    {
     "data": {
      "text/plain": [
       "(50000, 40)"
      ]
     },
     "execution_count": 18,
     "metadata": {},
     "output_type": "execute_result"
    }
   ],
   "source": [
    "def drop_rows_with_nan_in_list_columns(df, col_name): #df : dataframe\n",
    "\n",
    "    mod_df = df.dropna( how='all', subset=col_name)\n",
    "  \n",
    "    return mod_df\n",
    "\n",
    "\n",
    "clean_data = drop_rows_with_nan_in_list_columns(df = data,\n",
    "                          col_name= ['surface_terrain'])\n",
    "\n",
    "clean_data.shape\n"
   ]
  },
  {
   "cell_type": "code",
   "execution_count": 19,
   "metadata": {
    "colab": {
     "base_uri": "https://localhost:8080/",
     "height": 419
    },
    "id": "IJYXElye31qI",
    "outputId": "c25cc120-eede-467a-fd36-40badb49bbe3"
   },
   "outputs": [
    {
     "data": {
      "text/html": [
       "<div>\n",
       "<style scoped>\n",
       "    .dataframe tbody tr th:only-of-type {\n",
       "        vertical-align: middle;\n",
       "    }\n",
       "\n",
       "    .dataframe tbody tr th {\n",
       "        vertical-align: top;\n",
       "    }\n",
       "\n",
       "    .dataframe thead th {\n",
       "        text-align: right;\n",
       "    }\n",
       "</style>\n",
       "<table border=\"1\" class=\"dataframe\">\n",
       "  <thead>\n",
       "    <tr style=\"text-align: right;\">\n",
       "      <th></th>\n",
       "      <th>id_mutation</th>\n",
       "      <th>type_local</th>\n",
       "      <th>nombre_lots</th>\n",
       "      <th>numero_disposition</th>\n",
       "      <th>surface_terrain</th>\n",
       "      <th>surface_reelle_bati</th>\n",
       "      <th>valeur_fonciere</th>\n",
       "    </tr>\n",
       "  </thead>\n",
       "  <tbody>\n",
       "    <tr>\n",
       "      <th>0</th>\n",
       "      <td>2016-1</td>\n",
       "      <td>Appartement</td>\n",
       "      <td>1</td>\n",
       "      <td>1</td>\n",
       "      <td>0</td>\n",
       "      <td>50</td>\n",
       "      <td>40000</td>\n",
       "    </tr>\n",
       "    <tr>\n",
       "      <th>1</th>\n",
       "      <td>2016-2</td>\n",
       "      <td>Local industriel. commercial ou assimilé</td>\n",
       "      <td>0</td>\n",
       "      <td>1</td>\n",
       "      <td>838</td>\n",
       "      <td>0</td>\n",
       "      <td>1677</td>\n",
       "    </tr>\n",
       "    <tr>\n",
       "      <th>2</th>\n",
       "      <td>2016-3</td>\n",
       "      <td>Local industriel. commercial ou assimilé</td>\n",
       "      <td>0</td>\n",
       "      <td>1</td>\n",
       "      <td>1151</td>\n",
       "      <td>3836</td>\n",
       "      <td>7915000</td>\n",
       "    </tr>\n",
       "    <tr>\n",
       "      <th>3</th>\n",
       "      <td>2016-4</td>\n",
       "      <td>Maison</td>\n",
       "      <td>0</td>\n",
       "      <td>1</td>\n",
       "      <td>1220</td>\n",
       "      <td>150</td>\n",
       "      <td>90000</td>\n",
       "    </tr>\n",
       "    <tr>\n",
       "      <th>4</th>\n",
       "      <td>2016-6</td>\n",
       "      <td>Maison</td>\n",
       "      <td>0</td>\n",
       "      <td>1</td>\n",
       "      <td>500</td>\n",
       "      <td>98</td>\n",
       "      <td>203700</td>\n",
       "    </tr>\n",
       "    <tr>\n",
       "      <th>...</th>\n",
       "      <td>...</td>\n",
       "      <td>...</td>\n",
       "      <td>...</td>\n",
       "      <td>...</td>\n",
       "      <td>...</td>\n",
       "      <td>...</td>\n",
       "      <td>...</td>\n",
       "    </tr>\n",
       "    <tr>\n",
       "      <th>995</th>\n",
       "      <td>2016-43169</td>\n",
       "      <td>Local industriel. commercial ou assimilé</td>\n",
       "      <td>1</td>\n",
       "      <td>1</td>\n",
       "      <td>0</td>\n",
       "      <td>47</td>\n",
       "      <td>840000</td>\n",
       "    </tr>\n",
       "    <tr>\n",
       "      <th>996</th>\n",
       "      <td>2016-43169</td>\n",
       "      <td>Local industriel. commercial ou assimilé</td>\n",
       "      <td>1</td>\n",
       "      <td>1</td>\n",
       "      <td>0</td>\n",
       "      <td>33</td>\n",
       "      <td>840000</td>\n",
       "    </tr>\n",
       "    <tr>\n",
       "      <th>997</th>\n",
       "      <td>2016-43169</td>\n",
       "      <td>Local industriel. commercial ou assimilé</td>\n",
       "      <td>1</td>\n",
       "      <td>1</td>\n",
       "      <td>0</td>\n",
       "      <td>42</td>\n",
       "      <td>840000</td>\n",
       "    </tr>\n",
       "    <tr>\n",
       "      <th>998</th>\n",
       "      <td>2016-43169</td>\n",
       "      <td>Local industriel. commercial ou assimilé</td>\n",
       "      <td>1</td>\n",
       "      <td>1</td>\n",
       "      <td>0</td>\n",
       "      <td>41</td>\n",
       "      <td>840000</td>\n",
       "    </tr>\n",
       "    <tr>\n",
       "      <th>999</th>\n",
       "      <td>2016-43169</td>\n",
       "      <td>Local industriel. commercial ou assimilé</td>\n",
       "      <td>1</td>\n",
       "      <td>1</td>\n",
       "      <td>0</td>\n",
       "      <td>65</td>\n",
       "      <td>840000</td>\n",
       "    </tr>\n",
       "  </tbody>\n",
       "</table>\n",
       "<p>50000 rows × 7 columns</p>\n",
       "</div>"
      ],
      "text/plain": [
       "    id_mutation                                type_local  nombre_lots  \\\n",
       "0        2016-1                               Appartement            1   \n",
       "1        2016-2  Local industriel. commercial ou assimilé            0   \n",
       "2        2016-3  Local industriel. commercial ou assimilé            0   \n",
       "3        2016-4                                    Maison            0   \n",
       "4        2016-6                                    Maison            0   \n",
       "..          ...                                       ...          ...   \n",
       "995  2016-43169  Local industriel. commercial ou assimilé            1   \n",
       "996  2016-43169  Local industriel. commercial ou assimilé            1   \n",
       "997  2016-43169  Local industriel. commercial ou assimilé            1   \n",
       "998  2016-43169  Local industriel. commercial ou assimilé            1   \n",
       "999  2016-43169  Local industriel. commercial ou assimilé            1   \n",
       "\n",
       "     numero_disposition  surface_terrain  surface_reelle_bati  valeur_fonciere  \n",
       "0                     1                0                   50            40000  \n",
       "1                     1              838                    0             1677  \n",
       "2                     1             1151                 3836          7915000  \n",
       "3                     1             1220                  150            90000  \n",
       "4                     1              500                   98           203700  \n",
       "..                  ...              ...                  ...              ...  \n",
       "995                   1                0                   47           840000  \n",
       "996                   1                0                   33           840000  \n",
       "997                   1                0                   42           840000  \n",
       "998                   1                0                   41           840000  \n",
       "999                   1                0                   65           840000  \n",
       "\n",
       "[50000 rows x 7 columns]"
      ]
     },
     "execution_count": 19,
     "metadata": {},
     "output_type": "execute_result"
    }
   ],
   "source": [
    "mask_columns = ['id_mutation', 'type_local', \n",
    "                'nombre_lots', 'numero_disposition',\n",
    "                 'surface_terrain', 'surface_reelle_bati',\n",
    "                'valeur_fonciere']\n",
    "\n",
    "\n",
    "clean_data[mask_columns]"
   ]
  },
  {
   "cell_type": "code",
   "execution_count": 20,
   "metadata": {
    "colab": {
     "base_uri": "https://localhost:8080/"
    },
    "id": "DlWaQGK131uk",
    "outputId": "3beeade7-2898-48bd-ca50-d945eb32d3fa"
   },
   "outputs": [
    {
     "data": {
      "text/plain": [
       "0"
      ]
     },
     "execution_count": 20,
     "metadata": {},
     "output_type": "execute_result"
    }
   ],
   "source": [
    "clean_data['surface_terrain'].isnull().sum()"
   ]
  },
  {
   "cell_type": "code",
   "execution_count": 21,
   "metadata": {
    "colab": {
     "base_uri": "https://localhost:8080/",
     "height": 419
    },
    "id": "Wi0EEvoi6aIx",
    "outputId": "18ef9792-5a95-4edb-e8a3-c6da21a4e020"
   },
   "outputs": [
    {
     "data": {
      "text/html": [
       "<div>\n",
       "<style scoped>\n",
       "    .dataframe tbody tr th:only-of-type {\n",
       "        vertical-align: middle;\n",
       "    }\n",
       "\n",
       "    .dataframe tbody tr th {\n",
       "        vertical-align: top;\n",
       "    }\n",
       "\n",
       "    .dataframe thead th {\n",
       "        text-align: right;\n",
       "    }\n",
       "</style>\n",
       "<table border=\"1\" class=\"dataframe\">\n",
       "  <thead>\n",
       "    <tr style=\"text-align: right;\">\n",
       "      <th></th>\n",
       "      <th>id_mutation</th>\n",
       "      <th>type_local</th>\n",
       "      <th>nombre_lots</th>\n",
       "      <th>numero_disposition</th>\n",
       "      <th>surface_terrain</th>\n",
       "      <th>surface_reelle_bati</th>\n",
       "      <th>valeur_fonciere</th>\n",
       "    </tr>\n",
       "  </thead>\n",
       "  <tbody>\n",
       "    <tr>\n",
       "      <th>0</th>\n",
       "      <td>2016-1</td>\n",
       "      <td>Appartement</td>\n",
       "      <td>1</td>\n",
       "      <td>1</td>\n",
       "      <td>0</td>\n",
       "      <td>50</td>\n",
       "      <td>40000</td>\n",
       "    </tr>\n",
       "    <tr>\n",
       "      <th>1</th>\n",
       "      <td>2016-2</td>\n",
       "      <td>Local industriel. commercial ou assimilé</td>\n",
       "      <td>0</td>\n",
       "      <td>1</td>\n",
       "      <td>838</td>\n",
       "      <td>0</td>\n",
       "      <td>1677</td>\n",
       "    </tr>\n",
       "    <tr>\n",
       "      <th>2</th>\n",
       "      <td>2016-3</td>\n",
       "      <td>Local industriel. commercial ou assimilé</td>\n",
       "      <td>0</td>\n",
       "      <td>1</td>\n",
       "      <td>1151</td>\n",
       "      <td>3836</td>\n",
       "      <td>7915000</td>\n",
       "    </tr>\n",
       "    <tr>\n",
       "      <th>3</th>\n",
       "      <td>2016-4</td>\n",
       "      <td>Maison</td>\n",
       "      <td>0</td>\n",
       "      <td>1</td>\n",
       "      <td>1220</td>\n",
       "      <td>150</td>\n",
       "      <td>90000</td>\n",
       "    </tr>\n",
       "    <tr>\n",
       "      <th>4</th>\n",
       "      <td>2016-6</td>\n",
       "      <td>Maison</td>\n",
       "      <td>0</td>\n",
       "      <td>1</td>\n",
       "      <td>500</td>\n",
       "      <td>98</td>\n",
       "      <td>203700</td>\n",
       "    </tr>\n",
       "    <tr>\n",
       "      <th>...</th>\n",
       "      <td>...</td>\n",
       "      <td>...</td>\n",
       "      <td>...</td>\n",
       "      <td>...</td>\n",
       "      <td>...</td>\n",
       "      <td>...</td>\n",
       "      <td>...</td>\n",
       "    </tr>\n",
       "    <tr>\n",
       "      <th>995</th>\n",
       "      <td>2016-43169</td>\n",
       "      <td>Local industriel. commercial ou assimilé</td>\n",
       "      <td>1</td>\n",
       "      <td>1</td>\n",
       "      <td>0</td>\n",
       "      <td>47</td>\n",
       "      <td>840000</td>\n",
       "    </tr>\n",
       "    <tr>\n",
       "      <th>996</th>\n",
       "      <td>2016-43169</td>\n",
       "      <td>Local industriel. commercial ou assimilé</td>\n",
       "      <td>1</td>\n",
       "      <td>1</td>\n",
       "      <td>0</td>\n",
       "      <td>33</td>\n",
       "      <td>840000</td>\n",
       "    </tr>\n",
       "    <tr>\n",
       "      <th>997</th>\n",
       "      <td>2016-43169</td>\n",
       "      <td>Local industriel. commercial ou assimilé</td>\n",
       "      <td>1</td>\n",
       "      <td>1</td>\n",
       "      <td>0</td>\n",
       "      <td>42</td>\n",
       "      <td>840000</td>\n",
       "    </tr>\n",
       "    <tr>\n",
       "      <th>998</th>\n",
       "      <td>2016-43169</td>\n",
       "      <td>Local industriel. commercial ou assimilé</td>\n",
       "      <td>1</td>\n",
       "      <td>1</td>\n",
       "      <td>0</td>\n",
       "      <td>41</td>\n",
       "      <td>840000</td>\n",
       "    </tr>\n",
       "    <tr>\n",
       "      <th>999</th>\n",
       "      <td>2016-43169</td>\n",
       "      <td>Local industriel. commercial ou assimilé</td>\n",
       "      <td>1</td>\n",
       "      <td>1</td>\n",
       "      <td>0</td>\n",
       "      <td>65</td>\n",
       "      <td>840000</td>\n",
       "    </tr>\n",
       "  </tbody>\n",
       "</table>\n",
       "<p>47749 rows × 7 columns</p>\n",
       "</div>"
      ],
      "text/plain": [
       "    id_mutation                                type_local  nombre_lots  \\\n",
       "0        2016-1                               Appartement            1   \n",
       "1        2016-2  Local industriel. commercial ou assimilé            0   \n",
       "2        2016-3  Local industriel. commercial ou assimilé            0   \n",
       "3        2016-4                                    Maison            0   \n",
       "4        2016-6                                    Maison            0   \n",
       "..          ...                                       ...          ...   \n",
       "995  2016-43169  Local industriel. commercial ou assimilé            1   \n",
       "996  2016-43169  Local industriel. commercial ou assimilé            1   \n",
       "997  2016-43169  Local industriel. commercial ou assimilé            1   \n",
       "998  2016-43169  Local industriel. commercial ou assimilé            1   \n",
       "999  2016-43169  Local industriel. commercial ou assimilé            1   \n",
       "\n",
       "     numero_disposition  surface_terrain  surface_reelle_bati  valeur_fonciere  \n",
       "0                     1                0                   50            40000  \n",
       "1                     1              838                    0             1677  \n",
       "2                     1             1151                 3836          7915000  \n",
       "3                     1             1220                  150            90000  \n",
       "4                     1              500                   98           203700  \n",
       "..                  ...              ...                  ...              ...  \n",
       "995                   1                0                   47           840000  \n",
       "996                   1                0                   33           840000  \n",
       "997                   1                0                   42           840000  \n",
       "998                   1                0                   41           840000  \n",
       "999                   1                0                   65           840000  \n",
       "\n",
       "[47749 rows x 7 columns]"
      ]
     },
     "execution_count": 21,
     "metadata": {},
     "output_type": "execute_result"
    }
   ],
   "source": [
    "df_new = clean_data.drop_duplicates()\n",
    "df_new[mask_columns]"
   ]
  },
  {
   "cell_type": "code",
   "execution_count": 22,
   "metadata": {
    "colab": {
     "base_uri": "https://localhost:8080/"
    },
    "id": "oKjBvgTirOdt",
    "outputId": "3ad374f1-3778-4c03-9b78-b33f5438f911"
   },
   "outputs": [
    {
     "data": {
      "text/plain": [
       "(47749, 40)"
      ]
     },
     "execution_count": 22,
     "metadata": {},
     "output_type": "execute_result"
    }
   ],
   "source": [
    "df_new.shape"
   ]
  },
  {
   "cell_type": "markdown",
   "metadata": {
    "id": "s-0sJgsBksJL"
   },
   "source": [
    "#Corelations with target column : valeur_fonciere"
   ]
  },
  {
   "cell_type": "markdown",
   "metadata": {
    "id": "hnAOJYzPlffX"
   },
   "source": [
    "Correlations: Check correlation between variable :\n",
    "\n",
    "*   surface_terrain\n",
    "\n",
    "and\n",
    "*  target variable : valeur_fonciere.\n",
    "\n",
    "\n",
    "\n",
    "is there correlation between this variable and 'valeur_fonciere' ?"
   ]
  },
  {
   "cell_type": "code",
   "execution_count": 30,
   "metadata": {
    "colab": {
     "base_uri": "https://localhost:8080/",
     "height": 111
    },
    "id": "xq9Dywfd7bCU",
    "outputId": "53b63d11-3a8f-44e2-d35e-0e4c4774d035"
   },
   "outputs": [
    {
     "data": {
      "text/html": [
       "<div>\n",
       "<style scoped>\n",
       "    .dataframe tbody tr th:only-of-type {\n",
       "        vertical-align: middle;\n",
       "    }\n",
       "\n",
       "    .dataframe tbody tr th {\n",
       "        vertical-align: top;\n",
       "    }\n",
       "\n",
       "    .dataframe thead th {\n",
       "        text-align: right;\n",
       "    }\n",
       "</style>\n",
       "<table border=\"1\" class=\"dataframe\">\n",
       "  <thead>\n",
       "    <tr style=\"text-align: right;\">\n",
       "      <th></th>\n",
       "      <th>nombre_lots</th>\n",
       "      <th>numero_disposition</th>\n",
       "      <th>surface_terrain</th>\n",
       "      <th>surface_reelle_bati</th>\n",
       "      <th>valeur_fonciere</th>\n",
       "    </tr>\n",
       "  </thead>\n",
       "  <tbody>\n",
       "    <tr>\n",
       "      <th>0</th>\n",
       "      <td>1</td>\n",
       "      <td>1</td>\n",
       "      <td>0</td>\n",
       "      <td>50</td>\n",
       "      <td>40000</td>\n",
       "    </tr>\n",
       "    <tr>\n",
       "      <th>1</th>\n",
       "      <td>0</td>\n",
       "      <td>1</td>\n",
       "      <td>838</td>\n",
       "      <td>0</td>\n",
       "      <td>1677</td>\n",
       "    </tr>\n",
       "  </tbody>\n",
       "</table>\n",
       "</div>"
      ],
      "text/plain": [
       "   nombre_lots  numero_disposition  surface_terrain  surface_reelle_bati  \\\n",
       "0            1                   1                0                   50   \n",
       "1            0                   1              838                    0   \n",
       "\n",
       "   valeur_fonciere  \n",
       "0            40000  \n",
       "1             1677  "
      ]
     },
     "execution_count": 30,
     "metadata": {},
     "output_type": "execute_result"
    }
   ],
   "source": [
    "mask_columns = [ \n",
    "                'nombre_lots', 'numero_disposition',\n",
    "                 'surface_terrain','surface_reelle_bati',\n",
    "                'valeur_fonciere']\n",
    "\n",
    "selected_data = df_new[mask_columns]\n",
    "selected_data.head(2)"
   ]
  },
  {
   "cell_type": "code",
   "execution_count": 26,
   "metadata": {
    "colab": {
     "base_uri": "https://localhost:8080/",
     "height": 428
    },
    "id": "PqKfrcHQidRd",
    "outputId": "ef177f44-411e-427c-a759-3e4905dd98f4"
   },
   "outputs": [
    {
     "data": {
      "text/plain": [
       "<AxesSubplot:>"
      ]
     },
     "execution_count": 26,
     "metadata": {},
     "output_type": "execute_result"
    },
    {
     "data": {
      "image/png": "[encoded data removed]",
      "text/plain": [
       "<Figure size 504x360 with 2 Axes>"
      ]
     },
     "metadata": {
      "needs_background": "light"
     },
     "output_type": "display_data"
    }
   ],
   "source": [
    "plt.figure(figsize=(7,5))\n",
    "\n",
    "sns.heatmap(selected_data.corr(), annot = True,vmin=-1, vmax=1,\n",
    "            center= 0,cmap= 'coolwarm',linewidths=3, linecolor='black')"
   ]
  },
  {
   "cell_type": "markdown",
   "metadata": {},
   "source": [
    "# Correlation with more columns"
   ]
  },
  {
   "cell_type": "markdown",
   "metadata": {},
   "source": [
    "Correlation as above, but here we add the column 'nombre_pieces_principales' "
   ]
  },
  {
   "cell_type": "code",
   "execution_count": 28,
   "metadata": {},
   "outputs": [
    {
     "data": {
      "text/html": [
       "<div>\n",
       "<style scoped>\n",
       "    .dataframe tbody tr th:only-of-type {\n",
       "        vertical-align: middle;\n",
       "    }\n",
       "\n",
       "    .dataframe tbody tr th {\n",
       "        vertical-align: top;\n",
       "    }\n",
       "\n",
       "    .dataframe thead th {\n",
       "        text-align: right;\n",
       "    }\n",
       "</style>\n",
       "<table border=\"1\" class=\"dataframe\">\n",
       "  <thead>\n",
       "    <tr style=\"text-align: right;\">\n",
       "      <th></th>\n",
       "      <th>nombre_lots</th>\n",
       "      <th>numero_disposition</th>\n",
       "      <th>nombre_pieces_principales</th>\n",
       "      <th>surface_terrain</th>\n",
       "      <th>surface_reelle_bati</th>\n",
       "      <th>valeur_fonciere</th>\n",
       "    </tr>\n",
       "  </thead>\n",
       "  <tbody>\n",
       "    <tr>\n",
       "      <th>0</th>\n",
       "      <td>1</td>\n",
       "      <td>1</td>\n",
       "      <td>2</td>\n",
       "      <td>0</td>\n",
       "      <td>50</td>\n",
       "      <td>40000</td>\n",
       "    </tr>\n",
       "    <tr>\n",
       "      <th>1</th>\n",
       "      <td>0</td>\n",
       "      <td>1</td>\n",
       "      <td>0</td>\n",
       "      <td>838</td>\n",
       "      <td>0</td>\n",
       "      <td>1677</td>\n",
       "    </tr>\n",
       "  </tbody>\n",
       "</table>\n",
       "</div>"
      ],
      "text/plain": [
       "   nombre_lots  numero_disposition  nombre_pieces_principales  \\\n",
       "0            1                   1                          2   \n",
       "1            0                   1                          0   \n",
       "\n",
       "   surface_terrain  surface_reelle_bati  valeur_fonciere  \n",
       "0                0                   50            40000  \n",
       "1              838                    0             1677  "
      ]
     },
     "execution_count": 28,
     "metadata": {},
     "output_type": "execute_result"
    }
   ],
   "source": [
    "mask_columns = [ \n",
    "                'nombre_lots', 'numero_disposition',\n",
    "               'nombre_pieces_principales',\n",
    "                 'surface_terrain','surface_reelle_bati',\n",
    "                'valeur_fonciere']\n",
    "\n",
    "selected_data_1 = df_new[mask_columns]\n",
    "selected_data_1.head(2)"
   ]
  },
  {
   "cell_type": "code",
   "execution_count": 29,
   "metadata": {},
   "outputs": [
    {
     "data": {
      "text/plain": [
       "<AxesSubplot:>"
      ]
     },
     "execution_count": 29,
     "metadata": {},
     "output_type": "execute_result"
    },
    {
     "data": {
      "image/png": "[encoded data removed]",
      "text/plain": [
       "<Figure size 504x360 with 2 Axes>"
      ]
     },
     "metadata": {
      "needs_background": "light"
     },
     "output_type": "display_data"
    }
   ],
   "source": [
    "plt.figure(figsize=(7,5))\n",
    "\n",
    "sns.heatmap(selected_data_1.corr(), annot = True,vmin=-1, vmax=1,\n",
    "            center= 0,cmap= 'coolwarm',linewidths=3, linecolor='black')"
   ]
  },
  {
   "cell_type": "code",
   "execution_count": null,
   "metadata": {},
   "outputs": [],
   "source": []
  }
 ],
 "metadata": {
  "colab": {
   "collapsed_sections": [],
   "name": "Kenza_git_correlation_columns_surface_nbr_lots-valfonciere.ipynb",
   "provenance": [],
   "toc_visible": true
  },
  "kernelspec": {
   "display_name": "Python 3 (ipykernel)",
   "language": "python",
   "name": "python3"
  },
  "language_info": {
   "codemirror_mode": {
    "name": "ipython",
    "version": 3
   },
   "file_extension": ".py",
   "mimetype": "text/x-python",
   "name": "python",
   "nbconvert_exporter": "python",
   "pygments_lexer": "ipython3",
   "version": "3.8.6"
  },
  "toc": {
   "base_numbering": 1,
   "nav_menu": {},
   "number_sections": true,
   "sideBar": true,
   "skip_h1_title": false,
   "title_cell": "Table of Contents",
   "title_sidebar": "Contents",
   "toc_cell": false,
   "toc_position": {},
   "toc_section_display": true,
   "toc_window_display": true
  }
 },
 "nbformat": 4,
 "nbformat_minor": 1
}
