{
  "nbformat": 4,
  "nbformat_minor": 5,
  "metadata": {
    "kernelspec": {
      "display_name": "Python 3 (ipykernel)",
      "language": "python",
      "name": "python3"
    },
    "language_info": {
      "codemirror_mode": {
        "name": "ipython",
        "version": 3
      },
      "file_extension": ".py",
      "mimetype": "text/x-python",
      "name": "python",
      "nbconvert_exporter": "python",
      "pygments_lexer": "ipython3",
      "version": "3.8.6"
    },
    "toc": {
      "base_numbering": 1,
      "nav_menu": {},
      "number_sections": true,
      "sideBar": true,
      "skip_h1_title": false,
      "title_cell": "Table of Contents",
      "title_sidebar": "Contents",
      "toc_cell": false,
      "toc_position": {},
      "toc_section_display": true,
      "toc_window_display": true
    },
    "colab": {
      "name": "Kenza_git_Data_Insight_functions.ipynb",
      "provenance": [],
      "collapsed_sections": [],
      "toc_visible": true
    }
  },
  "cells": [
    {
      "cell_type": "code",
      "metadata": {
        "id": "120c35c7"
      },
      "source": [
        "#Imports"
      ],
      "id": "120c35c7",
      "execution_count": null,
      "outputs": []
    },
    {
      "cell_type": "code",
      "metadata": {
        "id": "664015cb"
      },
      "source": [
        "import numpy as np\n",
        "import pandas as pd\n",
        "import matplotlib.pyplot as plt\n",
        "import seaborn as sns\n",
        "from collections import namedtuple"
      ],
      "id": "664015cb",
      "execution_count": null,
      "outputs": []
    },
    {
      "cell_type": "markdown",
      "metadata": {
        "id": "5253d858"
      },
      "source": [
        "\n",
        "# Get data (file : valeursfoncieres-2020 )"
      ],
      "id": "5253d858"
    },
    {
      "cell_type": "code",
      "metadata": {
        "colab": {
          "base_uri": "https://localhost:8080/"
        },
        "id": "9bL9HWymNFgU",
        "outputId": "2e736cde-80d2-4c80-bb50-408e719a269c"
      },
      "source": [
        "def get_data(url):\n",
        "  df = pd.read_csv(url, low_memory=False)\n",
        "  print(\"data.shape : \", df.shape)\n",
        "  return df\n",
        "\n",
        "url = 'https://files.data.gouv.fr/geo-dvf/latest/csv/2020/full.csv.gz'\n",
        "df = get_data(url)\n",
        "data = df.copy()"
      ],
      "id": "9bL9HWymNFgU",
      "execution_count": null,
      "outputs": [
        {
          "output_type": "stream",
          "text": [
            "data.shape :  (2459560, 40)\n"
          ],
          "name": "stdout"
        }
      ]
    },
    {
      "cell_type": "code",
      "metadata": {
        "colab": {
          "base_uri": "https://localhost:8080/",
          "height": 148
        },
        "id": "j4LOI-clUEfY",
        "outputId": "abadc5ef-f268-4a63-e10b-0a56055d8815"
      },
      "source": [
        " data.head(2)\n"
      ],
      "id": "j4LOI-clUEfY",
      "execution_count": null,
      "outputs": [
        {
          "output_type": "execute_result",
          "data": {
            "text/html": [
              "<div>\n",
              "<style scoped>\n",
              "    .dataframe tbody tr th:only-of-type {\n",
              "        vertical-align: middle;\n",
              "    }\n",
              "\n",
              "    .dataframe tbody tr th {\n",
              "        vertical-align: top;\n",
              "    }\n",
              "\n",
              "    .dataframe thead th {\n",
              "        text-align: right;\n",
              "    }\n",
              "</style>\n",
              "<table border=\"1\" class=\"dataframe\">\n",
              "  <thead>\n",
              "    <tr style=\"text-align: right;\">\n",
              "      <th></th>\n",
              "      <th>id_mutation</th>\n",
              "      <th>date_mutation</th>\n",
              "      <th>numero_disposition</th>\n",
              "      <th>nature_mutation</th>\n",
              "      <th>valeur_fonciere</th>\n",
              "      <th>adresse_numero</th>\n",
              "      <th>adresse_suffixe</th>\n",
              "      <th>adresse_nom_voie</th>\n",
              "      <th>adresse_code_voie</th>\n",
              "      <th>code_postal</th>\n",
              "      <th>code_commune</th>\n",
              "      <th>nom_commune</th>\n",
              "      <th>code_departement</th>\n",
              "      <th>ancien_code_commune</th>\n",
              "      <th>ancien_nom_commune</th>\n",
              "      <th>id_parcelle</th>\n",
              "      <th>ancien_id_parcelle</th>\n",
              "      <th>numero_volume</th>\n",
              "      <th>lot1_numero</th>\n",
              "      <th>lot1_surface_carrez</th>\n",
              "      <th>lot2_numero</th>\n",
              "      <th>lot2_surface_carrez</th>\n",
              "      <th>lot3_numero</th>\n",
              "      <th>lot3_surface_carrez</th>\n",
              "      <th>lot4_numero</th>\n",
              "      <th>lot4_surface_carrez</th>\n",
              "      <th>lot5_numero</th>\n",
              "      <th>lot5_surface_carrez</th>\n",
              "      <th>nombre_lots</th>\n",
              "      <th>code_type_local</th>\n",
              "      <th>type_local</th>\n",
              "      <th>surface_reelle_bati</th>\n",
              "      <th>nombre_pieces_principales</th>\n",
              "      <th>code_nature_culture</th>\n",
              "      <th>nature_culture</th>\n",
              "      <th>code_nature_culture_speciale</th>\n",
              "      <th>nature_culture_speciale</th>\n",
              "      <th>surface_terrain</th>\n",
              "      <th>longitude</th>\n",
              "      <th>latitude</th>\n",
              "    </tr>\n",
              "  </thead>\n",
              "  <tbody>\n",
              "    <tr>\n",
              "      <th>0</th>\n",
              "      <td>2020-1</td>\n",
              "      <td>2020-01-07</td>\n",
              "      <td>1</td>\n",
              "      <td>Vente</td>\n",
              "      <td>8000.0</td>\n",
              "      <td>NaN</td>\n",
              "      <td>NaN</td>\n",
              "      <td>FORTUNAT</td>\n",
              "      <td>B063</td>\n",
              "      <td>1250.0</td>\n",
              "      <td>01072</td>\n",
              "      <td>Ceyzériat</td>\n",
              "      <td>01</td>\n",
              "      <td>NaN</td>\n",
              "      <td>NaN</td>\n",
              "      <td>01072000AK0216</td>\n",
              "      <td>NaN</td>\n",
              "      <td>NaN</td>\n",
              "      <td>NaN</td>\n",
              "      <td>NaN</td>\n",
              "      <td>NaN</td>\n",
              "      <td>NaN</td>\n",
              "      <td>NaN</td>\n",
              "      <td>NaN</td>\n",
              "      <td>NaN</td>\n",
              "      <td>NaN</td>\n",
              "      <td>NaN</td>\n",
              "      <td>NaN</td>\n",
              "      <td>0</td>\n",
              "      <td>NaN</td>\n",
              "      <td>NaN</td>\n",
              "      <td>NaN</td>\n",
              "      <td>NaN</td>\n",
              "      <td>T</td>\n",
              "      <td>terres</td>\n",
              "      <td>NaN</td>\n",
              "      <td>NaN</td>\n",
              "      <td>1061.0</td>\n",
              "      <td>5.323540</td>\n",
              "      <td>46.171919</td>\n",
              "    </tr>\n",
              "    <tr>\n",
              "      <th>1</th>\n",
              "      <td>2020-2</td>\n",
              "      <td>2020-01-02</td>\n",
              "      <td>1</td>\n",
              "      <td>Vente</td>\n",
              "      <td>2175.0</td>\n",
              "      <td>NaN</td>\n",
              "      <td>NaN</td>\n",
              "      <td>TERRES DES CINQ SAULES</td>\n",
              "      <td>B124</td>\n",
              "      <td>1290.0</td>\n",
              "      <td>01203</td>\n",
              "      <td>Laiz</td>\n",
              "      <td>01</td>\n",
              "      <td>NaN</td>\n",
              "      <td>NaN</td>\n",
              "      <td>012030000B0004</td>\n",
              "      <td>NaN</td>\n",
              "      <td>NaN</td>\n",
              "      <td>NaN</td>\n",
              "      <td>NaN</td>\n",
              "      <td>NaN</td>\n",
              "      <td>NaN</td>\n",
              "      <td>NaN</td>\n",
              "      <td>NaN</td>\n",
              "      <td>NaN</td>\n",
              "      <td>NaN</td>\n",
              "      <td>NaN</td>\n",
              "      <td>NaN</td>\n",
              "      <td>0</td>\n",
              "      <td>NaN</td>\n",
              "      <td>NaN</td>\n",
              "      <td>NaN</td>\n",
              "      <td>NaN</td>\n",
              "      <td>BT</td>\n",
              "      <td>taillis simples</td>\n",
              "      <td>NaN</td>\n",
              "      <td>NaN</td>\n",
              "      <td>85.0</td>\n",
              "      <td>4.893436</td>\n",
              "      <td>46.251868</td>\n",
              "    </tr>\n",
              "  </tbody>\n",
              "</table>\n",
              "</div>"
            ],
            "text/plain": [
              "  id_mutation date_mutation  ...  longitude   latitude\n",
              "0      2020-1    2020-01-07  ...   5.323540  46.171919\n",
              "1      2020-2    2020-01-02  ...   4.893436  46.251868\n",
              "\n",
              "[2 rows x 40 columns]"
            ]
          },
          "metadata": {},
          "execution_count": 14
        }
      ]
    },
    {
      "cell_type": "code",
      "metadata": {
        "colab": {
          "base_uri": "https://localhost:8080/",
          "height": 100
        },
        "id": "gY6yAKg-RB0q",
        "outputId": "8ac8682e-59f8-4285-e1e6-a646a60c845e"
      },
      "source": [
        "def get_features_mean(df):\n",
        "  return pd.DataFrame(df.describe().loc['mean', :]).T\n",
        "\n",
        "get_features_mean(data)"
      ],
      "id": "gY6yAKg-RB0q",
      "execution_count": null,
      "outputs": [
        {
          "output_type": "execute_result",
          "data": {
            "text/html": [
              "<div>\n",
              "<style scoped>\n",
              "    .dataframe tbody tr th:only-of-type {\n",
              "        vertical-align: middle;\n",
              "    }\n",
              "\n",
              "    .dataframe tbody tr th {\n",
              "        vertical-align: top;\n",
              "    }\n",
              "\n",
              "    .dataframe thead th {\n",
              "        text-align: right;\n",
              "    }\n",
              "</style>\n",
              "<table border=\"1\" class=\"dataframe\">\n",
              "  <thead>\n",
              "    <tr style=\"text-align: right;\">\n",
              "      <th></th>\n",
              "      <th>numero_disposition</th>\n",
              "      <th>valeur_fonciere</th>\n",
              "      <th>adresse_numero</th>\n",
              "      <th>code_postal</th>\n",
              "      <th>ancien_code_commune</th>\n",
              "      <th>lot1_surface_carrez</th>\n",
              "      <th>lot2_surface_carrez</th>\n",
              "      <th>lot3_surface_carrez</th>\n",
              "      <th>lot4_numero</th>\n",
              "      <th>lot4_surface_carrez</th>\n",
              "      <th>lot5_numero</th>\n",
              "      <th>lot5_surface_carrez</th>\n",
              "      <th>nombre_lots</th>\n",
              "      <th>code_type_local</th>\n",
              "      <th>surface_reelle_bati</th>\n",
              "      <th>nombre_pieces_principales</th>\n",
              "      <th>surface_terrain</th>\n",
              "      <th>longitude</th>\n",
              "      <th>latitude</th>\n",
              "    </tr>\n",
              "  </thead>\n",
              "  <tbody>\n",
              "    <tr>\n",
              "      <th>mean</th>\n",
              "      <td>1.075359</td>\n",
              "      <td>751173.518471</td>\n",
              "      <td>697.708337</td>\n",
              "      <td>51783.628718</td>\n",
              "      <td>49382.0</td>\n",
              "      <td>62.174993</td>\n",
              "      <td>64.32041</td>\n",
              "      <td>77.257879</td>\n",
              "      <td>115.153181</td>\n",
              "      <td>94.285298</td>\n",
              "      <td>129.230268</td>\n",
              "      <td>104.524725</td>\n",
              "      <td>0.39146</td>\n",
              "      <td>1.957431</td>\n",
              "      <td>115.052354</td>\n",
              "      <td>2.501026</td>\n",
              "      <td>2862.548819</td>\n",
              "      <td>2.036065</td>\n",
              "      <td>46.659174</td>\n",
              "    </tr>\n",
              "  </tbody>\n",
              "</table>\n",
              "</div>"
            ],
            "text/plain": [
              "      numero_disposition  valeur_fonciere  ...  longitude   latitude\n",
              "mean            1.075359    751173.518471  ...   2.036065  46.659174\n",
              "\n",
              "[1 rows x 19 columns]"
            ]
          },
          "metadata": {},
          "execution_count": 15
        }
      ]
    },
    {
      "cell_type": "code",
      "metadata": {
        "colab": {
          "base_uri": "https://localhost:8080/"
        },
        "id": "LEemPl65NqvG",
        "outputId": "e43a218f-3e19-42ff-b6c7-00b8e743699a"
      },
      "source": [
        "def get_data_informations(df):\n",
        "  dict_ = {'shap' : df.shape, '': '', 'describ': df.describe(), 'infos': df.info()}\n",
        "  return dict_\n",
        "\n",
        "properties = get_data_informations(df = data)\n",
        "properties.keys()"
      ],
      "id": "LEemPl65NqvG",
      "execution_count": null,
      "outputs": [
        {
          "output_type": "stream",
          "text": [
            "<class 'pandas.core.frame.DataFrame'>\n",
            "RangeIndex: 2459560 entries, 0 to 2459559\n",
            "Data columns (total 40 columns):\n",
            " #   Column                        Dtype  \n",
            "---  ------                        -----  \n",
            " 0   id_mutation                   object \n",
            " 1   date_mutation                 object \n",
            " 2   numero_disposition            int64  \n",
            " 3   nature_mutation               object \n",
            " 4   valeur_fonciere               float64\n",
            " 5   adresse_numero                float64\n",
            " 6   adresse_suffixe               object \n",
            " 7   adresse_nom_voie              object \n",
            " 8   adresse_code_voie             object \n",
            " 9   code_postal                   float64\n",
            " 10  code_commune                  object \n",
            " 11  nom_commune                   object \n",
            " 12  code_departement              object \n",
            " 13  ancien_code_commune           float64\n",
            " 14  ancien_nom_commune            object \n",
            " 15  id_parcelle                   object \n",
            " 16  ancien_id_parcelle            object \n",
            " 17  numero_volume                 object \n",
            " 18  lot1_numero                   object \n",
            " 19  lot1_surface_carrez           float64\n",
            " 20  lot2_numero                   object \n",
            " 21  lot2_surface_carrez           float64\n",
            " 22  lot3_numero                   object \n",
            " 23  lot3_surface_carrez           float64\n",
            " 24  lot4_numero                   float64\n",
            " 25  lot4_surface_carrez           float64\n",
            " 26  lot5_numero                   float64\n",
            " 27  lot5_surface_carrez           float64\n",
            " 28  nombre_lots                   int64  \n",
            " 29  code_type_local               float64\n",
            " 30  type_local                    object \n",
            " 31  surface_reelle_bati           float64\n",
            " 32  nombre_pieces_principales     float64\n",
            " 33  code_nature_culture           object \n",
            " 34  nature_culture                object \n",
            " 35  code_nature_culture_speciale  object \n",
            " 36  nature_culture_speciale       object \n",
            " 37  surface_terrain               float64\n",
            " 38  longitude                     float64\n",
            " 39  latitude                      float64\n",
            "dtypes: float64(17), int64(2), object(21)\n",
            "memory usage: 750.6+ MB\n"
          ],
          "name": "stdout"
        },
        {
          "output_type": "execute_result",
          "data": {
            "text/plain": [
              "dict_keys(['shap', '', 'describ', 'infos'])"
            ]
          },
          "metadata": {},
          "execution_count": 37
        }
      ]
    },
    {
      "cell_type": "markdown",
      "metadata": {
        "id": "bebdccd5"
      },
      "source": [
        "# Inspect features"
      ],
      "id": "bebdccd5"
    },
    {
      "cell_type": "code",
      "metadata": {
        "colab": {
          "base_uri": "https://localhost:8080/"
        },
        "id": "0396fe1c",
        "outputId": "aaef071c-a5a6-4142-a200-8541826955bf"
      },
      "source": [
        "def get_data_columns(df):\n",
        "  L = np.array(list(df.columns)).T\n",
        "  return L\n",
        "cols = get_data_columns(df = data)\n",
        "cols"
      ],
      "id": "0396fe1c",
      "execution_count": null,
      "outputs": [
        {
          "output_type": "execute_result",
          "data": {
            "text/plain": [
              "array(['id_mutation', 'date_mutation', 'numero_disposition',\n",
              "       'nature_mutation', 'valeur_fonciere', 'adresse_numero',\n",
              "       'adresse_suffixe', 'adresse_nom_voie', 'adresse_code_voie',\n",
              "       'code_postal', 'code_commune', 'nom_commune', 'code_departement',\n",
              "       'ancien_code_commune', 'ancien_nom_commune', 'id_parcelle',\n",
              "       'ancien_id_parcelle', 'numero_volume', 'lot1_numero',\n",
              "       'lot1_surface_carrez', 'lot2_numero', 'lot2_surface_carrez',\n",
              "       'lot3_numero', 'lot3_surface_carrez', 'lot4_numero',\n",
              "       'lot4_surface_carrez', 'lot5_numero', 'lot5_surface_carrez',\n",
              "       'nombre_lots', 'code_type_local', 'type_local',\n",
              "       'surface_reelle_bati', 'nombre_pieces_principales',\n",
              "       'code_nature_culture', 'nature_culture',\n",
              "       'code_nature_culture_speciale', 'nature_culture_speciale',\n",
              "       'surface_terrain', 'longitude', 'latitude'], dtype='<U28')"
            ]
          },
          "metadata": {},
          "execution_count": 38
        }
      ]
    },
    {
      "cell_type": "markdown",
      "metadata": {
        "id": "79c7372e"
      },
      "source": [
        "## Data dtypes"
      ],
      "id": "79c7372e"
    },
    {
      "cell_type": "code",
      "metadata": {
        "colab": {
          "base_uri": "https://localhost:8080/"
        },
        "id": "7d556f34",
        "outputId": "006b9259-7f83-46d5-f565-af26238e89b3"
      },
      "source": [
        "data.dtypes.unique()"
      ],
      "id": "7d556f34",
      "execution_count": null,
      "outputs": [
        {
          "output_type": "execute_result",
          "data": {
            "text/plain": [
              "array([dtype('O'), dtype('int64'), dtype('float64')], dtype=object)"
            ]
          },
          "metadata": {},
          "execution_count": 39
        }
      ]
    },
    {
      "cell_type": "markdown",
      "metadata": {
        "id": "d7c63481"
      },
      "source": [
        "### float64"
      ],
      "id": "d7c63481"
    },
    {
      "cell_type": "code",
      "metadata": {
        "colab": {
          "base_uri": "https://localhost:8080/"
        },
        "id": "22ic2sDnVm78",
        "outputId": "7525d31f-b641-4a3a-8dc3-63897c392b24"
      },
      "source": [
        "def get_float_columns(df):\n",
        "  list_floats = list(df.select_dtypes(include=['float64']).columns)\n",
        "  return list_floats\n",
        "\n",
        "list_floats = get_float_columns(df = data)\n",
        "print(len(list_floats))"
      ],
      "id": "22ic2sDnVm78",
      "execution_count": null,
      "outputs": [
        {
          "output_type": "stream",
          "text": [
            "17\n"
          ],
          "name": "stdout"
        }
      ]
    },
    {
      "cell_type": "code",
      "metadata": {
        "colab": {
          "base_uri": "https://localhost:8080/"
        },
        "id": "f177bb20",
        "outputId": "9314bf03-1740-45e0-eb6e-55917b174f1e"
      },
      "source": [
        "np.array(list_floats)"
      ],
      "id": "f177bb20",
      "execution_count": null,
      "outputs": [
        {
          "output_type": "execute_result",
          "data": {
            "text/plain": [
              "array(['valeur_fonciere', 'adresse_numero', 'code_postal',\n",
              "       'ancien_code_commune', 'lot1_surface_carrez',\n",
              "       'lot2_surface_carrez', 'lot3_surface_carrez', 'lot4_numero',\n",
              "       'lot4_surface_carrez', 'lot5_numero', 'lot5_surface_carrez',\n",
              "       'code_type_local', 'surface_reelle_bati',\n",
              "       'nombre_pieces_principales', 'surface_terrain', 'longitude',\n",
              "       'latitude'], dtype='<U25')"
            ]
          },
          "metadata": {},
          "execution_count": 41
        }
      ]
    },
    {
      "cell_type": "markdown",
      "metadata": {
        "id": "1e089d8b"
      },
      "source": [
        "### int64"
      ],
      "id": "1e089d8b"
    },
    {
      "cell_type": "code",
      "metadata": {
        "colab": {
          "base_uri": "https://localhost:8080/"
        },
        "id": "36b718e2",
        "outputId": "c2b093f0-5078-4d0a-f1a4-0b0dc5284a8c"
      },
      "source": [
        "def get_int_columns(df):\n",
        "  list_int = list(df.select_dtypes(include=['int64']).columns)\n",
        "  return list_int\n",
        "\n",
        "list_int = get_int_columns(df = data)\n",
        "print(len(list_int))\n",
        "np.array(list_int)"
      ],
      "id": "36b718e2",
      "execution_count": null,
      "outputs": [
        {
          "output_type": "stream",
          "text": [
            "2\n"
          ],
          "name": "stdout"
        },
        {
          "output_type": "execute_result",
          "data": {
            "text/plain": [
              "array(['numero_disposition', 'nombre_lots'], dtype='<U18')"
            ]
          },
          "metadata": {},
          "execution_count": 42
        }
      ]
    },
    {
      "cell_type": "markdown",
      "metadata": {
        "id": "ea3484b2"
      },
      "source": [
        "### Object"
      ],
      "id": "ea3484b2"
    },
    {
      "cell_type": "code",
      "metadata": {
        "colab": {
          "base_uri": "https://localhost:8080/"
        },
        "id": "9de3e03f",
        "outputId": "f2570621-ec5d-4727-815a-addc8656f08e"
      },
      "source": [
        "def get_object_columns(df):\n",
        "  list_objects = list(df.select_dtypes(include=['O']).columns)\n",
        "  return list_objects\n",
        "\n",
        "list_objects = get_object_columns(df = data)\n",
        "print(len(list_objects))\n",
        "np.array(list_objects)"
      ],
      "id": "9de3e03f",
      "execution_count": null,
      "outputs": [
        {
          "output_type": "stream",
          "text": [
            "21\n"
          ],
          "name": "stdout"
        },
        {
          "output_type": "execute_result",
          "data": {
            "text/plain": [
              "array(['id_mutation', 'date_mutation', 'nature_mutation',\n",
              "       'adresse_suffixe', 'adresse_nom_voie', 'adresse_code_voie',\n",
              "       'code_commune', 'nom_commune', 'code_departement',\n",
              "       'ancien_nom_commune', 'id_parcelle', 'ancien_id_parcelle',\n",
              "       'numero_volume', 'lot1_numero', 'lot2_numero', 'lot3_numero',\n",
              "       'type_local', 'code_nature_culture', 'nature_culture',\n",
              "       'code_nature_culture_speciale', 'nature_culture_speciale'],\n",
              "      dtype='<U28')"
            ]
          },
          "metadata": {},
          "execution_count": 43
        }
      ]
    },
    {
      "cell_type": "markdown",
      "metadata": {
        "id": "FgWbSBEAc0nb"
      },
      "source": [
        "\n",
        "## Visualizing dtypes\n",
        "---\n",
        "\n"
      ],
      "id": "FgWbSBEAc0nb"
    },
    {
      "cell_type": "code",
      "metadata": {
        "colab": {
          "base_uri": "https://localhost:8080/",
          "height": 80
        },
        "id": "JHkidJVHaFBD",
        "outputId": "2822ff86-989b-4675-8c83-de7210eb8eb8"
      },
      "source": [
        "dic = {'Objects': len(list_objects), 'float': len(list_floats), 'int': len(list_int)}\n",
        "pd.DataFrame(dic, index=[0])"
      ],
      "id": "JHkidJVHaFBD",
      "execution_count": null,
      "outputs": [
        {
          "output_type": "execute_result",
          "data": {
            "text/html": [
              "<div>\n",
              "<style scoped>\n",
              "    .dataframe tbody tr th:only-of-type {\n",
              "        vertical-align: middle;\n",
              "    }\n",
              "\n",
              "    .dataframe tbody tr th {\n",
              "        vertical-align: top;\n",
              "    }\n",
              "\n",
              "    .dataframe thead th {\n",
              "        text-align: right;\n",
              "    }\n",
              "</style>\n",
              "<table border=\"1\" class=\"dataframe\">\n",
              "  <thead>\n",
              "    <tr style=\"text-align: right;\">\n",
              "      <th></th>\n",
              "      <th>Objects</th>\n",
              "      <th>float</th>\n",
              "      <th>int</th>\n",
              "    </tr>\n",
              "  </thead>\n",
              "  <tbody>\n",
              "    <tr>\n",
              "      <th>0</th>\n",
              "      <td>21</td>\n",
              "      <td>17</td>\n",
              "      <td>2</td>\n",
              "    </tr>\n",
              "  </tbody>\n",
              "</table>\n",
              "</div>"
            ],
            "text/plain": [
              "   Objects  float  int\n",
              "0       21     17    2"
            ]
          },
          "metadata": {},
          "execution_count": 44
        }
      ]
    },
    {
      "cell_type": "code",
      "metadata": {
        "colab": {
          "base_uri": "https://localhost:8080/",
          "height": 282
        },
        "id": "u3aiulombhEQ",
        "outputId": "6abd5d63-0a37-4190-b1cf-f6fb3243d0b0"
      },
      "source": [
        "pd.DataFrame(dic, index=[0]).plot(kind='bar', rot=0)"
      ],
      "id": "u3aiulombhEQ",
      "execution_count": null,
      "outputs": [
        {
          "output_type": "execute_result",
          "data": {
            "text/plain": [
              "<matplotlib.axes._subplots.AxesSubplot at 0x7f8e683d4d10>"
            ]
          },
          "metadata": {},
          "execution_count": 45
        },
        {
          "output_type": "display_data",
          "data": {
            "image/png": "[encoded data removed]",
            "text/plain": [
              "<Figure size 432x288 with 1 Axes>"
            ]
          },
          "metadata": {
            "needs_background": "light"
          }
        }
      ]
    },
    {
      "cell_type": "code",
      "metadata": {
        "colab": {
          "base_uri": "https://localhost:8080/",
          "height": 279
        },
        "id": "iBPXW-vkW5VT",
        "outputId": "1a3de79e-a057-4c60-9ee6-e469c6341c30"
      },
      "source": [
        "def visualize_feature_types(df):\n",
        "  list_floats = get_float_columns(df)\n",
        "  list_objects = get_object_columns(df)\n",
        "  list_int = get_int_columns(df)\n",
        "\n",
        "  dx = pd.DataFrame({'lab':['Object','int64', 'float64'], 'count':[len(list_objects), len(list_floats), len(list_int)]})\n",
        "  dx.plot.bar(x='lab', y='count', rot=0, color=plt.cm.Paired(np.arange(3)));\n",
        "\n",
        "\n",
        "visualize_feature_types(df = data)\n"
      ],
      "id": "iBPXW-vkW5VT",
      "execution_count": null,
      "outputs": [
        {
          "output_type": "display_data",
          "data": {
            "image/png": "[encoded data removed]",
            "text/plain": [
              "<Figure size 432x288 with 1 Axes>"
            ]
          },
          "metadata": {
            "needs_background": "light"
          }
        }
      ]
    },
    {
      "cell_type": "markdown",
      "metadata": {
        "id": "1RoVTk7deWkO"
      },
      "source": [
        "## Type_local"
      ],
      "id": "1RoVTk7deWkO"
    },
    {
      "cell_type": "code",
      "metadata": {
        "colab": {
          "base_uri": "https://localhost:8080/"
        },
        "id": "pLyEEHHCsVfi",
        "outputId": "a74d86fd-25e3-466d-a977-2bf3a0746d33"
      },
      "source": [
        "data['type_local'].value_counts()"
      ],
      "id": "pLyEEHHCsVfi",
      "execution_count": null,
      "outputs": [
        {
          "output_type": "execute_result",
          "data": {
            "text/plain": [
              "Maison                                      528257\n",
              "Appartement                                 402271\n",
              "Dépendance                                  298369\n",
              "Local industriel. commercial ou assimilé     86937\n",
              "Name: type_local, dtype: int64"
            ]
          },
          "metadata": {},
          "execution_count": 47
        }
      ]
    },
    {
      "cell_type": "markdown",
      "metadata": {
        "id": "CnnMIwX1g3zb"
      },
      "source": [
        "### Visualizing type_local Before cleaning data"
      ],
      "id": "CnnMIwX1g3zb"
    },
    {
      "cell_type": "code",
      "metadata": {
        "colab": {
          "base_uri": "https://localhost:8080/",
          "height": 429
        },
        "id": "eTKWTdvJemtI",
        "outputId": "75d23633-8e74-4268-973e-26cf5ce2ba2b"
      },
      "source": [
        "def visualize_type_local(df):\n",
        "  fig, ax = plt.subplots(figsize = (10,6))\n",
        "\n",
        "  sns.countplot(y = 'type_local', data = df, order = df['type_local'].value_counts().index)\n",
        "  plt.ylabel('Local type', size = 18, color='red')\n",
        "  ax.xaxis.set_ticks_position('top')\n",
        "  ax.set_xlabel('')   \n",
        "  plt.title(' Distribution', size = 15, weight=600, pad = 60, loc = 'left')\n",
        "\n",
        "  plt.show();\n",
        "\n",
        "visualize_type_local(df = data)"
      ],
      "id": "eTKWTdvJemtI",
      "execution_count": null,
      "outputs": [
        {
          "output_type": "display_data",
          "data": {
            "image/png": "[encoded data removed]",
            "text/plain": [
              "<Figure size 720x432 with 1 Axes>"
            ]
          },
          "metadata": {
            "needs_background": "light"
          }
        }
      ]
    },
    {
      "cell_type": "code",
      "metadata": {
        "colab": {
          "base_uri": "https://localhost:8080/",
          "height": 442
        },
        "id": "s865M8EDievm",
        "outputId": "449a5f37-8bc2-4b6f-adbd-2c6b5b7b3d59"
      },
      "source": [
        "def visualize_type_local_fillna(df):\n",
        "  fig, ax = plt.subplots(figsize = (10,6))\n",
        "\n",
        "  df['type_local'] = df['type_local'].fillna(False)\n",
        "\n",
        "  sns.countplot(y = 'type_local', data = df, order = df['type_local'].value_counts().index)\n",
        "  plt.ylabel('Local type', size = 18, color='red')\n",
        "  ax.xaxis.set_ticks_position('top')\n",
        "  ax.set_xlabel('')   \n",
        "  plt.title(' Distribution', size = 15, weight=600, pad = 60, loc = 'left')\n",
        "\n",
        "  plt.show();\n",
        "\n",
        "visualize_type_local_fillna(df = data)\n"
      ],
      "id": "s865M8EDievm",
      "execution_count": null,
      "outputs": [
        {
          "output_type": "display_data",
          "data": {
            "image/png": "[encoded data removed]",
            "text/plain": [
              "<Figure size 720x432 with 1 Axes>"
            ]
          },
          "metadata": {
            "needs_background": "light"
          }
        }
      ]
    },
    {
      "cell_type": "markdown",
      "metadata": {
        "id": "bgbVO8xXhIqQ"
      },
      "source": [
        "### Getting industrial local_type"
      ],
      "id": "bgbVO8xXhIqQ"
    },
    {
      "cell_type": "code",
      "metadata": {
        "colab": {
          "base_uri": "https://localhost:8080/",
          "height": 233
        },
        "id": "yXRdZuXSgEzK",
        "outputId": "16083b9a-b205-4b9a-a9c9-6ce8f549e4f3"
      },
      "source": [
        "def get_one_local_type(df, string):# df : dataframe && string :value of df['type_local']\n",
        "  data = df[df['type_local'] == string]\n",
        "  return data\n",
        "industrial_data = get_one_local_type(df = data, string = 'Local industriel. commercial ou assimilé')\n",
        "industrial_data.head(2)"
      ],
      "id": "yXRdZuXSgEzK",
      "execution_count": null,
      "outputs": [
        {
          "output_type": "execute_result",
          "data": {
            "text/html": [
              "<div>\n",
              "<style scoped>\n",
              "    .dataframe tbody tr th:only-of-type {\n",
              "        vertical-align: middle;\n",
              "    }\n",
              "\n",
              "    .dataframe tbody tr th {\n",
              "        vertical-align: top;\n",
              "    }\n",
              "\n",
              "    .dataframe thead th {\n",
              "        text-align: right;\n",
              "    }\n",
              "</style>\n",
              "<table border=\"1\" class=\"dataframe\">\n",
              "  <thead>\n",
              "    <tr style=\"text-align: right;\">\n",
              "      <th></th>\n",
              "      <th>id_mutation</th>\n",
              "      <th>date_mutation</th>\n",
              "      <th>numero_disposition</th>\n",
              "      <th>nature_mutation</th>\n",
              "      <th>valeur_fonciere</th>\n",
              "      <th>adresse_numero</th>\n",
              "      <th>adresse_suffixe</th>\n",
              "      <th>adresse_nom_voie</th>\n",
              "      <th>adresse_code_voie</th>\n",
              "      <th>code_postal</th>\n",
              "      <th>code_commune</th>\n",
              "      <th>nom_commune</th>\n",
              "      <th>code_departement</th>\n",
              "      <th>ancien_code_commune</th>\n",
              "      <th>ancien_nom_commune</th>\n",
              "      <th>id_parcelle</th>\n",
              "      <th>ancien_id_parcelle</th>\n",
              "      <th>numero_volume</th>\n",
              "      <th>lot1_numero</th>\n",
              "      <th>lot1_surface_carrez</th>\n",
              "      <th>lot2_numero</th>\n",
              "      <th>lot2_surface_carrez</th>\n",
              "      <th>lot3_numero</th>\n",
              "      <th>lot3_surface_carrez</th>\n",
              "      <th>lot4_numero</th>\n",
              "      <th>lot4_surface_carrez</th>\n",
              "      <th>lot5_numero</th>\n",
              "      <th>lot5_surface_carrez</th>\n",
              "      <th>nombre_lots</th>\n",
              "      <th>code_type_local</th>\n",
              "      <th>type_local</th>\n",
              "      <th>surface_reelle_bati</th>\n",
              "      <th>nombre_pieces_principales</th>\n",
              "      <th>code_nature_culture</th>\n",
              "      <th>nature_culture</th>\n",
              "      <th>code_nature_culture_speciale</th>\n",
              "      <th>nature_culture_speciale</th>\n",
              "      <th>surface_terrain</th>\n",
              "      <th>longitude</th>\n",
              "      <th>latitude</th>\n",
              "    </tr>\n",
              "  </thead>\n",
              "  <tbody>\n",
              "    <tr>\n",
              "      <th>90</th>\n",
              "      <td>2020-42</td>\n",
              "      <td>2020-01-13</td>\n",
              "      <td>1</td>\n",
              "      <td>Vente</td>\n",
              "      <td>135000.0</td>\n",
              "      <td>300.0</td>\n",
              "      <td>NaN</td>\n",
              "      <td>RTE DE PONT D AIN</td>\n",
              "      <td>0001</td>\n",
              "      <td>1160.0</td>\n",
              "      <td>01273</td>\n",
              "      <td>Neuville-sur-Ain</td>\n",
              "      <td>01</td>\n",
              "      <td>NaN</td>\n",
              "      <td>NaN</td>\n",
              "      <td>012730000E1770</td>\n",
              "      <td>NaN</td>\n",
              "      <td>NaN</td>\n",
              "      <td>NaN</td>\n",
              "      <td>NaN</td>\n",
              "      <td>NaN</td>\n",
              "      <td>NaN</td>\n",
              "      <td>NaN</td>\n",
              "      <td>NaN</td>\n",
              "      <td>NaN</td>\n",
              "      <td>NaN</td>\n",
              "      <td>NaN</td>\n",
              "      <td>NaN</td>\n",
              "      <td>0</td>\n",
              "      <td>4.0</td>\n",
              "      <td>Local industriel. commercial ou assimilé</td>\n",
              "      <td>401.0</td>\n",
              "      <td>0.0</td>\n",
              "      <td>S</td>\n",
              "      <td>sols</td>\n",
              "      <td>NaN</td>\n",
              "      <td>NaN</td>\n",
              "      <td>833.0</td>\n",
              "      <td>5.374276</td>\n",
              "      <td>46.071405</td>\n",
              "    </tr>\n",
              "    <tr>\n",
              "      <th>166</th>\n",
              "      <td>2020-72</td>\n",
              "      <td>2020-01-20</td>\n",
              "      <td>1</td>\n",
              "      <td>Vente</td>\n",
              "      <td>299000.0</td>\n",
              "      <td>32.0</td>\n",
              "      <td>NaN</td>\n",
              "      <td>RUE MAL FOCH</td>\n",
              "      <td>2520</td>\n",
              "      <td>1000.0</td>\n",
              "      <td>01053</td>\n",
              "      <td>Bourg-en-Bresse</td>\n",
              "      <td>01</td>\n",
              "      <td>NaN</td>\n",
              "      <td>NaN</td>\n",
              "      <td>01053000AD0186</td>\n",
              "      <td>NaN</td>\n",
              "      <td>NaN</td>\n",
              "      <td>NaN</td>\n",
              "      <td>NaN</td>\n",
              "      <td>NaN</td>\n",
              "      <td>NaN</td>\n",
              "      <td>NaN</td>\n",
              "      <td>NaN</td>\n",
              "      <td>NaN</td>\n",
              "      <td>NaN</td>\n",
              "      <td>NaN</td>\n",
              "      <td>NaN</td>\n",
              "      <td>0</td>\n",
              "      <td>4.0</td>\n",
              "      <td>Local industriel. commercial ou assimilé</td>\n",
              "      <td>250.0</td>\n",
              "      <td>0.0</td>\n",
              "      <td>S</td>\n",
              "      <td>sols</td>\n",
              "      <td>NaN</td>\n",
              "      <td>NaN</td>\n",
              "      <td>216.0</td>\n",
              "      <td>5.228472</td>\n",
              "      <td>46.205324</td>\n",
              "    </tr>\n",
              "  </tbody>\n",
              "</table>\n",
              "</div>"
            ],
            "text/plain": [
              "    id_mutation date_mutation  ...  longitude   latitude\n",
              "90      2020-42    2020-01-13  ...   5.374276  46.071405\n",
              "166     2020-72    2020-01-20  ...   5.228472  46.205324\n",
              "\n",
              "[2 rows x 40 columns]"
            ]
          },
          "metadata": {},
          "execution_count": 90
        }
      ]
    },
    {
      "cell_type": "code",
      "metadata": {
        "colab": {
          "base_uri": "https://localhost:8080/",
          "height": 165
        },
        "id": "3TGWdQJ_m4sp",
        "outputId": "17ce1ea4-3b2c-4a37-c0e7-3c97d57fb006"
      },
      "source": [
        "dependance_data = get_one_local_type(df = data, string = 'Dépendance')\n",
        "dependance_data.head(2)"
      ],
      "id": "3TGWdQJ_m4sp",
      "execution_count": null,
      "outputs": [
        {
          "output_type": "execute_result",
          "data": {
            "text/html": [
              "<div>\n",
              "<style scoped>\n",
              "    .dataframe tbody tr th:only-of-type {\n",
              "        vertical-align: middle;\n",
              "    }\n",
              "\n",
              "    .dataframe tbody tr th {\n",
              "        vertical-align: top;\n",
              "    }\n",
              "\n",
              "    .dataframe thead th {\n",
              "        text-align: right;\n",
              "    }\n",
              "</style>\n",
              "<table border=\"1\" class=\"dataframe\">\n",
              "  <thead>\n",
              "    <tr style=\"text-align: right;\">\n",
              "      <th></th>\n",
              "      <th>id_mutation</th>\n",
              "      <th>date_mutation</th>\n",
              "      <th>numero_disposition</th>\n",
              "      <th>nature_mutation</th>\n",
              "      <th>valeur_fonciere</th>\n",
              "      <th>adresse_numero</th>\n",
              "      <th>adresse_suffixe</th>\n",
              "      <th>adresse_nom_voie</th>\n",
              "      <th>adresse_code_voie</th>\n",
              "      <th>code_postal</th>\n",
              "      <th>code_commune</th>\n",
              "      <th>nom_commune</th>\n",
              "      <th>code_departement</th>\n",
              "      <th>ancien_code_commune</th>\n",
              "      <th>ancien_nom_commune</th>\n",
              "      <th>id_parcelle</th>\n",
              "      <th>ancien_id_parcelle</th>\n",
              "      <th>numero_volume</th>\n",
              "      <th>lot1_numero</th>\n",
              "      <th>lot1_surface_carrez</th>\n",
              "      <th>lot2_numero</th>\n",
              "      <th>lot2_surface_carrez</th>\n",
              "      <th>lot3_numero</th>\n",
              "      <th>lot3_surface_carrez</th>\n",
              "      <th>lot4_numero</th>\n",
              "      <th>lot4_surface_carrez</th>\n",
              "      <th>lot5_numero</th>\n",
              "      <th>lot5_surface_carrez</th>\n",
              "      <th>nombre_lots</th>\n",
              "      <th>code_type_local</th>\n",
              "      <th>type_local</th>\n",
              "      <th>surface_reelle_bati</th>\n",
              "      <th>nombre_pieces_principales</th>\n",
              "      <th>code_nature_culture</th>\n",
              "      <th>nature_culture</th>\n",
              "      <th>code_nature_culture_speciale</th>\n",
              "      <th>nature_culture_speciale</th>\n",
              "      <th>surface_terrain</th>\n",
              "      <th>longitude</th>\n",
              "      <th>latitude</th>\n",
              "    </tr>\n",
              "  </thead>\n",
              "  <tbody>\n",
              "    <tr>\n",
              "      <th>18</th>\n",
              "      <td>2020-9</td>\n",
              "      <td>2020-01-03</td>\n",
              "      <td>1</td>\n",
              "      <td>Vente</td>\n",
              "      <td>350750.0</td>\n",
              "      <td>904.0</td>\n",
              "      <td>B</td>\n",
              "      <td>CHE DES GDES CADALLES</td>\n",
              "      <td>0149</td>\n",
              "      <td>1000.0</td>\n",
              "      <td>01344</td>\n",
              "      <td>Saint-Denis-lès-Bourg</td>\n",
              "      <td>01</td>\n",
              "      <td>NaN</td>\n",
              "      <td>NaN</td>\n",
              "      <td>01344000AC0039</td>\n",
              "      <td>NaN</td>\n",
              "      <td>NaN</td>\n",
              "      <td>NaN</td>\n",
              "      <td>NaN</td>\n",
              "      <td>NaN</td>\n",
              "      <td>NaN</td>\n",
              "      <td>NaN</td>\n",
              "      <td>NaN</td>\n",
              "      <td>NaN</td>\n",
              "      <td>NaN</td>\n",
              "      <td>NaN</td>\n",
              "      <td>NaN</td>\n",
              "      <td>0</td>\n",
              "      <td>3.0</td>\n",
              "      <td>Dépendance</td>\n",
              "      <td>NaN</td>\n",
              "      <td>0.0</td>\n",
              "      <td>S</td>\n",
              "      <td>sols</td>\n",
              "      <td>NaN</td>\n",
              "      <td>NaN</td>\n",
              "      <td>1497.0</td>\n",
              "      <td>5.200634</td>\n",
              "      <td>46.210371</td>\n",
              "    </tr>\n",
              "    <tr>\n",
              "      <th>19</th>\n",
              "      <td>2020-9</td>\n",
              "      <td>2020-01-03</td>\n",
              "      <td>1</td>\n",
              "      <td>Vente</td>\n",
              "      <td>350750.0</td>\n",
              "      <td>904.0</td>\n",
              "      <td>B</td>\n",
              "      <td>CHE DES GDES CADALLES</td>\n",
              "      <td>0149</td>\n",
              "      <td>1000.0</td>\n",
              "      <td>01344</td>\n",
              "      <td>Saint-Denis-lès-Bourg</td>\n",
              "      <td>01</td>\n",
              "      <td>NaN</td>\n",
              "      <td>NaN</td>\n",
              "      <td>01344000AC0039</td>\n",
              "      <td>NaN</td>\n",
              "      <td>NaN</td>\n",
              "      <td>NaN</td>\n",
              "      <td>NaN</td>\n",
              "      <td>NaN</td>\n",
              "      <td>NaN</td>\n",
              "      <td>NaN</td>\n",
              "      <td>NaN</td>\n",
              "      <td>NaN</td>\n",
              "      <td>NaN</td>\n",
              "      <td>NaN</td>\n",
              "      <td>NaN</td>\n",
              "      <td>0</td>\n",
              "      <td>3.0</td>\n",
              "      <td>Dépendance</td>\n",
              "      <td>NaN</td>\n",
              "      <td>0.0</td>\n",
              "      <td>J</td>\n",
              "      <td>jardins</td>\n",
              "      <td>NaN</td>\n",
              "      <td>NaN</td>\n",
              "      <td>1267.0</td>\n",
              "      <td>5.200634</td>\n",
              "      <td>46.210371</td>\n",
              "    </tr>\n",
              "  </tbody>\n",
              "</table>\n",
              "</div>"
            ],
            "text/plain": [
              "   id_mutation date_mutation  ...  longitude   latitude\n",
              "18      2020-9    2020-01-03  ...   5.200634  46.210371\n",
              "19      2020-9    2020-01-03  ...   5.200634  46.210371\n",
              "\n",
              "[2 rows x 40 columns]"
            ]
          },
          "metadata": {},
          "execution_count": 91
        }
      ]
    },
    {
      "cell_type": "code",
      "metadata": {
        "colab": {
          "base_uri": "https://localhost:8080/"
        },
        "id": "qtmgy7ZQnEFp",
        "outputId": "988c0556-47e0-41d0-d936-7fe554bb101c"
      },
      "source": [
        "len(industrial_data), len(dependance_data), len(data)"
      ],
      "id": "qtmgy7ZQnEFp",
      "execution_count": null,
      "outputs": [
        {
          "output_type": "execute_result",
          "data": {
            "text/plain": [
              "(86937, 298369, 2459560)"
            ]
          },
          "metadata": {},
          "execution_count": 92
        }
      ]
    },
    {
      "cell_type": "markdown",
      "metadata": {
        "id": "5FBrDeNVhcM4"
      },
      "source": [
        "### Extracting industrial local_type"
      ],
      "id": "5FBrDeNVhcM4"
    },
    {
      "cell_type": "code",
      "metadata": {
        "colab": {
          "base_uri": "https://localhost:8080/"
        },
        "id": "b5dHfQysj2NJ",
        "outputId": "3aa1d527-a4f0-4005-a262-1e8a8fe5fa8b"
      },
      "source": [
        "data = df.copy()\n",
        "whole_data = df.copy()\n",
        "whole_data.shape"
      ],
      "id": "b5dHfQysj2NJ",
      "execution_count": null,
      "outputs": [
        {
          "output_type": "execute_result",
          "data": {
            "text/plain": [
              "(2459560, 40)"
            ]
          },
          "metadata": {},
          "execution_count": 93
        }
      ]
    },
    {
      "cell_type": "code",
      "metadata": {
        "colab": {
          "base_uri": "https://localhost:8080/"
        },
        "id": "yCdSnmiwhbVM",
        "outputId": "8b849aaa-2491-4d41-fd96-dba0899c3c39"
      },
      "source": [
        "def extract_one_local_type(df, string):# df: dataframe && string :value of df['type_local']\n",
        "\n",
        "  # Get names of indexes for which column type_local is 'Local industriel. commercial ou assimilé'\n",
        "  indexNames = df[df['type_local'] == string].index\n",
        "  # Delete these row indexes from dataFrame\n",
        "  df.drop(indexNames , inplace=True)\n",
        "  return df\n",
        "\n",
        "data_industrial_out = extract_one_local_type(df = data, string = 'Local industriel. commercial ou assimilé')\n",
        "data_industrial_out.shape, whole_data.shape, data.shape\n"
      ],
      "id": "yCdSnmiwhbVM",
      "execution_count": null,
      "outputs": [
        {
          "output_type": "execute_result",
          "data": {
            "text/plain": [
              "((2372623, 40), (2459560, 40), (2372623, 40))"
            ]
          },
          "metadata": {},
          "execution_count": 94
        }
      ]
    },
    {
      "cell_type": "markdown",
      "metadata": {
        "id": "hKhz6wjVnoMT"
      },
      "source": [
        "**Below, we work with the whole data (including industrial type)**"
      ],
      "id": "hKhz6wjVnoMT"
    },
    {
      "cell_type": "markdown",
      "metadata": {
        "id": "cfd14a8b"
      },
      "source": [
        "## Exploring missing values (NaN) for whole Data : all local types are included\n",
        "\n",
        "```\n",
        "# Ce texte est au format code\n",
        "```\n",
        "\n"
      ],
      "id": "cfd14a8b"
    },
    {
      "cell_type": "markdown",
      "metadata": {
        "id": "900755d3"
      },
      "source": [
        "### Columns with NaN"
      ],
      "id": "900755d3"
    },
    {
      "cell_type": "code",
      "metadata": {
        "id": "2163ee69",
        "colab": {
          "base_uri": "https://localhost:8080/",
          "height": 1000
        },
        "outputId": "f5b55370-5bd6-4ca6-db83-86133af86795"
      },
      "source": [
        "def get_count_of_missing_values(df):\n",
        "  missing_df = pd.DataFrame(df.isnull().sum().sort_values(ascending=False))\n",
        "  return missing_df\n",
        "\n",
        "missing_df = get_count_of_missing_values(df = whole_data)\n",
        "missing_df"
      ],
      "id": "2163ee69",
      "execution_count": null,
      "outputs": [
        {
          "output_type": "execute_result",
          "data": {
            "text/html": [
              "<div>\n",
              "<style scoped>\n",
              "    .dataframe tbody tr th:only-of-type {\n",
              "        vertical-align: middle;\n",
              "    }\n",
              "\n",
              "    .dataframe tbody tr th {\n",
              "        vertical-align: top;\n",
              "    }\n",
              "\n",
              "    .dataframe thead th {\n",
              "        text-align: right;\n",
              "    }\n",
              "</style>\n",
              "<table border=\"1\" class=\"dataframe\">\n",
              "  <thead>\n",
              "    <tr style=\"text-align: right;\">\n",
              "      <th></th>\n",
              "      <th>0</th>\n",
              "    </tr>\n",
              "  </thead>\n",
              "  <tbody>\n",
              "    <tr>\n",
              "      <th>ancien_code_commune</th>\n",
              "      <td>2459559</td>\n",
              "    </tr>\n",
              "    <tr>\n",
              "      <th>ancien_nom_commune</th>\n",
              "      <td>2459559</td>\n",
              "    </tr>\n",
              "    <tr>\n",
              "      <th>ancien_id_parcelle</th>\n",
              "      <td>2459559</td>\n",
              "    </tr>\n",
              "    <tr>\n",
              "      <th>lot5_surface_carrez</th>\n",
              "      <td>2458997</td>\n",
              "    </tr>\n",
              "    <tr>\n",
              "      <th>lot4_surface_carrez</th>\n",
              "      <td>2458303</td>\n",
              "    </tr>\n",
              "    <tr>\n",
              "      <th>lot5_numero</th>\n",
              "      <td>2455417</td>\n",
              "    </tr>\n",
              "    <tr>\n",
              "      <th>lot3_surface_carrez</th>\n",
              "      <td>2454703</td>\n",
              "    </tr>\n",
              "    <tr>\n",
              "      <th>numero_volume</th>\n",
              "      <td>2452794</td>\n",
              "    </tr>\n",
              "    <tr>\n",
              "      <th>lot4_numero</th>\n",
              "      <td>2450649</td>\n",
              "    </tr>\n",
              "    <tr>\n",
              "      <th>lot3_numero</th>\n",
              "      <td>2434251</td>\n",
              "    </tr>\n",
              "    <tr>\n",
              "      <th>lot2_surface_carrez</th>\n",
              "      <td>2408519</td>\n",
              "    </tr>\n",
              "    <tr>\n",
              "      <th>adresse_suffixe</th>\n",
              "      <td>2352374</td>\n",
              "    </tr>\n",
              "    <tr>\n",
              "      <th>nature_culture_speciale</th>\n",
              "      <td>2352011</td>\n",
              "    </tr>\n",
              "    <tr>\n",
              "      <th>code_nature_culture_speciale</th>\n",
              "      <td>2352011</td>\n",
              "    </tr>\n",
              "    <tr>\n",
              "      <th>lot2_numero</th>\n",
              "      <td>2303817</td>\n",
              "    </tr>\n",
              "    <tr>\n",
              "      <th>lot1_surface_carrez</th>\n",
              "      <td>2250280</td>\n",
              "    </tr>\n",
              "    <tr>\n",
              "      <th>lot1_numero</th>\n",
              "      <td>1702571</td>\n",
              "    </tr>\n",
              "    <tr>\n",
              "      <th>surface_reelle_bati</th>\n",
              "      <td>1447059</td>\n",
              "    </tr>\n",
              "    <tr>\n",
              "      <th>nombre_pieces_principales</th>\n",
              "      <td>1145290</td>\n",
              "    </tr>\n",
              "    <tr>\n",
              "      <th>code_type_local</th>\n",
              "      <td>1143726</td>\n",
              "    </tr>\n",
              "    <tr>\n",
              "      <th>type_local</th>\n",
              "      <td>1143726</td>\n",
              "    </tr>\n",
              "    <tr>\n",
              "      <th>adresse_numero</th>\n",
              "      <td>990345</td>\n",
              "    </tr>\n",
              "    <tr>\n",
              "      <th>surface_terrain</th>\n",
              "      <td>767734</td>\n",
              "    </tr>\n",
              "    <tr>\n",
              "      <th>code_nature_culture</th>\n",
              "      <td>767675</td>\n",
              "    </tr>\n",
              "    <tr>\n",
              "      <th>nature_culture</th>\n",
              "      <td>767675</td>\n",
              "    </tr>\n",
              "    <tr>\n",
              "      <th>valeur_fonciere</th>\n",
              "      <td>31752</td>\n",
              "    </tr>\n",
              "    <tr>\n",
              "      <th>adresse_nom_voie</th>\n",
              "      <td>31123</td>\n",
              "    </tr>\n",
              "    <tr>\n",
              "      <th>code_postal</th>\n",
              "      <td>30992</td>\n",
              "    </tr>\n",
              "    <tr>\n",
              "      <th>adresse_code_voie</th>\n",
              "      <td>30948</td>\n",
              "    </tr>\n",
              "    <tr>\n",
              "      <th>latitude</th>\n",
              "      <td>30083</td>\n",
              "    </tr>\n",
              "    <tr>\n",
              "      <th>longitude</th>\n",
              "      <td>30083</td>\n",
              "    </tr>\n",
              "    <tr>\n",
              "      <th>code_commune</th>\n",
              "      <td>0</td>\n",
              "    </tr>\n",
              "    <tr>\n",
              "      <th>nom_commune</th>\n",
              "      <td>0</td>\n",
              "    </tr>\n",
              "    <tr>\n",
              "      <th>code_departement</th>\n",
              "      <td>0</td>\n",
              "    </tr>\n",
              "    <tr>\n",
              "      <th>id_parcelle</th>\n",
              "      <td>0</td>\n",
              "    </tr>\n",
              "    <tr>\n",
              "      <th>nombre_lots</th>\n",
              "      <td>0</td>\n",
              "    </tr>\n",
              "    <tr>\n",
              "      <th>nature_mutation</th>\n",
              "      <td>0</td>\n",
              "    </tr>\n",
              "    <tr>\n",
              "      <th>numero_disposition</th>\n",
              "      <td>0</td>\n",
              "    </tr>\n",
              "    <tr>\n",
              "      <th>date_mutation</th>\n",
              "      <td>0</td>\n",
              "    </tr>\n",
              "    <tr>\n",
              "      <th>id_mutation</th>\n",
              "      <td>0</td>\n",
              "    </tr>\n",
              "  </tbody>\n",
              "</table>\n",
              "</div>"
            ],
            "text/plain": [
              "                                    0\n",
              "ancien_code_commune           2459559\n",
              "ancien_nom_commune            2459559\n",
              "ancien_id_parcelle            2459559\n",
              "lot5_surface_carrez           2458997\n",
              "lot4_surface_carrez           2458303\n",
              "lot5_numero                   2455417\n",
              "lot3_surface_carrez           2454703\n",
              "numero_volume                 2452794\n",
              "lot4_numero                   2450649\n",
              "lot3_numero                   2434251\n",
              "lot2_surface_carrez           2408519\n",
              "adresse_suffixe               2352374\n",
              "nature_culture_speciale       2352011\n",
              "code_nature_culture_speciale  2352011\n",
              "lot2_numero                   2303817\n",
              "lot1_surface_carrez           2250280\n",
              "lot1_numero                   1702571\n",
              "surface_reelle_bati           1447059\n",
              "nombre_pieces_principales     1145290\n",
              "code_type_local               1143726\n",
              "type_local                    1143726\n",
              "adresse_numero                 990345\n",
              "surface_terrain                767734\n",
              "code_nature_culture            767675\n",
              "nature_culture                 767675\n",
              "valeur_fonciere                 31752\n",
              "adresse_nom_voie                31123\n",
              "code_postal                     30992\n",
              "adresse_code_voie               30948\n",
              "latitude                        30083\n",
              "longitude                       30083\n",
              "code_commune                        0\n",
              "nom_commune                         0\n",
              "code_departement                    0\n",
              "id_parcelle                         0\n",
              "nombre_lots                         0\n",
              "nature_mutation                     0\n",
              "numero_disposition                  0\n",
              "date_mutation                       0\n",
              "id_mutation                         0"
            ]
          },
          "metadata": {},
          "execution_count": 95
        }
      ]
    },
    {
      "cell_type": "code",
      "metadata": {
        "colab": {
          "base_uri": "https://localhost:8080/",
          "height": 1000
        },
        "id": "xIRUUiC3wWTy",
        "outputId": "5879a82f-c8f5-49ad-f516-e6de851c5a75"
      },
      "source": [
        "L = [] #missing_df['Dtype']\n",
        "for i in missing_df.index:\n",
        "  if i in list_objects:\n",
        "    L.append('Object')\n",
        "  elif i in list_floats:\n",
        "    L.append('float')\n",
        "  else:\n",
        "    L.append('int')\n",
        "\n",
        "missing_df['Dtype'] = L\n",
        "missing_df"
      ],
      "id": "xIRUUiC3wWTy",
      "execution_count": null,
      "outputs": [
        {
          "output_type": "execute_result",
          "data": {
            "text/html": [
              "<div>\n",
              "<style scoped>\n",
              "    .dataframe tbody tr th:only-of-type {\n",
              "        vertical-align: middle;\n",
              "    }\n",
              "\n",
              "    .dataframe tbody tr th {\n",
              "        vertical-align: top;\n",
              "    }\n",
              "\n",
              "    .dataframe thead th {\n",
              "        text-align: right;\n",
              "    }\n",
              "</style>\n",
              "<table border=\"1\" class=\"dataframe\">\n",
              "  <thead>\n",
              "    <tr style=\"text-align: right;\">\n",
              "      <th></th>\n",
              "      <th>0</th>\n",
              "      <th>Dtype</th>\n",
              "    </tr>\n",
              "  </thead>\n",
              "  <tbody>\n",
              "    <tr>\n",
              "      <th>ancien_code_commune</th>\n",
              "      <td>2459559</td>\n",
              "      <td>float</td>\n",
              "    </tr>\n",
              "    <tr>\n",
              "      <th>ancien_nom_commune</th>\n",
              "      <td>2459559</td>\n",
              "      <td>Object</td>\n",
              "    </tr>\n",
              "    <tr>\n",
              "      <th>ancien_id_parcelle</th>\n",
              "      <td>2459559</td>\n",
              "      <td>Object</td>\n",
              "    </tr>\n",
              "    <tr>\n",
              "      <th>lot5_surface_carrez</th>\n",
              "      <td>2458997</td>\n",
              "      <td>float</td>\n",
              "    </tr>\n",
              "    <tr>\n",
              "      <th>lot4_surface_carrez</th>\n",
              "      <td>2458303</td>\n",
              "      <td>float</td>\n",
              "    </tr>\n",
              "    <tr>\n",
              "      <th>lot5_numero</th>\n",
              "      <td>2455417</td>\n",
              "      <td>float</td>\n",
              "    </tr>\n",
              "    <tr>\n",
              "      <th>lot3_surface_carrez</th>\n",
              "      <td>2454703</td>\n",
              "      <td>float</td>\n",
              "    </tr>\n",
              "    <tr>\n",
              "      <th>numero_volume</th>\n",
              "      <td>2452794</td>\n",
              "      <td>Object</td>\n",
              "    </tr>\n",
              "    <tr>\n",
              "      <th>lot4_numero</th>\n",
              "      <td>2450649</td>\n",
              "      <td>float</td>\n",
              "    </tr>\n",
              "    <tr>\n",
              "      <th>lot3_numero</th>\n",
              "      <td>2434251</td>\n",
              "      <td>Object</td>\n",
              "    </tr>\n",
              "    <tr>\n",
              "      <th>lot2_surface_carrez</th>\n",
              "      <td>2408519</td>\n",
              "      <td>float</td>\n",
              "    </tr>\n",
              "    <tr>\n",
              "      <th>adresse_suffixe</th>\n",
              "      <td>2352374</td>\n",
              "      <td>Object</td>\n",
              "    </tr>\n",
              "    <tr>\n",
              "      <th>nature_culture_speciale</th>\n",
              "      <td>2352011</td>\n",
              "      <td>Object</td>\n",
              "    </tr>\n",
              "    <tr>\n",
              "      <th>code_nature_culture_speciale</th>\n",
              "      <td>2352011</td>\n",
              "      <td>Object</td>\n",
              "    </tr>\n",
              "    <tr>\n",
              "      <th>lot2_numero</th>\n",
              "      <td>2303817</td>\n",
              "      <td>Object</td>\n",
              "    </tr>\n",
              "    <tr>\n",
              "      <th>lot1_surface_carrez</th>\n",
              "      <td>2250280</td>\n",
              "      <td>float</td>\n",
              "    </tr>\n",
              "    <tr>\n",
              "      <th>lot1_numero</th>\n",
              "      <td>1702571</td>\n",
              "      <td>Object</td>\n",
              "    </tr>\n",
              "    <tr>\n",
              "      <th>surface_reelle_bati</th>\n",
              "      <td>1447059</td>\n",
              "      <td>float</td>\n",
              "    </tr>\n",
              "    <tr>\n",
              "      <th>nombre_pieces_principales</th>\n",
              "      <td>1145290</td>\n",
              "      <td>float</td>\n",
              "    </tr>\n",
              "    <tr>\n",
              "      <th>code_type_local</th>\n",
              "      <td>1143726</td>\n",
              "      <td>float</td>\n",
              "    </tr>\n",
              "    <tr>\n",
              "      <th>type_local</th>\n",
              "      <td>1143726</td>\n",
              "      <td>Object</td>\n",
              "    </tr>\n",
              "    <tr>\n",
              "      <th>adresse_numero</th>\n",
              "      <td>990345</td>\n",
              "      <td>float</td>\n",
              "    </tr>\n",
              "    <tr>\n",
              "      <th>surface_terrain</th>\n",
              "      <td>767734</td>\n",
              "      <td>float</td>\n",
              "    </tr>\n",
              "    <tr>\n",
              "      <th>code_nature_culture</th>\n",
              "      <td>767675</td>\n",
              "      <td>Object</td>\n",
              "    </tr>\n",
              "    <tr>\n",
              "      <th>nature_culture</th>\n",
              "      <td>767675</td>\n",
              "      <td>Object</td>\n",
              "    </tr>\n",
              "    <tr>\n",
              "      <th>valeur_fonciere</th>\n",
              "      <td>31752</td>\n",
              "      <td>float</td>\n",
              "    </tr>\n",
              "    <tr>\n",
              "      <th>adresse_nom_voie</th>\n",
              "      <td>31123</td>\n",
              "      <td>Object</td>\n",
              "    </tr>\n",
              "    <tr>\n",
              "      <th>code_postal</th>\n",
              "      <td>30992</td>\n",
              "      <td>float</td>\n",
              "    </tr>\n",
              "    <tr>\n",
              "      <th>adresse_code_voie</th>\n",
              "      <td>30948</td>\n",
              "      <td>Object</td>\n",
              "    </tr>\n",
              "    <tr>\n",
              "      <th>latitude</th>\n",
              "      <td>30083</td>\n",
              "      <td>float</td>\n",
              "    </tr>\n",
              "    <tr>\n",
              "      <th>longitude</th>\n",
              "      <td>30083</td>\n",
              "      <td>float</td>\n",
              "    </tr>\n",
              "    <tr>\n",
              "      <th>code_commune</th>\n",
              "      <td>0</td>\n",
              "      <td>Object</td>\n",
              "    </tr>\n",
              "    <tr>\n",
              "      <th>nom_commune</th>\n",
              "      <td>0</td>\n",
              "      <td>Object</td>\n",
              "    </tr>\n",
              "    <tr>\n",
              "      <th>code_departement</th>\n",
              "      <td>0</td>\n",
              "      <td>Object</td>\n",
              "    </tr>\n",
              "    <tr>\n",
              "      <th>id_parcelle</th>\n",
              "      <td>0</td>\n",
              "      <td>Object</td>\n",
              "    </tr>\n",
              "    <tr>\n",
              "      <th>nombre_lots</th>\n",
              "      <td>0</td>\n",
              "      <td>int</td>\n",
              "    </tr>\n",
              "    <tr>\n",
              "      <th>nature_mutation</th>\n",
              "      <td>0</td>\n",
              "      <td>Object</td>\n",
              "    </tr>\n",
              "    <tr>\n",
              "      <th>numero_disposition</th>\n",
              "      <td>0</td>\n",
              "      <td>int</td>\n",
              "    </tr>\n",
              "    <tr>\n",
              "      <th>date_mutation</th>\n",
              "      <td>0</td>\n",
              "      <td>Object</td>\n",
              "    </tr>\n",
              "    <tr>\n",
              "      <th>id_mutation</th>\n",
              "      <td>0</td>\n",
              "      <td>Object</td>\n",
              "    </tr>\n",
              "  </tbody>\n",
              "</table>\n",
              "</div>"
            ],
            "text/plain": [
              "                                    0   Dtype\n",
              "ancien_code_commune           2459559   float\n",
              "ancien_nom_commune            2459559  Object\n",
              "ancien_id_parcelle            2459559  Object\n",
              "lot5_surface_carrez           2458997   float\n",
              "lot4_surface_carrez           2458303   float\n",
              "lot5_numero                   2455417   float\n",
              "lot3_surface_carrez           2454703   float\n",
              "numero_volume                 2452794  Object\n",
              "lot4_numero                   2450649   float\n",
              "lot3_numero                   2434251  Object\n",
              "lot2_surface_carrez           2408519   float\n",
              "adresse_suffixe               2352374  Object\n",
              "nature_culture_speciale       2352011  Object\n",
              "code_nature_culture_speciale  2352011  Object\n",
              "lot2_numero                   2303817  Object\n",
              "lot1_surface_carrez           2250280   float\n",
              "lot1_numero                   1702571  Object\n",
              "surface_reelle_bati           1447059   float\n",
              "nombre_pieces_principales     1145290   float\n",
              "code_type_local               1143726   float\n",
              "type_local                    1143726  Object\n",
              "adresse_numero                 990345   float\n",
              "surface_terrain                767734   float\n",
              "code_nature_culture            767675  Object\n",
              "nature_culture                 767675  Object\n",
              "valeur_fonciere                 31752   float\n",
              "adresse_nom_voie                31123  Object\n",
              "code_postal                     30992   float\n",
              "adresse_code_voie               30948  Object\n",
              "latitude                        30083   float\n",
              "longitude                       30083   float\n",
              "code_commune                        0  Object\n",
              "nom_commune                         0  Object\n",
              "code_departement                    0  Object\n",
              "id_parcelle                         0  Object\n",
              "nombre_lots                         0     int\n",
              "nature_mutation                     0  Object\n",
              "numero_disposition                  0     int\n",
              "date_mutation                       0  Object\n",
              "id_mutation                         0  Object"
            ]
          },
          "metadata": {},
          "execution_count": 96
        }
      ]
    },
    {
      "cell_type": "code",
      "metadata": {
        "colab": {
          "base_uri": "https://localhost:8080/"
        },
        "id": "K71yhmkeorV-",
        "outputId": "eedc01bc-7dc2-4a1e-91d2-85167695e829"
      },
      "source": [
        "def get_columns_with_missing_values(df): #df dataframe\n",
        "  missing_df = get_count_of_missing_values(df =df)\n",
        "  missing_data = missing_df[missing_df[0] !=0]\n",
        "  return missing_data\n",
        "\n",
        "missing_data = get_columns_with_missing_values(df = whole_data)\n",
        "print(len(missing_data.index)), missing_data.index"
      ],
      "id": "K71yhmkeorV-",
      "execution_count": null,
      "outputs": [
        {
          "output_type": "stream",
          "text": [
            "31\n"
          ],
          "name": "stdout"
        },
        {
          "output_type": "execute_result",
          "data": {
            "text/plain": [
              "(None,\n",
              " Index(['ancien_code_commune', 'ancien_nom_commune', 'ancien_id_parcelle',\n",
              "        'lot5_surface_carrez', 'lot4_surface_carrez', 'lot5_numero',\n",
              "        'lot3_surface_carrez', 'numero_volume', 'lot4_numero', 'lot3_numero',\n",
              "        'lot2_surface_carrez', 'adresse_suffixe', 'nature_culture_speciale',\n",
              "        'code_nature_culture_speciale', 'lot2_numero', 'lot1_surface_carrez',\n",
              "        'lot1_numero', 'surface_reelle_bati', 'nombre_pieces_principales',\n",
              "        'code_type_local', 'type_local', 'adresse_numero', 'surface_terrain',\n",
              "        'code_nature_culture', 'nature_culture', 'valeur_fonciere',\n",
              "        'adresse_nom_voie', 'code_postal', 'adresse_code_voie', 'latitude',\n",
              "        'longitude'],\n",
              "       dtype='object'))"
            ]
          },
          "metadata": {},
          "execution_count": 97
        }
      ]
    },
    {
      "cell_type": "markdown",
      "metadata": {
        "id": "9bee199f"
      },
      "source": [
        "**There ara 31 columns with NaN**"
      ],
      "id": "9bee199f"
    },
    {
      "cell_type": "markdown",
      "metadata": {
        "id": "0d504f88"
      },
      "source": [
        "### Columns without NaN"
      ],
      "id": "0d504f88"
    },
    {
      "cell_type": "code",
      "metadata": {
        "colab": {
          "base_uri": "https://localhost:8080/"
        },
        "id": "mdQAe2Qzpoxb",
        "outputId": "c204be7e-816c-4f98-c872-44af7a1fc92e"
      },
      "source": [
        "def get_columns_without_missing_values(df): #df dataframe\n",
        "  missing_df = get_count_of_missing_values(df =df)\n",
        "  clean_data = missing_df[missing_df[0] ==0]\n",
        "  return clean_data\n",
        "\n",
        "clean_data = get_columns_without_missing_values(df = whole_data)\n",
        "print(len(clean_data.index)), clean_data.index"
      ],
      "id": "mdQAe2Qzpoxb",
      "execution_count": null,
      "outputs": [
        {
          "output_type": "stream",
          "text": [
            "9\n"
          ],
          "name": "stdout"
        },
        {
          "output_type": "execute_result",
          "data": {
            "text/plain": [
              "(None, Index(['code_commune', 'nom_commune', 'code_departement', 'id_parcelle',\n",
              "        'nombre_lots', 'nature_mutation', 'numero_disposition', 'date_mutation',\n",
              "        'id_mutation'],\n",
              "       dtype='object'))"
            ]
          },
          "metadata": {},
          "execution_count": 98
        }
      ]
    },
    {
      "cell_type": "markdown",
      "metadata": {
        "id": "605cfca7"
      },
      "source": [
        "**There ara 9 columns without NaN**"
      ],
      "id": "605cfca7"
    },
    {
      "cell_type": "markdown",
      "metadata": {
        "id": "a03491f8"
      },
      "source": [
        "### Object Features"
      ],
      "id": "a03491f8"
    },
    {
      "cell_type": "markdown",
      "metadata": {
        "id": "04da372e"
      },
      "source": [
        "#### #ancien_nom_commune# vs.      #nom_commune#"
      ],
      "id": "04da372e"
    },
    {
      "cell_type": "code",
      "metadata": {
        "colab": {
          "base_uri": "https://localhost:8080/"
        },
        "id": "VFN9cIUnqCRm",
        "outputId": "7612c58b-65ac-4026-c5c8-f566bf48da9c"
      },
      "source": [
        "def get_info_of_col_name(df, col_name):# df : dataframe && col_name :column value \n",
        "\n",
        "  return list(df[col_name].unique())\n",
        "\n",
        "get_info_of_col_name(df = whole_data, col_name = 'ancien_nom_commune')\n"
      ],
      "id": "VFN9cIUnqCRm",
      "execution_count": null,
      "outputs": [
        {
          "output_type": "execute_result",
          "data": {
            "text/plain": [
              "[nan, 'Le Fresne-sur-Loire']"
            ]
          },
          "metadata": {},
          "execution_count": 99
        }
      ]
    },
    {
      "cell_type": "code",
      "metadata": {
        "id": "s_nTqIP8s-g-"
      },
      "source": [
        "#!pip install -U featuretools"
      ],
      "id": "s_nTqIP8s-g-",
      "execution_count": null,
      "outputs": []
    },
    {
      "cell_type": "code",
      "metadata": {
        "colab": {
          "base_uri": "https://localhost:8080/"
        },
        "id": "6b-dbJNiya_p",
        "outputId": "52c2f2fe-31f5-4cfd-f216-565be459cd0e"
      },
      "source": [
        "len(get_info_of_col_name(df = whole_data, col_name = 'nom_commune'))"
      ],
      "id": "6b-dbJNiya_p",
      "execution_count": null,
      "outputs": [
        {
          "output_type": "execute_result",
          "data": {
            "text/plain": [
              "29092"
            ]
          },
          "metadata": {},
          "execution_count": 101
        }
      ]
    },
    {
      "cell_type": "code",
      "metadata": {
        "id": "Tk72JFiOyrzL"
      },
      "source": [
        "#print(\"There are\",  29092 \"distinct communes names\")"
      ],
      "id": "Tk72JFiOyrzL",
      "execution_count": null,
      "outputs": []
    },
    {
      "cell_type": "code",
      "metadata": {
        "colab": {
          "base_uri": "https://localhost:8080/"
        },
        "id": "a0a00439",
        "outputId": "ec5919f2-c823-4cf3-c92e-ca04a89a9be7"
      },
      "source": [
        "if np.where(whole_data['nom_commune'].unique() == 'Le Fresne-sur-Loire')[0].size ==0:\n",
        "  print(\"'Le Fresne-sur-Loire' does not exist\")\n",
        "else:\n",
        "  print(\"'Le Fresne-sur-Loire' exists\")"
      ],
      "id": "a0a00439",
      "execution_count": null,
      "outputs": [
        {
          "output_type": "stream",
          "text": [
            "'Le Fresne-sur-Loire' does not exist\n"
          ],
          "name": "stdout"
        }
      ]
    },
    {
      "cell_type": "markdown",
      "metadata": {
        "id": "f641de67"
      },
      "source": [
        "#### #ancien_code_commune# vs.      #code_commune#"
      ],
      "id": "f641de67"
    },
    {
      "cell_type": "code",
      "metadata": {
        "colab": {
          "base_uri": "https://localhost:8080/"
        },
        "id": "9a9605e3",
        "outputId": "1b4e5106-a41f-407d-ee84-28b07bbabdc7"
      },
      "source": [
        "get_info_of_col_name(df = whole_data, col_name = 'ancien_code_commune')\n"
      ],
      "id": "9a9605e3",
      "execution_count": null,
      "outputs": [
        {
          "output_type": "execute_result",
          "data": {
            "text/plain": [
              "[nan, 49382.0]"
            ]
          },
          "metadata": {},
          "execution_count": 103
        }
      ]
    },
    {
      "cell_type": "code",
      "metadata": {
        "colab": {
          "base_uri": "https://localhost:8080/"
        },
        "id": "11d5ea03",
        "outputId": "424aca6f-dbfd-467f-dcea-c5ee505a3fd9"
      },
      "source": [
        "code_commune = whole_data['ancien_code_commune'].unique()[1]\n",
        "print(\"code_commune : \", code_commune)\n",
        "\n",
        "indexx = np.where(whole_data['ancien_code_commune'] == code_commune)[0][0]\n",
        "indexx"
      ],
      "id": "11d5ea03",
      "execution_count": null,
      "outputs": [
        {
          "output_type": "stream",
          "text": [
            "code_commune :  49382.0\n"
          ],
          "name": "stdout"
        },
        {
          "output_type": "execute_result",
          "data": {
            "text/plain": [
              "1044653"
            ]
          },
          "metadata": {},
          "execution_count": 104
        }
      ]
    },
    {
      "cell_type": "code",
      "metadata": {
        "colab": {
          "base_uri": "https://localhost:8080/",
          "height": 134
        },
        "id": "42b1e2a9",
        "outputId": "30f086aa-7fba-4f6d-f1f3-df283c35f277"
      },
      "source": [
        "dt = pd.DataFrame(whole_data.loc[indexx]).T\n",
        "dt"
      ],
      "id": "42b1e2a9",
      "execution_count": null,
      "outputs": [
        {
          "output_type": "execute_result",
          "data": {
            "text/html": [
              "<div>\n",
              "<style scoped>\n",
              "    .dataframe tbody tr th:only-of-type {\n",
              "        vertical-align: middle;\n",
              "    }\n",
              "\n",
              "    .dataframe tbody tr th {\n",
              "        vertical-align: top;\n",
              "    }\n",
              "\n",
              "    .dataframe thead th {\n",
              "        text-align: right;\n",
              "    }\n",
              "</style>\n",
              "<table border=\"1\" class=\"dataframe\">\n",
              "  <thead>\n",
              "    <tr style=\"text-align: right;\">\n",
              "      <th></th>\n",
              "      <th>id_mutation</th>\n",
              "      <th>date_mutation</th>\n",
              "      <th>numero_disposition</th>\n",
              "      <th>nature_mutation</th>\n",
              "      <th>valeur_fonciere</th>\n",
              "      <th>adresse_numero</th>\n",
              "      <th>adresse_suffixe</th>\n",
              "      <th>adresse_nom_voie</th>\n",
              "      <th>adresse_code_voie</th>\n",
              "      <th>code_postal</th>\n",
              "      <th>code_commune</th>\n",
              "      <th>nom_commune</th>\n",
              "      <th>code_departement</th>\n",
              "      <th>ancien_code_commune</th>\n",
              "      <th>ancien_nom_commune</th>\n",
              "      <th>id_parcelle</th>\n",
              "      <th>ancien_id_parcelle</th>\n",
              "      <th>numero_volume</th>\n",
              "      <th>lot1_numero</th>\n",
              "      <th>lot1_surface_carrez</th>\n",
              "      <th>lot2_numero</th>\n",
              "      <th>lot2_surface_carrez</th>\n",
              "      <th>lot3_numero</th>\n",
              "      <th>lot3_surface_carrez</th>\n",
              "      <th>lot4_numero</th>\n",
              "      <th>lot4_surface_carrez</th>\n",
              "      <th>lot5_numero</th>\n",
              "      <th>lot5_surface_carrez</th>\n",
              "      <th>nombre_lots</th>\n",
              "      <th>code_type_local</th>\n",
              "      <th>type_local</th>\n",
              "      <th>surface_reelle_bati</th>\n",
              "      <th>nombre_pieces_principales</th>\n",
              "      <th>code_nature_culture</th>\n",
              "      <th>nature_culture</th>\n",
              "      <th>code_nature_culture_speciale</th>\n",
              "      <th>nature_culture_speciale</th>\n",
              "      <th>surface_terrain</th>\n",
              "      <th>longitude</th>\n",
              "      <th>latitude</th>\n",
              "    </tr>\n",
              "  </thead>\n",
              "  <tbody>\n",
              "    <tr>\n",
              "      <th>1044653</th>\n",
              "      <td>2020-436891</td>\n",
              "      <td>2020-12-23</td>\n",
              "      <td>1</td>\n",
              "      <td>Vente</td>\n",
              "      <td>97500</td>\n",
              "      <td>NaN</td>\n",
              "      <td>NaN</td>\n",
              "      <td>NaN</td>\n",
              "      <td>NaN</td>\n",
              "      <td>NaN</td>\n",
              "      <td>49160</td>\n",
              "      <td>Ingrandes-Le Fresne sur Loire</td>\n",
              "      <td>49</td>\n",
              "      <td>49382</td>\n",
              "      <td>Le Fresne-sur-Loire</td>\n",
              "      <td>491603820B1194</td>\n",
              "      <td>440600000B1194</td>\n",
              "      <td>1</td>\n",
              "      <td>NaN</td>\n",
              "      <td>NaN</td>\n",
              "      <td>NaN</td>\n",
              "      <td>NaN</td>\n",
              "      <td>NaN</td>\n",
              "      <td>NaN</td>\n",
              "      <td>NaN</td>\n",
              "      <td>NaN</td>\n",
              "      <td>NaN</td>\n",
              "      <td>NaN</td>\n",
              "      <td>0</td>\n",
              "      <td>NaN</td>\n",
              "      <td>NaN</td>\n",
              "      <td>NaN</td>\n",
              "      <td>NaN</td>\n",
              "      <td>NaN</td>\n",
              "      <td>NaN</td>\n",
              "      <td>NaN</td>\n",
              "      <td>NaN</td>\n",
              "      <td>NaN</td>\n",
              "      <td>-0.924853</td>\n",
              "      <td>47.401</td>\n",
              "    </tr>\n",
              "  </tbody>\n",
              "</table>\n",
              "</div>"
            ],
            "text/plain": [
              "         id_mutation date_mutation  ... longitude latitude\n",
              "1044653  2020-436891    2020-12-23  ... -0.924853   47.401\n",
              "\n",
              "[1 rows x 40 columns]"
            ]
          },
          "metadata": {},
          "execution_count": 105
        }
      ]
    },
    {
      "cell_type": "code",
      "metadata": {
        "colab": {
          "base_uri": "https://localhost:8080/"
        },
        "id": "20b29b86",
        "outputId": "74d80564-d2e0-40bd-e11f-4a39b0208576"
      },
      "source": [
        "dt.isnull().sum().value_counts() #1 --> NaN  @@ 0 --> value"
      ],
      "id": "20b29b86",
      "execution_count": null,
      "outputs": [
        {
          "output_type": "execute_result",
          "data": {
            "text/plain": [
              "1    24\n",
              "0    16\n",
              "dtype: int64"
            ]
          },
          "metadata": {},
          "execution_count": 106
        }
      ]
    },
    {
      "cell_type": "code",
      "metadata": {
        "colab": {
          "base_uri": "https://localhost:8080/"
        },
        "id": "3f7ebe26",
        "outputId": "61903540-e9d9-441d-ba3c-6bf083a7d20c"
      },
      "source": [
        "whole_data.loc[indexx, :]"
      ],
      "id": "3f7ebe26",
      "execution_count": null,
      "outputs": [
        {
          "output_type": "execute_result",
          "data": {
            "text/plain": [
              "id_mutation                                       2020-436891\n",
              "date_mutation                                      2020-12-23\n",
              "numero_disposition                                          1\n",
              "nature_mutation                                         Vente\n",
              "valeur_fonciere                                         97500\n",
              "adresse_numero                                            NaN\n",
              "adresse_suffixe                                           NaN\n",
              "adresse_nom_voie                                          NaN\n",
              "adresse_code_voie                                         NaN\n",
              "code_postal                                               NaN\n",
              "code_commune                                            49160\n",
              "nom_commune                     Ingrandes-Le Fresne sur Loire\n",
              "code_departement                                           49\n",
              "ancien_code_commune                                     49382\n",
              "ancien_nom_commune                        Le Fresne-sur-Loire\n",
              "id_parcelle                                    491603820B1194\n",
              "ancien_id_parcelle                             440600000B1194\n",
              "numero_volume                                               1\n",
              "lot1_numero                                               NaN\n",
              "lot1_surface_carrez                                       NaN\n",
              "lot2_numero                                               NaN\n",
              "lot2_surface_carrez                                       NaN\n",
              "lot3_numero                                               NaN\n",
              "lot3_surface_carrez                                       NaN\n",
              "lot4_numero                                               NaN\n",
              "lot4_surface_carrez                                       NaN\n",
              "lot5_numero                                               NaN\n",
              "lot5_surface_carrez                                       NaN\n",
              "nombre_lots                                                 0\n",
              "code_type_local                                           NaN\n",
              "type_local                                                NaN\n",
              "surface_reelle_bati                                       NaN\n",
              "nombre_pieces_principales                                 NaN\n",
              "code_nature_culture                                       NaN\n",
              "nature_culture                                            NaN\n",
              "code_nature_culture_speciale                              NaN\n",
              "nature_culture_speciale                                   NaN\n",
              "surface_terrain                                           NaN\n",
              "longitude                                           -0.924853\n",
              "latitude                                               47.401\n",
              "Name: 1044653, dtype: object"
            ]
          },
          "metadata": {},
          "execution_count": 107
        }
      ]
    },
    {
      "cell_type": "markdown",
      "metadata": {
        "id": "658505b6"
      },
      "source": [
        "#### #ancien_id_parcelle# vs.      #id_parcelle#"
      ],
      "id": "658505b6"
    },
    {
      "cell_type": "code",
      "metadata": {
        "colab": {
          "base_uri": "https://localhost:8080/"
        },
        "id": "96514cc2",
        "outputId": "3901b1f4-8f63-4467-b3fc-fbb7686f0420"
      },
      "source": [
        "get_info_of_col_name(df = whole_data, col_name = 'ancien_id_parcelle')\n"
      ],
      "id": "96514cc2",
      "execution_count": null,
      "outputs": [
        {
          "output_type": "execute_result",
          "data": {
            "text/plain": [
              "[nan, '440600000B1194']"
            ]
          },
          "metadata": {},
          "execution_count": 108
        }
      ]
    },
    {
      "cell_type": "markdown",
      "metadata": {
        "id": "ecf63d94"
      },
      "source": [
        "**Conclusion : drop the columns : ancien_nom_commune, ancien_code_commune, and ancien_id_parcelle**\n",
        "    "
      ],
      "id": "ecf63d94"
    },
    {
      "cell_type": "markdown",
      "metadata": {
        "id": "5c0bbccb"
      },
      "source": [
        "#### lot_surface_carrez from 1 to 5"
      ],
      "id": "5c0bbccb"
    },
    {
      "cell_type": "code",
      "metadata": {
        "colab": {
          "base_uri": "https://localhost:8080/"
        },
        "id": "bde42c31",
        "outputId": "96f3f1f5-f852-499e-a4cc-67ee4a67fce8"
      },
      "source": [
        "whole_data['lot5_surface_carrez'].isnull().sum()\n"
      ],
      "id": "bde42c31",
      "execution_count": null,
      "outputs": [
        {
          "output_type": "execute_result",
          "data": {
            "text/plain": [
              "2458997"
            ]
          },
          "metadata": {},
          "execution_count": 109
        }
      ]
    },
    {
      "cell_type": "code",
      "metadata": {
        "colab": {
          "base_uri": "https://localhost:8080/"
        },
        "id": "a2988c40",
        "outputId": "33a5a097-8b17-497a-b033-c6ed9dd8e3c8"
      },
      "source": [
        "missing_df.loc['lot5_surface_carrez'][0]"
      ],
      "id": "a2988c40",
      "execution_count": null,
      "outputs": [
        {
          "output_type": "execute_result",
          "data": {
            "text/plain": [
              "2458997"
            ]
          },
          "metadata": {},
          "execution_count": 110
        }
      ]
    },
    {
      "cell_type": "code",
      "metadata": {
        "colab": {
          "base_uri": "https://localhost:8080/"
        },
        "id": "7236797b",
        "outputId": "5635a02b-fe5e-47ba-fa1b-89ab6f17e982"
      },
      "source": [
        "whole_data.shape[0] - missing_df.loc['lot5_surface_carrez'][0]"
      ],
      "id": "7236797b",
      "execution_count": null,
      "outputs": [
        {
          "output_type": "execute_result",
          "data": {
            "text/plain": [
              "563"
            ]
          },
          "metadata": {},
          "execution_count": 111
        }
      ]
    },
    {
      "cell_type": "code",
      "metadata": {
        "id": "BXrDQEAY1j4r"
      },
      "source": [
        "def decide_drop_column(df, col_name): #df dataframe && col_name : name of column \n",
        "    missing_df = get_count_of_missing_values(df =df)\n",
        "    return df.shape[0] - missing_df.loc[col_name][0]"
      ],
      "id": "BXrDQEAY1j4r",
      "execution_count": null,
      "outputs": []
    },
    {
      "cell_type": "code",
      "metadata": {
        "colab": {
          "base_uri": "https://localhost:8080/"
        },
        "id": "qigb_uF-2XJ1",
        "outputId": "6ad69470-dc6c-4537-c8bd-5b0a6c525282"
      },
      "source": [
        "decide_drop_column(df = whole_data, col_name= 'lot5_surface_carrez')"
      ],
      "id": "qigb_uF-2XJ1",
      "execution_count": null,
      "outputs": [
        {
          "output_type": "execute_result",
          "data": {
            "text/plain": [
              "563"
            ]
          },
          "metadata": {},
          "execution_count": 113
        }
      ]
    },
    {
      "cell_type": "markdown",
      "metadata": {
        "id": "b1e53098"
      },
      "source": [
        "**There are 563 real values  ----> drop this Column**"
      ],
      "id": "b1e53098"
    },
    {
      "cell_type": "code",
      "metadata": {
        "colab": {
          "base_uri": "https://localhost:8080/"
        },
        "id": "849c66d1",
        "outputId": "9e4f4c27-05d6-4c48-fe37-ac0aba94c286"
      },
      "source": [
        "decide_drop_column(df = whole_data, col_name= 'lot4_surface_carrez')"
      ],
      "id": "849c66d1",
      "execution_count": null,
      "outputs": [
        {
          "output_type": "execute_result",
          "data": {
            "text/plain": [
              "1257"
            ]
          },
          "metadata": {},
          "execution_count": 114
        }
      ]
    },
    {
      "cell_type": "code",
      "metadata": {
        "colab": {
          "base_uri": "https://localhost:8080/"
        },
        "id": "55d169bb",
        "outputId": "f837007f-2881-4ada-a9a5-08c49bce02fe"
      },
      "source": [
        "decide_drop_column(df = whole_data, col_name= 'lot3_surface_carrez')"
      ],
      "id": "55d169bb",
      "execution_count": null,
      "outputs": [
        {
          "output_type": "execute_result",
          "data": {
            "text/plain": [
              "4857"
            ]
          },
          "metadata": {},
          "execution_count": 115
        }
      ]
    },
    {
      "cell_type": "code",
      "metadata": {
        "colab": {
          "base_uri": "https://localhost:8080/"
        },
        "id": "c42ca57d",
        "outputId": "a9ef2b12-ca3c-421a-d0eb-ce2b6257db82"
      },
      "source": [
        "decide_drop_column(df = whole_data, col_name= 'lot2_surface_carrez')"
      ],
      "id": "c42ca57d",
      "execution_count": null,
      "outputs": [
        {
          "output_type": "execute_result",
          "data": {
            "text/plain": [
              "51041"
            ]
          },
          "metadata": {},
          "execution_count": 116
        }
      ]
    },
    {
      "cell_type": "code",
      "metadata": {
        "colab": {
          "base_uri": "https://localhost:8080/"
        },
        "id": "6dc297d7",
        "outputId": "39dbf131-61c4-45ec-986e-4bc80e00092d"
      },
      "source": [
        "decide_drop_column(df = whole_data, col_name= 'lot1_surface_carrez')"
      ],
      "id": "6dc297d7",
      "execution_count": null,
      "outputs": [
        {
          "output_type": "execute_result",
          "data": {
            "text/plain": [
              "209280"
            ]
          },
          "metadata": {},
          "execution_count": 117
        }
      ]
    },
    {
      "cell_type": "code",
      "metadata": {
        "colab": {
          "base_uri": "https://localhost:8080/",
          "height": 280
        },
        "id": "8cnoZGqo22JB",
        "outputId": "81decbf9-4249-4f5a-d13f-1556f9739f41"
      },
      "source": [
        "def visualize_lot_surface_columns(df):\n",
        "  L = ['lot1_surface_carrez', 'lot2_surface_carrez',\n",
        "       'lot3_surface_carrez', 'lot4_surface_carrez',\n",
        "       'lot5_surface_carrez']\n",
        "  K = []\n",
        "  for i in L:\n",
        "    m = decide_drop_column(df = df, col_name= i)\n",
        "    K.append(m)\n",
        "\n",
        "  dx = pd.DataFrame({'lot_surface_carrez':list(np.arange(1,6)), 'count real values':K})\n",
        "  dx.plot.bar(x='lot_surface_carrez', y='count real values', rot=0, color=plt.cm.Paired(np.arange(5)));\n",
        "\n",
        "\n",
        "visualize_lot_surface_columns(df = whole_data)"
      ],
      "id": "8cnoZGqo22JB",
      "execution_count": null,
      "outputs": [
        {
          "output_type": "display_data",
          "data": {
            "image/png": "[encoded data removed]",
            "text/plain": [
              "<Figure size 432x288 with 1 Axes>"
            ]
          },
          "metadata": {
            "needs_background": "light"
          }
        }
      ]
    },
    {
      "cell_type": "markdown",
      "metadata": {
        "id": "7953ec62"
      },
      "source": [
        "**I suggest to drop Columns lot3_surface_carrez, lot4_surface_carrez, and lot5_surface_carrez**"
      ],
      "id": "7953ec62"
    },
    {
      "cell_type": "markdown",
      "metadata": {
        "id": "38b40a0c"
      },
      "source": [
        "#### lot_numero"
      ],
      "id": "38b40a0c"
    },
    {
      "cell_type": "code",
      "metadata": {
        "colab": {
          "base_uri": "https://localhost:8080/",
          "height": 280
        },
        "id": "C6U3S6yQ5Qff",
        "outputId": "63b07f99-e554-4614-b37e-eeedc8677630"
      },
      "source": [
        "def visualize_lot_numero_columns(df):\n",
        "  L = ['lot1_numero', 'lot2_numero',\n",
        "       'lot3_numero', 'lot4_numero',\n",
        "       'lot5_numero']\n",
        "  K = []\n",
        "  for i in L:\n",
        "    m = decide_drop_column(df = df, col_name= i)\n",
        "    K.append(m)\n",
        "\n",
        "  dx = pd.DataFrame({'lot_numero':list(np.arange(1,6)), 'count real values':K})\n",
        "  dx.plot.bar(x='lot_numero', y='count real values', rot=0, color=plt.cm.Paired(np.arange(5)));\n",
        "\n",
        "\n",
        "visualize_lot_numero_columns(df = whole_data)"
      ],
      "id": "C6U3S6yQ5Qff",
      "execution_count": null,
      "outputs": [
        {
          "output_type": "display_data",
          "data": {
            "image/png": "[encoded data removed]",
            "text/plain": [
              "<Figure size 432x288 with 1 Axes>"
            ]
          },
          "metadata": {
            "needs_background": "light"
          }
        }
      ]
    },
    {
      "cell_type": "markdown",
      "metadata": {
        "id": "dBEB30v7oSEm"
      },
      "source": [
        "## Exploring missing values (NaN) for Data, excluding Industrial local type \n"
      ],
      "id": "dBEB30v7oSEm"
    },
    {
      "cell_type": "code",
      "metadata": {
        "colab": {
          "base_uri": "https://localhost:8080/"
        },
        "id": "Xvmexs_spmLt",
        "outputId": "f28fc418-4710-44b6-a41d-eabad4972f11"
      },
      "source": [
        "# To check that industrial local type does not exist in this data\n",
        "data['type_local'].value_counts()"
      ],
      "id": "Xvmexs_spmLt",
      "execution_count": null,
      "outputs": [
        {
          "output_type": "execute_result",
          "data": {
            "text/plain": [
              "Maison         528257\n",
              "Appartement    402271\n",
              "Dépendance     298369\n",
              "Name: type_local, dtype: int64"
            ]
          },
          "metadata": {},
          "execution_count": 125
        }
      ]
    },
    {
      "cell_type": "code",
      "metadata": {
        "colab": {
          "base_uri": "https://localhost:8080/",
          "height": 1000
        },
        "id": "7XjD5qZ4pmWL",
        "outputId": "3a2418a7-e512-4f98-d533-1014aca8abe4"
      },
      "source": [
        "missing_df = get_count_of_missing_values(df = data)\n",
        "missing_df"
      ],
      "id": "7XjD5qZ4pmWL",
      "execution_count": null,
      "outputs": [
        {
          "output_type": "execute_result",
          "data": {
            "text/html": [
              "<div>\n",
              "<style scoped>\n",
              "    .dataframe tbody tr th:only-of-type {\n",
              "        vertical-align: middle;\n",
              "    }\n",
              "\n",
              "    .dataframe tbody tr th {\n",
              "        vertical-align: top;\n",
              "    }\n",
              "\n",
              "    .dataframe thead th {\n",
              "        text-align: right;\n",
              "    }\n",
              "</style>\n",
              "<table border=\"1\" class=\"dataframe\">\n",
              "  <thead>\n",
              "    <tr style=\"text-align: right;\">\n",
              "      <th></th>\n",
              "      <th>0</th>\n",
              "    </tr>\n",
              "  </thead>\n",
              "  <tbody>\n",
              "    <tr>\n",
              "      <th>ancien_code_commune</th>\n",
              "      <td>2372622</td>\n",
              "    </tr>\n",
              "    <tr>\n",
              "      <th>ancien_nom_commune</th>\n",
              "      <td>2372622</td>\n",
              "    </tr>\n",
              "    <tr>\n",
              "      <th>ancien_id_parcelle</th>\n",
              "      <td>2372622</td>\n",
              "    </tr>\n",
              "    <tr>\n",
              "      <th>lot5_surface_carrez</th>\n",
              "      <td>2372302</td>\n",
              "    </tr>\n",
              "    <tr>\n",
              "      <th>lot4_surface_carrez</th>\n",
              "      <td>2371776</td>\n",
              "    </tr>\n",
              "    <tr>\n",
              "      <th>lot5_numero</th>\n",
              "      <td>2370089</td>\n",
              "    </tr>\n",
              "    <tr>\n",
              "      <th>lot3_surface_carrez</th>\n",
              "      <td>2368557</td>\n",
              "    </tr>\n",
              "    <tr>\n",
              "      <th>lot4_numero</th>\n",
              "      <td>2366244</td>\n",
              "    </tr>\n",
              "    <tr>\n",
              "      <th>numero_volume</th>\n",
              "      <td>2365857</td>\n",
              "    </tr>\n",
              "    <tr>\n",
              "      <th>lot3_numero</th>\n",
              "      <td>2351577</td>\n",
              "    </tr>\n",
              "    <tr>\n",
              "      <th>lot2_surface_carrez</th>\n",
              "      <td>2324008</td>\n",
              "    </tr>\n",
              "    <tr>\n",
              "      <th>adresse_suffixe</th>\n",
              "      <td>2272611</td>\n",
              "    </tr>\n",
              "    <tr>\n",
              "      <th>nature_culture_speciale</th>\n",
              "      <td>2266253</td>\n",
              "    </tr>\n",
              "    <tr>\n",
              "      <th>code_nature_culture_speciale</th>\n",
              "      <td>2266253</td>\n",
              "    </tr>\n",
              "    <tr>\n",
              "      <th>lot2_numero</th>\n",
              "      <td>2226552</td>\n",
              "    </tr>\n",
              "    <tr>\n",
              "      <th>lot1_surface_carrez</th>\n",
              "      <td>2176274</td>\n",
              "    </tr>\n",
              "    <tr>\n",
              "      <th>lot1_numero</th>\n",
              "      <td>1650485</td>\n",
              "    </tr>\n",
              "    <tr>\n",
              "      <th>surface_reelle_bati</th>\n",
              "      <td>1442106</td>\n",
              "    </tr>\n",
              "    <tr>\n",
              "      <th>nombre_pieces_principales</th>\n",
              "      <td>1143744</td>\n",
              "    </tr>\n",
              "    <tr>\n",
              "      <th>code_type_local</th>\n",
              "      <td>1143726</td>\n",
              "    </tr>\n",
              "    <tr>\n",
              "      <th>type_local</th>\n",
              "      <td>1143726</td>\n",
              "    </tr>\n",
              "    <tr>\n",
              "      <th>adresse_numero</th>\n",
              "      <td>988845</td>\n",
              "    </tr>\n",
              "    <tr>\n",
              "      <th>surface_terrain</th>\n",
              "      <td>732415</td>\n",
              "    </tr>\n",
              "    <tr>\n",
              "      <th>code_nature_culture</th>\n",
              "      <td>732356</td>\n",
              "    </tr>\n",
              "    <tr>\n",
              "      <th>nature_culture</th>\n",
              "      <td>732356</td>\n",
              "    </tr>\n",
              "    <tr>\n",
              "      <th>adresse_nom_voie</th>\n",
              "      <td>31121</td>\n",
              "    </tr>\n",
              "    <tr>\n",
              "      <th>code_postal</th>\n",
              "      <td>30990</td>\n",
              "    </tr>\n",
              "    <tr>\n",
              "      <th>adresse_code_voie</th>\n",
              "      <td>30948</td>\n",
              "    </tr>\n",
              "    <tr>\n",
              "      <th>valeur_fonciere</th>\n",
              "      <td>30402</td>\n",
              "    </tr>\n",
              "    <tr>\n",
              "      <th>latitude</th>\n",
              "      <td>29112</td>\n",
              "    </tr>\n",
              "    <tr>\n",
              "      <th>longitude</th>\n",
              "      <td>29112</td>\n",
              "    </tr>\n",
              "    <tr>\n",
              "      <th>code_commune</th>\n",
              "      <td>0</td>\n",
              "    </tr>\n",
              "    <tr>\n",
              "      <th>nom_commune</th>\n",
              "      <td>0</td>\n",
              "    </tr>\n",
              "    <tr>\n",
              "      <th>code_departement</th>\n",
              "      <td>0</td>\n",
              "    </tr>\n",
              "    <tr>\n",
              "      <th>id_parcelle</th>\n",
              "      <td>0</td>\n",
              "    </tr>\n",
              "    <tr>\n",
              "      <th>nombre_lots</th>\n",
              "      <td>0</td>\n",
              "    </tr>\n",
              "    <tr>\n",
              "      <th>nature_mutation</th>\n",
              "      <td>0</td>\n",
              "    </tr>\n",
              "    <tr>\n",
              "      <th>numero_disposition</th>\n",
              "      <td>0</td>\n",
              "    </tr>\n",
              "    <tr>\n",
              "      <th>date_mutation</th>\n",
              "      <td>0</td>\n",
              "    </tr>\n",
              "    <tr>\n",
              "      <th>id_mutation</th>\n",
              "      <td>0</td>\n",
              "    </tr>\n",
              "  </tbody>\n",
              "</table>\n",
              "</div>"
            ],
            "text/plain": [
              "                                    0\n",
              "ancien_code_commune           2372622\n",
              "ancien_nom_commune            2372622\n",
              "ancien_id_parcelle            2372622\n",
              "lot5_surface_carrez           2372302\n",
              "lot4_surface_carrez           2371776\n",
              "lot5_numero                   2370089\n",
              "lot3_surface_carrez           2368557\n",
              "lot4_numero                   2366244\n",
              "numero_volume                 2365857\n",
              "lot3_numero                   2351577\n",
              "lot2_surface_carrez           2324008\n",
              "adresse_suffixe               2272611\n",
              "nature_culture_speciale       2266253\n",
              "code_nature_culture_speciale  2266253\n",
              "lot2_numero                   2226552\n",
              "lot1_surface_carrez           2176274\n",
              "lot1_numero                   1650485\n",
              "surface_reelle_bati           1442106\n",
              "nombre_pieces_principales     1143744\n",
              "code_type_local               1143726\n",
              "type_local                    1143726\n",
              "adresse_numero                 988845\n",
              "surface_terrain                732415\n",
              "code_nature_culture            732356\n",
              "nature_culture                 732356\n",
              "adresse_nom_voie                31121\n",
              "code_postal                     30990\n",
              "adresse_code_voie               30948\n",
              "valeur_fonciere                 30402\n",
              "latitude                        29112\n",
              "longitude                       29112\n",
              "code_commune                        0\n",
              "nom_commune                         0\n",
              "code_departement                    0\n",
              "id_parcelle                         0\n",
              "nombre_lots                         0\n",
              "nature_mutation                     0\n",
              "numero_disposition                  0\n",
              "date_mutation                       0\n",
              "id_mutation                         0"
            ]
          },
          "metadata": {},
          "execution_count": 126
        }
      ]
    },
    {
      "cell_type": "code",
      "metadata": {
        "colab": {
          "base_uri": "https://localhost:8080/",
          "height": 1000
        },
        "id": "2rXYccCdpmZb",
        "outputId": "1f7d12b8-2f64-4e8f-d1b4-3fdd709fd320"
      },
      "source": [
        "L = [] #missing_df['Dtype']\n",
        "for i in missing_df.index:\n",
        "  if i in list_objects:\n",
        "    L.append('Object')\n",
        "  elif i in list_floats:\n",
        "    L.append('float')\n",
        "  else:\n",
        "    L.append('int')\n",
        "\n",
        "missing_df['Dtype'] = L\n",
        "missing_df"
      ],
      "id": "2rXYccCdpmZb",
      "execution_count": null,
      "outputs": [
        {
          "output_type": "execute_result",
          "data": {
            "text/html": [
              "<div>\n",
              "<style scoped>\n",
              "    .dataframe tbody tr th:only-of-type {\n",
              "        vertical-align: middle;\n",
              "    }\n",
              "\n",
              "    .dataframe tbody tr th {\n",
              "        vertical-align: top;\n",
              "    }\n",
              "\n",
              "    .dataframe thead th {\n",
              "        text-align: right;\n",
              "    }\n",
              "</style>\n",
              "<table border=\"1\" class=\"dataframe\">\n",
              "  <thead>\n",
              "    <tr style=\"text-align: right;\">\n",
              "      <th></th>\n",
              "      <th>0</th>\n",
              "      <th>Dtype</th>\n",
              "    </tr>\n",
              "  </thead>\n",
              "  <tbody>\n",
              "    <tr>\n",
              "      <th>ancien_code_commune</th>\n",
              "      <td>2372622</td>\n",
              "      <td>float</td>\n",
              "    </tr>\n",
              "    <tr>\n",
              "      <th>ancien_nom_commune</th>\n",
              "      <td>2372622</td>\n",
              "      <td>Object</td>\n",
              "    </tr>\n",
              "    <tr>\n",
              "      <th>ancien_id_parcelle</th>\n",
              "      <td>2372622</td>\n",
              "      <td>Object</td>\n",
              "    </tr>\n",
              "    <tr>\n",
              "      <th>lot5_surface_carrez</th>\n",
              "      <td>2372302</td>\n",
              "      <td>float</td>\n",
              "    </tr>\n",
              "    <tr>\n",
              "      <th>lot4_surface_carrez</th>\n",
              "      <td>2371776</td>\n",
              "      <td>float</td>\n",
              "    </tr>\n",
              "    <tr>\n",
              "      <th>lot5_numero</th>\n",
              "      <td>2370089</td>\n",
              "      <td>float</td>\n",
              "    </tr>\n",
              "    <tr>\n",
              "      <th>lot3_surface_carrez</th>\n",
              "      <td>2368557</td>\n",
              "      <td>float</td>\n",
              "    </tr>\n",
              "    <tr>\n",
              "      <th>lot4_numero</th>\n",
              "      <td>2366244</td>\n",
              "      <td>float</td>\n",
              "    </tr>\n",
              "    <tr>\n",
              "      <th>numero_volume</th>\n",
              "      <td>2365857</td>\n",
              "      <td>Object</td>\n",
              "    </tr>\n",
              "    <tr>\n",
              "      <th>lot3_numero</th>\n",
              "      <td>2351577</td>\n",
              "      <td>Object</td>\n",
              "    </tr>\n",
              "    <tr>\n",
              "      <th>lot2_surface_carrez</th>\n",
              "      <td>2324008</td>\n",
              "      <td>float</td>\n",
              "    </tr>\n",
              "    <tr>\n",
              "      <th>adresse_suffixe</th>\n",
              "      <td>2272611</td>\n",
              "      <td>Object</td>\n",
              "    </tr>\n",
              "    <tr>\n",
              "      <th>nature_culture_speciale</th>\n",
              "      <td>2266253</td>\n",
              "      <td>Object</td>\n",
              "    </tr>\n",
              "    <tr>\n",
              "      <th>code_nature_culture_speciale</th>\n",
              "      <td>2266253</td>\n",
              "      <td>Object</td>\n",
              "    </tr>\n",
              "    <tr>\n",
              "      <th>lot2_numero</th>\n",
              "      <td>2226552</td>\n",
              "      <td>Object</td>\n",
              "    </tr>\n",
              "    <tr>\n",
              "      <th>lot1_surface_carrez</th>\n",
              "      <td>2176274</td>\n",
              "      <td>float</td>\n",
              "    </tr>\n",
              "    <tr>\n",
              "      <th>lot1_numero</th>\n",
              "      <td>1650485</td>\n",
              "      <td>Object</td>\n",
              "    </tr>\n",
              "    <tr>\n",
              "      <th>surface_reelle_bati</th>\n",
              "      <td>1442106</td>\n",
              "      <td>float</td>\n",
              "    </tr>\n",
              "    <tr>\n",
              "      <th>nombre_pieces_principales</th>\n",
              "      <td>1143744</td>\n",
              "      <td>float</td>\n",
              "    </tr>\n",
              "    <tr>\n",
              "      <th>code_type_local</th>\n",
              "      <td>1143726</td>\n",
              "      <td>float</td>\n",
              "    </tr>\n",
              "    <tr>\n",
              "      <th>type_local</th>\n",
              "      <td>1143726</td>\n",
              "      <td>Object</td>\n",
              "    </tr>\n",
              "    <tr>\n",
              "      <th>adresse_numero</th>\n",
              "      <td>988845</td>\n",
              "      <td>float</td>\n",
              "    </tr>\n",
              "    <tr>\n",
              "      <th>surface_terrain</th>\n",
              "      <td>732415</td>\n",
              "      <td>float</td>\n",
              "    </tr>\n",
              "    <tr>\n",
              "      <th>code_nature_culture</th>\n",
              "      <td>732356</td>\n",
              "      <td>Object</td>\n",
              "    </tr>\n",
              "    <tr>\n",
              "      <th>nature_culture</th>\n",
              "      <td>732356</td>\n",
              "      <td>Object</td>\n",
              "    </tr>\n",
              "    <tr>\n",
              "      <th>adresse_nom_voie</th>\n",
              "      <td>31121</td>\n",
              "      <td>Object</td>\n",
              "    </tr>\n",
              "    <tr>\n",
              "      <th>code_postal</th>\n",
              "      <td>30990</td>\n",
              "      <td>float</td>\n",
              "    </tr>\n",
              "    <tr>\n",
              "      <th>adresse_code_voie</th>\n",
              "      <td>30948</td>\n",
              "      <td>Object</td>\n",
              "    </tr>\n",
              "    <tr>\n",
              "      <th>valeur_fonciere</th>\n",
              "      <td>30402</td>\n",
              "      <td>float</td>\n",
              "    </tr>\n",
              "    <tr>\n",
              "      <th>latitude</th>\n",
              "      <td>29112</td>\n",
              "      <td>float</td>\n",
              "    </tr>\n",
              "    <tr>\n",
              "      <th>longitude</th>\n",
              "      <td>29112</td>\n",
              "      <td>float</td>\n",
              "    </tr>\n",
              "    <tr>\n",
              "      <th>code_commune</th>\n",
              "      <td>0</td>\n",
              "      <td>Object</td>\n",
              "    </tr>\n",
              "    <tr>\n",
              "      <th>nom_commune</th>\n",
              "      <td>0</td>\n",
              "      <td>Object</td>\n",
              "    </tr>\n",
              "    <tr>\n",
              "      <th>code_departement</th>\n",
              "      <td>0</td>\n",
              "      <td>Object</td>\n",
              "    </tr>\n",
              "    <tr>\n",
              "      <th>id_parcelle</th>\n",
              "      <td>0</td>\n",
              "      <td>Object</td>\n",
              "    </tr>\n",
              "    <tr>\n",
              "      <th>nombre_lots</th>\n",
              "      <td>0</td>\n",
              "      <td>int</td>\n",
              "    </tr>\n",
              "    <tr>\n",
              "      <th>nature_mutation</th>\n",
              "      <td>0</td>\n",
              "      <td>Object</td>\n",
              "    </tr>\n",
              "    <tr>\n",
              "      <th>numero_disposition</th>\n",
              "      <td>0</td>\n",
              "      <td>int</td>\n",
              "    </tr>\n",
              "    <tr>\n",
              "      <th>date_mutation</th>\n",
              "      <td>0</td>\n",
              "      <td>Object</td>\n",
              "    </tr>\n",
              "    <tr>\n",
              "      <th>id_mutation</th>\n",
              "      <td>0</td>\n",
              "      <td>Object</td>\n",
              "    </tr>\n",
              "  </tbody>\n",
              "</table>\n",
              "</div>"
            ],
            "text/plain": [
              "                                    0   Dtype\n",
              "ancien_code_commune           2372622   float\n",
              "ancien_nom_commune            2372622  Object\n",
              "ancien_id_parcelle            2372622  Object\n",
              "lot5_surface_carrez           2372302   float\n",
              "lot4_surface_carrez           2371776   float\n",
              "lot5_numero                   2370089   float\n",
              "lot3_surface_carrez           2368557   float\n",
              "lot4_numero                   2366244   float\n",
              "numero_volume                 2365857  Object\n",
              "lot3_numero                   2351577  Object\n",
              "lot2_surface_carrez           2324008   float\n",
              "adresse_suffixe               2272611  Object\n",
              "nature_culture_speciale       2266253  Object\n",
              "code_nature_culture_speciale  2266253  Object\n",
              "lot2_numero                   2226552  Object\n",
              "lot1_surface_carrez           2176274   float\n",
              "lot1_numero                   1650485  Object\n",
              "surface_reelle_bati           1442106   float\n",
              "nombre_pieces_principales     1143744   float\n",
              "code_type_local               1143726   float\n",
              "type_local                    1143726  Object\n",
              "adresse_numero                 988845   float\n",
              "surface_terrain                732415   float\n",
              "code_nature_culture            732356  Object\n",
              "nature_culture                 732356  Object\n",
              "adresse_nom_voie                31121  Object\n",
              "code_postal                     30990   float\n",
              "adresse_code_voie               30948  Object\n",
              "valeur_fonciere                 30402   float\n",
              "latitude                        29112   float\n",
              "longitude                       29112   float\n",
              "code_commune                        0  Object\n",
              "nom_commune                         0  Object\n",
              "code_departement                    0  Object\n",
              "id_parcelle                         0  Object\n",
              "nombre_lots                         0     int\n",
              "nature_mutation                     0  Object\n",
              "numero_disposition                  0     int\n",
              "date_mutation                       0  Object\n",
              "id_mutation                         0  Object"
            ]
          },
          "metadata": {},
          "execution_count": 127
        }
      ]
    },
    {
      "cell_type": "code",
      "metadata": {
        "colab": {
          "base_uri": "https://localhost:8080/"
        },
        "id": "5u-0FjNqpmcZ",
        "outputId": "a7ab2645-febb-4a6d-d0fc-b335b3428d2d"
      },
      "source": [
        "get_info_of_col_name(df = data, col_name = 'ancien_nom_commune')"
      ],
      "id": "5u-0FjNqpmcZ",
      "execution_count": null,
      "outputs": [
        {
          "output_type": "execute_result",
          "data": {
            "text/plain": [
              "[nan, 'Le Fresne-sur-Loire']"
            ]
          },
          "metadata": {},
          "execution_count": 128
        }
      ]
    },
    {
      "cell_type": "code",
      "metadata": {
        "colab": {
          "base_uri": "https://localhost:8080/"
        },
        "id": "OZYDnIq6pmfT",
        "outputId": "b9aed628-232c-44c6-b54d-77b2ccbbdd90"
      },
      "source": [
        "len(get_info_of_col_name(df = data, col_name = 'nom_commune'))"
      ],
      "id": "OZYDnIq6pmfT",
      "execution_count": null,
      "outputs": [
        {
          "output_type": "execute_result",
          "data": {
            "text/plain": [
              "29082"
            ]
          },
          "metadata": {},
          "execution_count": 129
        }
      ]
    },
    {
      "cell_type": "code",
      "metadata": {
        "colab": {
          "base_uri": "https://localhost:8080/"
        },
        "id": "KXuTUvIYpmma",
        "outputId": "47ba18d6-76aa-41e5-c5e3-6d23105f4881"
      },
      "source": [
        "if np.where(data['nom_commune'].unique() == 'Le Fresne-sur-Loire')[0].size ==0:\n",
        "  print(\"'Le Fresne-sur-Loire' does not exist\")\n",
        "else:\n",
        "  print(\"'Le Fresne-sur-Loire' exists\")"
      ],
      "id": "KXuTUvIYpmma",
      "execution_count": null,
      "outputs": [
        {
          "output_type": "stream",
          "text": [
            "'Le Fresne-sur-Loire' does not exist\n"
          ],
          "name": "stdout"
        }
      ]
    },
    {
      "cell_type": "code",
      "metadata": {
        "colab": {
          "base_uri": "https://localhost:8080/"
        },
        "id": "I41W_e1irO2U",
        "outputId": "d01f6d48-1cba-4291-b2be-fc37d3943199"
      },
      "source": [
        "get_info_of_col_name(df = data, col_name = 'ancien_code_commune')"
      ],
      "id": "I41W_e1irO2U",
      "execution_count": null,
      "outputs": [
        {
          "output_type": "execute_result",
          "data": {
            "text/plain": [
              "[nan, 49382.0]"
            ]
          },
          "metadata": {},
          "execution_count": 131
        }
      ]
    },
    {
      "cell_type": "code",
      "metadata": {
        "colab": {
          "base_uri": "https://localhost:8080/"
        },
        "id": "lEQIbI_trO5Q",
        "outputId": "ce70db00-782e-45b6-ae87-ecb686787bcc"
      },
      "source": [
        "code_commune = data['ancien_code_commune'].unique()[1]\n",
        "print(\"code_commune : \", code_commune)\n",
        "\n",
        "indexx = np.where(data['ancien_code_commune'] == code_commune)[0][0]\n",
        "indexx"
      ],
      "id": "lEQIbI_trO5Q",
      "execution_count": null,
      "outputs": [
        {
          "output_type": "stream",
          "text": [
            "code_commune :  49382.0\n"
          ],
          "name": "stdout"
        },
        {
          "output_type": "execute_result",
          "data": {
            "text/plain": [
              "1011854"
            ]
          },
          "metadata": {},
          "execution_count": 132
        }
      ]
    },
    {
      "cell_type": "code",
      "metadata": {
        "colab": {
          "base_uri": "https://localhost:8080/",
          "height": 100
        },
        "id": "XOZefE3UrO8d",
        "outputId": "90ff5eba-476a-4e50-a086-6b500473b40a"
      },
      "source": [
        "dt = pd.DataFrame(data.loc[indexx]).T\n",
        "dt"
      ],
      "id": "XOZefE3UrO8d",
      "execution_count": null,
      "outputs": [
        {
          "output_type": "execute_result",
          "data": {
            "text/html": [
              "<div>\n",
              "<style scoped>\n",
              "    .dataframe tbody tr th:only-of-type {\n",
              "        vertical-align: middle;\n",
              "    }\n",
              "\n",
              "    .dataframe tbody tr th {\n",
              "        vertical-align: top;\n",
              "    }\n",
              "\n",
              "    .dataframe thead th {\n",
              "        text-align: right;\n",
              "    }\n",
              "</style>\n",
              "<table border=\"1\" class=\"dataframe\">\n",
              "  <thead>\n",
              "    <tr style=\"text-align: right;\">\n",
              "      <th></th>\n",
              "      <th>id_mutation</th>\n",
              "      <th>date_mutation</th>\n",
              "      <th>numero_disposition</th>\n",
              "      <th>nature_mutation</th>\n",
              "      <th>valeur_fonciere</th>\n",
              "      <th>adresse_numero</th>\n",
              "      <th>adresse_suffixe</th>\n",
              "      <th>adresse_nom_voie</th>\n",
              "      <th>adresse_code_voie</th>\n",
              "      <th>code_postal</th>\n",
              "      <th>code_commune</th>\n",
              "      <th>nom_commune</th>\n",
              "      <th>code_departement</th>\n",
              "      <th>ancien_code_commune</th>\n",
              "      <th>ancien_nom_commune</th>\n",
              "      <th>id_parcelle</th>\n",
              "      <th>ancien_id_parcelle</th>\n",
              "      <th>numero_volume</th>\n",
              "      <th>lot1_numero</th>\n",
              "      <th>lot1_surface_carrez</th>\n",
              "      <th>lot2_numero</th>\n",
              "      <th>lot2_surface_carrez</th>\n",
              "      <th>lot3_numero</th>\n",
              "      <th>lot3_surface_carrez</th>\n",
              "      <th>lot4_numero</th>\n",
              "      <th>lot4_surface_carrez</th>\n",
              "      <th>lot5_numero</th>\n",
              "      <th>lot5_surface_carrez</th>\n",
              "      <th>nombre_lots</th>\n",
              "      <th>code_type_local</th>\n",
              "      <th>type_local</th>\n",
              "      <th>surface_reelle_bati</th>\n",
              "      <th>nombre_pieces_principales</th>\n",
              "      <th>code_nature_culture</th>\n",
              "      <th>nature_culture</th>\n",
              "      <th>code_nature_culture_speciale</th>\n",
              "      <th>nature_culture_speciale</th>\n",
              "      <th>surface_terrain</th>\n",
              "      <th>longitude</th>\n",
              "      <th>latitude</th>\n",
              "    </tr>\n",
              "  </thead>\n",
              "  <tbody>\n",
              "    <tr>\n",
              "      <th>1011854</th>\n",
              "      <td>2020-422038</td>\n",
              "      <td>2020-09-09</td>\n",
              "      <td>1</td>\n",
              "      <td>Vente</td>\n",
              "      <td>200000</td>\n",
              "      <td>3</td>\n",
              "      <td>NaN</td>\n",
              "      <td>AV SAINT THOMAS</td>\n",
              "      <td>7760</td>\n",
              "      <td>44100</td>\n",
              "      <td>44109</td>\n",
              "      <td>Nantes</td>\n",
              "      <td>44</td>\n",
              "      <td>NaN</td>\n",
              "      <td>NaN</td>\n",
              "      <td>44109000LN0315</td>\n",
              "      <td>NaN</td>\n",
              "      <td>NaN</td>\n",
              "      <td>41</td>\n",
              "      <td>NaN</td>\n",
              "      <td>50</td>\n",
              "      <td>67.37</td>\n",
              "      <td>NaN</td>\n",
              "      <td>NaN</td>\n",
              "      <td>NaN</td>\n",
              "      <td>NaN</td>\n",
              "      <td>NaN</td>\n",
              "      <td>NaN</td>\n",
              "      <td>2</td>\n",
              "      <td>2</td>\n",
              "      <td>Appartement</td>\n",
              "      <td>66</td>\n",
              "      <td>4</td>\n",
              "      <td>NaN</td>\n",
              "      <td>NaN</td>\n",
              "      <td>NaN</td>\n",
              "      <td>NaN</td>\n",
              "      <td>NaN</td>\n",
              "      <td>-1.59273</td>\n",
              "      <td>47.2171</td>\n",
              "    </tr>\n",
              "  </tbody>\n",
              "</table>\n",
              "</div>"
            ],
            "text/plain": [
              "         id_mutation date_mutation  ... longitude latitude\n",
              "1011854  2020-422038    2020-09-09  ...  -1.59273  47.2171\n",
              "\n",
              "[1 rows x 40 columns]"
            ]
          },
          "metadata": {},
          "execution_count": 133
        }
      ]
    },
    {
      "cell_type": "code",
      "metadata": {
        "colab": {
          "base_uri": "https://localhost:8080/"
        },
        "id": "3_FDxunrrO_g",
        "outputId": "c5ff9594-b354-48ce-b02b-e7b6a4b8468f"
      },
      "source": [
        "dt.isnull().sum().value_counts() #1 --> NaN  @@ 0 --> value"
      ],
      "id": "3_FDxunrrO_g",
      "execution_count": null,
      "outputs": [
        {
          "output_type": "execute_result",
          "data": {
            "text/plain": [
              "0    23\n",
              "1    17\n",
              "dtype: int64"
            ]
          },
          "metadata": {},
          "execution_count": 134
        }
      ]
    },
    {
      "cell_type": "code",
      "metadata": {
        "colab": {
          "base_uri": "https://localhost:8080/"
        },
        "id": "9FMtD9OmrzOT",
        "outputId": "41ee6c20-7099-4d6d-e48b-882f444bed8f"
      },
      "source": [
        "get_info_of_col_name(df = data, col_name = 'ancien_id_parcelle')"
      ],
      "id": "9FMtD9OmrzOT",
      "execution_count": null,
      "outputs": [
        {
          "output_type": "execute_result",
          "data": {
            "text/plain": [
              "[nan, '440600000B1194']"
            ]
          },
          "metadata": {},
          "execution_count": 135
        }
      ]
    },
    {
      "cell_type": "code",
      "metadata": {
        "colab": {
          "base_uri": "https://localhost:8080/",
          "height": 280
        },
        "id": "uIJa9FtLrzRt",
        "outputId": "4ba74847-fdee-4402-c755-38abb73577fa"
      },
      "source": [
        "visualize_lot_surface_columns(df = data)"
      ],
      "id": "uIJa9FtLrzRt",
      "execution_count": null,
      "outputs": [
        {
          "output_type": "display_data",
          "data": {
            "image/png": "[encoded data removed]",
            "text/plain": [
              "<Figure size 432x288 with 1 Axes>"
            ]
          },
          "metadata": {
            "needs_background": "light"
          }
        }
      ]
    },
    {
      "cell_type": "code",
      "metadata": {
        "colab": {
          "base_uri": "https://localhost:8080/",
          "height": 280
        },
        "id": "9Ry2yYj9rzVo",
        "outputId": "ff5d4c0e-6c92-4c98-bd23-9634403bd9d9"
      },
      "source": [
        "visualize_lot_numero_columns(df = data)"
      ],
      "id": "9Ry2yYj9rzVo",
      "execution_count": null,
      "outputs": [
        {
          "output_type": "display_data",
          "data": {
            "image/png": "[encoded data removed]",
            "text/plain": [
              "<Figure size 432x288 with 1 Axes>"
            ]
          },
          "metadata": {
            "needs_background": "light"
          }
        }
      ]
    }
  ]
}