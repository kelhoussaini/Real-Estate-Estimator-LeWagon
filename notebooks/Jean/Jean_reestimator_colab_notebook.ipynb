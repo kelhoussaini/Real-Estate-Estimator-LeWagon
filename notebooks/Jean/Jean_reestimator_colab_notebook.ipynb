{
  "nbformat": 4,
  "nbformat_minor": 0,
  "metadata": {
    "colab": {
      "name": "Jean_reestimator_colab_notebook.ipynb",
      "provenance": [],
      "collapsed_sections": []
    },
    "kernelspec": {
      "name": "python3",
      "display_name": "Python 3"
    },
    "language_info": {
      "name": "python"
    }
  },
  "cells": [
    {
      "cell_type": "code",
      "metadata": {
        "id": "Jnasi006guvV"
      },
      "source": [
        "import pandas as pd"
      ],
      "execution_count": 3,
      "outputs": []
    },
    {
      "cell_type": "markdown",
      "metadata": {
        "id": "aoybk8NIoZMi"
      },
      "source": [
        "## Cas d'un département où l'immobilier est peu cher, avec quelques villes mais assez peu urbanisé : le Finistère"
      ]
    },
    {
      "cell_type": "code",
      "metadata": {
        "colab": {
          "base_uri": "https://localhost:8080/",
          "height": 313
        },
        "id": "7HazwVAJnM8x",
        "outputId": "c247407d-31cb-4fe6-940a-26b6017dd0f1"
      },
      "source": [
        "data29 = pd.read_csv('https://files.data.gouv.fr/geo-dvf/latest/csv/2020/departements/29.csv.gz')\n",
        "data29.head()"
      ],
      "execution_count": 4,
      "outputs": [
        {
          "output_type": "execute_result",
          "data": {
            "text/html": [
              "<div>\n",
              "<style scoped>\n",
              "    .dataframe tbody tr th:only-of-type {\n",
              "        vertical-align: middle;\n",
              "    }\n",
              "\n",
              "    .dataframe tbody tr th {\n",
              "        vertical-align: top;\n",
              "    }\n",
              "\n",
              "    .dataframe thead th {\n",
              "        text-align: right;\n",
              "    }\n",
              "</style>\n",
              "<table border=\"1\" class=\"dataframe\">\n",
              "  <thead>\n",
              "    <tr style=\"text-align: right;\">\n",
              "      <th></th>\n",
              "      <th>id_mutation</th>\n",
              "      <th>date_mutation</th>\n",
              "      <th>numero_disposition</th>\n",
              "      <th>nature_mutation</th>\n",
              "      <th>valeur_fonciere</th>\n",
              "      <th>adresse_numero</th>\n",
              "      <th>adresse_suffixe</th>\n",
              "      <th>adresse_nom_voie</th>\n",
              "      <th>adresse_code_voie</th>\n",
              "      <th>code_postal</th>\n",
              "      <th>code_commune</th>\n",
              "      <th>nom_commune</th>\n",
              "      <th>code_departement</th>\n",
              "      <th>ancien_code_commune</th>\n",
              "      <th>ancien_nom_commune</th>\n",
              "      <th>id_parcelle</th>\n",
              "      <th>ancien_id_parcelle</th>\n",
              "      <th>numero_volume</th>\n",
              "      <th>lot1_numero</th>\n",
              "      <th>lot1_surface_carrez</th>\n",
              "      <th>lot2_numero</th>\n",
              "      <th>lot2_surface_carrez</th>\n",
              "      <th>lot3_numero</th>\n",
              "      <th>lot3_surface_carrez</th>\n",
              "      <th>lot4_numero</th>\n",
              "      <th>lot4_surface_carrez</th>\n",
              "      <th>lot5_numero</th>\n",
              "      <th>lot5_surface_carrez</th>\n",
              "      <th>nombre_lots</th>\n",
              "      <th>code_type_local</th>\n",
              "      <th>type_local</th>\n",
              "      <th>surface_reelle_bati</th>\n",
              "      <th>nombre_pieces_principales</th>\n",
              "      <th>code_nature_culture</th>\n",
              "      <th>nature_culture</th>\n",
              "      <th>code_nature_culture_speciale</th>\n",
              "      <th>nature_culture_speciale</th>\n",
              "      <th>surface_terrain</th>\n",
              "      <th>longitude</th>\n",
              "      <th>latitude</th>\n",
              "    </tr>\n",
              "  </thead>\n",
              "  <tbody>\n",
              "    <tr>\n",
              "      <th>0</th>\n",
              "      <td>2020-218356</td>\n",
              "      <td>2020-01-03</td>\n",
              "      <td>1</td>\n",
              "      <td>Vente</td>\n",
              "      <td>650000.0</td>\n",
              "      <td>14.0</td>\n",
              "      <td>NaN</td>\n",
              "      <td>HAM DES HAUTS DU GUERN</td>\n",
              "      <td>A428</td>\n",
              "      <td>29940.0</td>\n",
              "      <td>29057</td>\n",
              "      <td>La Forêt-Fouesnant</td>\n",
              "      <td>29</td>\n",
              "      <td>NaN</td>\n",
              "      <td>NaN</td>\n",
              "      <td>29057000AS0119</td>\n",
              "      <td>NaN</td>\n",
              "      <td>NaN</td>\n",
              "      <td>NaN</td>\n",
              "      <td>NaN</td>\n",
              "      <td>NaN</td>\n",
              "      <td>NaN</td>\n",
              "      <td>NaN</td>\n",
              "      <td>NaN</td>\n",
              "      <td>NaN</td>\n",
              "      <td>NaN</td>\n",
              "      <td>NaN</td>\n",
              "      <td>NaN</td>\n",
              "      <td>0</td>\n",
              "      <td>1.0</td>\n",
              "      <td>Maison</td>\n",
              "      <td>218.0</td>\n",
              "      <td>5.0</td>\n",
              "      <td>S</td>\n",
              "      <td>sols</td>\n",
              "      <td>NaN</td>\n",
              "      <td>NaN</td>\n",
              "      <td>500.0</td>\n",
              "      <td>-3.954603</td>\n",
              "      <td>47.906849</td>\n",
              "    </tr>\n",
              "    <tr>\n",
              "      <th>1</th>\n",
              "      <td>2020-218356</td>\n",
              "      <td>2020-01-03</td>\n",
              "      <td>1</td>\n",
              "      <td>Vente</td>\n",
              "      <td>650000.0</td>\n",
              "      <td>14.0</td>\n",
              "      <td>NaN</td>\n",
              "      <td>HAM DES HAUTS DU GUERN</td>\n",
              "      <td>A428</td>\n",
              "      <td>29940.0</td>\n",
              "      <td>29057</td>\n",
              "      <td>La Forêt-Fouesnant</td>\n",
              "      <td>29</td>\n",
              "      <td>NaN</td>\n",
              "      <td>NaN</td>\n",
              "      <td>29057000AS0119</td>\n",
              "      <td>NaN</td>\n",
              "      <td>NaN</td>\n",
              "      <td>NaN</td>\n",
              "      <td>NaN</td>\n",
              "      <td>NaN</td>\n",
              "      <td>NaN</td>\n",
              "      <td>NaN</td>\n",
              "      <td>NaN</td>\n",
              "      <td>NaN</td>\n",
              "      <td>NaN</td>\n",
              "      <td>NaN</td>\n",
              "      <td>NaN</td>\n",
              "      <td>0</td>\n",
              "      <td>1.0</td>\n",
              "      <td>Maison</td>\n",
              "      <td>218.0</td>\n",
              "      <td>5.0</td>\n",
              "      <td>AG</td>\n",
              "      <td>terrains d'agrément</td>\n",
              "      <td>NaN</td>\n",
              "      <td>NaN</td>\n",
              "      <td>1117.0</td>\n",
              "      <td>-3.954603</td>\n",
              "      <td>47.906849</td>\n",
              "    </tr>\n",
              "    <tr>\n",
              "      <th>2</th>\n",
              "      <td>2020-218357</td>\n",
              "      <td>2020-01-04</td>\n",
              "      <td>1</td>\n",
              "      <td>Vente</td>\n",
              "      <td>69700.0</td>\n",
              "      <td>259.0</td>\n",
              "      <td>A</td>\n",
              "      <td>LANNOAN</td>\n",
              "      <td>B062</td>\n",
              "      <td>29770.0</td>\n",
              "      <td>29028</td>\n",
              "      <td>Cléden-Cap-Sizun</td>\n",
              "      <td>29</td>\n",
              "      <td>NaN</td>\n",
              "      <td>NaN</td>\n",
              "      <td>29028000ZP0163</td>\n",
              "      <td>NaN</td>\n",
              "      <td>NaN</td>\n",
              "      <td>NaN</td>\n",
              "      <td>NaN</td>\n",
              "      <td>NaN</td>\n",
              "      <td>NaN</td>\n",
              "      <td>NaN</td>\n",
              "      <td>NaN</td>\n",
              "      <td>NaN</td>\n",
              "      <td>NaN</td>\n",
              "      <td>NaN</td>\n",
              "      <td>NaN</td>\n",
              "      <td>0</td>\n",
              "      <td>1.0</td>\n",
              "      <td>Maison</td>\n",
              "      <td>54.0</td>\n",
              "      <td>2.0</td>\n",
              "      <td>S</td>\n",
              "      <td>sols</td>\n",
              "      <td>NaN</td>\n",
              "      <td>NaN</td>\n",
              "      <td>515.0</td>\n",
              "      <td>-4.656430</td>\n",
              "      <td>48.046952</td>\n",
              "    </tr>\n",
              "    <tr>\n",
              "      <th>3</th>\n",
              "      <td>2020-218358</td>\n",
              "      <td>2020-01-02</td>\n",
              "      <td>1</td>\n",
              "      <td>Vente</td>\n",
              "      <td>250000.0</td>\n",
              "      <td>17.0</td>\n",
              "      <td>NaN</td>\n",
              "      <td>RUE DE KROAS PRENN</td>\n",
              "      <td>0450</td>\n",
              "      <td>29940.0</td>\n",
              "      <td>29057</td>\n",
              "      <td>La Forêt-Fouesnant</td>\n",
              "      <td>29</td>\n",
              "      <td>NaN</td>\n",
              "      <td>NaN</td>\n",
              "      <td>29057000AO0058</td>\n",
              "      <td>NaN</td>\n",
              "      <td>NaN</td>\n",
              "      <td>NaN</td>\n",
              "      <td>NaN</td>\n",
              "      <td>NaN</td>\n",
              "      <td>NaN</td>\n",
              "      <td>NaN</td>\n",
              "      <td>NaN</td>\n",
              "      <td>NaN</td>\n",
              "      <td>NaN</td>\n",
              "      <td>NaN</td>\n",
              "      <td>NaN</td>\n",
              "      <td>0</td>\n",
              "      <td>1.0</td>\n",
              "      <td>Maison</td>\n",
              "      <td>120.0</td>\n",
              "      <td>3.0</td>\n",
              "      <td>S</td>\n",
              "      <td>sols</td>\n",
              "      <td>NaN</td>\n",
              "      <td>NaN</td>\n",
              "      <td>362.0</td>\n",
              "      <td>-3.984213</td>\n",
              "      <td>47.907859</td>\n",
              "    </tr>\n",
              "    <tr>\n",
              "      <th>4</th>\n",
              "      <td>2020-218359</td>\n",
              "      <td>2020-01-04</td>\n",
              "      <td>1</td>\n",
              "      <td>Vente</td>\n",
              "      <td>54900.0</td>\n",
              "      <td>27.0</td>\n",
              "      <td>NaN</td>\n",
              "      <td>RTE DE PONT L ABBE</td>\n",
              "      <td>5220</td>\n",
              "      <td>29000.0</td>\n",
              "      <td>29232</td>\n",
              "      <td>Quimper</td>\n",
              "      <td>29</td>\n",
              "      <td>NaN</td>\n",
              "      <td>NaN</td>\n",
              "      <td>29232000CS0014</td>\n",
              "      <td>NaN</td>\n",
              "      <td>NaN</td>\n",
              "      <td>28.0</td>\n",
              "      <td>NaN</td>\n",
              "      <td>47.0</td>\n",
              "      <td>68.16</td>\n",
              "      <td>NaN</td>\n",
              "      <td>NaN</td>\n",
              "      <td>NaN</td>\n",
              "      <td>NaN</td>\n",
              "      <td>NaN</td>\n",
              "      <td>NaN</td>\n",
              "      <td>2</td>\n",
              "      <td>2.0</td>\n",
              "      <td>Appartement</td>\n",
              "      <td>70.0</td>\n",
              "      <td>3.0</td>\n",
              "      <td>NaN</td>\n",
              "      <td>NaN</td>\n",
              "      <td>NaN</td>\n",
              "      <td>NaN</td>\n",
              "      <td>NaN</td>\n",
              "      <td>-4.119570</td>\n",
              "      <td>47.989019</td>\n",
              "    </tr>\n",
              "  </tbody>\n",
              "</table>\n",
              "</div>"
            ],
            "text/plain": [
              "   id_mutation date_mutation  ...  longitude   latitude\n",
              "0  2020-218356    2020-01-03  ...  -3.954603  47.906849\n",
              "1  2020-218356    2020-01-03  ...  -3.954603  47.906849\n",
              "2  2020-218357    2020-01-04  ...  -4.656430  48.046952\n",
              "3  2020-218358    2020-01-02  ...  -3.984213  47.907859\n",
              "4  2020-218359    2020-01-04  ...  -4.119570  47.989019\n",
              "\n",
              "[5 rows x 40 columns]"
            ]
          },
          "metadata": {},
          "execution_count": 4
        }
      ]
    },
    {
      "cell_type": "markdown",
      "metadata": {
        "id": "pJpMyiNDpEHu"
      },
      "source": [
        "### Liste des colonnes "
      ]
    },
    {
      "cell_type": "code",
      "metadata": {
        "colab": {
          "base_uri": "https://localhost:8080/"
        },
        "id": "FGczDEsqpC6W",
        "outputId": "dca14aeb-f295-4021-84f4-39b88fd43902"
      },
      "source": [
        "data29.columns"
      ],
      "execution_count": 5,
      "outputs": [
        {
          "output_type": "execute_result",
          "data": {
            "text/plain": [
              "Index(['id_mutation', 'date_mutation', 'numero_disposition', 'nature_mutation',\n",
              "       'valeur_fonciere', 'adresse_numero', 'adresse_suffixe',\n",
              "       'adresse_nom_voie', 'adresse_code_voie', 'code_postal', 'code_commune',\n",
              "       'nom_commune', 'code_departement', 'ancien_code_commune',\n",
              "       'ancien_nom_commune', 'id_parcelle', 'ancien_id_parcelle',\n",
              "       'numero_volume', 'lot1_numero', 'lot1_surface_carrez', 'lot2_numero',\n",
              "       'lot2_surface_carrez', 'lot3_numero', 'lot3_surface_carrez',\n",
              "       'lot4_numero', 'lot4_surface_carrez', 'lot5_numero',\n",
              "       'lot5_surface_carrez', 'nombre_lots', 'code_type_local', 'type_local',\n",
              "       'surface_reelle_bati', 'nombre_pieces_principales',\n",
              "       'code_nature_culture', 'nature_culture', 'code_nature_culture_speciale',\n",
              "       'nature_culture_speciale', 'surface_terrain', 'longitude', 'latitude'],\n",
              "      dtype='object')"
            ]
          },
          "metadata": {},
          "execution_count": 5
        }
      ]
    },
    {
      "cell_type": "code",
      "metadata": {
        "colab": {
          "base_uri": "https://localhost:8080/"
        },
        "id": "CpQUVDjNunGW",
        "outputId": "8dc14247-0a07-4a88-9b57-a81e47faba2a"
      },
      "source": [
        "data29.info()"
      ],
      "execution_count": 6,
      "outputs": [
        {
          "output_type": "stream",
          "text": [
            "<class 'pandas.core.frame.DataFrame'>\n",
            "RangeIndex: 15760 entries, 0 to 15759\n",
            "Data columns (total 40 columns):\n",
            " #   Column                        Non-Null Count  Dtype  \n",
            "---  ------                        --------------  -----  \n",
            " 0   id_mutation                   15760 non-null  object \n",
            " 1   date_mutation                 15760 non-null  object \n",
            " 2   numero_disposition            15760 non-null  int64  \n",
            " 3   nature_mutation               15760 non-null  object \n",
            " 4   valeur_fonciere               15721 non-null  float64\n",
            " 5   adresse_numero                8994 non-null   float64\n",
            " 6   adresse_suffixe               827 non-null    object \n",
            " 7   adresse_nom_voie              15526 non-null  object \n",
            " 8   adresse_code_voie             15527 non-null  object \n",
            " 9   code_postal                   15527 non-null  float64\n",
            " 10  code_commune                  15760 non-null  int64  \n",
            " 11  nom_commune                   15760 non-null  object \n",
            " 12  code_departement              15760 non-null  int64  \n",
            " 13  ancien_code_commune           0 non-null      float64\n",
            " 14  ancien_nom_commune            0 non-null      float64\n",
            " 15  id_parcelle                   15760 non-null  object \n",
            " 16  ancien_id_parcelle            0 non-null      float64\n",
            " 17  numero_volume                 84 non-null     float64\n",
            " 18  lot1_numero                   3312 non-null   float64\n",
            " 19  lot1_surface_carrez           744 non-null    float64\n",
            " 20  lot2_numero                   1061 non-null   float64\n",
            " 21  lot2_surface_carrez           208 non-null    float64\n",
            " 22  lot3_numero                   101 non-null    float64\n",
            " 23  lot3_surface_carrez           8 non-null      float64\n",
            " 24  lot4_numero                   33 non-null     float64\n",
            " 25  lot4_surface_carrez           4 non-null      float64\n",
            " 26  lot5_numero                   12 non-null     float64\n",
            " 27  lot5_surface_carrez           0 non-null      float64\n",
            " 28  nombre_lots                   15760 non-null  int64  \n",
            " 29  code_type_local               8098 non-null   float64\n",
            " 30  type_local                    8098 non-null   object \n",
            " 31  surface_reelle_bati           6980 non-null   float64\n",
            " 32  nombre_pieces_principales     8090 non-null   float64\n",
            " 33  code_nature_culture           12341 non-null  object \n",
            " 34  nature_culture                12341 non-null  object \n",
            " 35  code_nature_culture_speciale  92 non-null     object \n",
            " 36  nature_culture_speciale       92 non-null     object \n",
            " 37  surface_terrain               12341 non-null  float64\n",
            " 38  longitude                     15503 non-null  float64\n",
            " 39  latitude                      15503 non-null  float64\n",
            "dtypes: float64(23), int64(4), object(13)\n",
            "memory usage: 4.8+ MB\n"
          ],
          "name": "stdout"
        }
      ]
    },
    {
      "cell_type": "markdown",
      "metadata": {
        "id": "4i_FXCjao6WT"
      },
      "source": [
        "### nombre de mutations"
      ]
    },
    {
      "cell_type": "code",
      "metadata": {
        "colab": {
          "base_uri": "https://localhost:8080/"
        },
        "id": "sCA3sUjrsjdq",
        "outputId": "8fb83c2d-3136-433f-c46b-c84011967e61"
      },
      "source": [
        "data29.shape"
      ],
      "execution_count": 7,
      "outputs": [
        {
          "output_type": "execute_result",
          "data": {
            "text/plain": [
              "(15760, 40)"
            ]
          },
          "metadata": {},
          "execution_count": 7
        }
      ]
    },
    {
      "cell_type": "markdown",
      "metadata": {
        "id": "hJSo0LmlowH7"
      },
      "source": [
        "### Nombre de communes"
      ]
    },
    {
      "cell_type": "code",
      "metadata": {
        "colab": {
          "base_uri": "https://localhost:8080/"
        },
        "id": "DPovrOfVrlJl",
        "outputId": "35be1bad-ddba-4a79-b558-4e6e07fc00df"
      },
      "source": [
        "len(data29['nom_commune'].unique())"
      ],
      "execution_count": 8,
      "outputs": [
        {
          "output_type": "execute_result",
          "data": {
            "text/plain": [
              "265"
            ]
          },
          "metadata": {},
          "execution_count": 8
        }
      ]
    },
    {
      "cell_type": "markdown",
      "metadata": {
        "id": "yCRISAtCpiCv"
      },
      "source": [
        "Type de mutations"
      ]
    },
    {
      "cell_type": "code",
      "metadata": {
        "colab": {
          "base_uri": "https://localhost:8080/"
        },
        "id": "vUdqBMfduqXx",
        "outputId": "63f6782b-a801-435a-954b-b30c86a9b8d9"
      },
      "source": [
        "data29['nature_mutation'].unique()"
      ],
      "execution_count": 9,
      "outputs": [
        {
          "output_type": "execute_result",
          "data": {
            "text/plain": [
              "array(['Vente', 'Vente terrain à bâtir',\n",
              "       \"Vente en l'état futur d'achèvement\", 'Echange', 'Adjudication'],\n",
              "      dtype=object)"
            ]
          },
          "metadata": {},
          "execution_count": 9
        }
      ]
    },
    {
      "cell_type": "markdown",
      "metadata": {
        "id": "wnXueS14poLy"
      },
      "source": [
        "### Nombre de ventes"
      ]
    },
    {
      "cell_type": "code",
      "metadata": {
        "colab": {
          "base_uri": "https://localhost:8080/"
        },
        "id": "qEnC8De7pRx3",
        "outputId": "873470dd-d2a7-45d8-cb5d-48869c1a88a8"
      },
      "source": [
        "data29.groupby('nature_mutation')['id_mutation'].count()"
      ],
      "execution_count": 10,
      "outputs": [
        {
          "output_type": "execute_result",
          "data": {
            "text/plain": [
              "nature_mutation\n",
              "Adjudication                             15\n",
              "Echange                                  30\n",
              "Vente                                 15166\n",
              "Vente en l'état futur d'achèvement      506\n",
              "Vente terrain à bâtir                    43\n",
              "Name: id_mutation, dtype: int64"
            ]
          },
          "metadata": {},
          "execution_count": 10
        }
      ]
    },
    {
      "cell_type": "code",
      "metadata": {
        "colab": {
          "base_uri": "https://localhost:8080/"
        },
        "id": "42JwigcZvT5G",
        "outputId": "6691d7ad-be43-4526-c616-0d3c25752326"
      },
      "source": [
        "data29['type_local'].unique()"
      ],
      "execution_count": 11,
      "outputs": [
        {
          "output_type": "execute_result",
          "data": {
            "text/plain": [
              "array(['Maison', 'Appartement', 'Dépendance',\n",
              "       'Local industriel. commercial ou assimilé', nan], dtype=object)"
            ]
          },
          "metadata": {},
          "execution_count": 11
        }
      ]
    },
    {
      "cell_type": "markdown",
      "metadata": {
        "id": "yTTjOYLkpyoH"
      },
      "source": [
        "### Nombre de maison et appartement"
      ]
    },
    {
      "cell_type": "code",
      "metadata": {
        "colab": {
          "base_uri": "https://localhost:8080/"
        },
        "id": "yHACNR5wv-up",
        "outputId": "b79bfb89-f592-4c01-96c1-c20db7518a7d"
      },
      "source": [
        "data29[(data29['type_local']=='Appartement') | (data29['type_local']=='Maison')].shape"
      ],
      "execution_count": 12,
      "outputs": [
        {
          "output_type": "execute_result",
          "data": {
            "text/plain": [
              "(6424, 40)"
            ]
          },
          "metadata": {},
          "execution_count": 12
        }
      ]
    },
    {
      "cell_type": "markdown",
      "metadata": {
        "id": "DKjeJZwzp2-4"
      },
      "source": [
        "Nombre de valeurs non renseignées pour maison ou appartement"
      ]
    },
    {
      "cell_type": "code",
      "metadata": {
        "colab": {
          "base_uri": "https://localhost:8080/"
        },
        "id": "8AK46Q2Im3x7",
        "outputId": "fad2ff4f-d6f4-4d27-a965-3d7da66b71c9"
      },
      "source": [
        "data29[data29['type_local'].isnull()].shape"
      ],
      "execution_count": 13,
      "outputs": [
        {
          "output_type": "execute_result",
          "data": {
            "text/plain": [
              "(7662, 40)"
            ]
          },
          "metadata": {},
          "execution_count": 13
        }
      ]
    },
    {
      "cell_type": "markdown",
      "metadata": {
        "id": "z5WFphBNqCM_"
      },
      "source": [
        "Comptage différents type de locaux"
      ]
    },
    {
      "cell_type": "code",
      "metadata": {
        "colab": {
          "base_uri": "https://localhost:8080/"
        },
        "id": "fqX3SDBSXhQj",
        "outputId": "2dfb8fd3-e7c8-4a7c-9f9d-169c0bf08c4d"
      },
      "source": [
        "data29.groupby('type_local')['id_mutation'].count()"
      ],
      "execution_count": 14,
      "outputs": [
        {
          "output_type": "execute_result",
          "data": {
            "text/plain": [
              "type_local\n",
              "Appartement                                 2126\n",
              "Dépendance                                  1080\n",
              "Local industriel. commercial ou assimilé     594\n",
              "Maison                                      4298\n",
              "Name: id_mutation, dtype: int64"
            ]
          },
          "metadata": {},
          "execution_count": 14
        }
      ]
    },
    {
      "cell_type": "code",
      "metadata": {
        "colab": {
          "base_uri": "https://localhost:8080/"
        },
        "id": "u37dFgpgBXw4",
        "outputId": "bcbf0a67-6256-4897-b00d-bb4acc62550c"
      },
      "source": [
        "data29['valeur_fonciere'].describe()"
      ],
      "execution_count": 15,
      "outputs": [
        {
          "output_type": "execute_result",
          "data": {
            "text/plain": [
              "count    1.572100e+04\n",
              "mean     2.427487e+05\n",
              "std      7.956478e+05\n",
              "min      1.000000e+00\n",
              "25%      5.700000e+04\n",
              "50%      1.200000e+05\n",
              "75%      2.050000e+05\n",
              "max      7.547069e+06\n",
              "Name: valeur_fonciere, dtype: float64"
            ]
          },
          "metadata": {},
          "execution_count": 15
        }
      ]
    },
    {
      "cell_type": "code",
      "metadata": {
        "colab": {
          "base_uri": "https://localhost:8080/",
          "height": 278
        },
        "id": "jhZ6rBbKBOCs",
        "outputId": "53b73131-9766-4d74-a67b-d5746128efa9"
      },
      "source": [
        "data29['valeur_fonciere'].hist(bins=40);"
      ],
      "execution_count": 16,
      "outputs": [
        {
          "output_type": "display_data",
          "data": {
            "image/png": "[encoded data removed]",
            "text/plain": [
              "<Figure size 432x288 with 1 Axes>"
            ]
          },
          "metadata": {
            "needs_background": "light"
          }
        }
      ]
    },
    {
      "cell_type": "code",
      "metadata": {
        "colab": {
          "base_uri": "https://localhost:8080/"
        },
        "id": "V6XfsuYVB8pF",
        "outputId": "376bf51c-ae94-4a16-b68a-2beca9915aca"
      },
      "source": [
        "appart_maison29 = data29[(data29['type_local']=='Appartement') | (data29['type_local']=='Maison')]\n",
        "appart_maison29 = data29[data29['nature_mutation']=='Vente']\n",
        "appart_maison29['valeur_fonciere'].describe()"
      ],
      "execution_count": 17,
      "outputs": [
        {
          "output_type": "execute_result",
          "data": {
            "text/plain": [
              "count    1.512700e+04\n",
              "mean     1.596192e+05\n",
              "std      2.020431e+05\n",
              "min      1.000000e+00\n",
              "25%      5.582810e+04\n",
              "50%      1.170000e+05\n",
              "75%      2.000000e+05\n",
              "max      4.656278e+06\n",
              "Name: valeur_fonciere, dtype: float64"
            ]
          },
          "metadata": {},
          "execution_count": 17
        }
      ]
    },
    {
      "cell_type": "code",
      "metadata": {
        "colab": {
          "base_uri": "https://localhost:8080/",
          "height": 278
        },
        "id": "QVCItauYCwQg",
        "outputId": "eb4bdb79-3e74-4b3e-8c1e-0b6f4d446ce9"
      },
      "source": [
        "appart_maison29['valeur_fonciere'].hist(bins=40);"
      ],
      "execution_count": 18,
      "outputs": [
        {
          "output_type": "display_data",
          "data": {
            "image/png": "[encoded data removed]",
            "text/plain": [
              "<Figure size 432x288 with 1 Axes>"
            ]
          },
          "metadata": {
            "needs_background": "light"
          }
        }
      ]
    },
    {
      "cell_type": "code",
      "metadata": {
        "colab": {
          "base_uri": "https://localhost:8080/",
          "height": 265
        },
        "id": "8iHRRxxPC_N9",
        "outputId": "dbe87838-6891-4f22-922e-cdf43edf1dcb"
      },
      "source": [
        "appart_maison29[appart_maison29['valeur_fonciere'] < 1000000]['valeur_fonciere'].hist(bins=40);"
      ],
      "execution_count": 19,
      "outputs": [
        {
          "output_type": "display_data",
          "data": {
            "image/png": "[encoded data removed]",
            "text/plain": [
              "<Figure size 432x288 with 1 Axes>"
            ]
          },
          "metadata": {
            "needs_background": "light"
          }
        }
      ]
    },
    {
      "cell_type": "code",
      "metadata": {
        "colab": {
          "base_uri": "https://localhost:8080/",
          "height": 265
        },
        "id": "j5ZQBsRIxP3Q",
        "outputId": "6d413537-df3c-4e16-f07c-9a6cbc3140f1"
      },
      "source": [
        "appart_maison29[appart_maison29['valeur_fonciere'] < 100000]['valeur_fonciere'].hist(bins=40);"
      ],
      "execution_count": 20,
      "outputs": [
        {
          "output_type": "display_data",
          "data": {
            "image/png": "[encoded data removed]",
            "text/plain": [
              "<Figure size 432x288 with 1 Axes>"
            ]
          },
          "metadata": {
            "needs_background": "light"
          }
        }
      ]
    },
    {
      "cell_type": "markdown",
      "metadata": {
        "id": "Yx3S9xWSbXQq"
      },
      "source": [
        "## Cas d'un département dynamique, et où l'immobilier est cher, fortement urbanisé : les BdR"
      ]
    },
    {
      "cell_type": "code",
      "metadata": {
        "colab": {
          "base_uri": "https://localhost:8080/",
          "height": 487
        },
        "id": "9hN8dQP4oQFh",
        "outputId": "923d689b-5c47-4fc2-e81b-a3ddbc884c3d"
      },
      "source": [
        "data13 = pd.read_csv('https://files.data.gouv.fr/geo-dvf/latest/csv/2020/departements/13.csv.gz')\n",
        "data13.head()"
      ],
      "execution_count": 21,
      "outputs": [
        {
          "output_type": "stream",
          "text": [
            "/usr/local/lib/python3.7/dist-packages/IPython/core/interactiveshell.py:2718: DtypeWarning: Columns (18) have mixed types.Specify dtype option on import or set low_memory=False.\n",
            "  interactivity=interactivity, compiler=compiler, result=result)\n"
          ],
          "name": "stderr"
        },
        {
          "output_type": "execute_result",
          "data": {
            "text/html": [
              "<div>\n",
              "<style scoped>\n",
              "    .dataframe tbody tr th:only-of-type {\n",
              "        vertical-align: middle;\n",
              "    }\n",
              "\n",
              "    .dataframe tbody tr th {\n",
              "        vertical-align: top;\n",
              "    }\n",
              "\n",
              "    .dataframe thead th {\n",
              "        text-align: right;\n",
              "    }\n",
              "</style>\n",
              "<table border=\"1\" class=\"dataframe\">\n",
              "  <thead>\n",
              "    <tr style=\"text-align: right;\">\n",
              "      <th></th>\n",
              "      <th>id_mutation</th>\n",
              "      <th>date_mutation</th>\n",
              "      <th>numero_disposition</th>\n",
              "      <th>nature_mutation</th>\n",
              "      <th>valeur_fonciere</th>\n",
              "      <th>adresse_numero</th>\n",
              "      <th>adresse_suffixe</th>\n",
              "      <th>adresse_nom_voie</th>\n",
              "      <th>adresse_code_voie</th>\n",
              "      <th>code_postal</th>\n",
              "      <th>code_commune</th>\n",
              "      <th>nom_commune</th>\n",
              "      <th>code_departement</th>\n",
              "      <th>ancien_code_commune</th>\n",
              "      <th>ancien_nom_commune</th>\n",
              "      <th>id_parcelle</th>\n",
              "      <th>ancien_id_parcelle</th>\n",
              "      <th>numero_volume</th>\n",
              "      <th>lot1_numero</th>\n",
              "      <th>lot1_surface_carrez</th>\n",
              "      <th>lot2_numero</th>\n",
              "      <th>lot2_surface_carrez</th>\n",
              "      <th>lot3_numero</th>\n",
              "      <th>lot3_surface_carrez</th>\n",
              "      <th>lot4_numero</th>\n",
              "      <th>lot4_surface_carrez</th>\n",
              "      <th>lot5_numero</th>\n",
              "      <th>lot5_surface_carrez</th>\n",
              "      <th>nombre_lots</th>\n",
              "      <th>code_type_local</th>\n",
              "      <th>type_local</th>\n",
              "      <th>surface_reelle_bati</th>\n",
              "      <th>nombre_pieces_principales</th>\n",
              "      <th>code_nature_culture</th>\n",
              "      <th>nature_culture</th>\n",
              "      <th>code_nature_culture_speciale</th>\n",
              "      <th>nature_culture_speciale</th>\n",
              "      <th>surface_terrain</th>\n",
              "      <th>longitude</th>\n",
              "      <th>latitude</th>\n",
              "    </tr>\n",
              "  </thead>\n",
              "  <tbody>\n",
              "    <tr>\n",
              "      <th>0</th>\n",
              "      <td>2020-94656</td>\n",
              "      <td>2020-01-03</td>\n",
              "      <td>1</td>\n",
              "      <td>Vente en l'état futur d'achèvement</td>\n",
              "      <td>189000.0</td>\n",
              "      <td>NaN</td>\n",
              "      <td>NaN</td>\n",
              "      <td>CHE DU FOUR DE BUZE</td>\n",
              "      <td>3658</td>\n",
              "      <td>13014.0</td>\n",
              "      <td>13214</td>\n",
              "      <td>Marseille 14e Arrondissement</td>\n",
              "      <td>13</td>\n",
              "      <td>NaN</td>\n",
              "      <td>NaN</td>\n",
              "      <td>132148960B0246</td>\n",
              "      <td>NaN</td>\n",
              "      <td>NaN</td>\n",
              "      <td>37</td>\n",
              "      <td>NaN</td>\n",
              "      <td>NaN</td>\n",
              "      <td>NaN</td>\n",
              "      <td>NaN</td>\n",
              "      <td>NaN</td>\n",
              "      <td>NaN</td>\n",
              "      <td>NaN</td>\n",
              "      <td>NaN</td>\n",
              "      <td>NaN</td>\n",
              "      <td>1</td>\n",
              "      <td>NaN</td>\n",
              "      <td>NaN</td>\n",
              "      <td>NaN</td>\n",
              "      <td>NaN</td>\n",
              "      <td>NaN</td>\n",
              "      <td>NaN</td>\n",
              "      <td>NaN</td>\n",
              "      <td>NaN</td>\n",
              "      <td>NaN</td>\n",
              "      <td>5.399821</td>\n",
              "      <td>43.343794</td>\n",
              "    </tr>\n",
              "    <tr>\n",
              "      <th>1</th>\n",
              "      <td>2020-94656</td>\n",
              "      <td>2020-01-03</td>\n",
              "      <td>1</td>\n",
              "      <td>Vente en l'état futur d'achèvement</td>\n",
              "      <td>189000.0</td>\n",
              "      <td>NaN</td>\n",
              "      <td>NaN</td>\n",
              "      <td>CHE DU FOUR DE BUZE</td>\n",
              "      <td>3658</td>\n",
              "      <td>13014.0</td>\n",
              "      <td>13214</td>\n",
              "      <td>Marseille 14e Arrondissement</td>\n",
              "      <td>13</td>\n",
              "      <td>NaN</td>\n",
              "      <td>NaN</td>\n",
              "      <td>132148960B0246</td>\n",
              "      <td>NaN</td>\n",
              "      <td>NaN</td>\n",
              "      <td>109</td>\n",
              "      <td>NaN</td>\n",
              "      <td>NaN</td>\n",
              "      <td>NaN</td>\n",
              "      <td>NaN</td>\n",
              "      <td>NaN</td>\n",
              "      <td>NaN</td>\n",
              "      <td>NaN</td>\n",
              "      <td>NaN</td>\n",
              "      <td>NaN</td>\n",
              "      <td>1</td>\n",
              "      <td>NaN</td>\n",
              "      <td>NaN</td>\n",
              "      <td>NaN</td>\n",
              "      <td>NaN</td>\n",
              "      <td>NaN</td>\n",
              "      <td>NaN</td>\n",
              "      <td>NaN</td>\n",
              "      <td>NaN</td>\n",
              "      <td>NaN</td>\n",
              "      <td>5.399821</td>\n",
              "      <td>43.343794</td>\n",
              "    </tr>\n",
              "    <tr>\n",
              "      <th>2</th>\n",
              "      <td>2020-94657</td>\n",
              "      <td>2020-01-06</td>\n",
              "      <td>1</td>\n",
              "      <td>Vente</td>\n",
              "      <td>560000.0</td>\n",
              "      <td>7.0</td>\n",
              "      <td>NaN</td>\n",
              "      <td>RUE PYTHEAS</td>\n",
              "      <td>7651</td>\n",
              "      <td>13001.0</td>\n",
              "      <td>13201</td>\n",
              "      <td>Marseille 1er Arrondissement</td>\n",
              "      <td>13</td>\n",
              "      <td>NaN</td>\n",
              "      <td>NaN</td>\n",
              "      <td>132018040B0369</td>\n",
              "      <td>NaN</td>\n",
              "      <td>NaN</td>\n",
              "      <td>5</td>\n",
              "      <td>185.85</td>\n",
              "      <td>6.0</td>\n",
              "      <td>185.85</td>\n",
              "      <td>7.0</td>\n",
              "      <td>185.85</td>\n",
              "      <td>NaN</td>\n",
              "      <td>NaN</td>\n",
              "      <td>NaN</td>\n",
              "      <td>NaN</td>\n",
              "      <td>3</td>\n",
              "      <td>4.0</td>\n",
              "      <td>Local industriel. commercial ou assimilé</td>\n",
              "      <td>180.0</td>\n",
              "      <td>0.0</td>\n",
              "      <td>NaN</td>\n",
              "      <td>NaN</td>\n",
              "      <td>NaN</td>\n",
              "      <td>NaN</td>\n",
              "      <td>NaN</td>\n",
              "      <td>5.375018</td>\n",
              "      <td>43.294115</td>\n",
              "    </tr>\n",
              "    <tr>\n",
              "      <th>3</th>\n",
              "      <td>2020-94658</td>\n",
              "      <td>2020-01-07</td>\n",
              "      <td>1</td>\n",
              "      <td>Vente</td>\n",
              "      <td>2583100.0</td>\n",
              "      <td>2.0</td>\n",
              "      <td>NaN</td>\n",
              "      <td>RUE DE BEAUSSET</td>\n",
              "      <td>0945</td>\n",
              "      <td>13001.0</td>\n",
              "      <td>13201</td>\n",
              "      <td>Marseille 1er Arrondissement</td>\n",
              "      <td>13</td>\n",
              "      <td>NaN</td>\n",
              "      <td>NaN</td>\n",
              "      <td>132018010E0048</td>\n",
              "      <td>NaN</td>\n",
              "      <td>NaN</td>\n",
              "      <td>46</td>\n",
              "      <td>9.70</td>\n",
              "      <td>NaN</td>\n",
              "      <td>NaN</td>\n",
              "      <td>NaN</td>\n",
              "      <td>NaN</td>\n",
              "      <td>NaN</td>\n",
              "      <td>NaN</td>\n",
              "      <td>NaN</td>\n",
              "      <td>NaN</td>\n",
              "      <td>1</td>\n",
              "      <td>4.0</td>\n",
              "      <td>Local industriel. commercial ou assimilé</td>\n",
              "      <td>10.0</td>\n",
              "      <td>0.0</td>\n",
              "      <td>NaN</td>\n",
              "      <td>NaN</td>\n",
              "      <td>NaN</td>\n",
              "      <td>NaN</td>\n",
              "      <td>NaN</td>\n",
              "      <td>5.374365</td>\n",
              "      <td>43.296557</td>\n",
              "    </tr>\n",
              "    <tr>\n",
              "      <th>4</th>\n",
              "      <td>2020-94658</td>\n",
              "      <td>2020-01-07</td>\n",
              "      <td>1</td>\n",
              "      <td>Vente</td>\n",
              "      <td>2583100.0</td>\n",
              "      <td>2.0</td>\n",
              "      <td>NaN</td>\n",
              "      <td>RUE DE BEAUSSET</td>\n",
              "      <td>0945</td>\n",
              "      <td>13001.0</td>\n",
              "      <td>13201</td>\n",
              "      <td>Marseille 1er Arrondissement</td>\n",
              "      <td>13</td>\n",
              "      <td>NaN</td>\n",
              "      <td>NaN</td>\n",
              "      <td>132018010E0048</td>\n",
              "      <td>NaN</td>\n",
              "      <td>NaN</td>\n",
              "      <td>41</td>\n",
              "      <td>14.00</td>\n",
              "      <td>NaN</td>\n",
              "      <td>NaN</td>\n",
              "      <td>NaN</td>\n",
              "      <td>NaN</td>\n",
              "      <td>NaN</td>\n",
              "      <td>NaN</td>\n",
              "      <td>NaN</td>\n",
              "      <td>NaN</td>\n",
              "      <td>1</td>\n",
              "      <td>4.0</td>\n",
              "      <td>Local industriel. commercial ou assimilé</td>\n",
              "      <td>12.0</td>\n",
              "      <td>0.0</td>\n",
              "      <td>NaN</td>\n",
              "      <td>NaN</td>\n",
              "      <td>NaN</td>\n",
              "      <td>NaN</td>\n",
              "      <td>NaN</td>\n",
              "      <td>5.374365</td>\n",
              "      <td>43.296557</td>\n",
              "    </tr>\n",
              "  </tbody>\n",
              "</table>\n",
              "</div>"
            ],
            "text/plain": [
              "  id_mutation date_mutation  ...  longitude   latitude\n",
              "0  2020-94656    2020-01-03  ...   5.399821  43.343794\n",
              "1  2020-94656    2020-01-03  ...   5.399821  43.343794\n",
              "2  2020-94657    2020-01-06  ...   5.375018  43.294115\n",
              "3  2020-94658    2020-01-07  ...   5.374365  43.296557\n",
              "4  2020-94658    2020-01-07  ...   5.374365  43.296557\n",
              "\n",
              "[5 rows x 40 columns]"
            ]
          },
          "metadata": {},
          "execution_count": 21
        }
      ]
    },
    {
      "cell_type": "code",
      "metadata": {
        "colab": {
          "base_uri": "https://localhost:8080/"
        },
        "id": "e4_gRywBqLsW",
        "outputId": "4f1e915d-f466-4217-cd3d-d8f7ab05aac9"
      },
      "source": [
        "data13.shape"
      ],
      "execution_count": 22,
      "outputs": [
        {
          "output_type": "execute_result",
          "data": {
            "text/plain": [
              "(49004, 40)"
            ]
          },
          "metadata": {},
          "execution_count": 22
        }
      ]
    },
    {
      "cell_type": "code",
      "metadata": {
        "colab": {
          "base_uri": "https://localhost:8080/"
        },
        "id": "XEWGmLYsA-rz",
        "outputId": "85fbec31-2081-4746-a004-ee1357097feb"
      },
      "source": [
        "data13.info()"
      ],
      "execution_count": 23,
      "outputs": [
        {
          "output_type": "stream",
          "text": [
            "<class 'pandas.core.frame.DataFrame'>\n",
            "RangeIndex: 49004 entries, 0 to 49003\n",
            "Data columns (total 40 columns):\n",
            " #   Column                        Non-Null Count  Dtype  \n",
            "---  ------                        --------------  -----  \n",
            " 0   id_mutation                   49004 non-null  object \n",
            " 1   date_mutation                 49004 non-null  object \n",
            " 2   numero_disposition            49004 non-null  int64  \n",
            " 3   nature_mutation               49004 non-null  object \n",
            " 4   valeur_fonciere               47323 non-null  float64\n",
            " 5   adresse_numero                36722 non-null  float64\n",
            " 6   adresse_suffixe               2505 non-null   object \n",
            " 7   adresse_nom_voie              47461 non-null  object \n",
            " 8   adresse_code_voie             47461 non-null  object \n",
            " 9   code_postal                   47461 non-null  float64\n",
            " 10  code_commune                  49004 non-null  int64  \n",
            " 11  nom_commune                   49004 non-null  object \n",
            " 12  code_departement              49004 non-null  int64  \n",
            " 13  ancien_code_commune           0 non-null      float64\n",
            " 14  ancien_nom_commune            0 non-null      float64\n",
            " 15  id_parcelle                   49004 non-null  object \n",
            " 16  ancien_id_parcelle            0 non-null      float64\n",
            " 17  numero_volume                 152 non-null    float64\n",
            " 18  lot1_numero                   30232 non-null  object \n",
            " 19  lot1_surface_carrez           8294 non-null   float64\n",
            " 20  lot2_numero                   5339 non-null   float64\n",
            " 21  lot2_surface_carrez           1858 non-null   float64\n",
            " 22  lot3_numero                   529 non-null    float64\n",
            " 23  lot3_surface_carrez           111 non-null    float64\n",
            " 24  lot4_numero                   188 non-null    float64\n",
            " 25  lot4_surface_carrez           21 non-null     float64\n",
            " 26  lot5_numero                   83 non-null     float64\n",
            " 27  lot5_surface_carrez           9 non-null      float64\n",
            " 28  nombre_lots                   49004 non-null  int64  \n",
            " 29  code_type_local               32810 non-null  float64\n",
            " 30  type_local                    32810 non-null  object \n",
            " 31  surface_reelle_bati           24080 non-null  float64\n",
            " 32  nombre_pieces_principales     32786 non-null  float64\n",
            " 33  code_nature_culture           18486 non-null  object \n",
            " 34  nature_culture                18486 non-null  object \n",
            " 35  code_nature_culture_speciale  1282 non-null   object \n",
            " 36  nature_culture_speciale       1282 non-null   object \n",
            " 37  surface_terrain               18486 non-null  float64\n",
            " 38  longitude                     48198 non-null  float64\n",
            " 39  latitude                      48198 non-null  float64\n",
            "dtypes: float64(22), int64(4), object(14)\n",
            "memory usage: 15.0+ MB\n"
          ],
          "name": "stdout"
        }
      ]
    },
    {
      "cell_type": "markdown",
      "metadata": {
        "id": "UcNpGmi4ucXL"
      },
      "source": [
        "## Voyons de plus près le pb de Dtype que pose la ligne 18 (qui devrait être un entier)"
      ]
    },
    {
      "cell_type": "code",
      "metadata": {
        "colab": {
          "base_uri": "https://localhost:8080/"
        },
        "id": "ik1KNeNMqP8l",
        "outputId": "dd52abd7-0ce8-4e97-a30c-4924e78bd0ec"
      },
      "source": [
        "data13.iloc[:,18:19].info()"
      ],
      "execution_count": 24,
      "outputs": [
        {
          "output_type": "stream",
          "text": [
            "<class 'pandas.core.frame.DataFrame'>\n",
            "RangeIndex: 49004 entries, 0 to 49003\n",
            "Data columns (total 1 columns):\n",
            " #   Column       Non-Null Count  Dtype \n",
            "---  ------       --------------  ----- \n",
            " 0   lot1_numero  30232 non-null  object\n",
            "dtypes: object(1)\n",
            "memory usage: 383.0+ KB\n"
          ],
          "name": "stdout"
        }
      ]
    },
    {
      "cell_type": "code",
      "metadata": {
        "id": "9fOTGvFXw0I8"
      },
      "source": [
        "col18_uni = data13['lot1_numero'].unique()"
      ],
      "execution_count": 25,
      "outputs": []
    },
    {
      "cell_type": "code",
      "metadata": {
        "colab": {
          "base_uri": "https://localhost:8080/"
        },
        "id": "n364cEclxbHK",
        "outputId": "465cea2d-f671-4b4d-e5dd-82bbd790ef00"
      },
      "source": [
        "len(col18_uni)"
      ],
      "execution_count": 26,
      "outputs": [
        {
          "output_type": "execute_result",
          "data": {
            "text/plain": [
              "2420"
            ]
          },
          "metadata": {},
          "execution_count": 26
        }
      ]
    },
    {
      "cell_type": "code",
      "metadata": {
        "colab": {
          "base_uri": "https://localhost:8080/"
        },
        "id": "GgcytQ0vxlNl",
        "outputId": "b3295759-dd99-411f-e30e-678bb7f02970"
      },
      "source": [
        "type(col18_uni[0])"
      ],
      "execution_count": 27,
      "outputs": [
        {
          "output_type": "execute_result",
          "data": {
            "text/plain": [
              "str"
            ]
          },
          "metadata": {},
          "execution_count": 27
        }
      ]
    },
    {
      "cell_type": "code",
      "metadata": {
        "colab": {
          "base_uri": "https://localhost:8080/"
        },
        "id": "Xa__LhmNxpXy",
        "outputId": "f8cc7a12-d228-405f-c745-59413a1de894"
      },
      "source": [
        "type(col18_uni[-1])"
      ],
      "execution_count": 28,
      "outputs": [
        {
          "output_type": "execute_result",
          "data": {
            "text/plain": [
              "float"
            ]
          },
          "metadata": {},
          "execution_count": 28
        }
      ]
    },
    {
      "cell_type": "markdown",
      "metadata": {
        "id": "KVJlbH-qxQOb"
      },
      "source": [
        "On a au moins des str et des float mélangés...\n",
        "\n",
        "Cela arrivera peut-être à d'autres colonnes. Une fois qu'on aura choisi les colonnes qu'on conservera il faudra s'assurer de les transformer au bon dtype.\n",
        "\n",
        "Vérification pour la date au moins :"
      ]
    },
    {
      "cell_type": "code",
      "metadata": {
        "colab": {
          "base_uri": "https://localhost:8080/"
        },
        "id": "ErIwhUOJxkaC",
        "outputId": "cab821f2-a90b-40ac-afec-f39292e264a5"
      },
      "source": [
        "type(data13['date_mutation'][0])"
      ],
      "execution_count": 29,
      "outputs": [
        {
          "output_type": "execute_result",
          "data": {
            "text/plain": [
              "str"
            ]
          },
          "metadata": {},
          "execution_count": 29
        }
      ]
    },
    {
      "cell_type": "markdown",
      "metadata": {
        "id": "Lx6IaXgmyjDV"
      },
      "source": [
        "Il faudra les transformer en datetime"
      ]
    },
    {
      "cell_type": "markdown",
      "metadata": {
        "id": "7G7x8O8QAxMC"
      },
      "source": [
        "### Nombre de communes"
      ]
    },
    {
      "cell_type": "code",
      "metadata": {
        "colab": {
          "base_uri": "https://localhost:8080/"
        },
        "id": "RB7U_FxVAyYl",
        "outputId": "b96ad644-50c7-41de-9389-1f53787db53f"
      },
      "source": [
        "len(data13['nom_commune'].unique())"
      ],
      "execution_count": 30,
      "outputs": [
        {
          "output_type": "execute_result",
          "data": {
            "text/plain": [
              "134"
            ]
          },
          "metadata": {},
          "execution_count": 30
        }
      ]
    },
    {
      "cell_type": "markdown",
      "metadata": {
        "id": "3s1wHZYtAdoe"
      },
      "source": [
        "### Nombre de ventes"
      ]
    },
    {
      "cell_type": "code",
      "metadata": {
        "colab": {
          "base_uri": "https://localhost:8080/"
        },
        "id": "G4tlHIw8AXBm",
        "outputId": "5f623013-5e90-459d-89a5-b7517a10fd18"
      },
      "source": [
        "data13.groupby('nature_mutation')['id_mutation'].count()"
      ],
      "execution_count": 31,
      "outputs": [
        {
          "output_type": "execute_result",
          "data": {
            "text/plain": [
              "nature_mutation\n",
              "Adjudication                             39\n",
              "Echange                                 181\n",
              "Expropriation                             1\n",
              "Vente                                 40297\n",
              "Vente en l'état futur d'achèvement     8447\n",
              "Vente terrain à bâtir                    39\n",
              "Name: id_mutation, dtype: int64"
            ]
          },
          "metadata": {},
          "execution_count": 31
        }
      ]
    },
    {
      "cell_type": "markdown",
      "metadata": {
        "id": "yExEjl4PAMgi"
      },
      "source": [
        "### Nombre de maisons et appartements"
      ]
    },
    {
      "cell_type": "code",
      "metadata": {
        "colab": {
          "base_uri": "https://localhost:8080/"
        },
        "id": "mSMbqBCHxPEY",
        "outputId": "f9723f18-3153-48f7-a6ff-510c32cb53e8"
      },
      "source": [
        "data13[(data13['type_local']=='Appartement') | (data13['type_local']=='Maison')].shape"
      ],
      "execution_count": 32,
      "outputs": [
        {
          "output_type": "execute_result",
          "data": {
            "text/plain": [
              "(22044, 40)"
            ]
          },
          "metadata": {},
          "execution_count": 32
        }
      ]
    },
    {
      "cell_type": "code",
      "metadata": {
        "colab": {
          "base_uri": "https://localhost:8080/"
        },
        "id": "X2uwOOjZ-rPE",
        "outputId": "075de77d-e0cb-4eb5-fff3-b68349b97066"
      },
      "source": [
        "data13['valeur_fonciere'].describe()"
      ],
      "execution_count": 33,
      "outputs": [
        {
          "output_type": "execute_result",
          "data": {
            "text/plain": [
              "count    4.732300e+04\n",
              "mean     7.527420e+05\n",
              "std      2.694066e+06\n",
              "min      1.000000e+00\n",
              "25%      1.400000e+05\n",
              "50%      2.347000e+05\n",
              "75%      3.900000e+05\n",
              "max      5.790000e+07\n",
              "Name: valeur_fonciere, dtype: float64"
            ]
          },
          "metadata": {},
          "execution_count": 33
        }
      ]
    },
    {
      "cell_type": "code",
      "metadata": {
        "colab": {
          "base_uri": "https://localhost:8080/",
          "height": 278
        },
        "id": "FOXKalE3B3a9",
        "outputId": "d3664c45-708f-4a6f-df14-3d95fe044465"
      },
      "source": [
        "data13['valeur_fonciere'].hist(bins=40);"
      ],
      "execution_count": 34,
      "outputs": [
        {
          "output_type": "display_data",
          "data": {
            "image/png": "[encoded data removed]",
            "text/plain": [
              "<Figure size 432x288 with 1 Axes>"
            ]
          },
          "metadata": {
            "needs_background": "light"
          }
        }
      ]
    },
    {
      "cell_type": "code",
      "metadata": {
        "colab": {
          "base_uri": "https://localhost:8080/"
        },
        "id": "Bde6V6AEDsma",
        "outputId": "dedc4a72-0989-4258-ffa4-549c873049e6"
      },
      "source": [
        "appart_maison13 = data13[(data13['type_local']=='Appartement') | (data13['type_local']=='Maison')]\n",
        "appart_maison13 = data13[data13['nature_mutation']=='Vente']\n",
        "appart_maison13['valeur_fonciere'].describe()"
      ],
      "execution_count": 35,
      "outputs": [
        {
          "output_type": "execute_result",
          "data": {
            "text/plain": [
              "count    3.861600e+04\n",
              "mean     4.117999e+05\n",
              "std      1.156622e+06\n",
              "min      1.000000e+00\n",
              "25%      1.250000e+05\n",
              "50%      2.250000e+05\n",
              "75%      3.850000e+05\n",
              "max      5.790000e+07\n",
              "Name: valeur_fonciere, dtype: float64"
            ]
          },
          "metadata": {},
          "execution_count": 35
        }
      ]
    },
    {
      "cell_type": "code",
      "metadata": {
        "colab": {
          "base_uri": "https://localhost:8080/",
          "height": 278
        },
        "id": "qlZ_peJVDzVX",
        "outputId": "15a2568a-441b-40a0-e26c-c32ff990ab62"
      },
      "source": [
        "appart_maison13['valeur_fonciere'].hist(bins=40);"
      ],
      "execution_count": 36,
      "outputs": [
        {
          "output_type": "display_data",
          "data": {
            "image/png": "[encoded data removed]",
            "text/plain": [
              "<Figure size 432x288 with 1 Axes>"
            ]
          },
          "metadata": {
            "needs_background": "light"
          }
        }
      ]
    },
    {
      "cell_type": "code",
      "metadata": {
        "colab": {
          "base_uri": "https://localhost:8080/",
          "height": 278
        },
        "id": "y9mAThWrEQEd",
        "outputId": "cbbf5605-8507-4788-de9a-662144fda734"
      },
      "source": [
        "appart_maison13[appart_maison13['valeur_fonciere'] < 1000000]['valeur_fonciere'].hist(bins=40);"
      ],
      "execution_count": 37,
      "outputs": [
        {
          "output_type": "display_data",
          "data": {
            "image/png": "[encoded data removed]",
            "text/plain": [
              "<Figure size 432x288 with 1 Axes>"
            ]
          },
          "metadata": {
            "needs_background": "light"
          }
        }
      ]
    },
    {
      "cell_type": "code",
      "metadata": {
        "id": "IxV5DDRzEXrC",
        "colab": {
          "base_uri": "https://localhost:8080/",
          "height": 265
        },
        "outputId": "f20eb29d-b30d-47e8-b040-e676303dab65"
      },
      "source": [
        "appart_maison13[appart_maison13['valeur_fonciere'] < 100000]['valeur_fonciere'].hist(bins=40);"
      ],
      "execution_count": 38,
      "outputs": [
        {
          "output_type": "display_data",
          "data": {
            "image/png": "[encoded data removed]",
            "text/plain": [
              "<Figure size 432x288 with 1 Axes>"
            ]
          },
          "metadata": {
            "needs_background": "light"
          }
        }
      ]
    },
    {
      "cell_type": "code",
      "metadata": {
        "id": "pl-Vd80ixJY7"
      },
      "source": [
        ""
      ],
      "execution_count": 38,
      "outputs": []
    }
  ]
}